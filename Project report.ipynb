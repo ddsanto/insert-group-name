{
 "cells": [
  {
   "cell_type": "markdown",
   "id": "902b1dea-2bf0-4231-b21f-b7eaf8be770a",
   "metadata": {},
   "source": [
    "## Project Report"
   ]
  },
  {
   "cell_type": "markdown",
   "id": "b4ba6875-a462-457e-a91e-d6568ac5d073",
   "metadata": {},
   "source": [
    "### Introduction"
   ]
  },
  {
   "cell_type": "markdown",
   "id": "acb2f30d-bac3-44f4-b06d-d0b9ca05f45f",
   "metadata": {},
   "source": [
    "Cardiovascular disease (also commonly known as heart disease) is a general category of diseases that affect the circulatory system of an individual, including the heart, the blood vessels or both. While the most prevalent type of cardiovascular diseases is the coronary heart disease, there are a lot of other types of cardiovascular diseases that still affect individuals, such as aortic diseases.  These disease might be present in a person due to multiple circumstances, those of which may vary from environmental influences, genetical factors, to lifestyle choices. These variables are likely to play a part in predicting whether an individual is susceptible to a cardiovascular disease.\n",
    "\n",
    "For instance, people who suffer from diabetes (a health condition that affects how energy is processed from food intake indicated by fasting sugar level in the blood) is more likely to experience a cardiovascular disease due to the symptoms present from diabetes, particularly to the high blood pressure present in most diabetes positive people. According to a study from Biomed Central, 32% of individuals suffering from diabetes are affected by cardiovascular diseases, indicating that within diabetic people, cardiovascular diseases are statistically influential on the mortality rates. This in turn, suggests that fasting sugar level, which is correlated to diabetes, is also corellated to the possible presence of a cardiovascular disease, making it a variable that should be considered when predicting cardiovascular diseases within individuals. \n",
    "\n",
    "https://www.cdc.gov/diabetes/library/features/diabetes-and-heart.html#:~:text=If%20you%20have%20diabetes%2C%20you,are%20to%20have%20heart%20disease.\n",
    "\n",
    "https://cardiab.biomedcentral.com/articles/10.1186/s12933-018-0728-6#:~:text=Globally%2C%20overall%20CVD%20affects%20approximately,deaths%20over%20the%20study%20period.\n",
    "\n",
    "In this project, our group aims to be able to predict the presence of a cardiovascular disease based on variables reported by individuals. These reports are provided by the dataset taken from the UCI Machine Learning Repository (UCI). This particular dataset is a compilation of databases regarding variables within an individual and their diagnoses of a cardiovascular disease from four sources. These four sources are:\n",
    "1. Hungarian Institute of Cardiology. Budapest: Andras Janosi, M.D.\n",
    "2. University Hospital, Zurich, Switzerland: William Steinbrunn, M.D.\n",
    "3. University Hospital, Basel, Switzerland: Matthias Pfisterer, M.D.\n",
    "4. V.A. Medical Center, Long Beach and Cleveland Clinic Foundation: Robert Detrano, M.D., Ph.D.\n",
    "\n",
    "We have chosen to utilize the dataset from the V.A. Medical Center, Long Beach and Cleveland Clinic Foundation.\n",
    "\n",
    "https://archive.ics.uci.edu/ml/datasets/heart+disease\n",
    "\n",
    "_ADD TO CLARIFY WE WILL USE CLASSIFICATION METHOD, ADD TO CLARIFY MOTIVE, ADD TO CLARIFY VARIABLES, ORGANIZE REFERENCES AND CITATIONS_"
   ]
  },
  {
   "cell_type": "markdown",
   "id": "aaa6d812-d263-4cd9-b410-1a292766e732",
   "metadata": {},
   "source": [
    "Cardiovascular disease (also known as heart disease) is a type of disease that affects the heart or blood vessels. This is one of the leading causes of death in the world, whereby patients suffering from this disease have compromised circulatory systems due to several factors including age, sex, cholesterol levels, etc. \n",
    "\n",
    "In this project, our goal is to predict whether or not a person has heart disease based on their vital signs and variables presented from our chosen dataset. In order to execute this classification, we have chosen to utilize the Heart Disease dataset from the UCI Machine Learning Repository (UCI). \n",
    "\n",
    "The dataset consists of many variables which affect the probability of a person suffering from heart disease; for our data analysis, we will be focusing on the following variables to use as predictors:\n",
    "\n",
    "- Age: measured in years\n",
    "- Chest pain type (cp): 1 = typical angina, 2 = atypical angina, 3 = non-angina pain, 4 = asymptomatic angina\n",
    "- Serum Cholesterol (chol): measured in mg/dl\n",
    "- Fasting blood sugar (fbs): fasting blood sugar > 120 mg/dl? (1 = true; 0 = false)\n",
    "- Maximum heart rate achieved (thalach): measured in beats per min (BPM)"
   ]
  },
  {
   "cell_type": "code",
   "execution_count": 12,
   "id": "bc99caa2-d8bf-4b5c-becd-627d214aff83",
   "metadata": {},
   "outputs": [
    {
     "data": {
      "text/plain": [
       "RendererRegistry.enable('mimetype')"
      ]
     },
     "execution_count": 12,
     "metadata": {},
     "output_type": "execute_result"
    }
   ],
   "source": [
    "# Packages needed for classification on our dataset\n",
    "import altair as alt\n",
    "import numpy as np\n",
    "import pandas as pd\n",
    "import sklearn\n",
    "from sklearn.compose import make_column_transformer\n",
    "from sklearn.metrics import confusion_matrix\n",
    "from sklearn.metrics.pairwise import euclidean_distances\n",
    "from sklearn.model_selection import (\n",
    "    GridSearchCV,\n",
    "    RandomizedSearchCV,\n",
    "    cross_validate,\n",
    "    train_test_split,\n",
    ")\n",
    "from sklearn.neighbors import KNeighborsClassifier\n",
    "from sklearn.pipeline import Pipeline, make_pipeline\n",
    "from sklearn.preprocessing import OneHotEncoder, StandardScaler\n",
    "\n",
    "alt.data_transformers.disable_max_rows()\n",
    "alt.renderers.enable(\"mimetype\")"
   ]
  },
  {
   "cell_type": "markdown",
   "id": "ebaa213c-2ef7-4a90-82eb-fe1e63aa96b1",
   "metadata": {},
   "source": [
    "### Preliminary Exploratory Data Analysis"
   ]
  },
  {
   "cell_type": "markdown",
   "id": "641ed44c-b457-4cca-adf4-5ec88db78b3e",
   "metadata": {},
   "source": [
    "Below, we load the dataset into Jupyter:"
   ]
  },
  {
   "cell_type": "code",
   "execution_count": 13,
   "id": "0c9b934b-539a-4cc4-ba3a-7962021ea2f1",
   "metadata": {},
   "outputs": [
    {
     "data": {
      "text/html": [
       "<div>\n",
       "<style scoped>\n",
       "    .dataframe tbody tr th:only-of-type {\n",
       "        vertical-align: middle;\n",
       "    }\n",
       "\n",
       "    .dataframe tbody tr th {\n",
       "        vertical-align: top;\n",
       "    }\n",
       "\n",
       "    .dataframe thead th {\n",
       "        text-align: right;\n",
       "    }\n",
       "</style>\n",
       "<table border=\"1\" class=\"dataframe\">\n",
       "  <thead>\n",
       "    <tr style=\"text-align: right;\">\n",
       "      <th></th>\n",
       "      <th>Age</th>\n",
       "      <th>Sex</th>\n",
       "      <th>Chest_Pain_Type</th>\n",
       "      <th>Resting_Blood_Pressure</th>\n",
       "      <th>Serum_Cholesterol</th>\n",
       "      <th>Fasting_Blood_Sugar</th>\n",
       "      <th>Resting_ECG</th>\n",
       "      <th>Max_Heart_Rate</th>\n",
       "      <th>Exercise_Induced_Angina</th>\n",
       "      <th>ST_Depression_Exercise</th>\n",
       "      <th>Peak_Exercise_ST_Segment</th>\n",
       "      <th>Num_Major_Vessels_Flouro</th>\n",
       "      <th>Thalassemia</th>\n",
       "      <th>Diagnosis</th>\n",
       "    </tr>\n",
       "  </thead>\n",
       "  <tbody>\n",
       "    <tr>\n",
       "      <th>0</th>\n",
       "      <td>63.0</td>\n",
       "      <td>1.0</td>\n",
       "      <td>1.0</td>\n",
       "      <td>145.0</td>\n",
       "      <td>233.0</td>\n",
       "      <td>1.0</td>\n",
       "      <td>2.0</td>\n",
       "      <td>150.0</td>\n",
       "      <td>0.0</td>\n",
       "      <td>2.3</td>\n",
       "      <td>3.0</td>\n",
       "      <td>0.0</td>\n",
       "      <td>6.0</td>\n",
       "      <td>0</td>\n",
       "    </tr>\n",
       "    <tr>\n",
       "      <th>1</th>\n",
       "      <td>67.0</td>\n",
       "      <td>1.0</td>\n",
       "      <td>4.0</td>\n",
       "      <td>160.0</td>\n",
       "      <td>286.0</td>\n",
       "      <td>0.0</td>\n",
       "      <td>2.0</td>\n",
       "      <td>108.0</td>\n",
       "      <td>1.0</td>\n",
       "      <td>1.5</td>\n",
       "      <td>2.0</td>\n",
       "      <td>3.0</td>\n",
       "      <td>3.0</td>\n",
       "      <td>2</td>\n",
       "    </tr>\n",
       "    <tr>\n",
       "      <th>2</th>\n",
       "      <td>67.0</td>\n",
       "      <td>1.0</td>\n",
       "      <td>4.0</td>\n",
       "      <td>120.0</td>\n",
       "      <td>229.0</td>\n",
       "      <td>0.0</td>\n",
       "      <td>2.0</td>\n",
       "      <td>129.0</td>\n",
       "      <td>1.0</td>\n",
       "      <td>2.6</td>\n",
       "      <td>2.0</td>\n",
       "      <td>2.0</td>\n",
       "      <td>7.0</td>\n",
       "      <td>1</td>\n",
       "    </tr>\n",
       "    <tr>\n",
       "      <th>3</th>\n",
       "      <td>37.0</td>\n",
       "      <td>1.0</td>\n",
       "      <td>3.0</td>\n",
       "      <td>130.0</td>\n",
       "      <td>250.0</td>\n",
       "      <td>0.0</td>\n",
       "      <td>0.0</td>\n",
       "      <td>187.0</td>\n",
       "      <td>0.0</td>\n",
       "      <td>3.5</td>\n",
       "      <td>3.0</td>\n",
       "      <td>0.0</td>\n",
       "      <td>3.0</td>\n",
       "      <td>0</td>\n",
       "    </tr>\n",
       "    <tr>\n",
       "      <th>4</th>\n",
       "      <td>41.0</td>\n",
       "      <td>0.0</td>\n",
       "      <td>2.0</td>\n",
       "      <td>130.0</td>\n",
       "      <td>204.0</td>\n",
       "      <td>0.0</td>\n",
       "      <td>2.0</td>\n",
       "      <td>172.0</td>\n",
       "      <td>0.0</td>\n",
       "      <td>1.4</td>\n",
       "      <td>1.0</td>\n",
       "      <td>0.0</td>\n",
       "      <td>3.0</td>\n",
       "      <td>0</td>\n",
       "    </tr>\n",
       "    <tr>\n",
       "      <th>...</th>\n",
       "      <td>...</td>\n",
       "      <td>...</td>\n",
       "      <td>...</td>\n",
       "      <td>...</td>\n",
       "      <td>...</td>\n",
       "      <td>...</td>\n",
       "      <td>...</td>\n",
       "      <td>...</td>\n",
       "      <td>...</td>\n",
       "      <td>...</td>\n",
       "      <td>...</td>\n",
       "      <td>...</td>\n",
       "      <td>...</td>\n",
       "      <td>...</td>\n",
       "    </tr>\n",
       "    <tr>\n",
       "      <th>298</th>\n",
       "      <td>45.0</td>\n",
       "      <td>1.0</td>\n",
       "      <td>1.0</td>\n",
       "      <td>110.0</td>\n",
       "      <td>264.0</td>\n",
       "      <td>0.0</td>\n",
       "      <td>0.0</td>\n",
       "      <td>132.0</td>\n",
       "      <td>0.0</td>\n",
       "      <td>1.2</td>\n",
       "      <td>2.0</td>\n",
       "      <td>0.0</td>\n",
       "      <td>7.0</td>\n",
       "      <td>1</td>\n",
       "    </tr>\n",
       "    <tr>\n",
       "      <th>299</th>\n",
       "      <td>68.0</td>\n",
       "      <td>1.0</td>\n",
       "      <td>4.0</td>\n",
       "      <td>144.0</td>\n",
       "      <td>193.0</td>\n",
       "      <td>1.0</td>\n",
       "      <td>0.0</td>\n",
       "      <td>141.0</td>\n",
       "      <td>0.0</td>\n",
       "      <td>3.4</td>\n",
       "      <td>2.0</td>\n",
       "      <td>2.0</td>\n",
       "      <td>7.0</td>\n",
       "      <td>2</td>\n",
       "    </tr>\n",
       "    <tr>\n",
       "      <th>300</th>\n",
       "      <td>57.0</td>\n",
       "      <td>1.0</td>\n",
       "      <td>4.0</td>\n",
       "      <td>130.0</td>\n",
       "      <td>131.0</td>\n",
       "      <td>0.0</td>\n",
       "      <td>0.0</td>\n",
       "      <td>115.0</td>\n",
       "      <td>1.0</td>\n",
       "      <td>1.2</td>\n",
       "      <td>2.0</td>\n",
       "      <td>1.0</td>\n",
       "      <td>7.0</td>\n",
       "      <td>3</td>\n",
       "    </tr>\n",
       "    <tr>\n",
       "      <th>301</th>\n",
       "      <td>57.0</td>\n",
       "      <td>0.0</td>\n",
       "      <td>2.0</td>\n",
       "      <td>130.0</td>\n",
       "      <td>236.0</td>\n",
       "      <td>0.0</td>\n",
       "      <td>2.0</td>\n",
       "      <td>174.0</td>\n",
       "      <td>0.0</td>\n",
       "      <td>0.0</td>\n",
       "      <td>2.0</td>\n",
       "      <td>1.0</td>\n",
       "      <td>3.0</td>\n",
       "      <td>1</td>\n",
       "    </tr>\n",
       "    <tr>\n",
       "      <th>302</th>\n",
       "      <td>38.0</td>\n",
       "      <td>1.0</td>\n",
       "      <td>3.0</td>\n",
       "      <td>138.0</td>\n",
       "      <td>175.0</td>\n",
       "      <td>0.0</td>\n",
       "      <td>0.0</td>\n",
       "      <td>173.0</td>\n",
       "      <td>0.0</td>\n",
       "      <td>0.0</td>\n",
       "      <td>1.0</td>\n",
       "      <td>?</td>\n",
       "      <td>3.0</td>\n",
       "      <td>0</td>\n",
       "    </tr>\n",
       "  </tbody>\n",
       "</table>\n",
       "<p>303 rows × 14 columns</p>\n",
       "</div>"
      ],
      "text/plain": [
       "      Age  Sex  Chest_Pain_Type  Resting_Blood_Pressure  Serum_Cholesterol  \\\n",
       "0    63.0  1.0              1.0                   145.0              233.0   \n",
       "1    67.0  1.0              4.0                   160.0              286.0   \n",
       "2    67.0  1.0              4.0                   120.0              229.0   \n",
       "3    37.0  1.0              3.0                   130.0              250.0   \n",
       "4    41.0  0.0              2.0                   130.0              204.0   \n",
       "..    ...  ...              ...                     ...                ...   \n",
       "298  45.0  1.0              1.0                   110.0              264.0   \n",
       "299  68.0  1.0              4.0                   144.0              193.0   \n",
       "300  57.0  1.0              4.0                   130.0              131.0   \n",
       "301  57.0  0.0              2.0                   130.0              236.0   \n",
       "302  38.0  1.0              3.0                   138.0              175.0   \n",
       "\n",
       "     Fasting_Blood_Sugar  Resting_ECG  Max_Heart_Rate  \\\n",
       "0                    1.0          2.0           150.0   \n",
       "1                    0.0          2.0           108.0   \n",
       "2                    0.0          2.0           129.0   \n",
       "3                    0.0          0.0           187.0   \n",
       "4                    0.0          2.0           172.0   \n",
       "..                   ...          ...             ...   \n",
       "298                  0.0          0.0           132.0   \n",
       "299                  1.0          0.0           141.0   \n",
       "300                  0.0          0.0           115.0   \n",
       "301                  0.0          2.0           174.0   \n",
       "302                  0.0          0.0           173.0   \n",
       "\n",
       "     Exercise_Induced_Angina  ST_Depression_Exercise  \\\n",
       "0                        0.0                     2.3   \n",
       "1                        1.0                     1.5   \n",
       "2                        1.0                     2.6   \n",
       "3                        0.0                     3.5   \n",
       "4                        0.0                     1.4   \n",
       "..                       ...                     ...   \n",
       "298                      0.0                     1.2   \n",
       "299                      0.0                     3.4   \n",
       "300                      1.0                     1.2   \n",
       "301                      0.0                     0.0   \n",
       "302                      0.0                     0.0   \n",
       "\n",
       "     Peak_Exercise_ST_Segment Num_Major_Vessels_Flouro Thalassemia  Diagnosis  \n",
       "0                         3.0                      0.0         6.0          0  \n",
       "1                         2.0                      3.0         3.0          2  \n",
       "2                         2.0                      2.0         7.0          1  \n",
       "3                         3.0                      0.0         3.0          0  \n",
       "4                         1.0                      0.0         3.0          0  \n",
       "..                        ...                      ...         ...        ...  \n",
       "298                       2.0                      0.0         7.0          1  \n",
       "299                       2.0                      2.0         7.0          2  \n",
       "300                       2.0                      1.0         7.0          3  \n",
       "301                       2.0                      1.0         3.0          1  \n",
       "302                       1.0                        ?         3.0          0  \n",
       "\n",
       "[303 rows x 14 columns]"
      ]
     },
     "execution_count": 13,
     "metadata": {},
     "output_type": "execute_result"
    }
   ],
   "source": [
    "# Loading the dataset using the URL\n",
    "url = \"https://archive.ics.uci.edu/ml/machine-learning-databases/heart-disease/processed.cleveland.data\"\n",
    "\n",
    "heart_disease = pd.read_csv(url, header=None)\n",
    "\n",
    "heart_disease.columns = (\"Age\",\n",
    "           \"Sex\",\n",
    "           \"Chest_Pain_Type\",\n",
    "           \"Resting_Blood_Pressure\",\n",
    "           \"Serum_Cholesterol\",\n",
    "           \"Fasting_Blood_Sugar\",\n",
    "           \"Resting_ECG\",\n",
    "           \"Max_Heart_Rate\",\n",
    "           \"Exercise_Induced_Angina\",\n",
    "           \"ST_Depression_Exercise\",\n",
    "           \"Peak_Exercise_ST_Segment\",\n",
    "           \"Num_Major_Vessels_Flouro\",\n",
    "           \"Thalassemia\",\n",
    "           \"Diagnosis\") # assigning human-readable column headings\n",
    "\n",
    "heart_disease"
   ]
  },
  {
   "cell_type": "markdown",
   "id": "8a0dc060-198f-484d-b4f8-f0f7f559b070",
   "metadata": {},
   "source": [
    "We filtered the dataset to include only the variables taken into consideration:"
   ]
  },
  {
   "cell_type": "code",
   "execution_count": 14,
   "id": "d828cc30-8e57-4488-9b79-922c587f12c7",
   "metadata": {},
   "outputs": [
    {
     "data": {
      "text/html": [
       "<div>\n",
       "<style scoped>\n",
       "    .dataframe tbody tr th:only-of-type {\n",
       "        vertical-align: middle;\n",
       "    }\n",
       "\n",
       "    .dataframe tbody tr th {\n",
       "        vertical-align: top;\n",
       "    }\n",
       "\n",
       "    .dataframe thead th {\n",
       "        text-align: right;\n",
       "    }\n",
       "</style>\n",
       "<table border=\"1\" class=\"dataframe\">\n",
       "  <thead>\n",
       "    <tr style=\"text-align: right;\">\n",
       "      <th></th>\n",
       "      <th>Age</th>\n",
       "      <th>Chest_Pain_Type</th>\n",
       "      <th>Fasting_Blood_Sugar</th>\n",
       "      <th>Serum_Cholesterol</th>\n",
       "      <th>Max_Heart_Rate</th>\n",
       "      <th>Diagnosis</th>\n",
       "    </tr>\n",
       "  </thead>\n",
       "  <tbody>\n",
       "    <tr>\n",
       "      <th>0</th>\n",
       "      <td>63.0</td>\n",
       "      <td>1.0</td>\n",
       "      <td>1.0</td>\n",
       "      <td>233.0</td>\n",
       "      <td>150.0</td>\n",
       "      <td>0</td>\n",
       "    </tr>\n",
       "    <tr>\n",
       "      <th>1</th>\n",
       "      <td>67.0</td>\n",
       "      <td>4.0</td>\n",
       "      <td>0.0</td>\n",
       "      <td>286.0</td>\n",
       "      <td>108.0</td>\n",
       "      <td>2</td>\n",
       "    </tr>\n",
       "    <tr>\n",
       "      <th>2</th>\n",
       "      <td>67.0</td>\n",
       "      <td>4.0</td>\n",
       "      <td>0.0</td>\n",
       "      <td>229.0</td>\n",
       "      <td>129.0</td>\n",
       "      <td>1</td>\n",
       "    </tr>\n",
       "    <tr>\n",
       "      <th>3</th>\n",
       "      <td>37.0</td>\n",
       "      <td>3.0</td>\n",
       "      <td>0.0</td>\n",
       "      <td>250.0</td>\n",
       "      <td>187.0</td>\n",
       "      <td>0</td>\n",
       "    </tr>\n",
       "    <tr>\n",
       "      <th>4</th>\n",
       "      <td>41.0</td>\n",
       "      <td>2.0</td>\n",
       "      <td>0.0</td>\n",
       "      <td>204.0</td>\n",
       "      <td>172.0</td>\n",
       "      <td>0</td>\n",
       "    </tr>\n",
       "    <tr>\n",
       "      <th>...</th>\n",
       "      <td>...</td>\n",
       "      <td>...</td>\n",
       "      <td>...</td>\n",
       "      <td>...</td>\n",
       "      <td>...</td>\n",
       "      <td>...</td>\n",
       "    </tr>\n",
       "    <tr>\n",
       "      <th>298</th>\n",
       "      <td>45.0</td>\n",
       "      <td>1.0</td>\n",
       "      <td>0.0</td>\n",
       "      <td>264.0</td>\n",
       "      <td>132.0</td>\n",
       "      <td>1</td>\n",
       "    </tr>\n",
       "    <tr>\n",
       "      <th>299</th>\n",
       "      <td>68.0</td>\n",
       "      <td>4.0</td>\n",
       "      <td>1.0</td>\n",
       "      <td>193.0</td>\n",
       "      <td>141.0</td>\n",
       "      <td>2</td>\n",
       "    </tr>\n",
       "    <tr>\n",
       "      <th>300</th>\n",
       "      <td>57.0</td>\n",
       "      <td>4.0</td>\n",
       "      <td>0.0</td>\n",
       "      <td>131.0</td>\n",
       "      <td>115.0</td>\n",
       "      <td>3</td>\n",
       "    </tr>\n",
       "    <tr>\n",
       "      <th>301</th>\n",
       "      <td>57.0</td>\n",
       "      <td>2.0</td>\n",
       "      <td>0.0</td>\n",
       "      <td>236.0</td>\n",
       "      <td>174.0</td>\n",
       "      <td>1</td>\n",
       "    </tr>\n",
       "    <tr>\n",
       "      <th>302</th>\n",
       "      <td>38.0</td>\n",
       "      <td>3.0</td>\n",
       "      <td>0.0</td>\n",
       "      <td>175.0</td>\n",
       "      <td>173.0</td>\n",
       "      <td>0</td>\n",
       "    </tr>\n",
       "  </tbody>\n",
       "</table>\n",
       "<p>303 rows × 6 columns</p>\n",
       "</div>"
      ],
      "text/plain": [
       "      Age  Chest_Pain_Type  Fasting_Blood_Sugar  Serum_Cholesterol  \\\n",
       "0    63.0              1.0                  1.0              233.0   \n",
       "1    67.0              4.0                  0.0              286.0   \n",
       "2    67.0              4.0                  0.0              229.0   \n",
       "3    37.0              3.0                  0.0              250.0   \n",
       "4    41.0              2.0                  0.0              204.0   \n",
       "..    ...              ...                  ...                ...   \n",
       "298  45.0              1.0                  0.0              264.0   \n",
       "299  68.0              4.0                  1.0              193.0   \n",
       "300  57.0              4.0                  0.0              131.0   \n",
       "301  57.0              2.0                  0.0              236.0   \n",
       "302  38.0              3.0                  0.0              175.0   \n",
       "\n",
       "     Max_Heart_Rate  Diagnosis  \n",
       "0             150.0          0  \n",
       "1             108.0          2  \n",
       "2             129.0          1  \n",
       "3             187.0          0  \n",
       "4             172.0          0  \n",
       "..              ...        ...  \n",
       "298           132.0          1  \n",
       "299           141.0          2  \n",
       "300           115.0          3  \n",
       "301           174.0          1  \n",
       "302           173.0          0  \n",
       "\n",
       "[303 rows x 6 columns]"
      ]
     },
     "execution_count": 14,
     "metadata": {},
     "output_type": "execute_result"
    }
   ],
   "source": [
    "# Filtering to include only the columns we will be using in our analysis\n",
    "heart_disease_final = heart_disease.loc[:, [\"Age\",\"Chest_Pain_Type\",\"Fasting_Blood_Sugar\", \"Serum_Cholesterol\", \"Max_Heart_Rate\", \"Diagnosis\"]]\n",
    "heart_disease_final"
   ]
  },
  {
   "cell_type": "markdown",
   "id": "53887b57-0786-4ac5-8148-0ac23a5a8391",
   "metadata": {},
   "source": [
    "Since our data is in a tidy format (each column is a single variable, each row is a single observation and each cell is a single value), we only need to drop all rows containing Na's and change the data types of certain columns. This is in order to wrangle the dataset for ease of work:"
   ]
  },
  {
   "cell_type": "code",
   "execution_count": 15,
   "id": "a9b4816e-35fc-490c-b5de-5a5756272a48",
   "metadata": {},
   "outputs": [
    {
     "name": "stdout",
     "output_type": "stream",
     "text": [
      "<class 'pandas.core.frame.DataFrame'>\n",
      "RangeIndex: 303 entries, 0 to 302\n",
      "Data columns (total 6 columns):\n",
      " #   Column               Non-Null Count  Dtype  \n",
      "---  ------               --------------  -----  \n",
      " 0   Age                  303 non-null    int64  \n",
      " 1   Chest_Pain_Type      303 non-null    int64  \n",
      " 2   Fasting_Blood_Sugar  303 non-null    float64\n",
      " 3   Serum_Cholesterol    303 non-null    float64\n",
      " 4   Max_Heart_Rate       303 non-null    int64  \n",
      " 5   Diagnosis            303 non-null    bool   \n",
      "dtypes: bool(1), float64(2), int64(3)\n",
      "memory usage: 12.3 KB\n"
     ]
    }
   ],
   "source": [
    "heart_disease_final.dropna() # Removing Na's\n",
    "\n",
    "\n",
    "# Age is measured in years therefore will be an integer\n",
    "heart_disease_final.Age = heart_disease.Age.astype('int64') \n",
    "\n",
    "# A patient either has heart disease or not, hence diagnosis will be of bool type\n",
    "heart_disease_final.Diagnosis = heart_disease.Diagnosis.astype(bool) \n",
    "\n",
    "# Since chest pain type can only be one of 1, 2, 3, 4 hence it will be of type int64\n",
    "heart_disease_final.Chest_Pain_Type = heart_disease.Chest_Pain_Type.astype('int64') \n",
    "\n",
    "# Since maximum heart rate is measured in Beats per Minute, its type should be changed to int64\n",
    "heart_disease_final.Max_Heart_Rate = heart_disease.Max_Heart_Rate.astype('int64') \n",
    "\n",
    "\n",
    "heart_disease_final.info()\n"
   ]
  },
  {
   "cell_type": "code",
   "execution_count": 16,
   "id": "1122bf30-625c-460a-99fe-19deaf0a9683",
   "metadata": {},
   "outputs": [
    {
     "data": {
      "text/html": [
       "<div>\n",
       "<style scoped>\n",
       "    .dataframe tbody tr th:only-of-type {\n",
       "        vertical-align: middle;\n",
       "    }\n",
       "\n",
       "    .dataframe tbody tr th {\n",
       "        vertical-align: top;\n",
       "    }\n",
       "\n",
       "    .dataframe thead th {\n",
       "        text-align: right;\n",
       "    }\n",
       "</style>\n",
       "<table border=\"1\" class=\"dataframe\">\n",
       "  <thead>\n",
       "    <tr style=\"text-align: right;\">\n",
       "      <th></th>\n",
       "      <th>Age</th>\n",
       "      <th>Chest_Pain_Type</th>\n",
       "      <th>Fasting_Blood_Sugar</th>\n",
       "      <th>Serum_Cholesterol</th>\n",
       "      <th>Max_Heart_Rate</th>\n",
       "      <th>Diagnosis</th>\n",
       "    </tr>\n",
       "  </thead>\n",
       "  <tbody>\n",
       "    <tr>\n",
       "      <th>0</th>\n",
       "      <td>63</td>\n",
       "      <td>1</td>\n",
       "      <td>1.0</td>\n",
       "      <td>233.0</td>\n",
       "      <td>150</td>\n",
       "      <td>False</td>\n",
       "    </tr>\n",
       "    <tr>\n",
       "      <th>1</th>\n",
       "      <td>67</td>\n",
       "      <td>4</td>\n",
       "      <td>0.0</td>\n",
       "      <td>286.0</td>\n",
       "      <td>108</td>\n",
       "      <td>True</td>\n",
       "    </tr>\n",
       "    <tr>\n",
       "      <th>2</th>\n",
       "      <td>67</td>\n",
       "      <td>4</td>\n",
       "      <td>0.0</td>\n",
       "      <td>229.0</td>\n",
       "      <td>129</td>\n",
       "      <td>True</td>\n",
       "    </tr>\n",
       "    <tr>\n",
       "      <th>3</th>\n",
       "      <td>37</td>\n",
       "      <td>3</td>\n",
       "      <td>0.0</td>\n",
       "      <td>250.0</td>\n",
       "      <td>187</td>\n",
       "      <td>False</td>\n",
       "    </tr>\n",
       "    <tr>\n",
       "      <th>4</th>\n",
       "      <td>41</td>\n",
       "      <td>2</td>\n",
       "      <td>0.0</td>\n",
       "      <td>204.0</td>\n",
       "      <td>172</td>\n",
       "      <td>False</td>\n",
       "    </tr>\n",
       "    <tr>\n",
       "      <th>...</th>\n",
       "      <td>...</td>\n",
       "      <td>...</td>\n",
       "      <td>...</td>\n",
       "      <td>...</td>\n",
       "      <td>...</td>\n",
       "      <td>...</td>\n",
       "    </tr>\n",
       "    <tr>\n",
       "      <th>298</th>\n",
       "      <td>45</td>\n",
       "      <td>1</td>\n",
       "      <td>0.0</td>\n",
       "      <td>264.0</td>\n",
       "      <td>132</td>\n",
       "      <td>True</td>\n",
       "    </tr>\n",
       "    <tr>\n",
       "      <th>299</th>\n",
       "      <td>68</td>\n",
       "      <td>4</td>\n",
       "      <td>1.0</td>\n",
       "      <td>193.0</td>\n",
       "      <td>141</td>\n",
       "      <td>True</td>\n",
       "    </tr>\n",
       "    <tr>\n",
       "      <th>300</th>\n",
       "      <td>57</td>\n",
       "      <td>4</td>\n",
       "      <td>0.0</td>\n",
       "      <td>131.0</td>\n",
       "      <td>115</td>\n",
       "      <td>True</td>\n",
       "    </tr>\n",
       "    <tr>\n",
       "      <th>301</th>\n",
       "      <td>57</td>\n",
       "      <td>2</td>\n",
       "      <td>0.0</td>\n",
       "      <td>236.0</td>\n",
       "      <td>174</td>\n",
       "      <td>True</td>\n",
       "    </tr>\n",
       "    <tr>\n",
       "      <th>302</th>\n",
       "      <td>38</td>\n",
       "      <td>3</td>\n",
       "      <td>0.0</td>\n",
       "      <td>175.0</td>\n",
       "      <td>173</td>\n",
       "      <td>False</td>\n",
       "    </tr>\n",
       "  </tbody>\n",
       "</table>\n",
       "<p>303 rows × 6 columns</p>\n",
       "</div>"
      ],
      "text/plain": [
       "     Age  Chest_Pain_Type  Fasting_Blood_Sugar  Serum_Cholesterol  \\\n",
       "0     63                1                  1.0              233.0   \n",
       "1     67                4                  0.0              286.0   \n",
       "2     67                4                  0.0              229.0   \n",
       "3     37                3                  0.0              250.0   \n",
       "4     41                2                  0.0              204.0   \n",
       "..   ...              ...                  ...                ...   \n",
       "298   45                1                  0.0              264.0   \n",
       "299   68                4                  1.0              193.0   \n",
       "300   57                4                  0.0              131.0   \n",
       "301   57                2                  0.0              236.0   \n",
       "302   38                3                  0.0              175.0   \n",
       "\n",
       "     Max_Heart_Rate  Diagnosis  \n",
       "0               150      False  \n",
       "1               108       True  \n",
       "2               129       True  \n",
       "3               187      False  \n",
       "4               172      False  \n",
       "..              ...        ...  \n",
       "298             132       True  \n",
       "299             141       True  \n",
       "300             115       True  \n",
       "301             174       True  \n",
       "302             173      False  \n",
       "\n",
       "[303 rows x 6 columns]"
      ]
     },
     "execution_count": 16,
     "metadata": {},
     "output_type": "execute_result"
    }
   ],
   "source": [
    "heart_disease_final # The final tidy data"
   ]
  },
  {
   "cell_type": "markdown",
   "id": "d4e998a6-06c3-4323-8745-c73d777b1dea",
   "metadata": {},
   "source": [
    "After wrangling the dataset, we will split it to use as training data and testing data. We are using 75% of our data as training data and 25% as testing data:"
   ]
  },
  {
   "cell_type": "code",
   "execution_count": 17,
   "id": "256fe072-045b-4a08-bac4-67a94c36406c",
   "metadata": {},
   "outputs": [
    {
     "name": "stdout",
     "output_type": "stream",
     "text": [
      "     Age  Chest_Pain_Type  Fasting_Blood_Sugar  Serum_Cholesterol  \\\n",
      "36    43                4                  0.0              177.0   \n",
      "148   45                2                  0.0              308.0   \n",
      "21    58                1                  1.0              283.0   \n",
      "187   66                2                  0.0              246.0   \n",
      "161   77                4                  0.0              304.0   \n",
      "\n",
      "     Max_Heart_Rate  Diagnosis  \n",
      "36              120       True  \n",
      "148             170      False  \n",
      "21              162      False  \n",
      "187             120       True  \n",
      "161             162       True  \n",
      "     Age  Chest_Pain_Type  Fasting_Blood_Sugar  Serum_Cholesterol  \\\n",
      "11    56                2                  0.0              294.0   \n",
      "292   44                4                  0.0              169.0   \n",
      "269   42                3                  0.0              180.0   \n",
      "268   40                4                  0.0              223.0   \n",
      "94    63                3                  0.0              252.0   \n",
      "\n",
      "     Max_Heart_Rate  Diagnosis  \n",
      "11              153      False  \n",
      "292             144       True  \n",
      "269             150      False  \n",
      "268             181       True  \n",
      "94              172      False  \n"
     ]
    }
   ],
   "source": [
    "heart_train, heart_test = train_test_split(heart_disease_final, test_size=0.25, random_state=123) # set the random state to be 123\n",
    "print(heart_train.head())\n",
    "print(heart_test.head())"
   ]
  },
  {
   "cell_type": "markdown",
   "id": "1c1e4b08-151e-4f2f-81f7-2627e693b521",
   "metadata": {},
   "source": [
    "### Summary Tables"
   ]
  },
  {
   "cell_type": "markdown",
   "id": "5550e122-7062-445d-bd6c-ac97c81bac77",
   "metadata": {},
   "source": [
    "We start by showing the mean of each variable grouped by diagnosis:"
   ]
  },
  {
   "cell_type": "code",
   "execution_count": 18,
   "id": "b0ea2105-1538-414b-877e-2763763fb432",
   "metadata": {},
   "outputs": [
    {
     "data": {
      "text/html": [
       "<div>\n",
       "<style scoped>\n",
       "    .dataframe tbody tr th:only-of-type {\n",
       "        vertical-align: middle;\n",
       "    }\n",
       "\n",
       "    .dataframe tbody tr th {\n",
       "        vertical-align: top;\n",
       "    }\n",
       "\n",
       "    .dataframe thead th {\n",
       "        text-align: right;\n",
       "    }\n",
       "</style>\n",
       "<table border=\"1\" class=\"dataframe\">\n",
       "  <thead>\n",
       "    <tr style=\"text-align: right;\">\n",
       "      <th></th>\n",
       "      <th>Age</th>\n",
       "      <th>Fasting_Blood_Sugar</th>\n",
       "      <th>Serum_Cholesterol</th>\n",
       "      <th>Max_Heart_Rate</th>\n",
       "    </tr>\n",
       "    <tr>\n",
       "      <th>Diagnosis</th>\n",
       "      <th></th>\n",
       "      <th></th>\n",
       "      <th></th>\n",
       "      <th></th>\n",
       "    </tr>\n",
       "  </thead>\n",
       "  <tbody>\n",
       "    <tr>\n",
       "      <th>False</th>\n",
       "      <td>52.163934</td>\n",
       "      <td>0.139344</td>\n",
       "      <td>240.295082</td>\n",
       "      <td>158.377049</td>\n",
       "    </tr>\n",
       "    <tr>\n",
       "      <th>True</th>\n",
       "      <td>56.457143</td>\n",
       "      <td>0.133333</td>\n",
       "      <td>253.371429</td>\n",
       "      <td>140.914286</td>\n",
       "    </tr>\n",
       "  </tbody>\n",
       "</table>\n",
       "</div>"
      ],
      "text/plain": [
       "                 Age  Fasting_Blood_Sugar  Serum_Cholesterol  Max_Heart_Rate\n",
       "Diagnosis                                                                   \n",
       "False      52.163934             0.139344         240.295082      158.377049\n",
       "True       56.457143             0.133333         253.371429      140.914286"
      ]
     },
     "execution_count": 18,
     "metadata": {},
     "output_type": "execute_result"
    }
   ],
   "source": [
    "diagnosis_mean = heart_train.groupby(\"Diagnosis\").agg(\"mean\")\n",
    "diagnosis_mean_filtered = diagnosis_mean.loc[:,[\"Age\",\"Fasting_Blood_Sugar\",\"Serum_Cholesterol\",\"Max_Heart_Rate\"]]\n",
    "diagnosis_mean_filtered"
   ]
  },
  {
   "cell_type": "markdown",
   "id": "baff41f0-c2df-4bbf-baca-eb9026350716",
   "metadata": {},
   "source": [
    "We then created a dataframe grouped by chest pain type to see the summarized count of each variable for each chest pain type:"
   ]
  },
  {
   "cell_type": "code",
   "execution_count": 19,
   "id": "dbc4bcfe-5539-4533-be85-b917dfa3076d",
   "metadata": {},
   "outputs": [
    {
     "data": {
      "text/html": [
       "<div>\n",
       "<style scoped>\n",
       "    .dataframe tbody tr th:only-of-type {\n",
       "        vertical-align: middle;\n",
       "    }\n",
       "\n",
       "    .dataframe tbody tr th {\n",
       "        vertical-align: top;\n",
       "    }\n",
       "\n",
       "    .dataframe thead th {\n",
       "        text-align: right;\n",
       "    }\n",
       "</style>\n",
       "<table border=\"1\" class=\"dataframe\">\n",
       "  <thead>\n",
       "    <tr style=\"text-align: right;\">\n",
       "      <th></th>\n",
       "      <th>Age</th>\n",
       "      <th>Fasting_Blood_Sugar</th>\n",
       "      <th>Serum_Cholesterol</th>\n",
       "      <th>Max_Heart_Rate</th>\n",
       "      <th>Diagnosis</th>\n",
       "    </tr>\n",
       "    <tr>\n",
       "      <th>Chest_Pain_Type</th>\n",
       "      <th></th>\n",
       "      <th></th>\n",
       "      <th></th>\n",
       "      <th></th>\n",
       "      <th></th>\n",
       "    </tr>\n",
       "  </thead>\n",
       "  <tbody>\n",
       "    <tr>\n",
       "      <th>1</th>\n",
       "      <td>16</td>\n",
       "      <td>16</td>\n",
       "      <td>16</td>\n",
       "      <td>16</td>\n",
       "      <td>16</td>\n",
       "    </tr>\n",
       "    <tr>\n",
       "      <th>2</th>\n",
       "      <td>35</td>\n",
       "      <td>35</td>\n",
       "      <td>35</td>\n",
       "      <td>35</td>\n",
       "      <td>35</td>\n",
       "    </tr>\n",
       "    <tr>\n",
       "      <th>3</th>\n",
       "      <td>72</td>\n",
       "      <td>72</td>\n",
       "      <td>72</td>\n",
       "      <td>72</td>\n",
       "      <td>72</td>\n",
       "    </tr>\n",
       "    <tr>\n",
       "      <th>4</th>\n",
       "      <td>104</td>\n",
       "      <td>104</td>\n",
       "      <td>104</td>\n",
       "      <td>104</td>\n",
       "      <td>104</td>\n",
       "    </tr>\n",
       "  </tbody>\n",
       "</table>\n",
       "</div>"
      ],
      "text/plain": [
       "                 Age  Fasting_Blood_Sugar  Serum_Cholesterol  Max_Heart_Rate  \\\n",
       "Chest_Pain_Type                                                                \n",
       "1                 16                   16                 16              16   \n",
       "2                 35                   35                 35              35   \n",
       "3                 72                   72                 72              72   \n",
       "4                104                  104                104             104   \n",
       "\n",
       "                 Diagnosis  \n",
       "Chest_Pain_Type             \n",
       "1                       16  \n",
       "2                       35  \n",
       "3                       72  \n",
       "4                      104  "
      ]
     },
     "execution_count": 19,
     "metadata": {},
     "output_type": "execute_result"
    }
   ],
   "source": [
    "# Grouping by Chest_Pain_Type to see count of each variable for every chest pain type\n",
    "chest_pain_grouped = heart_train.groupby(\"Chest_Pain_Type\").agg(\"count\")\n",
    "chest_pain_grouped"
   ]
  },
  {
   "cell_type": "markdown",
   "id": "59ffec56-f355-4432-b199-c6c33974191e",
   "metadata": {},
   "source": [
    "Next, we visualize the data into plots and graphs in order to display data effectively.\n",
    "We visualize how maximum heart rate changes with age through a scatter plot:"
   ]
  },
  {
   "cell_type": "code",
   "execution_count": 20,
   "id": "d02c57ad-0a7e-48df-b658-c9ec6cb7db9f",
   "metadata": {},
   "outputs": [
    {
     "name": "stderr",
     "output_type": "stream",
     "text": [
      "/opt/conda/lib/python3.10/site-packages/altair/utils/core.py:317: FutureWarning: iteritems is deprecated and will be removed in a future version. Use .items instead.\n",
      "  for col_name, dtype in df.dtypes.iteritems():\n"
     ]
    },
    {
     "data": {
      "application/vnd.vegalite.v4+json": {
       "$schema": "https://vega.github.io/schema/vega-lite/v4.17.0.json",
       "config": {
        "axis": {
         "labelFontSize": 15,
         "titleFontSize": 15
        },
        "title": {
         "fontSize": 25
        },
        "view": {
         "continuousHeight": 300,
         "continuousWidth": 400
        }
       },
       "data": {
        "name": "data-c6e5d522682ad9c091fd3a251f3435c9"
       },
       "datasets": {
        "data-c6e5d522682ad9c091fd3a251f3435c9": [
         {
          "Age": 63,
          "Chest_Pain_Type": 1,
          "Diagnosis": false,
          "Fasting_Blood_Sugar": 1,
          "Max_Heart_Rate": 150,
          "Serum_Cholesterol": 233
         },
         {
          "Age": 67,
          "Chest_Pain_Type": 4,
          "Diagnosis": true,
          "Fasting_Blood_Sugar": 0,
          "Max_Heart_Rate": 108,
          "Serum_Cholesterol": 286
         },
         {
          "Age": 67,
          "Chest_Pain_Type": 4,
          "Diagnosis": true,
          "Fasting_Blood_Sugar": 0,
          "Max_Heart_Rate": 129,
          "Serum_Cholesterol": 229
         },
         {
          "Age": 37,
          "Chest_Pain_Type": 3,
          "Diagnosis": false,
          "Fasting_Blood_Sugar": 0,
          "Max_Heart_Rate": 187,
          "Serum_Cholesterol": 250
         },
         {
          "Age": 41,
          "Chest_Pain_Type": 2,
          "Diagnosis": false,
          "Fasting_Blood_Sugar": 0,
          "Max_Heart_Rate": 172,
          "Serum_Cholesterol": 204
         },
         {
          "Age": 56,
          "Chest_Pain_Type": 2,
          "Diagnosis": false,
          "Fasting_Blood_Sugar": 0,
          "Max_Heart_Rate": 178,
          "Serum_Cholesterol": 236
         },
         {
          "Age": 62,
          "Chest_Pain_Type": 4,
          "Diagnosis": true,
          "Fasting_Blood_Sugar": 0,
          "Max_Heart_Rate": 160,
          "Serum_Cholesterol": 268
         },
         {
          "Age": 57,
          "Chest_Pain_Type": 4,
          "Diagnosis": false,
          "Fasting_Blood_Sugar": 0,
          "Max_Heart_Rate": 163,
          "Serum_Cholesterol": 354
         },
         {
          "Age": 63,
          "Chest_Pain_Type": 4,
          "Diagnosis": true,
          "Fasting_Blood_Sugar": 0,
          "Max_Heart_Rate": 147,
          "Serum_Cholesterol": 254
         },
         {
          "Age": 53,
          "Chest_Pain_Type": 4,
          "Diagnosis": true,
          "Fasting_Blood_Sugar": 1,
          "Max_Heart_Rate": 155,
          "Serum_Cholesterol": 203
         },
         {
          "Age": 57,
          "Chest_Pain_Type": 4,
          "Diagnosis": false,
          "Fasting_Blood_Sugar": 0,
          "Max_Heart_Rate": 148,
          "Serum_Cholesterol": 192
         },
         {
          "Age": 56,
          "Chest_Pain_Type": 2,
          "Diagnosis": false,
          "Fasting_Blood_Sugar": 0,
          "Max_Heart_Rate": 153,
          "Serum_Cholesterol": 294
         },
         {
          "Age": 56,
          "Chest_Pain_Type": 3,
          "Diagnosis": true,
          "Fasting_Blood_Sugar": 1,
          "Max_Heart_Rate": 142,
          "Serum_Cholesterol": 256
         },
         {
          "Age": 44,
          "Chest_Pain_Type": 2,
          "Diagnosis": false,
          "Fasting_Blood_Sugar": 0,
          "Max_Heart_Rate": 173,
          "Serum_Cholesterol": 263
         },
         {
          "Age": 52,
          "Chest_Pain_Type": 3,
          "Diagnosis": false,
          "Fasting_Blood_Sugar": 1,
          "Max_Heart_Rate": 162,
          "Serum_Cholesterol": 199
         },
         {
          "Age": 57,
          "Chest_Pain_Type": 3,
          "Diagnosis": false,
          "Fasting_Blood_Sugar": 0,
          "Max_Heart_Rate": 174,
          "Serum_Cholesterol": 168
         },
         {
          "Age": 48,
          "Chest_Pain_Type": 2,
          "Diagnosis": true,
          "Fasting_Blood_Sugar": 0,
          "Max_Heart_Rate": 168,
          "Serum_Cholesterol": 229
         },
         {
          "Age": 54,
          "Chest_Pain_Type": 4,
          "Diagnosis": false,
          "Fasting_Blood_Sugar": 0,
          "Max_Heart_Rate": 160,
          "Serum_Cholesterol": 239
         },
         {
          "Age": 48,
          "Chest_Pain_Type": 3,
          "Diagnosis": false,
          "Fasting_Blood_Sugar": 0,
          "Max_Heart_Rate": 139,
          "Serum_Cholesterol": 275
         },
         {
          "Age": 49,
          "Chest_Pain_Type": 2,
          "Diagnosis": false,
          "Fasting_Blood_Sugar": 0,
          "Max_Heart_Rate": 171,
          "Serum_Cholesterol": 266
         },
         {
          "Age": 64,
          "Chest_Pain_Type": 1,
          "Diagnosis": false,
          "Fasting_Blood_Sugar": 0,
          "Max_Heart_Rate": 144,
          "Serum_Cholesterol": 211
         },
         {
          "Age": 58,
          "Chest_Pain_Type": 1,
          "Diagnosis": false,
          "Fasting_Blood_Sugar": 1,
          "Max_Heart_Rate": 162,
          "Serum_Cholesterol": 283
         },
         {
          "Age": 58,
          "Chest_Pain_Type": 2,
          "Diagnosis": true,
          "Fasting_Blood_Sugar": 0,
          "Max_Heart_Rate": 160,
          "Serum_Cholesterol": 284
         },
         {
          "Age": 58,
          "Chest_Pain_Type": 3,
          "Diagnosis": true,
          "Fasting_Blood_Sugar": 0,
          "Max_Heart_Rate": 173,
          "Serum_Cholesterol": 224
         },
         {
          "Age": 60,
          "Chest_Pain_Type": 4,
          "Diagnosis": true,
          "Fasting_Blood_Sugar": 0,
          "Max_Heart_Rate": 132,
          "Serum_Cholesterol": 206
         },
         {
          "Age": 50,
          "Chest_Pain_Type": 3,
          "Diagnosis": false,
          "Fasting_Blood_Sugar": 0,
          "Max_Heart_Rate": 158,
          "Serum_Cholesterol": 219
         },
         {
          "Age": 58,
          "Chest_Pain_Type": 3,
          "Diagnosis": false,
          "Fasting_Blood_Sugar": 0,
          "Max_Heart_Rate": 172,
          "Serum_Cholesterol": 340
         },
         {
          "Age": 66,
          "Chest_Pain_Type": 1,
          "Diagnosis": false,
          "Fasting_Blood_Sugar": 0,
          "Max_Heart_Rate": 114,
          "Serum_Cholesterol": 226
         },
         {
          "Age": 43,
          "Chest_Pain_Type": 4,
          "Diagnosis": false,
          "Fasting_Blood_Sugar": 0,
          "Max_Heart_Rate": 171,
          "Serum_Cholesterol": 247
         },
         {
          "Age": 40,
          "Chest_Pain_Type": 4,
          "Diagnosis": true,
          "Fasting_Blood_Sugar": 0,
          "Max_Heart_Rate": 114,
          "Serum_Cholesterol": 167
         },
         {
          "Age": 69,
          "Chest_Pain_Type": 1,
          "Diagnosis": false,
          "Fasting_Blood_Sugar": 0,
          "Max_Heart_Rate": 151,
          "Serum_Cholesterol": 239
         },
         {
          "Age": 60,
          "Chest_Pain_Type": 4,
          "Diagnosis": true,
          "Fasting_Blood_Sugar": 1,
          "Max_Heart_Rate": 160,
          "Serum_Cholesterol": 230
         },
         {
          "Age": 64,
          "Chest_Pain_Type": 3,
          "Diagnosis": true,
          "Fasting_Blood_Sugar": 0,
          "Max_Heart_Rate": 158,
          "Serum_Cholesterol": 335
         },
         {
          "Age": 59,
          "Chest_Pain_Type": 4,
          "Diagnosis": false,
          "Fasting_Blood_Sugar": 0,
          "Max_Heart_Rate": 161,
          "Serum_Cholesterol": 234
         },
         {
          "Age": 44,
          "Chest_Pain_Type": 3,
          "Diagnosis": false,
          "Fasting_Blood_Sugar": 0,
          "Max_Heart_Rate": 179,
          "Serum_Cholesterol": 233
         },
         {
          "Age": 42,
          "Chest_Pain_Type": 4,
          "Diagnosis": false,
          "Fasting_Blood_Sugar": 0,
          "Max_Heart_Rate": 178,
          "Serum_Cholesterol": 226
         },
         {
          "Age": 43,
          "Chest_Pain_Type": 4,
          "Diagnosis": true,
          "Fasting_Blood_Sugar": 0,
          "Max_Heart_Rate": 120,
          "Serum_Cholesterol": 177
         },
         {
          "Age": 57,
          "Chest_Pain_Type": 4,
          "Diagnosis": true,
          "Fasting_Blood_Sugar": 0,
          "Max_Heart_Rate": 112,
          "Serum_Cholesterol": 276
         },
         {
          "Age": 55,
          "Chest_Pain_Type": 4,
          "Diagnosis": true,
          "Fasting_Blood_Sugar": 0,
          "Max_Heart_Rate": 132,
          "Serum_Cholesterol": 353
         },
         {
          "Age": 61,
          "Chest_Pain_Type": 3,
          "Diagnosis": false,
          "Fasting_Blood_Sugar": 1,
          "Max_Heart_Rate": 137,
          "Serum_Cholesterol": 243
         },
         {
          "Age": 65,
          "Chest_Pain_Type": 4,
          "Diagnosis": true,
          "Fasting_Blood_Sugar": 0,
          "Max_Heart_Rate": 114,
          "Serum_Cholesterol": 225
         },
         {
          "Age": 40,
          "Chest_Pain_Type": 1,
          "Diagnosis": false,
          "Fasting_Blood_Sugar": 0,
          "Max_Heart_Rate": 178,
          "Serum_Cholesterol": 199
         },
         {
          "Age": 71,
          "Chest_Pain_Type": 2,
          "Diagnosis": false,
          "Fasting_Blood_Sugar": 0,
          "Max_Heart_Rate": 162,
          "Serum_Cholesterol": 302
         },
         {
          "Age": 59,
          "Chest_Pain_Type": 3,
          "Diagnosis": false,
          "Fasting_Blood_Sugar": 1,
          "Max_Heart_Rate": 157,
          "Serum_Cholesterol": 212
         },
         {
          "Age": 61,
          "Chest_Pain_Type": 4,
          "Diagnosis": true,
          "Fasting_Blood_Sugar": 0,
          "Max_Heart_Rate": 169,
          "Serum_Cholesterol": 330
         },
         {
          "Age": 58,
          "Chest_Pain_Type": 3,
          "Diagnosis": true,
          "Fasting_Blood_Sugar": 0,
          "Max_Heart_Rate": 165,
          "Serum_Cholesterol": 230
         },
         {
          "Age": 51,
          "Chest_Pain_Type": 3,
          "Diagnosis": false,
          "Fasting_Blood_Sugar": 0,
          "Max_Heart_Rate": 123,
          "Serum_Cholesterol": 175
         },
         {
          "Age": 50,
          "Chest_Pain_Type": 4,
          "Diagnosis": true,
          "Fasting_Blood_Sugar": 0,
          "Max_Heart_Rate": 128,
          "Serum_Cholesterol": 243
         },
         {
          "Age": 65,
          "Chest_Pain_Type": 3,
          "Diagnosis": false,
          "Fasting_Blood_Sugar": 1,
          "Max_Heart_Rate": 157,
          "Serum_Cholesterol": 417
         },
         {
          "Age": 53,
          "Chest_Pain_Type": 3,
          "Diagnosis": false,
          "Fasting_Blood_Sugar": 1,
          "Max_Heart_Rate": 152,
          "Serum_Cholesterol": 197
         },
         {
          "Age": 41,
          "Chest_Pain_Type": 2,
          "Diagnosis": false,
          "Fasting_Blood_Sugar": 0,
          "Max_Heart_Rate": 168,
          "Serum_Cholesterol": 198
         },
         {
          "Age": 65,
          "Chest_Pain_Type": 4,
          "Diagnosis": false,
          "Fasting_Blood_Sugar": 0,
          "Max_Heart_Rate": 140,
          "Serum_Cholesterol": 177
         },
         {
          "Age": 44,
          "Chest_Pain_Type": 4,
          "Diagnosis": true,
          "Fasting_Blood_Sugar": 0,
          "Max_Heart_Rate": 153,
          "Serum_Cholesterol": 290
         },
         {
          "Age": 44,
          "Chest_Pain_Type": 2,
          "Diagnosis": false,
          "Fasting_Blood_Sugar": 0,
          "Max_Heart_Rate": 188,
          "Serum_Cholesterol": 219
         },
         {
          "Age": 60,
          "Chest_Pain_Type": 4,
          "Diagnosis": true,
          "Fasting_Blood_Sugar": 0,
          "Max_Heart_Rate": 144,
          "Serum_Cholesterol": 253
         },
         {
          "Age": 54,
          "Chest_Pain_Type": 4,
          "Diagnosis": true,
          "Fasting_Blood_Sugar": 0,
          "Max_Heart_Rate": 109,
          "Serum_Cholesterol": 266
         },
         {
          "Age": 50,
          "Chest_Pain_Type": 3,
          "Diagnosis": true,
          "Fasting_Blood_Sugar": 0,
          "Max_Heart_Rate": 163,
          "Serum_Cholesterol": 233
         },
         {
          "Age": 41,
          "Chest_Pain_Type": 4,
          "Diagnosis": true,
          "Fasting_Blood_Sugar": 0,
          "Max_Heart_Rate": 158,
          "Serum_Cholesterol": 172
         },
         {
          "Age": 54,
          "Chest_Pain_Type": 3,
          "Diagnosis": false,
          "Fasting_Blood_Sugar": 0,
          "Max_Heart_Rate": 152,
          "Serum_Cholesterol": 273
         },
         {
          "Age": 51,
          "Chest_Pain_Type": 1,
          "Diagnosis": false,
          "Fasting_Blood_Sugar": 0,
          "Max_Heart_Rate": 125,
          "Serum_Cholesterol": 213
         },
         {
          "Age": 51,
          "Chest_Pain_Type": 4,
          "Diagnosis": true,
          "Fasting_Blood_Sugar": 0,
          "Max_Heart_Rate": 142,
          "Serum_Cholesterol": 305
         },
         {
          "Age": 46,
          "Chest_Pain_Type": 3,
          "Diagnosis": false,
          "Fasting_Blood_Sugar": 0,
          "Max_Heart_Rate": 160,
          "Serum_Cholesterol": 177
         },
         {
          "Age": 58,
          "Chest_Pain_Type": 4,
          "Diagnosis": true,
          "Fasting_Blood_Sugar": 0,
          "Max_Heart_Rate": 131,
          "Serum_Cholesterol": 216
         },
         {
          "Age": 54,
          "Chest_Pain_Type": 3,
          "Diagnosis": false,
          "Fasting_Blood_Sugar": 1,
          "Max_Heart_Rate": 170,
          "Serum_Cholesterol": 304
         },
         {
          "Age": 54,
          "Chest_Pain_Type": 4,
          "Diagnosis": true,
          "Fasting_Blood_Sugar": 0,
          "Max_Heart_Rate": 113,
          "Serum_Cholesterol": 188
         },
         {
          "Age": 60,
          "Chest_Pain_Type": 4,
          "Diagnosis": true,
          "Fasting_Blood_Sugar": 0,
          "Max_Heart_Rate": 142,
          "Serum_Cholesterol": 282
         },
         {
          "Age": 60,
          "Chest_Pain_Type": 3,
          "Diagnosis": true,
          "Fasting_Blood_Sugar": 0,
          "Max_Heart_Rate": 155,
          "Serum_Cholesterol": 185
         },
         {
          "Age": 54,
          "Chest_Pain_Type": 3,
          "Diagnosis": false,
          "Fasting_Blood_Sugar": 0,
          "Max_Heart_Rate": 165,
          "Serum_Cholesterol": 232
         },
         {
          "Age": 59,
          "Chest_Pain_Type": 4,
          "Diagnosis": true,
          "Fasting_Blood_Sugar": 0,
          "Max_Heart_Rate": 140,
          "Serum_Cholesterol": 326
         },
         {
          "Age": 46,
          "Chest_Pain_Type": 3,
          "Diagnosis": true,
          "Fasting_Blood_Sugar": 0,
          "Max_Heart_Rate": 147,
          "Serum_Cholesterol": 231
         },
         {
          "Age": 65,
          "Chest_Pain_Type": 3,
          "Diagnosis": false,
          "Fasting_Blood_Sugar": 0,
          "Max_Heart_Rate": 148,
          "Serum_Cholesterol": 269
         },
         {
          "Age": 67,
          "Chest_Pain_Type": 4,
          "Diagnosis": true,
          "Fasting_Blood_Sugar": 1,
          "Max_Heart_Rate": 163,
          "Serum_Cholesterol": 254
         },
         {
          "Age": 62,
          "Chest_Pain_Type": 4,
          "Diagnosis": true,
          "Fasting_Blood_Sugar": 0,
          "Max_Heart_Rate": 99,
          "Serum_Cholesterol": 267
         },
         {
          "Age": 65,
          "Chest_Pain_Type": 4,
          "Diagnosis": true,
          "Fasting_Blood_Sugar": 0,
          "Max_Heart_Rate": 158,
          "Serum_Cholesterol": 248
         },
         {
          "Age": 44,
          "Chest_Pain_Type": 4,
          "Diagnosis": true,
          "Fasting_Blood_Sugar": 0,
          "Max_Heart_Rate": 177,
          "Serum_Cholesterol": 197
         },
         {
          "Age": 65,
          "Chest_Pain_Type": 3,
          "Diagnosis": false,
          "Fasting_Blood_Sugar": 0,
          "Max_Heart_Rate": 151,
          "Serum_Cholesterol": 360
         },
         {
          "Age": 60,
          "Chest_Pain_Type": 4,
          "Diagnosis": true,
          "Fasting_Blood_Sugar": 0,
          "Max_Heart_Rate": 141,
          "Serum_Cholesterol": 258
         },
         {
          "Age": 51,
          "Chest_Pain_Type": 3,
          "Diagnosis": false,
          "Fasting_Blood_Sugar": 0,
          "Max_Heart_Rate": 142,
          "Serum_Cholesterol": 308
         },
         {
          "Age": 48,
          "Chest_Pain_Type": 2,
          "Diagnosis": false,
          "Fasting_Blood_Sugar": 0,
          "Max_Heart_Rate": 180,
          "Serum_Cholesterol": 245
         },
         {
          "Age": 58,
          "Chest_Pain_Type": 4,
          "Diagnosis": true,
          "Fasting_Blood_Sugar": 0,
          "Max_Heart_Rate": 111,
          "Serum_Cholesterol": 270
         },
         {
          "Age": 45,
          "Chest_Pain_Type": 4,
          "Diagnosis": false,
          "Fasting_Blood_Sugar": 0,
          "Max_Heart_Rate": 148,
          "Serum_Cholesterol": 208
         },
         {
          "Age": 53,
          "Chest_Pain_Type": 4,
          "Diagnosis": false,
          "Fasting_Blood_Sugar": 0,
          "Max_Heart_Rate": 143,
          "Serum_Cholesterol": 264
         },
         {
          "Age": 39,
          "Chest_Pain_Type": 3,
          "Diagnosis": false,
          "Fasting_Blood_Sugar": 0,
          "Max_Heart_Rate": 182,
          "Serum_Cholesterol": 321
         },
         {
          "Age": 68,
          "Chest_Pain_Type": 3,
          "Diagnosis": true,
          "Fasting_Blood_Sugar": 1,
          "Max_Heart_Rate": 150,
          "Serum_Cholesterol": 274
         },
         {
          "Age": 52,
          "Chest_Pain_Type": 2,
          "Diagnosis": false,
          "Fasting_Blood_Sugar": 0,
          "Max_Heart_Rate": 172,
          "Serum_Cholesterol": 325
         },
         {
          "Age": 44,
          "Chest_Pain_Type": 3,
          "Diagnosis": false,
          "Fasting_Blood_Sugar": 0,
          "Max_Heart_Rate": 180,
          "Serum_Cholesterol": 235
         },
         {
          "Age": 47,
          "Chest_Pain_Type": 3,
          "Diagnosis": false,
          "Fasting_Blood_Sugar": 0,
          "Max_Heart_Rate": 156,
          "Serum_Cholesterol": 257
         },
         {
          "Age": 53,
          "Chest_Pain_Type": 3,
          "Diagnosis": false,
          "Fasting_Blood_Sugar": 0,
          "Max_Heart_Rate": 115,
          "Serum_Cholesterol": 216
         },
         {
          "Age": 53,
          "Chest_Pain_Type": 4,
          "Diagnosis": false,
          "Fasting_Blood_Sugar": 0,
          "Max_Heart_Rate": 160,
          "Serum_Cholesterol": 234
         },
         {
          "Age": 51,
          "Chest_Pain_Type": 3,
          "Diagnosis": false,
          "Fasting_Blood_Sugar": 0,
          "Max_Heart_Rate": 149,
          "Serum_Cholesterol": 256
         },
         {
          "Age": 66,
          "Chest_Pain_Type": 4,
          "Diagnosis": false,
          "Fasting_Blood_Sugar": 0,
          "Max_Heart_Rate": 151,
          "Serum_Cholesterol": 302
         },
         {
          "Age": 62,
          "Chest_Pain_Type": 4,
          "Diagnosis": true,
          "Fasting_Blood_Sugar": 0,
          "Max_Heart_Rate": 145,
          "Serum_Cholesterol": 164
         },
         {
          "Age": 62,
          "Chest_Pain_Type": 3,
          "Diagnosis": false,
          "Fasting_Blood_Sugar": 0,
          "Max_Heart_Rate": 146,
          "Serum_Cholesterol": 231
         },
         {
          "Age": 44,
          "Chest_Pain_Type": 3,
          "Diagnosis": false,
          "Fasting_Blood_Sugar": 0,
          "Max_Heart_Rate": 175,
          "Serum_Cholesterol": 141
         },
         {
          "Age": 63,
          "Chest_Pain_Type": 3,
          "Diagnosis": false,
          "Fasting_Blood_Sugar": 0,
          "Max_Heart_Rate": 172,
          "Serum_Cholesterol": 252
         },
         {
          "Age": 52,
          "Chest_Pain_Type": 4,
          "Diagnosis": true,
          "Fasting_Blood_Sugar": 0,
          "Max_Heart_Rate": 161,
          "Serum_Cholesterol": 255
         },
         {
          "Age": 59,
          "Chest_Pain_Type": 4,
          "Diagnosis": true,
          "Fasting_Blood_Sugar": 0,
          "Max_Heart_Rate": 142,
          "Serum_Cholesterol": 239
         },
         {
          "Age": 60,
          "Chest_Pain_Type": 4,
          "Diagnosis": true,
          "Fasting_Blood_Sugar": 0,
          "Max_Heart_Rate": 157,
          "Serum_Cholesterol": 258
         },
         {
          "Age": 52,
          "Chest_Pain_Type": 2,
          "Diagnosis": false,
          "Fasting_Blood_Sugar": 0,
          "Max_Heart_Rate": 158,
          "Serum_Cholesterol": 201
         },
         {
          "Age": 48,
          "Chest_Pain_Type": 4,
          "Diagnosis": false,
          "Fasting_Blood_Sugar": 0,
          "Max_Heart_Rate": 186,
          "Serum_Cholesterol": 222
         },
         {
          "Age": 45,
          "Chest_Pain_Type": 4,
          "Diagnosis": false,
          "Fasting_Blood_Sugar": 0,
          "Max_Heart_Rate": 185,
          "Serum_Cholesterol": 260
         },
         {
          "Age": 34,
          "Chest_Pain_Type": 1,
          "Diagnosis": false,
          "Fasting_Blood_Sugar": 0,
          "Max_Heart_Rate": 174,
          "Serum_Cholesterol": 182
         },
         {
          "Age": 57,
          "Chest_Pain_Type": 4,
          "Diagnosis": false,
          "Fasting_Blood_Sugar": 0,
          "Max_Heart_Rate": 159,
          "Serum_Cholesterol": 303
         },
         {
          "Age": 71,
          "Chest_Pain_Type": 3,
          "Diagnosis": false,
          "Fasting_Blood_Sugar": 1,
          "Max_Heart_Rate": 130,
          "Serum_Cholesterol": 265
         },
         {
          "Age": 49,
          "Chest_Pain_Type": 3,
          "Diagnosis": true,
          "Fasting_Blood_Sugar": 0,
          "Max_Heart_Rate": 139,
          "Serum_Cholesterol": 188
         },
         {
          "Age": 54,
          "Chest_Pain_Type": 2,
          "Diagnosis": false,
          "Fasting_Blood_Sugar": 0,
          "Max_Heart_Rate": 156,
          "Serum_Cholesterol": 309
         },
         {
          "Age": 59,
          "Chest_Pain_Type": 4,
          "Diagnosis": true,
          "Fasting_Blood_Sugar": 0,
          "Max_Heart_Rate": 162,
          "Serum_Cholesterol": 177
         },
         {
          "Age": 57,
          "Chest_Pain_Type": 3,
          "Diagnosis": true,
          "Fasting_Blood_Sugar": 0,
          "Max_Heart_Rate": 150,
          "Serum_Cholesterol": 229
         },
         {
          "Age": 61,
          "Chest_Pain_Type": 4,
          "Diagnosis": true,
          "Fasting_Blood_Sugar": 0,
          "Max_Heart_Rate": 140,
          "Serum_Cholesterol": 260
         },
         {
          "Age": 39,
          "Chest_Pain_Type": 4,
          "Diagnosis": true,
          "Fasting_Blood_Sugar": 0,
          "Max_Heart_Rate": 140,
          "Serum_Cholesterol": 219
         },
         {
          "Age": 61,
          "Chest_Pain_Type": 4,
          "Diagnosis": true,
          "Fasting_Blood_Sugar": 0,
          "Max_Heart_Rate": 146,
          "Serum_Cholesterol": 307
         },
         {
          "Age": 56,
          "Chest_Pain_Type": 4,
          "Diagnosis": true,
          "Fasting_Blood_Sugar": 1,
          "Max_Heart_Rate": 144,
          "Serum_Cholesterol": 249
         },
         {
          "Age": 52,
          "Chest_Pain_Type": 1,
          "Diagnosis": false,
          "Fasting_Blood_Sugar": 0,
          "Max_Heart_Rate": 190,
          "Serum_Cholesterol": 186
         },
         {
          "Age": 43,
          "Chest_Pain_Type": 4,
          "Diagnosis": true,
          "Fasting_Blood_Sugar": 1,
          "Max_Heart_Rate": 136,
          "Serum_Cholesterol": 341
         },
         {
          "Age": 62,
          "Chest_Pain_Type": 3,
          "Diagnosis": true,
          "Fasting_Blood_Sugar": 0,
          "Max_Heart_Rate": 97,
          "Serum_Cholesterol": 263
         },
         {
          "Age": 41,
          "Chest_Pain_Type": 2,
          "Diagnosis": false,
          "Fasting_Blood_Sugar": 0,
          "Max_Heart_Rate": 132,
          "Serum_Cholesterol": 203
         },
         {
          "Age": 58,
          "Chest_Pain_Type": 3,
          "Diagnosis": false,
          "Fasting_Blood_Sugar": 1,
          "Max_Heart_Rate": 165,
          "Serum_Cholesterol": 211
         },
         {
          "Age": 35,
          "Chest_Pain_Type": 4,
          "Diagnosis": false,
          "Fasting_Blood_Sugar": 0,
          "Max_Heart_Rate": 182,
          "Serum_Cholesterol": 183
         },
         {
          "Age": 63,
          "Chest_Pain_Type": 4,
          "Diagnosis": true,
          "Fasting_Blood_Sugar": 1,
          "Max_Heart_Rate": 132,
          "Serum_Cholesterol": 330
         },
         {
          "Age": 65,
          "Chest_Pain_Type": 4,
          "Diagnosis": true,
          "Fasting_Blood_Sugar": 0,
          "Max_Heart_Rate": 127,
          "Serum_Cholesterol": 254
         },
         {
          "Age": 48,
          "Chest_Pain_Type": 4,
          "Diagnosis": true,
          "Fasting_Blood_Sugar": 1,
          "Max_Heart_Rate": 150,
          "Serum_Cholesterol": 256
         },
         {
          "Age": 63,
          "Chest_Pain_Type": 4,
          "Diagnosis": true,
          "Fasting_Blood_Sugar": 0,
          "Max_Heart_Rate": 154,
          "Serum_Cholesterol": 407
         },
         {
          "Age": 51,
          "Chest_Pain_Type": 3,
          "Diagnosis": false,
          "Fasting_Blood_Sugar": 0,
          "Max_Heart_Rate": 143,
          "Serum_Cholesterol": 222
         },
         {
          "Age": 55,
          "Chest_Pain_Type": 4,
          "Diagnosis": true,
          "Fasting_Blood_Sugar": 0,
          "Max_Heart_Rate": 111,
          "Serum_Cholesterol": 217
         },
         {
          "Age": 65,
          "Chest_Pain_Type": 1,
          "Diagnosis": true,
          "Fasting_Blood_Sugar": 1,
          "Max_Heart_Rate": 174,
          "Serum_Cholesterol": 282
         },
         {
          "Age": 45,
          "Chest_Pain_Type": 2,
          "Diagnosis": false,
          "Fasting_Blood_Sugar": 0,
          "Max_Heart_Rate": 175,
          "Serum_Cholesterol": 234
         },
         {
          "Age": 56,
          "Chest_Pain_Type": 4,
          "Diagnosis": true,
          "Fasting_Blood_Sugar": 1,
          "Max_Heart_Rate": 133,
          "Serum_Cholesterol": 288
         },
         {
          "Age": 54,
          "Chest_Pain_Type": 4,
          "Diagnosis": true,
          "Fasting_Blood_Sugar": 0,
          "Max_Heart_Rate": 126,
          "Serum_Cholesterol": 239
         },
         {
          "Age": 44,
          "Chest_Pain_Type": 2,
          "Diagnosis": false,
          "Fasting_Blood_Sugar": 0,
          "Max_Heart_Rate": 170,
          "Serum_Cholesterol": 220
         },
         {
          "Age": 62,
          "Chest_Pain_Type": 4,
          "Diagnosis": false,
          "Fasting_Blood_Sugar": 0,
          "Max_Heart_Rate": 163,
          "Serum_Cholesterol": 209
         },
         {
          "Age": 54,
          "Chest_Pain_Type": 3,
          "Diagnosis": false,
          "Fasting_Blood_Sugar": 0,
          "Max_Heart_Rate": 147,
          "Serum_Cholesterol": 258
         },
         {
          "Age": 51,
          "Chest_Pain_Type": 3,
          "Diagnosis": false,
          "Fasting_Blood_Sugar": 0,
          "Max_Heart_Rate": 154,
          "Serum_Cholesterol": 227
         },
         {
          "Age": 29,
          "Chest_Pain_Type": 2,
          "Diagnosis": false,
          "Fasting_Blood_Sugar": 0,
          "Max_Heart_Rate": 202,
          "Serum_Cholesterol": 204
         },
         {
          "Age": 51,
          "Chest_Pain_Type": 4,
          "Diagnosis": false,
          "Fasting_Blood_Sugar": 0,
          "Max_Heart_Rate": 186,
          "Serum_Cholesterol": 261
         },
         {
          "Age": 43,
          "Chest_Pain_Type": 3,
          "Diagnosis": false,
          "Fasting_Blood_Sugar": 0,
          "Max_Heart_Rate": 165,
          "Serum_Cholesterol": 213
         },
         {
          "Age": 55,
          "Chest_Pain_Type": 2,
          "Diagnosis": false,
          "Fasting_Blood_Sugar": 0,
          "Max_Heart_Rate": 161,
          "Serum_Cholesterol": 250
         },
         {
          "Age": 70,
          "Chest_Pain_Type": 4,
          "Diagnosis": true,
          "Fasting_Blood_Sugar": 0,
          "Max_Heart_Rate": 125,
          "Serum_Cholesterol": 174
         },
         {
          "Age": 62,
          "Chest_Pain_Type": 2,
          "Diagnosis": true,
          "Fasting_Blood_Sugar": 0,
          "Max_Heart_Rate": 103,
          "Serum_Cholesterol": 281
         },
         {
          "Age": 35,
          "Chest_Pain_Type": 4,
          "Diagnosis": true,
          "Fasting_Blood_Sugar": 0,
          "Max_Heart_Rate": 130,
          "Serum_Cholesterol": 198
         },
         {
          "Age": 51,
          "Chest_Pain_Type": 3,
          "Diagnosis": false,
          "Fasting_Blood_Sugar": 1,
          "Max_Heart_Rate": 166,
          "Serum_Cholesterol": 245
         },
         {
          "Age": 59,
          "Chest_Pain_Type": 2,
          "Diagnosis": false,
          "Fasting_Blood_Sugar": 0,
          "Max_Heart_Rate": 164,
          "Serum_Cholesterol": 221
         },
         {
          "Age": 59,
          "Chest_Pain_Type": 1,
          "Diagnosis": true,
          "Fasting_Blood_Sugar": 0,
          "Max_Heart_Rate": 159,
          "Serum_Cholesterol": 288
         },
         {
          "Age": 52,
          "Chest_Pain_Type": 2,
          "Diagnosis": false,
          "Fasting_Blood_Sugar": 1,
          "Max_Heart_Rate": 184,
          "Serum_Cholesterol": 205
         },
         {
          "Age": 64,
          "Chest_Pain_Type": 3,
          "Diagnosis": true,
          "Fasting_Blood_Sugar": 0,
          "Max_Heart_Rate": 131,
          "Serum_Cholesterol": 309
         },
         {
          "Age": 58,
          "Chest_Pain_Type": 3,
          "Diagnosis": false,
          "Fasting_Blood_Sugar": 0,
          "Max_Heart_Rate": 154,
          "Serum_Cholesterol": 240
         },
         {
          "Age": 47,
          "Chest_Pain_Type": 3,
          "Diagnosis": true,
          "Fasting_Blood_Sugar": 0,
          "Max_Heart_Rate": 152,
          "Serum_Cholesterol": 243
         },
         {
          "Age": 57,
          "Chest_Pain_Type": 4,
          "Diagnosis": true,
          "Fasting_Blood_Sugar": 1,
          "Max_Heart_Rate": 124,
          "Serum_Cholesterol": 289
         },
         {
          "Age": 41,
          "Chest_Pain_Type": 3,
          "Diagnosis": false,
          "Fasting_Blood_Sugar": 0,
          "Max_Heart_Rate": 179,
          "Serum_Cholesterol": 250
         },
         {
          "Age": 45,
          "Chest_Pain_Type": 2,
          "Diagnosis": false,
          "Fasting_Blood_Sugar": 0,
          "Max_Heart_Rate": 170,
          "Serum_Cholesterol": 308
         },
         {
          "Age": 60,
          "Chest_Pain_Type": 3,
          "Diagnosis": false,
          "Fasting_Blood_Sugar": 0,
          "Max_Heart_Rate": 160,
          "Serum_Cholesterol": 318
         },
         {
          "Age": 52,
          "Chest_Pain_Type": 1,
          "Diagnosis": false,
          "Fasting_Blood_Sugar": 1,
          "Max_Heart_Rate": 178,
          "Serum_Cholesterol": 298
         },
         {
          "Age": 42,
          "Chest_Pain_Type": 4,
          "Diagnosis": false,
          "Fasting_Blood_Sugar": 0,
          "Max_Heart_Rate": 122,
          "Serum_Cholesterol": 265
         },
         {
          "Age": 67,
          "Chest_Pain_Type": 3,
          "Diagnosis": false,
          "Fasting_Blood_Sugar": 0,
          "Max_Heart_Rate": 160,
          "Serum_Cholesterol": 564
         },
         {
          "Age": 55,
          "Chest_Pain_Type": 4,
          "Diagnosis": true,
          "Fasting_Blood_Sugar": 0,
          "Max_Heart_Rate": 145,
          "Serum_Cholesterol": 289
         },
         {
          "Age": 64,
          "Chest_Pain_Type": 4,
          "Diagnosis": true,
          "Fasting_Blood_Sugar": 0,
          "Max_Heart_Rate": 96,
          "Serum_Cholesterol": 246
         },
         {
          "Age": 70,
          "Chest_Pain_Type": 4,
          "Diagnosis": true,
          "Fasting_Blood_Sugar": 0,
          "Max_Heart_Rate": 109,
          "Serum_Cholesterol": 322
         },
         {
          "Age": 51,
          "Chest_Pain_Type": 4,
          "Diagnosis": true,
          "Fasting_Blood_Sugar": 0,
          "Max_Heart_Rate": 173,
          "Serum_Cholesterol": 299
         },
         {
          "Age": 58,
          "Chest_Pain_Type": 4,
          "Diagnosis": true,
          "Fasting_Blood_Sugar": 0,
          "Max_Heart_Rate": 171,
          "Serum_Cholesterol": 300
         },
         {
          "Age": 60,
          "Chest_Pain_Type": 4,
          "Diagnosis": true,
          "Fasting_Blood_Sugar": 0,
          "Max_Heart_Rate": 170,
          "Serum_Cholesterol": 293
         },
         {
          "Age": 68,
          "Chest_Pain_Type": 3,
          "Diagnosis": false,
          "Fasting_Blood_Sugar": 0,
          "Max_Heart_Rate": 151,
          "Serum_Cholesterol": 277
         },
         {
          "Age": 46,
          "Chest_Pain_Type": 2,
          "Diagnosis": false,
          "Fasting_Blood_Sugar": 1,
          "Max_Heart_Rate": 156,
          "Serum_Cholesterol": 197
         },
         {
          "Age": 77,
          "Chest_Pain_Type": 4,
          "Diagnosis": true,
          "Fasting_Blood_Sugar": 0,
          "Max_Heart_Rate": 162,
          "Serum_Cholesterol": 304
         },
         {
          "Age": 54,
          "Chest_Pain_Type": 3,
          "Diagnosis": false,
          "Fasting_Blood_Sugar": 0,
          "Max_Heart_Rate": 158,
          "Serum_Cholesterol": 214
         },
         {
          "Age": 58,
          "Chest_Pain_Type": 4,
          "Diagnosis": false,
          "Fasting_Blood_Sugar": 0,
          "Max_Heart_Rate": 122,
          "Serum_Cholesterol": 248
         },
         {
          "Age": 48,
          "Chest_Pain_Type": 3,
          "Diagnosis": false,
          "Fasting_Blood_Sugar": 1,
          "Max_Heart_Rate": 175,
          "Serum_Cholesterol": 255
         },
         {
          "Age": 57,
          "Chest_Pain_Type": 4,
          "Diagnosis": false,
          "Fasting_Blood_Sugar": 0,
          "Max_Heart_Rate": 168,
          "Serum_Cholesterol": 207
         },
         {
          "Age": 52,
          "Chest_Pain_Type": 3,
          "Diagnosis": false,
          "Fasting_Blood_Sugar": 0,
          "Max_Heart_Rate": 169,
          "Serum_Cholesterol": 223
         },
         {
          "Age": 54,
          "Chest_Pain_Type": 2,
          "Diagnosis": false,
          "Fasting_Blood_Sugar": 1,
          "Max_Heart_Rate": 159,
          "Serum_Cholesterol": 288
         },
         {
          "Age": 35,
          "Chest_Pain_Type": 4,
          "Diagnosis": true,
          "Fasting_Blood_Sugar": 0,
          "Max_Heart_Rate": 156,
          "Serum_Cholesterol": 282
         },
         {
          "Age": 45,
          "Chest_Pain_Type": 2,
          "Diagnosis": false,
          "Fasting_Blood_Sugar": 0,
          "Max_Heart_Rate": 138,
          "Serum_Cholesterol": 160
         },
         {
          "Age": 70,
          "Chest_Pain_Type": 3,
          "Diagnosis": true,
          "Fasting_Blood_Sugar": 0,
          "Max_Heart_Rate": 112,
          "Serum_Cholesterol": 269
         },
         {
          "Age": 53,
          "Chest_Pain_Type": 4,
          "Diagnosis": false,
          "Fasting_Blood_Sugar": 0,
          "Max_Heart_Rate": 111,
          "Serum_Cholesterol": 226
         },
         {
          "Age": 59,
          "Chest_Pain_Type": 4,
          "Diagnosis": true,
          "Fasting_Blood_Sugar": 0,
          "Max_Heart_Rate": 143,
          "Serum_Cholesterol": 249
         },
         {
          "Age": 62,
          "Chest_Pain_Type": 4,
          "Diagnosis": false,
          "Fasting_Blood_Sugar": 0,
          "Max_Heart_Rate": 157,
          "Serum_Cholesterol": 394
         },
         {
          "Age": 64,
          "Chest_Pain_Type": 4,
          "Diagnosis": true,
          "Fasting_Blood_Sugar": 0,
          "Max_Heart_Rate": 132,
          "Serum_Cholesterol": 212
         },
         {
          "Age": 57,
          "Chest_Pain_Type": 4,
          "Diagnosis": true,
          "Fasting_Blood_Sugar": 0,
          "Max_Heart_Rate": 88,
          "Serum_Cholesterol": 274
         },
         {
          "Age": 52,
          "Chest_Pain_Type": 4,
          "Diagnosis": false,
          "Fasting_Blood_Sugar": 1,
          "Max_Heart_Rate": 147,
          "Serum_Cholesterol": 233
         },
         {
          "Age": 56,
          "Chest_Pain_Type": 4,
          "Diagnosis": true,
          "Fasting_Blood_Sugar": 0,
          "Max_Heart_Rate": 105,
          "Serum_Cholesterol": 184
         },
         {
          "Age": 43,
          "Chest_Pain_Type": 3,
          "Diagnosis": false,
          "Fasting_Blood_Sugar": 0,
          "Max_Heart_Rate": 162,
          "Serum_Cholesterol": 315
         },
         {
          "Age": 53,
          "Chest_Pain_Type": 3,
          "Diagnosis": false,
          "Fasting_Blood_Sugar": 1,
          "Max_Heart_Rate": 173,
          "Serum_Cholesterol": 246
         },
         {
          "Age": 48,
          "Chest_Pain_Type": 4,
          "Diagnosis": true,
          "Fasting_Blood_Sugar": 0,
          "Max_Heart_Rate": 166,
          "Serum_Cholesterol": 274
         },
         {
          "Age": 56,
          "Chest_Pain_Type": 4,
          "Diagnosis": true,
          "Fasting_Blood_Sugar": 0,
          "Max_Heart_Rate": 150,
          "Serum_Cholesterol": 409
         },
         {
          "Age": 42,
          "Chest_Pain_Type": 1,
          "Diagnosis": false,
          "Fasting_Blood_Sugar": 0,
          "Max_Heart_Rate": 178,
          "Serum_Cholesterol": 244
         },
         {
          "Age": 59,
          "Chest_Pain_Type": 1,
          "Diagnosis": false,
          "Fasting_Blood_Sugar": 0,
          "Max_Heart_Rate": 145,
          "Serum_Cholesterol": 270
         },
         {
          "Age": 60,
          "Chest_Pain_Type": 4,
          "Diagnosis": true,
          "Fasting_Blood_Sugar": 0,
          "Max_Heart_Rate": 161,
          "Serum_Cholesterol": 305
         },
         {
          "Age": 63,
          "Chest_Pain_Type": 2,
          "Diagnosis": false,
          "Fasting_Blood_Sugar": 0,
          "Max_Heart_Rate": 179,
          "Serum_Cholesterol": 195
         },
         {
          "Age": 42,
          "Chest_Pain_Type": 3,
          "Diagnosis": false,
          "Fasting_Blood_Sugar": 1,
          "Max_Heart_Rate": 194,
          "Serum_Cholesterol": 240
         },
         {
          "Age": 66,
          "Chest_Pain_Type": 2,
          "Diagnosis": true,
          "Fasting_Blood_Sugar": 0,
          "Max_Heart_Rate": 120,
          "Serum_Cholesterol": 246
         },
         {
          "Age": 54,
          "Chest_Pain_Type": 2,
          "Diagnosis": true,
          "Fasting_Blood_Sugar": 0,
          "Max_Heart_Rate": 195,
          "Serum_Cholesterol": 283
         },
         {
          "Age": 69,
          "Chest_Pain_Type": 3,
          "Diagnosis": true,
          "Fasting_Blood_Sugar": 0,
          "Max_Heart_Rate": 146,
          "Serum_Cholesterol": 254
         },
         {
          "Age": 50,
          "Chest_Pain_Type": 3,
          "Diagnosis": false,
          "Fasting_Blood_Sugar": 0,
          "Max_Heart_Rate": 163,
          "Serum_Cholesterol": 196
         },
         {
          "Age": 51,
          "Chest_Pain_Type": 4,
          "Diagnosis": true,
          "Fasting_Blood_Sugar": 0,
          "Max_Heart_Rate": 122,
          "Serum_Cholesterol": 298
         },
         {
          "Age": 43,
          "Chest_Pain_Type": 4,
          "Diagnosis": true,
          "Fasting_Blood_Sugar": 1,
          "Max_Heart_Rate": 143,
          "Serum_Cholesterol": 247
         },
         {
          "Age": 62,
          "Chest_Pain_Type": 4,
          "Diagnosis": true,
          "Fasting_Blood_Sugar": 1,
          "Max_Heart_Rate": 106,
          "Serum_Cholesterol": 294
         },
         {
          "Age": 68,
          "Chest_Pain_Type": 3,
          "Diagnosis": false,
          "Fasting_Blood_Sugar": 0,
          "Max_Heart_Rate": 115,
          "Serum_Cholesterol": 211
         },
         {
          "Age": 67,
          "Chest_Pain_Type": 4,
          "Diagnosis": true,
          "Fasting_Blood_Sugar": 0,
          "Max_Heart_Rate": 125,
          "Serum_Cholesterol": 299
         },
         {
          "Age": 69,
          "Chest_Pain_Type": 1,
          "Diagnosis": false,
          "Fasting_Blood_Sugar": 1,
          "Max_Heart_Rate": 131,
          "Serum_Cholesterol": 234
         },
         {
          "Age": 45,
          "Chest_Pain_Type": 4,
          "Diagnosis": false,
          "Fasting_Blood_Sugar": 0,
          "Max_Heart_Rate": 152,
          "Serum_Cholesterol": 236
         },
         {
          "Age": 50,
          "Chest_Pain_Type": 2,
          "Diagnosis": false,
          "Fasting_Blood_Sugar": 0,
          "Max_Heart_Rate": 162,
          "Serum_Cholesterol": 244
         },
         {
          "Age": 59,
          "Chest_Pain_Type": 1,
          "Diagnosis": true,
          "Fasting_Blood_Sugar": 0,
          "Max_Heart_Rate": 125,
          "Serum_Cholesterol": 273
         },
         {
          "Age": 50,
          "Chest_Pain_Type": 4,
          "Diagnosis": false,
          "Fasting_Blood_Sugar": 0,
          "Max_Heart_Rate": 159,
          "Serum_Cholesterol": 254
         },
         {
          "Age": 64,
          "Chest_Pain_Type": 4,
          "Diagnosis": false,
          "Fasting_Blood_Sugar": 0,
          "Max_Heart_Rate": 154,
          "Serum_Cholesterol": 325
         },
         {
          "Age": 57,
          "Chest_Pain_Type": 3,
          "Diagnosis": false,
          "Fasting_Blood_Sugar": 1,
          "Max_Heart_Rate": 173,
          "Serum_Cholesterol": 126
         },
         {
          "Age": 64,
          "Chest_Pain_Type": 3,
          "Diagnosis": false,
          "Fasting_Blood_Sugar": 0,
          "Max_Heart_Rate": 133,
          "Serum_Cholesterol": 313
         },
         {
          "Age": 43,
          "Chest_Pain_Type": 4,
          "Diagnosis": false,
          "Fasting_Blood_Sugar": 0,
          "Max_Heart_Rate": 161,
          "Serum_Cholesterol": 211
         },
         {
          "Age": 45,
          "Chest_Pain_Type": 4,
          "Diagnosis": true,
          "Fasting_Blood_Sugar": 0,
          "Max_Heart_Rate": 147,
          "Serum_Cholesterol": 309
         },
         {
          "Age": 58,
          "Chest_Pain_Type": 4,
          "Diagnosis": true,
          "Fasting_Blood_Sugar": 0,
          "Max_Heart_Rate": 130,
          "Serum_Cholesterol": 259
         },
         {
          "Age": 50,
          "Chest_Pain_Type": 4,
          "Diagnosis": true,
          "Fasting_Blood_Sugar": 0,
          "Max_Heart_Rate": 126,
          "Serum_Cholesterol": 200
         },
         {
          "Age": 55,
          "Chest_Pain_Type": 2,
          "Diagnosis": false,
          "Fasting_Blood_Sugar": 0,
          "Max_Heart_Rate": 155,
          "Serum_Cholesterol": 262
         },
         {
          "Age": 62,
          "Chest_Pain_Type": 4,
          "Diagnosis": true,
          "Fasting_Blood_Sugar": 0,
          "Max_Heart_Rate": 154,
          "Serum_Cholesterol": 244
         },
         {
          "Age": 37,
          "Chest_Pain_Type": 3,
          "Diagnosis": false,
          "Fasting_Blood_Sugar": 0,
          "Max_Heart_Rate": 170,
          "Serum_Cholesterol": 215
         },
         {
          "Age": 38,
          "Chest_Pain_Type": 1,
          "Diagnosis": true,
          "Fasting_Blood_Sugar": 0,
          "Max_Heart_Rate": 182,
          "Serum_Cholesterol": 231
         },
         {
          "Age": 41,
          "Chest_Pain_Type": 3,
          "Diagnosis": false,
          "Fasting_Blood_Sugar": 0,
          "Max_Heart_Rate": 168,
          "Serum_Cholesterol": 214
         },
         {
          "Age": 66,
          "Chest_Pain_Type": 4,
          "Diagnosis": true,
          "Fasting_Blood_Sugar": 1,
          "Max_Heart_Rate": 165,
          "Serum_Cholesterol": 228
         },
         {
          "Age": 52,
          "Chest_Pain_Type": 4,
          "Diagnosis": true,
          "Fasting_Blood_Sugar": 0,
          "Max_Heart_Rate": 160,
          "Serum_Cholesterol": 230
         },
         {
          "Age": 56,
          "Chest_Pain_Type": 1,
          "Diagnosis": false,
          "Fasting_Blood_Sugar": 0,
          "Max_Heart_Rate": 162,
          "Serum_Cholesterol": 193
         },
         {
          "Age": 46,
          "Chest_Pain_Type": 2,
          "Diagnosis": false,
          "Fasting_Blood_Sugar": 0,
          "Max_Heart_Rate": 172,
          "Serum_Cholesterol": 204
         },
         {
          "Age": 46,
          "Chest_Pain_Type": 4,
          "Diagnosis": false,
          "Fasting_Blood_Sugar": 0,
          "Max_Heart_Rate": 152,
          "Serum_Cholesterol": 243
         },
         {
          "Age": 64,
          "Chest_Pain_Type": 4,
          "Diagnosis": false,
          "Fasting_Blood_Sugar": 0,
          "Max_Heart_Rate": 122,
          "Serum_Cholesterol": 303
         },
         {
          "Age": 59,
          "Chest_Pain_Type": 4,
          "Diagnosis": false,
          "Fasting_Blood_Sugar": 0,
          "Max_Heart_Rate": 182,
          "Serum_Cholesterol": 271
         },
         {
          "Age": 41,
          "Chest_Pain_Type": 3,
          "Diagnosis": false,
          "Fasting_Blood_Sugar": 0,
          "Max_Heart_Rate": 172,
          "Serum_Cholesterol": 268
         },
         {
          "Age": 54,
          "Chest_Pain_Type": 3,
          "Diagnosis": false,
          "Fasting_Blood_Sugar": 0,
          "Max_Heart_Rate": 167,
          "Serum_Cholesterol": 267
         },
         {
          "Age": 39,
          "Chest_Pain_Type": 3,
          "Diagnosis": false,
          "Fasting_Blood_Sugar": 0,
          "Max_Heart_Rate": 179,
          "Serum_Cholesterol": 199
         },
         {
          "Age": 53,
          "Chest_Pain_Type": 4,
          "Diagnosis": true,
          "Fasting_Blood_Sugar": 0,
          "Max_Heart_Rate": 95,
          "Serum_Cholesterol": 282
         },
         {
          "Age": 63,
          "Chest_Pain_Type": 4,
          "Diagnosis": true,
          "Fasting_Blood_Sugar": 0,
          "Max_Heart_Rate": 169,
          "Serum_Cholesterol": 269
         },
         {
          "Age": 34,
          "Chest_Pain_Type": 2,
          "Diagnosis": false,
          "Fasting_Blood_Sugar": 0,
          "Max_Heart_Rate": 192,
          "Serum_Cholesterol": 210
         },
         {
          "Age": 47,
          "Chest_Pain_Type": 4,
          "Diagnosis": false,
          "Fasting_Blood_Sugar": 0,
          "Max_Heart_Rate": 143,
          "Serum_Cholesterol": 204
         },
         {
          "Age": 67,
          "Chest_Pain_Type": 3,
          "Diagnosis": false,
          "Fasting_Blood_Sugar": 0,
          "Max_Heart_Rate": 172,
          "Serum_Cholesterol": 277
         },
         {
          "Age": 54,
          "Chest_Pain_Type": 4,
          "Diagnosis": true,
          "Fasting_Blood_Sugar": 0,
          "Max_Heart_Rate": 108,
          "Serum_Cholesterol": 206
         },
         {
          "Age": 66,
          "Chest_Pain_Type": 4,
          "Diagnosis": true,
          "Fasting_Blood_Sugar": 0,
          "Max_Heart_Rate": 132,
          "Serum_Cholesterol": 212
         },
         {
          "Age": 52,
          "Chest_Pain_Type": 3,
          "Diagnosis": false,
          "Fasting_Blood_Sugar": 0,
          "Max_Heart_Rate": 169,
          "Serum_Cholesterol": 196
         },
         {
          "Age": 55,
          "Chest_Pain_Type": 4,
          "Diagnosis": true,
          "Fasting_Blood_Sugar": 0,
          "Max_Heart_Rate": 117,
          "Serum_Cholesterol": 327
         },
         {
          "Age": 49,
          "Chest_Pain_Type": 3,
          "Diagnosis": true,
          "Fasting_Blood_Sugar": 0,
          "Max_Heart_Rate": 126,
          "Serum_Cholesterol": 149
         },
         {
          "Age": 74,
          "Chest_Pain_Type": 2,
          "Diagnosis": false,
          "Fasting_Blood_Sugar": 0,
          "Max_Heart_Rate": 121,
          "Serum_Cholesterol": 269
         },
         {
          "Age": 54,
          "Chest_Pain_Type": 3,
          "Diagnosis": false,
          "Fasting_Blood_Sugar": 0,
          "Max_Heart_Rate": 163,
          "Serum_Cholesterol": 201
         },
         {
          "Age": 54,
          "Chest_Pain_Type": 4,
          "Diagnosis": true,
          "Fasting_Blood_Sugar": 0,
          "Max_Heart_Rate": 116,
          "Serum_Cholesterol": 286
         },
         {
          "Age": 56,
          "Chest_Pain_Type": 4,
          "Diagnosis": true,
          "Fasting_Blood_Sugar": 1,
          "Max_Heart_Rate": 103,
          "Serum_Cholesterol": 283
         },
         {
          "Age": 46,
          "Chest_Pain_Type": 4,
          "Diagnosis": true,
          "Fasting_Blood_Sugar": 0,
          "Max_Heart_Rate": 144,
          "Serum_Cholesterol": 249
         },
         {
          "Age": 49,
          "Chest_Pain_Type": 2,
          "Diagnosis": false,
          "Fasting_Blood_Sugar": 0,
          "Max_Heart_Rate": 162,
          "Serum_Cholesterol": 271
         },
         {
          "Age": 42,
          "Chest_Pain_Type": 2,
          "Diagnosis": false,
          "Fasting_Blood_Sugar": 0,
          "Max_Heart_Rate": 162,
          "Serum_Cholesterol": 295
         },
         {
          "Age": 41,
          "Chest_Pain_Type": 2,
          "Diagnosis": false,
          "Fasting_Blood_Sugar": 0,
          "Max_Heart_Rate": 153,
          "Serum_Cholesterol": 235
         },
         {
          "Age": 41,
          "Chest_Pain_Type": 2,
          "Diagnosis": false,
          "Fasting_Blood_Sugar": 0,
          "Max_Heart_Rate": 163,
          "Serum_Cholesterol": 306
         },
         {
          "Age": 49,
          "Chest_Pain_Type": 4,
          "Diagnosis": false,
          "Fasting_Blood_Sugar": 0,
          "Max_Heart_Rate": 163,
          "Serum_Cholesterol": 269
         },
         {
          "Age": 61,
          "Chest_Pain_Type": 1,
          "Diagnosis": true,
          "Fasting_Blood_Sugar": 0,
          "Max_Heart_Rate": 145,
          "Serum_Cholesterol": 234
         },
         {
          "Age": 60,
          "Chest_Pain_Type": 3,
          "Diagnosis": false,
          "Fasting_Blood_Sugar": 1,
          "Max_Heart_Rate": 96,
          "Serum_Cholesterol": 178
         },
         {
          "Age": 67,
          "Chest_Pain_Type": 4,
          "Diagnosis": true,
          "Fasting_Blood_Sugar": 0,
          "Max_Heart_Rate": 71,
          "Serum_Cholesterol": 237
         },
         {
          "Age": 58,
          "Chest_Pain_Type": 4,
          "Diagnosis": true,
          "Fasting_Blood_Sugar": 0,
          "Max_Heart_Rate": 156,
          "Serum_Cholesterol": 234
         },
         {
          "Age": 47,
          "Chest_Pain_Type": 4,
          "Diagnosis": true,
          "Fasting_Blood_Sugar": 0,
          "Max_Heart_Rate": 118,
          "Serum_Cholesterol": 275
         },
         {
          "Age": 52,
          "Chest_Pain_Type": 4,
          "Diagnosis": true,
          "Fasting_Blood_Sugar": 0,
          "Max_Heart_Rate": 168,
          "Serum_Cholesterol": 212
         },
         {
          "Age": 62,
          "Chest_Pain_Type": 2,
          "Diagnosis": false,
          "Fasting_Blood_Sugar": 1,
          "Max_Heart_Rate": 140,
          "Serum_Cholesterol": 208
         },
         {
          "Age": 57,
          "Chest_Pain_Type": 4,
          "Diagnosis": false,
          "Fasting_Blood_Sugar": 0,
          "Max_Heart_Rate": 126,
          "Serum_Cholesterol": 201
         },
         {
          "Age": 58,
          "Chest_Pain_Type": 4,
          "Diagnosis": true,
          "Fasting_Blood_Sugar": 0,
          "Max_Heart_Rate": 105,
          "Serum_Cholesterol": 218
         },
         {
          "Age": 64,
          "Chest_Pain_Type": 4,
          "Diagnosis": false,
          "Fasting_Blood_Sugar": 0,
          "Max_Heart_Rate": 105,
          "Serum_Cholesterol": 263
         },
         {
          "Age": 51,
          "Chest_Pain_Type": 3,
          "Diagnosis": false,
          "Fasting_Blood_Sugar": 0,
          "Max_Heart_Rate": 157,
          "Serum_Cholesterol": 295
         },
         {
          "Age": 43,
          "Chest_Pain_Type": 4,
          "Diagnosis": false,
          "Fasting_Blood_Sugar": 0,
          "Max_Heart_Rate": 181,
          "Serum_Cholesterol": 303
         },
         {
          "Age": 42,
          "Chest_Pain_Type": 3,
          "Diagnosis": false,
          "Fasting_Blood_Sugar": 0,
          "Max_Heart_Rate": 173,
          "Serum_Cholesterol": 209
         },
         {
          "Age": 67,
          "Chest_Pain_Type": 4,
          "Diagnosis": false,
          "Fasting_Blood_Sugar": 0,
          "Max_Heart_Rate": 142,
          "Serum_Cholesterol": 223
         },
         {
          "Age": 76,
          "Chest_Pain_Type": 3,
          "Diagnosis": false,
          "Fasting_Blood_Sugar": 0,
          "Max_Heart_Rate": 116,
          "Serum_Cholesterol": 197
         },
         {
          "Age": 70,
          "Chest_Pain_Type": 2,
          "Diagnosis": false,
          "Fasting_Blood_Sugar": 0,
          "Max_Heart_Rate": 143,
          "Serum_Cholesterol": 245
         },
         {
          "Age": 57,
          "Chest_Pain_Type": 2,
          "Diagnosis": true,
          "Fasting_Blood_Sugar": 0,
          "Max_Heart_Rate": 141,
          "Serum_Cholesterol": 261
         },
         {
          "Age": 44,
          "Chest_Pain_Type": 3,
          "Diagnosis": false,
          "Fasting_Blood_Sugar": 0,
          "Max_Heart_Rate": 149,
          "Serum_Cholesterol": 242
         },
         {
          "Age": 58,
          "Chest_Pain_Type": 2,
          "Diagnosis": true,
          "Fasting_Blood_Sugar": 1,
          "Max_Heart_Rate": 152,
          "Serum_Cholesterol": 319
         },
         {
          "Age": 60,
          "Chest_Pain_Type": 1,
          "Diagnosis": false,
          "Fasting_Blood_Sugar": 0,
          "Max_Heart_Rate": 171,
          "Serum_Cholesterol": 240
         },
         {
          "Age": 44,
          "Chest_Pain_Type": 3,
          "Diagnosis": false,
          "Fasting_Blood_Sugar": 0,
          "Max_Heart_Rate": 169,
          "Serum_Cholesterol": 226
         },
         {
          "Age": 61,
          "Chest_Pain_Type": 4,
          "Diagnosis": true,
          "Fasting_Blood_Sugar": 0,
          "Max_Heart_Rate": 125,
          "Serum_Cholesterol": 166
         },
         {
          "Age": 42,
          "Chest_Pain_Type": 4,
          "Diagnosis": true,
          "Fasting_Blood_Sugar": 0,
          "Max_Heart_Rate": 125,
          "Serum_Cholesterol": 315
         },
         {
          "Age": 52,
          "Chest_Pain_Type": 4,
          "Diagnosis": true,
          "Fasting_Blood_Sugar": 1,
          "Max_Heart_Rate": 156,
          "Serum_Cholesterol": 204
         },
         {
          "Age": 59,
          "Chest_Pain_Type": 3,
          "Diagnosis": true,
          "Fasting_Blood_Sugar": 1,
          "Max_Heart_Rate": 134,
          "Serum_Cholesterol": 218
         },
         {
          "Age": 40,
          "Chest_Pain_Type": 4,
          "Diagnosis": true,
          "Fasting_Blood_Sugar": 0,
          "Max_Heart_Rate": 181,
          "Serum_Cholesterol": 223
         },
         {
          "Age": 42,
          "Chest_Pain_Type": 3,
          "Diagnosis": false,
          "Fasting_Blood_Sugar": 0,
          "Max_Heart_Rate": 150,
          "Serum_Cholesterol": 180
         },
         {
          "Age": 61,
          "Chest_Pain_Type": 4,
          "Diagnosis": true,
          "Fasting_Blood_Sugar": 0,
          "Max_Heart_Rate": 138,
          "Serum_Cholesterol": 207
         },
         {
          "Age": 66,
          "Chest_Pain_Type": 4,
          "Diagnosis": false,
          "Fasting_Blood_Sugar": 0,
          "Max_Heart_Rate": 138,
          "Serum_Cholesterol": 228
         },
         {
          "Age": 46,
          "Chest_Pain_Type": 4,
          "Diagnosis": true,
          "Fasting_Blood_Sugar": 0,
          "Max_Heart_Rate": 120,
          "Serum_Cholesterol": 311
         },
         {
          "Age": 71,
          "Chest_Pain_Type": 4,
          "Diagnosis": false,
          "Fasting_Blood_Sugar": 0,
          "Max_Heart_Rate": 125,
          "Serum_Cholesterol": 149
         },
         {
          "Age": 59,
          "Chest_Pain_Type": 1,
          "Diagnosis": true,
          "Fasting_Blood_Sugar": 0,
          "Max_Heart_Rate": 162,
          "Serum_Cholesterol": 204
         },
         {
          "Age": 64,
          "Chest_Pain_Type": 1,
          "Diagnosis": false,
          "Fasting_Blood_Sugar": 0,
          "Max_Heart_Rate": 155,
          "Serum_Cholesterol": 227
         },
         {
          "Age": 66,
          "Chest_Pain_Type": 3,
          "Diagnosis": false,
          "Fasting_Blood_Sugar": 0,
          "Max_Heart_Rate": 152,
          "Serum_Cholesterol": 278
         },
         {
          "Age": 39,
          "Chest_Pain_Type": 3,
          "Diagnosis": false,
          "Fasting_Blood_Sugar": 0,
          "Max_Heart_Rate": 152,
          "Serum_Cholesterol": 220
         },
         {
          "Age": 57,
          "Chest_Pain_Type": 2,
          "Diagnosis": true,
          "Fasting_Blood_Sugar": 0,
          "Max_Heart_Rate": 164,
          "Serum_Cholesterol": 232
         },
         {
          "Age": 58,
          "Chest_Pain_Type": 4,
          "Diagnosis": false,
          "Fasting_Blood_Sugar": 0,
          "Max_Heart_Rate": 131,
          "Serum_Cholesterol": 197
         },
         {
          "Age": 57,
          "Chest_Pain_Type": 4,
          "Diagnosis": true,
          "Fasting_Blood_Sugar": 0,
          "Max_Heart_Rate": 143,
          "Serum_Cholesterol": 335
         },
         {
          "Age": 47,
          "Chest_Pain_Type": 3,
          "Diagnosis": false,
          "Fasting_Blood_Sugar": 0,
          "Max_Heart_Rate": 179,
          "Serum_Cholesterol": 253
         },
         {
          "Age": 55,
          "Chest_Pain_Type": 4,
          "Diagnosis": true,
          "Fasting_Blood_Sugar": 0,
          "Max_Heart_Rate": 130,
          "Serum_Cholesterol": 205
         },
         {
          "Age": 35,
          "Chest_Pain_Type": 2,
          "Diagnosis": false,
          "Fasting_Blood_Sugar": 0,
          "Max_Heart_Rate": 174,
          "Serum_Cholesterol": 192
         },
         {
          "Age": 61,
          "Chest_Pain_Type": 4,
          "Diagnosis": true,
          "Fasting_Blood_Sugar": 0,
          "Max_Heart_Rate": 161,
          "Serum_Cholesterol": 203
         },
         {
          "Age": 58,
          "Chest_Pain_Type": 4,
          "Diagnosis": true,
          "Fasting_Blood_Sugar": 0,
          "Max_Heart_Rate": 140,
          "Serum_Cholesterol": 318
         },
         {
          "Age": 58,
          "Chest_Pain_Type": 4,
          "Diagnosis": true,
          "Fasting_Blood_Sugar": 1,
          "Max_Heart_Rate": 146,
          "Serum_Cholesterol": 225
         },
         {
          "Age": 58,
          "Chest_Pain_Type": 2,
          "Diagnosis": false,
          "Fasting_Blood_Sugar": 0,
          "Max_Heart_Rate": 144,
          "Serum_Cholesterol": 220
         },
         {
          "Age": 56,
          "Chest_Pain_Type": 2,
          "Diagnosis": false,
          "Fasting_Blood_Sugar": 0,
          "Max_Heart_Rate": 163,
          "Serum_Cholesterol": 221
         },
         {
          "Age": 56,
          "Chest_Pain_Type": 2,
          "Diagnosis": false,
          "Fasting_Blood_Sugar": 0,
          "Max_Heart_Rate": 169,
          "Serum_Cholesterol": 240
         },
         {
          "Age": 67,
          "Chest_Pain_Type": 3,
          "Diagnosis": true,
          "Fasting_Blood_Sugar": 0,
          "Max_Heart_Rate": 150,
          "Serum_Cholesterol": 212
         },
         {
          "Age": 55,
          "Chest_Pain_Type": 2,
          "Diagnosis": false,
          "Fasting_Blood_Sugar": 0,
          "Max_Heart_Rate": 166,
          "Serum_Cholesterol": 342
         },
         {
          "Age": 44,
          "Chest_Pain_Type": 4,
          "Diagnosis": true,
          "Fasting_Blood_Sugar": 0,
          "Max_Heart_Rate": 144,
          "Serum_Cholesterol": 169
         },
         {
          "Age": 63,
          "Chest_Pain_Type": 4,
          "Diagnosis": true,
          "Fasting_Blood_Sugar": 0,
          "Max_Heart_Rate": 144,
          "Serum_Cholesterol": 187
         },
         {
          "Age": 63,
          "Chest_Pain_Type": 4,
          "Diagnosis": true,
          "Fasting_Blood_Sugar": 0,
          "Max_Heart_Rate": 136,
          "Serum_Cholesterol": 197
         },
         {
          "Age": 41,
          "Chest_Pain_Type": 2,
          "Diagnosis": false,
          "Fasting_Blood_Sugar": 0,
          "Max_Heart_Rate": 182,
          "Serum_Cholesterol": 157
         },
         {
          "Age": 59,
          "Chest_Pain_Type": 4,
          "Diagnosis": true,
          "Fasting_Blood_Sugar": 1,
          "Max_Heart_Rate": 90,
          "Serum_Cholesterol": 176
         },
         {
          "Age": 57,
          "Chest_Pain_Type": 4,
          "Diagnosis": true,
          "Fasting_Blood_Sugar": 0,
          "Max_Heart_Rate": 123,
          "Serum_Cholesterol": 241
         },
         {
          "Age": 45,
          "Chest_Pain_Type": 1,
          "Diagnosis": true,
          "Fasting_Blood_Sugar": 0,
          "Max_Heart_Rate": 132,
          "Serum_Cholesterol": 264
         },
         {
          "Age": 68,
          "Chest_Pain_Type": 4,
          "Diagnosis": true,
          "Fasting_Blood_Sugar": 1,
          "Max_Heart_Rate": 141,
          "Serum_Cholesterol": 193
         },
         {
          "Age": 57,
          "Chest_Pain_Type": 4,
          "Diagnosis": true,
          "Fasting_Blood_Sugar": 0,
          "Max_Heart_Rate": 115,
          "Serum_Cholesterol": 131
         },
         {
          "Age": 57,
          "Chest_Pain_Type": 2,
          "Diagnosis": true,
          "Fasting_Blood_Sugar": 0,
          "Max_Heart_Rate": 174,
          "Serum_Cholesterol": 236
         },
         {
          "Age": 38,
          "Chest_Pain_Type": 3,
          "Diagnosis": false,
          "Fasting_Blood_Sugar": 0,
          "Max_Heart_Rate": 173,
          "Serum_Cholesterol": 175
         }
        ]
       },
       "encoding": {
        "x": {
         "field": "Age",
         "scale": {
          "zero": false
         },
         "title": "Age (years)",
         "type": "quantitative"
        },
        "y": {
         "field": "Max_Heart_Rate",
         "scale": {
          "zero": false
         },
         "title": "Maximum Heart Rate Achieved (bpm)",
         "type": "quantitative"
        }
       },
       "height": 400,
       "mark": "point",
       "title": "Age vs Maximum Heart Rate",
       "width": 400
      },
      "image/png": "[encoded data removed]",
      "text/plain": [
       "<VegaLite 4 object>\n",
       "\n",
       "If you see this message, it means the renderer has not been properly enabled\n",
       "for the frontend that you are using. For more information, see\n",
       "https://altair-viz.github.io/user_guide/troubleshooting.html\n"
      ]
     },
     "execution_count": 20,
     "metadata": {},
     "output_type": "execute_result"
    }
   ],
   "source": [
    "age_vs_thalach = (\n",
    "    alt.Chart(heart_disease_final, title=\"Age vs Maximum Heart Rate\")\n",
    "    .mark_point()\n",
    "    .encode(\n",
    "        x=alt.X(\"Age\", title=\"Age (years)\",scale=alt.Scale(zero=False)),\n",
    "        y=alt.Y(\n",
    "            \"Max_Heart_Rate:Q\",\n",
    "            title=\"Maximum Heart Rate Achieved (bpm)\",\n",
    "            scale=alt.Scale(zero=False)\n",
    "        ),\n",
    "    )\n",
    "    .configure_axis(labelFontSize=15, titleFontSize=15)\n",
    "    .configure_title(fontSize=25)\n",
    "    .properties(width=400, height=400)\n",
    ")\n",
    "age_vs_thalach"
   ]
  },
  {
   "cell_type": "markdown",
   "id": "e56ed169-230c-49a6-a18d-aa8010808ce6",
   "metadata": {},
   "source": [
    "Next, we visualize a bar graph that displays the distribution of diagnosis for each chest pain type:"
   ]
  },
  {
   "cell_type": "code",
   "execution_count": 21,
   "id": "fb0b06cd-c7a5-46be-a381-3c55d202cbab",
   "metadata": {},
   "outputs": [
    {
     "data": {
      "application/vnd.vegalite.v4+json": {
       "$schema": "https://vega.github.io/schema/vega-lite/v4.17.0.json",
       "config": {
        "axis": {
         "labelFontSize": 18,
         "titleFontSize": 18
        },
        "title": {
         "fontSize": 20
        },
        "view": {
         "continuousHeight": 300,
         "continuousWidth": 400
        }
       },
       "data": {
        "name": "data-6d8aeb2c39c2b84da2a1ab4f283ce1a7"
       },
       "datasets": {
        "data-6d8aeb2c39c2b84da2a1ab4f283ce1a7": [
         {
          "Age": 43,
          "Chest_Pain_Type": 4,
          "Diagnosis": true,
          "Fasting_Blood_Sugar": 0,
          "Max_Heart_Rate": 120,
          "Serum_Cholesterol": 177
         },
         {
          "Age": 45,
          "Chest_Pain_Type": 2,
          "Diagnosis": false,
          "Fasting_Blood_Sugar": 0,
          "Max_Heart_Rate": 170,
          "Serum_Cholesterol": 308
         },
         {
          "Age": 58,
          "Chest_Pain_Type": 1,
          "Diagnosis": false,
          "Fasting_Blood_Sugar": 1,
          "Max_Heart_Rate": 162,
          "Serum_Cholesterol": 283
         },
         {
          "Age": 66,
          "Chest_Pain_Type": 2,
          "Diagnosis": true,
          "Fasting_Blood_Sugar": 0,
          "Max_Heart_Rate": 120,
          "Serum_Cholesterol": 246
         },
         {
          "Age": 77,
          "Chest_Pain_Type": 4,
          "Diagnosis": true,
          "Fasting_Blood_Sugar": 0,
          "Max_Heart_Rate": 162,
          "Serum_Cholesterol": 304
         },
         {
          "Age": 62,
          "Chest_Pain_Type": 3,
          "Diagnosis": true,
          "Fasting_Blood_Sugar": 0,
          "Max_Heart_Rate": 97,
          "Serum_Cholesterol": 263
         },
         {
          "Age": 56,
          "Chest_Pain_Type": 2,
          "Diagnosis": false,
          "Fasting_Blood_Sugar": 0,
          "Max_Heart_Rate": 178,
          "Serum_Cholesterol": 236
         },
         {
          "Age": 71,
          "Chest_Pain_Type": 4,
          "Diagnosis": false,
          "Fasting_Blood_Sugar": 0,
          "Max_Heart_Rate": 125,
          "Serum_Cholesterol": 149
         },
         {
          "Age": 39,
          "Chest_Pain_Type": 3,
          "Diagnosis": false,
          "Fasting_Blood_Sugar": 0,
          "Max_Heart_Rate": 182,
          "Serum_Cholesterol": 321
         },
         {
          "Age": 57,
          "Chest_Pain_Type": 4,
          "Diagnosis": true,
          "Fasting_Blood_Sugar": 0,
          "Max_Heart_Rate": 143,
          "Serum_Cholesterol": 335
         },
         {
          "Age": 60,
          "Chest_Pain_Type": 1,
          "Diagnosis": false,
          "Fasting_Blood_Sugar": 0,
          "Max_Heart_Rate": 171,
          "Serum_Cholesterol": 240
         },
         {
          "Age": 57,
          "Chest_Pain_Type": 4,
          "Diagnosis": false,
          "Fasting_Blood_Sugar": 0,
          "Max_Heart_Rate": 163,
          "Serum_Cholesterol": 354
         },
         {
          "Age": 54,
          "Chest_Pain_Type": 3,
          "Diagnosis": false,
          "Fasting_Blood_Sugar": 0,
          "Max_Heart_Rate": 158,
          "Serum_Cholesterol": 214
         },
         {
          "Age": 44,
          "Chest_Pain_Type": 3,
          "Diagnosis": false,
          "Fasting_Blood_Sugar": 0,
          "Max_Heart_Rate": 169,
          "Serum_Cholesterol": 226
         },
         {
          "Age": 55,
          "Chest_Pain_Type": 4,
          "Diagnosis": true,
          "Fasting_Blood_Sugar": 0,
          "Max_Heart_Rate": 117,
          "Serum_Cholesterol": 327
         },
         {
          "Age": 70,
          "Chest_Pain_Type": 3,
          "Diagnosis": true,
          "Fasting_Blood_Sugar": 0,
          "Max_Heart_Rate": 112,
          "Serum_Cholesterol": 269
         },
         {
          "Age": 29,
          "Chest_Pain_Type": 2,
          "Diagnosis": false,
          "Fasting_Blood_Sugar": 0,
          "Max_Heart_Rate": 202,
          "Serum_Cholesterol": 204
         },
         {
          "Age": 70,
          "Chest_Pain_Type": 4,
          "Diagnosis": true,
          "Fasting_Blood_Sugar": 0,
          "Max_Heart_Rate": 125,
          "Serum_Cholesterol": 174
         },
         {
          "Age": 58,
          "Chest_Pain_Type": 4,
          "Diagnosis": true,
          "Fasting_Blood_Sugar": 1,
          "Max_Heart_Rate": 146,
          "Serum_Cholesterol": 225
         },
         {
          "Age": 52,
          "Chest_Pain_Type": 3,
          "Diagnosis": false,
          "Fasting_Blood_Sugar": 0,
          "Max_Heart_Rate": 169,
          "Serum_Cholesterol": 223
         },
         {
          "Age": 42,
          "Chest_Pain_Type": 4,
          "Diagnosis": false,
          "Fasting_Blood_Sugar": 0,
          "Max_Heart_Rate": 122,
          "Serum_Cholesterol": 265
         },
         {
          "Age": 50,
          "Chest_Pain_Type": 3,
          "Diagnosis": false,
          "Fasting_Blood_Sugar": 0,
          "Max_Heart_Rate": 163,
          "Serum_Cholesterol": 196
         },
         {
          "Age": 54,
          "Chest_Pain_Type": 2,
          "Diagnosis": true,
          "Fasting_Blood_Sugar": 0,
          "Max_Heart_Rate": 195,
          "Serum_Cholesterol": 283
         },
         {
          "Age": 55,
          "Chest_Pain_Type": 2,
          "Diagnosis": false,
          "Fasting_Blood_Sugar": 0,
          "Max_Heart_Rate": 166,
          "Serum_Cholesterol": 342
         },
         {
          "Age": 52,
          "Chest_Pain_Type": 4,
          "Diagnosis": true,
          "Fasting_Blood_Sugar": 0,
          "Max_Heart_Rate": 168,
          "Serum_Cholesterol": 212
         },
         {
          "Age": 57,
          "Chest_Pain_Type": 4,
          "Diagnosis": true,
          "Fasting_Blood_Sugar": 0,
          "Max_Heart_Rate": 112,
          "Serum_Cholesterol": 276
         },
         {
          "Age": 44,
          "Chest_Pain_Type": 3,
          "Diagnosis": false,
          "Fasting_Blood_Sugar": 0,
          "Max_Heart_Rate": 179,
          "Serum_Cholesterol": 233
         },
         {
          "Age": 54,
          "Chest_Pain_Type": 4,
          "Diagnosis": true,
          "Fasting_Blood_Sugar": 0,
          "Max_Heart_Rate": 109,
          "Serum_Cholesterol": 266
         },
         {
          "Age": 62,
          "Chest_Pain_Type": 4,
          "Diagnosis": true,
          "Fasting_Blood_Sugar": 0,
          "Max_Heart_Rate": 145,
          "Serum_Cholesterol": 164
         },
         {
          "Age": 58,
          "Chest_Pain_Type": 3,
          "Diagnosis": true,
          "Fasting_Blood_Sugar": 0,
          "Max_Heart_Rate": 173,
          "Serum_Cholesterol": 224
         },
         {
          "Age": 62,
          "Chest_Pain_Type": 4,
          "Diagnosis": false,
          "Fasting_Blood_Sugar": 0,
          "Max_Heart_Rate": 157,
          "Serum_Cholesterol": 394
         },
         {
          "Age": 42,
          "Chest_Pain_Type": 2,
          "Diagnosis": false,
          "Fasting_Blood_Sugar": 0,
          "Max_Heart_Rate": 162,
          "Serum_Cholesterol": 295
         },
         {
          "Age": 62,
          "Chest_Pain_Type": 2,
          "Diagnosis": true,
          "Fasting_Blood_Sugar": 0,
          "Max_Heart_Rate": 103,
          "Serum_Cholesterol": 281
         },
         {
          "Age": 45,
          "Chest_Pain_Type": 2,
          "Diagnosis": false,
          "Fasting_Blood_Sugar": 0,
          "Max_Heart_Rate": 175,
          "Serum_Cholesterol": 234
         },
         {
          "Age": 57,
          "Chest_Pain_Type": 4,
          "Diagnosis": false,
          "Fasting_Blood_Sugar": 0,
          "Max_Heart_Rate": 148,
          "Serum_Cholesterol": 192
         },
         {
          "Age": 46,
          "Chest_Pain_Type": 4,
          "Diagnosis": true,
          "Fasting_Blood_Sugar": 0,
          "Max_Heart_Rate": 120,
          "Serum_Cholesterol": 311
         },
         {
          "Age": 43,
          "Chest_Pain_Type": 4,
          "Diagnosis": false,
          "Fasting_Blood_Sugar": 0,
          "Max_Heart_Rate": 171,
          "Serum_Cholesterol": 247
         },
         {
          "Age": 58,
          "Chest_Pain_Type": 4,
          "Diagnosis": true,
          "Fasting_Blood_Sugar": 0,
          "Max_Heart_Rate": 111,
          "Serum_Cholesterol": 270
         },
         {
          "Age": 46,
          "Chest_Pain_Type": 2,
          "Diagnosis": false,
          "Fasting_Blood_Sugar": 1,
          "Max_Heart_Rate": 156,
          "Serum_Cholesterol": 197
         },
         {
          "Age": 46,
          "Chest_Pain_Type": 4,
          "Diagnosis": true,
          "Fasting_Blood_Sugar": 0,
          "Max_Heart_Rate": 144,
          "Serum_Cholesterol": 249
         },
         {
          "Age": 59,
          "Chest_Pain_Type": 4,
          "Diagnosis": false,
          "Fasting_Blood_Sugar": 0,
          "Max_Heart_Rate": 161,
          "Serum_Cholesterol": 234
         },
         {
          "Age": 41,
          "Chest_Pain_Type": 3,
          "Diagnosis": false,
          "Fasting_Blood_Sugar": 0,
          "Max_Heart_Rate": 179,
          "Serum_Cholesterol": 250
         },
         {
          "Age": 60,
          "Chest_Pain_Type": 3,
          "Diagnosis": true,
          "Fasting_Blood_Sugar": 0,
          "Max_Heart_Rate": 155,
          "Serum_Cholesterol": 185
         },
         {
          "Age": 58,
          "Chest_Pain_Type": 2,
          "Diagnosis": false,
          "Fasting_Blood_Sugar": 0,
          "Max_Heart_Rate": 144,
          "Serum_Cholesterol": 220
         },
         {
          "Age": 42,
          "Chest_Pain_Type": 4,
          "Diagnosis": true,
          "Fasting_Blood_Sugar": 0,
          "Max_Heart_Rate": 125,
          "Serum_Cholesterol": 315
         },
         {
          "Age": 44,
          "Chest_Pain_Type": 2,
          "Diagnosis": false,
          "Fasting_Blood_Sugar": 0,
          "Max_Heart_Rate": 170,
          "Serum_Cholesterol": 220
         },
         {
          "Age": 52,
          "Chest_Pain_Type": 1,
          "Diagnosis": false,
          "Fasting_Blood_Sugar": 0,
          "Max_Heart_Rate": 190,
          "Serum_Cholesterol": 186
         },
         {
          "Age": 46,
          "Chest_Pain_Type": 3,
          "Diagnosis": true,
          "Fasting_Blood_Sugar": 0,
          "Max_Heart_Rate": 147,
          "Serum_Cholesterol": 231
         },
         {
          "Age": 41,
          "Chest_Pain_Type": 2,
          "Diagnosis": false,
          "Fasting_Blood_Sugar": 0,
          "Max_Heart_Rate": 172,
          "Serum_Cholesterol": 204
         },
         {
          "Age": 45,
          "Chest_Pain_Type": 4,
          "Diagnosis": false,
          "Fasting_Blood_Sugar": 0,
          "Max_Heart_Rate": 185,
          "Serum_Cholesterol": 260
         },
         {
          "Age": 54,
          "Chest_Pain_Type": 4,
          "Diagnosis": true,
          "Fasting_Blood_Sugar": 0,
          "Max_Heart_Rate": 126,
          "Serum_Cholesterol": 239
         },
         {
          "Age": 54,
          "Chest_Pain_Type": 3,
          "Diagnosis": false,
          "Fasting_Blood_Sugar": 0,
          "Max_Heart_Rate": 167,
          "Serum_Cholesterol": 267
         },
         {
          "Age": 49,
          "Chest_Pain_Type": 2,
          "Diagnosis": false,
          "Fasting_Blood_Sugar": 0,
          "Max_Heart_Rate": 162,
          "Serum_Cholesterol": 271
         },
         {
          "Age": 44,
          "Chest_Pain_Type": 3,
          "Diagnosis": false,
          "Fasting_Blood_Sugar": 0,
          "Max_Heart_Rate": 180,
          "Serum_Cholesterol": 235
         },
         {
          "Age": 58,
          "Chest_Pain_Type": 4,
          "Diagnosis": true,
          "Fasting_Blood_Sugar": 0,
          "Max_Heart_Rate": 130,
          "Serum_Cholesterol": 259
         },
         {
          "Age": 67,
          "Chest_Pain_Type": 3,
          "Diagnosis": false,
          "Fasting_Blood_Sugar": 0,
          "Max_Heart_Rate": 160,
          "Serum_Cholesterol": 564
         },
         {
          "Age": 37,
          "Chest_Pain_Type": 3,
          "Diagnosis": false,
          "Fasting_Blood_Sugar": 0,
          "Max_Heart_Rate": 170,
          "Serum_Cholesterol": 215
         },
         {
          "Age": 41,
          "Chest_Pain_Type": 2,
          "Diagnosis": false,
          "Fasting_Blood_Sugar": 0,
          "Max_Heart_Rate": 182,
          "Serum_Cholesterol": 157
         },
         {
          "Age": 64,
          "Chest_Pain_Type": 4,
          "Diagnosis": false,
          "Fasting_Blood_Sugar": 0,
          "Max_Heart_Rate": 105,
          "Serum_Cholesterol": 263
         },
         {
          "Age": 51,
          "Chest_Pain_Type": 3,
          "Diagnosis": false,
          "Fasting_Blood_Sugar": 0,
          "Max_Heart_Rate": 143,
          "Serum_Cholesterol": 222
         },
         {
          "Age": 58,
          "Chest_Pain_Type": 3,
          "Diagnosis": false,
          "Fasting_Blood_Sugar": 0,
          "Max_Heart_Rate": 154,
          "Serum_Cholesterol": 240
         },
         {
          "Age": 51,
          "Chest_Pain_Type": 3,
          "Diagnosis": false,
          "Fasting_Blood_Sugar": 0,
          "Max_Heart_Rate": 154,
          "Serum_Cholesterol": 227
         },
         {
          "Age": 35,
          "Chest_Pain_Type": 4,
          "Diagnosis": true,
          "Fasting_Blood_Sugar": 0,
          "Max_Heart_Rate": 130,
          "Serum_Cholesterol": 198
         },
         {
          "Age": 62,
          "Chest_Pain_Type": 3,
          "Diagnosis": false,
          "Fasting_Blood_Sugar": 0,
          "Max_Heart_Rate": 146,
          "Serum_Cholesterol": 231
         },
         {
          "Age": 47,
          "Chest_Pain_Type": 4,
          "Diagnosis": false,
          "Fasting_Blood_Sugar": 0,
          "Max_Heart_Rate": 143,
          "Serum_Cholesterol": 204
         },
         {
          "Age": 58,
          "Chest_Pain_Type": 4,
          "Diagnosis": true,
          "Fasting_Blood_Sugar": 0,
          "Max_Heart_Rate": 131,
          "Serum_Cholesterol": 216
         },
         {
          "Age": 56,
          "Chest_Pain_Type": 2,
          "Diagnosis": false,
          "Fasting_Blood_Sugar": 0,
          "Max_Heart_Rate": 169,
          "Serum_Cholesterol": 240
         },
         {
          "Age": 58,
          "Chest_Pain_Type": 4,
          "Diagnosis": true,
          "Fasting_Blood_Sugar": 0,
          "Max_Heart_Rate": 156,
          "Serum_Cholesterol": 234
         },
         {
          "Age": 59,
          "Chest_Pain_Type": 3,
          "Diagnosis": true,
          "Fasting_Blood_Sugar": 1,
          "Max_Heart_Rate": 134,
          "Serum_Cholesterol": 218
         },
         {
          "Age": 57,
          "Chest_Pain_Type": 2,
          "Diagnosis": true,
          "Fasting_Blood_Sugar": 0,
          "Max_Heart_Rate": 174,
          "Serum_Cholesterol": 236
         },
         {
          "Age": 54,
          "Chest_Pain_Type": 3,
          "Diagnosis": false,
          "Fasting_Blood_Sugar": 0,
          "Max_Heart_Rate": 147,
          "Serum_Cholesterol": 258
         },
         {
          "Age": 43,
          "Chest_Pain_Type": 4,
          "Diagnosis": false,
          "Fasting_Blood_Sugar": 0,
          "Max_Heart_Rate": 181,
          "Serum_Cholesterol": 303
         },
         {
          "Age": 41,
          "Chest_Pain_Type": 2,
          "Diagnosis": false,
          "Fasting_Blood_Sugar": 0,
          "Max_Heart_Rate": 168,
          "Serum_Cholesterol": 198
         },
         {
          "Age": 60,
          "Chest_Pain_Type": 4,
          "Diagnosis": true,
          "Fasting_Blood_Sugar": 0,
          "Max_Heart_Rate": 157,
          "Serum_Cholesterol": 258
         },
         {
          "Age": 39,
          "Chest_Pain_Type": 3,
          "Diagnosis": false,
          "Fasting_Blood_Sugar": 0,
          "Max_Heart_Rate": 152,
          "Serum_Cholesterol": 220
         },
         {
          "Age": 57,
          "Chest_Pain_Type": 4,
          "Diagnosis": true,
          "Fasting_Blood_Sugar": 0,
          "Max_Heart_Rate": 115,
          "Serum_Cholesterol": 131
         },
         {
          "Age": 63,
          "Chest_Pain_Type": 4,
          "Diagnosis": true,
          "Fasting_Blood_Sugar": 0,
          "Max_Heart_Rate": 136,
          "Serum_Cholesterol": 197
         },
         {
          "Age": 49,
          "Chest_Pain_Type": 4,
          "Diagnosis": false,
          "Fasting_Blood_Sugar": 0,
          "Max_Heart_Rate": 163,
          "Serum_Cholesterol": 269
         },
         {
          "Age": 70,
          "Chest_Pain_Type": 2,
          "Diagnosis": false,
          "Fasting_Blood_Sugar": 0,
          "Max_Heart_Rate": 143,
          "Serum_Cholesterol": 245
         },
         {
          "Age": 44,
          "Chest_Pain_Type": 2,
          "Diagnosis": false,
          "Fasting_Blood_Sugar": 0,
          "Max_Heart_Rate": 173,
          "Serum_Cholesterol": 263
         },
         {
          "Age": 43,
          "Chest_Pain_Type": 4,
          "Diagnosis": true,
          "Fasting_Blood_Sugar": 1,
          "Max_Heart_Rate": 143,
          "Serum_Cholesterol": 247
         },
         {
          "Age": 57,
          "Chest_Pain_Type": 4,
          "Diagnosis": true,
          "Fasting_Blood_Sugar": 0,
          "Max_Heart_Rate": 123,
          "Serum_Cholesterol": 241
         },
         {
          "Age": 68,
          "Chest_Pain_Type": 3,
          "Diagnosis": false,
          "Fasting_Blood_Sugar": 0,
          "Max_Heart_Rate": 115,
          "Serum_Cholesterol": 211
         },
         {
          "Age": 66,
          "Chest_Pain_Type": 4,
          "Diagnosis": false,
          "Fasting_Blood_Sugar": 0,
          "Max_Heart_Rate": 138,
          "Serum_Cholesterol": 228
         },
         {
          "Age": 45,
          "Chest_Pain_Type": 2,
          "Diagnosis": false,
          "Fasting_Blood_Sugar": 0,
          "Max_Heart_Rate": 138,
          "Serum_Cholesterol": 160
         },
         {
          "Age": 67,
          "Chest_Pain_Type": 4,
          "Diagnosis": true,
          "Fasting_Blood_Sugar": 0,
          "Max_Heart_Rate": 125,
          "Serum_Cholesterol": 299
         },
         {
          "Age": 56,
          "Chest_Pain_Type": 1,
          "Diagnosis": false,
          "Fasting_Blood_Sugar": 0,
          "Max_Heart_Rate": 162,
          "Serum_Cholesterol": 193
         },
         {
          "Age": 43,
          "Chest_Pain_Type": 3,
          "Diagnosis": false,
          "Fasting_Blood_Sugar": 0,
          "Max_Heart_Rate": 165,
          "Serum_Cholesterol": 213
         },
         {
          "Age": 63,
          "Chest_Pain_Type": 4,
          "Diagnosis": true,
          "Fasting_Blood_Sugar": 0,
          "Max_Heart_Rate": 147,
          "Serum_Cholesterol": 254
         },
         {
          "Age": 51,
          "Chest_Pain_Type": 3,
          "Diagnosis": false,
          "Fasting_Blood_Sugar": 0,
          "Max_Heart_Rate": 142,
          "Serum_Cholesterol": 308
         },
         {
          "Age": 54,
          "Chest_Pain_Type": 3,
          "Diagnosis": false,
          "Fasting_Blood_Sugar": 0,
          "Max_Heart_Rate": 152,
          "Serum_Cholesterol": 273
         },
         {
          "Age": 56,
          "Chest_Pain_Type": 4,
          "Diagnosis": true,
          "Fasting_Blood_Sugar": 0,
          "Max_Heart_Rate": 150,
          "Serum_Cholesterol": 409
         },
         {
          "Age": 64,
          "Chest_Pain_Type": 4,
          "Diagnosis": false,
          "Fasting_Blood_Sugar": 0,
          "Max_Heart_Rate": 122,
          "Serum_Cholesterol": 303
         },
         {
          "Age": 65,
          "Chest_Pain_Type": 4,
          "Diagnosis": true,
          "Fasting_Blood_Sugar": 0,
          "Max_Heart_Rate": 127,
          "Serum_Cholesterol": 254
         },
         {
          "Age": 48,
          "Chest_Pain_Type": 3,
          "Diagnosis": false,
          "Fasting_Blood_Sugar": 1,
          "Max_Heart_Rate": 175,
          "Serum_Cholesterol": 255
         },
         {
          "Age": 58,
          "Chest_Pain_Type": 4,
          "Diagnosis": false,
          "Fasting_Blood_Sugar": 0,
          "Max_Heart_Rate": 131,
          "Serum_Cholesterol": 197
         },
         {
          "Age": 54,
          "Chest_Pain_Type": 3,
          "Diagnosis": false,
          "Fasting_Blood_Sugar": 1,
          "Max_Heart_Rate": 170,
          "Serum_Cholesterol": 304
         },
         {
          "Age": 61,
          "Chest_Pain_Type": 4,
          "Diagnosis": true,
          "Fasting_Blood_Sugar": 0,
          "Max_Heart_Rate": 140,
          "Serum_Cholesterol": 260
         },
         {
          "Age": 51,
          "Chest_Pain_Type": 4,
          "Diagnosis": true,
          "Fasting_Blood_Sugar": 0,
          "Max_Heart_Rate": 173,
          "Serum_Cholesterol": 299
         },
         {
          "Age": 59,
          "Chest_Pain_Type": 1,
          "Diagnosis": true,
          "Fasting_Blood_Sugar": 0,
          "Max_Heart_Rate": 159,
          "Serum_Cholesterol": 288
         },
         {
          "Age": 53,
          "Chest_Pain_Type": 4,
          "Diagnosis": false,
          "Fasting_Blood_Sugar": 0,
          "Max_Heart_Rate": 160,
          "Serum_Cholesterol": 234
         },
         {
          "Age": 63,
          "Chest_Pain_Type": 2,
          "Diagnosis": false,
          "Fasting_Blood_Sugar": 0,
          "Max_Heart_Rate": 179,
          "Serum_Cholesterol": 195
         },
         {
          "Age": 61,
          "Chest_Pain_Type": 1,
          "Diagnosis": true,
          "Fasting_Blood_Sugar": 0,
          "Max_Heart_Rate": 145,
          "Serum_Cholesterol": 234
         },
         {
          "Age": 61,
          "Chest_Pain_Type": 4,
          "Diagnosis": true,
          "Fasting_Blood_Sugar": 0,
          "Max_Heart_Rate": 169,
          "Serum_Cholesterol": 330
         },
         {
          "Age": 41,
          "Chest_Pain_Type": 2,
          "Diagnosis": false,
          "Fasting_Blood_Sugar": 0,
          "Max_Heart_Rate": 153,
          "Serum_Cholesterol": 235
         },
         {
          "Age": 50,
          "Chest_Pain_Type": 4,
          "Diagnosis": true,
          "Fasting_Blood_Sugar": 0,
          "Max_Heart_Rate": 126,
          "Serum_Cholesterol": 200
         },
         {
          "Age": 60,
          "Chest_Pain_Type": 4,
          "Diagnosis": true,
          "Fasting_Blood_Sugar": 0,
          "Max_Heart_Rate": 142,
          "Serum_Cholesterol": 282
         },
         {
          "Age": 51,
          "Chest_Pain_Type": 4,
          "Diagnosis": true,
          "Fasting_Blood_Sugar": 0,
          "Max_Heart_Rate": 142,
          "Serum_Cholesterol": 305
         },
         {
          "Age": 44,
          "Chest_Pain_Type": 3,
          "Diagnosis": false,
          "Fasting_Blood_Sugar": 0,
          "Max_Heart_Rate": 175,
          "Serum_Cholesterol": 141
         },
         {
          "Age": 66,
          "Chest_Pain_Type": 3,
          "Diagnosis": false,
          "Fasting_Blood_Sugar": 0,
          "Max_Heart_Rate": 152,
          "Serum_Cholesterol": 278
         },
         {
          "Age": 61,
          "Chest_Pain_Type": 4,
          "Diagnosis": true,
          "Fasting_Blood_Sugar": 0,
          "Max_Heart_Rate": 125,
          "Serum_Cholesterol": 166
         },
         {
          "Age": 55,
          "Chest_Pain_Type": 4,
          "Diagnosis": true,
          "Fasting_Blood_Sugar": 0,
          "Max_Heart_Rate": 130,
          "Serum_Cholesterol": 205
         },
         {
          "Age": 76,
          "Chest_Pain_Type": 3,
          "Diagnosis": false,
          "Fasting_Blood_Sugar": 0,
          "Max_Heart_Rate": 116,
          "Serum_Cholesterol": 197
         },
         {
          "Age": 58,
          "Chest_Pain_Type": 4,
          "Diagnosis": true,
          "Fasting_Blood_Sugar": 0,
          "Max_Heart_Rate": 171,
          "Serum_Cholesterol": 300
         },
         {
          "Age": 58,
          "Chest_Pain_Type": 4,
          "Diagnosis": false,
          "Fasting_Blood_Sugar": 0,
          "Max_Heart_Rate": 122,
          "Serum_Cholesterol": 248
         },
         {
          "Age": 63,
          "Chest_Pain_Type": 1,
          "Diagnosis": false,
          "Fasting_Blood_Sugar": 1,
          "Max_Heart_Rate": 150,
          "Serum_Cholesterol": 233
         },
         {
          "Age": 56,
          "Chest_Pain_Type": 4,
          "Diagnosis": true,
          "Fasting_Blood_Sugar": 1,
          "Max_Heart_Rate": 103,
          "Serum_Cholesterol": 283
         },
         {
          "Age": 58,
          "Chest_Pain_Type": 3,
          "Diagnosis": true,
          "Fasting_Blood_Sugar": 0,
          "Max_Heart_Rate": 165,
          "Serum_Cholesterol": 230
         },
         {
          "Age": 55,
          "Chest_Pain_Type": 4,
          "Diagnosis": true,
          "Fasting_Blood_Sugar": 0,
          "Max_Heart_Rate": 145,
          "Serum_Cholesterol": 289
         },
         {
          "Age": 65,
          "Chest_Pain_Type": 4,
          "Diagnosis": true,
          "Fasting_Blood_Sugar": 0,
          "Max_Heart_Rate": 114,
          "Serum_Cholesterol": 225
         },
         {
          "Age": 51,
          "Chest_Pain_Type": 1,
          "Diagnosis": false,
          "Fasting_Blood_Sugar": 0,
          "Max_Heart_Rate": 125,
          "Serum_Cholesterol": 213
         },
         {
          "Age": 57,
          "Chest_Pain_Type": 3,
          "Diagnosis": false,
          "Fasting_Blood_Sugar": 0,
          "Max_Heart_Rate": 174,
          "Serum_Cholesterol": 168
         },
         {
          "Age": 51,
          "Chest_Pain_Type": 3,
          "Diagnosis": false,
          "Fasting_Blood_Sugar": 0,
          "Max_Heart_Rate": 123,
          "Serum_Cholesterol": 175
         },
         {
          "Age": 54,
          "Chest_Pain_Type": 4,
          "Diagnosis": true,
          "Fasting_Blood_Sugar": 0,
          "Max_Heart_Rate": 116,
          "Serum_Cholesterol": 286
         },
         {
          "Age": 39,
          "Chest_Pain_Type": 4,
          "Diagnosis": true,
          "Fasting_Blood_Sugar": 0,
          "Max_Heart_Rate": 140,
          "Serum_Cholesterol": 219
         },
         {
          "Age": 49,
          "Chest_Pain_Type": 3,
          "Diagnosis": true,
          "Fasting_Blood_Sugar": 0,
          "Max_Heart_Rate": 139,
          "Serum_Cholesterol": 188
         },
         {
          "Age": 51,
          "Chest_Pain_Type": 4,
          "Diagnosis": false,
          "Fasting_Blood_Sugar": 0,
          "Max_Heart_Rate": 186,
          "Serum_Cholesterol": 261
         },
         {
          "Age": 48,
          "Chest_Pain_Type": 2,
          "Diagnosis": true,
          "Fasting_Blood_Sugar": 0,
          "Max_Heart_Rate": 168,
          "Serum_Cholesterol": 229
         },
         {
          "Age": 57,
          "Chest_Pain_Type": 2,
          "Diagnosis": true,
          "Fasting_Blood_Sugar": 0,
          "Max_Heart_Rate": 164,
          "Serum_Cholesterol": 232
         },
         {
          "Age": 62,
          "Chest_Pain_Type": 4,
          "Diagnosis": true,
          "Fasting_Blood_Sugar": 1,
          "Max_Heart_Rate": 106,
          "Serum_Cholesterol": 294
         },
         {
          "Age": 44,
          "Chest_Pain_Type": 3,
          "Diagnosis": false,
          "Fasting_Blood_Sugar": 0,
          "Max_Heart_Rate": 149,
          "Serum_Cholesterol": 242
         },
         {
          "Age": 58,
          "Chest_Pain_Type": 3,
          "Diagnosis": false,
          "Fasting_Blood_Sugar": 1,
          "Max_Heart_Rate": 165,
          "Serum_Cholesterol": 211
         },
         {
          "Age": 64,
          "Chest_Pain_Type": 1,
          "Diagnosis": false,
          "Fasting_Blood_Sugar": 0,
          "Max_Heart_Rate": 155,
          "Serum_Cholesterol": 227
         },
         {
          "Age": 44,
          "Chest_Pain_Type": 4,
          "Diagnosis": true,
          "Fasting_Blood_Sugar": 0,
          "Max_Heart_Rate": 177,
          "Serum_Cholesterol": 197
         },
         {
          "Age": 61,
          "Chest_Pain_Type": 4,
          "Diagnosis": true,
          "Fasting_Blood_Sugar": 0,
          "Max_Heart_Rate": 146,
          "Serum_Cholesterol": 307
         },
         {
          "Age": 69,
          "Chest_Pain_Type": 3,
          "Diagnosis": true,
          "Fasting_Blood_Sugar": 0,
          "Max_Heart_Rate": 146,
          "Serum_Cholesterol": 254
         },
         {
          "Age": 47,
          "Chest_Pain_Type": 3,
          "Diagnosis": true,
          "Fasting_Blood_Sugar": 0,
          "Max_Heart_Rate": 152,
          "Serum_Cholesterol": 243
         },
         {
          "Age": 55,
          "Chest_Pain_Type": 4,
          "Diagnosis": true,
          "Fasting_Blood_Sugar": 0,
          "Max_Heart_Rate": 132,
          "Serum_Cholesterol": 353
         },
         {
          "Age": 66,
          "Chest_Pain_Type": 1,
          "Diagnosis": false,
          "Fasting_Blood_Sugar": 0,
          "Max_Heart_Rate": 114,
          "Serum_Cholesterol": 226
         },
         {
          "Age": 42,
          "Chest_Pain_Type": 1,
          "Diagnosis": false,
          "Fasting_Blood_Sugar": 0,
          "Max_Heart_Rate": 178,
          "Serum_Cholesterol": 244
         },
         {
          "Age": 59,
          "Chest_Pain_Type": 2,
          "Diagnosis": false,
          "Fasting_Blood_Sugar": 0,
          "Max_Heart_Rate": 164,
          "Serum_Cholesterol": 221
         },
         {
          "Age": 50,
          "Chest_Pain_Type": 2,
          "Diagnosis": false,
          "Fasting_Blood_Sugar": 0,
          "Max_Heart_Rate": 162,
          "Serum_Cholesterol": 244
         },
         {
          "Age": 63,
          "Chest_Pain_Type": 4,
          "Diagnosis": true,
          "Fasting_Blood_Sugar": 0,
          "Max_Heart_Rate": 154,
          "Serum_Cholesterol": 407
         },
         {
          "Age": 38,
          "Chest_Pain_Type": 1,
          "Diagnosis": true,
          "Fasting_Blood_Sugar": 0,
          "Max_Heart_Rate": 182,
          "Serum_Cholesterol": 231
         },
         {
          "Age": 52,
          "Chest_Pain_Type": 3,
          "Diagnosis": false,
          "Fasting_Blood_Sugar": 1,
          "Max_Heart_Rate": 162,
          "Serum_Cholesterol": 199
         },
         {
          "Age": 53,
          "Chest_Pain_Type": 3,
          "Diagnosis": false,
          "Fasting_Blood_Sugar": 0,
          "Max_Heart_Rate": 115,
          "Serum_Cholesterol": 216
         },
         {
          "Age": 53,
          "Chest_Pain_Type": 4,
          "Diagnosis": true,
          "Fasting_Blood_Sugar": 1,
          "Max_Heart_Rate": 155,
          "Serum_Cholesterol": 203
         },
         {
          "Age": 62,
          "Chest_Pain_Type": 4,
          "Diagnosis": true,
          "Fasting_Blood_Sugar": 0,
          "Max_Heart_Rate": 160,
          "Serum_Cholesterol": 268
         },
         {
          "Age": 39,
          "Chest_Pain_Type": 3,
          "Diagnosis": false,
          "Fasting_Blood_Sugar": 0,
          "Max_Heart_Rate": 179,
          "Serum_Cholesterol": 199
         },
         {
          "Age": 67,
          "Chest_Pain_Type": 3,
          "Diagnosis": false,
          "Fasting_Blood_Sugar": 0,
          "Max_Heart_Rate": 172,
          "Serum_Cholesterol": 277
         },
         {
          "Age": 49,
          "Chest_Pain_Type": 3,
          "Diagnosis": true,
          "Fasting_Blood_Sugar": 0,
          "Max_Heart_Rate": 126,
          "Serum_Cholesterol": 149
         },
         {
          "Age": 54,
          "Chest_Pain_Type": 3,
          "Diagnosis": false,
          "Fasting_Blood_Sugar": 0,
          "Max_Heart_Rate": 163,
          "Serum_Cholesterol": 201
         },
         {
          "Age": 38,
          "Chest_Pain_Type": 3,
          "Diagnosis": false,
          "Fasting_Blood_Sugar": 0,
          "Max_Heart_Rate": 173,
          "Serum_Cholesterol": 175
         },
         {
          "Age": 71,
          "Chest_Pain_Type": 3,
          "Diagnosis": false,
          "Fasting_Blood_Sugar": 1,
          "Max_Heart_Rate": 130,
          "Serum_Cholesterol": 265
         },
         {
          "Age": 46,
          "Chest_Pain_Type": 4,
          "Diagnosis": false,
          "Fasting_Blood_Sugar": 0,
          "Max_Heart_Rate": 152,
          "Serum_Cholesterol": 243
         },
         {
          "Age": 60,
          "Chest_Pain_Type": 3,
          "Diagnosis": false,
          "Fasting_Blood_Sugar": 0,
          "Max_Heart_Rate": 160,
          "Serum_Cholesterol": 318
         },
         {
          "Age": 51,
          "Chest_Pain_Type": 3,
          "Diagnosis": false,
          "Fasting_Blood_Sugar": 1,
          "Max_Heart_Rate": 166,
          "Serum_Cholesterol": 245
         },
         {
          "Age": 54,
          "Chest_Pain_Type": 3,
          "Diagnosis": false,
          "Fasting_Blood_Sugar": 0,
          "Max_Heart_Rate": 165,
          "Serum_Cholesterol": 232
         },
         {
          "Age": 37,
          "Chest_Pain_Type": 3,
          "Diagnosis": false,
          "Fasting_Blood_Sugar": 0,
          "Max_Heart_Rate": 187,
          "Serum_Cholesterol": 250
         },
         {
          "Age": 47,
          "Chest_Pain_Type": 3,
          "Diagnosis": false,
          "Fasting_Blood_Sugar": 0,
          "Max_Heart_Rate": 156,
          "Serum_Cholesterol": 257
         },
         {
          "Age": 56,
          "Chest_Pain_Type": 4,
          "Diagnosis": true,
          "Fasting_Blood_Sugar": 0,
          "Max_Heart_Rate": 105,
          "Serum_Cholesterol": 184
         },
         {
          "Age": 59,
          "Chest_Pain_Type": 4,
          "Diagnosis": false,
          "Fasting_Blood_Sugar": 0,
          "Max_Heart_Rate": 182,
          "Serum_Cholesterol": 271
         },
         {
          "Age": 62,
          "Chest_Pain_Type": 2,
          "Diagnosis": false,
          "Fasting_Blood_Sugar": 1,
          "Max_Heart_Rate": 140,
          "Serum_Cholesterol": 208
         },
         {
          "Age": 65,
          "Chest_Pain_Type": 3,
          "Diagnosis": false,
          "Fasting_Blood_Sugar": 1,
          "Max_Heart_Rate": 157,
          "Serum_Cholesterol": 417
         },
         {
          "Age": 74,
          "Chest_Pain_Type": 2,
          "Diagnosis": false,
          "Fasting_Blood_Sugar": 0,
          "Max_Heart_Rate": 121,
          "Serum_Cholesterol": 269
         },
         {
          "Age": 35,
          "Chest_Pain_Type": 4,
          "Diagnosis": false,
          "Fasting_Blood_Sugar": 0,
          "Max_Heart_Rate": 182,
          "Serum_Cholesterol": 183
         },
         {
          "Age": 59,
          "Chest_Pain_Type": 4,
          "Diagnosis": true,
          "Fasting_Blood_Sugar": 0,
          "Max_Heart_Rate": 143,
          "Serum_Cholesterol": 249
         },
         {
          "Age": 65,
          "Chest_Pain_Type": 4,
          "Diagnosis": false,
          "Fasting_Blood_Sugar": 0,
          "Max_Heart_Rate": 140,
          "Serum_Cholesterol": 177
         },
         {
          "Age": 67,
          "Chest_Pain_Type": 4,
          "Diagnosis": true,
          "Fasting_Blood_Sugar": 0,
          "Max_Heart_Rate": 108,
          "Serum_Cholesterol": 286
         },
         {
          "Age": 62,
          "Chest_Pain_Type": 4,
          "Diagnosis": true,
          "Fasting_Blood_Sugar": 0,
          "Max_Heart_Rate": 154,
          "Serum_Cholesterol": 244
         },
         {
          "Age": 48,
          "Chest_Pain_Type": 3,
          "Diagnosis": false,
          "Fasting_Blood_Sugar": 0,
          "Max_Heart_Rate": 139,
          "Serum_Cholesterol": 275
         },
         {
          "Age": 56,
          "Chest_Pain_Type": 3,
          "Diagnosis": true,
          "Fasting_Blood_Sugar": 1,
          "Max_Heart_Rate": 142,
          "Serum_Cholesterol": 256
         },
         {
          "Age": 53,
          "Chest_Pain_Type": 3,
          "Diagnosis": false,
          "Fasting_Blood_Sugar": 1,
          "Max_Heart_Rate": 152,
          "Serum_Cholesterol": 197
         },
         {
          "Age": 50,
          "Chest_Pain_Type": 3,
          "Diagnosis": true,
          "Fasting_Blood_Sugar": 0,
          "Max_Heart_Rate": 163,
          "Serum_Cholesterol": 233
         },
         {
          "Age": 41,
          "Chest_Pain_Type": 3,
          "Diagnosis": false,
          "Fasting_Blood_Sugar": 0,
          "Max_Heart_Rate": 168,
          "Serum_Cholesterol": 214
         },
         {
          "Age": 43,
          "Chest_Pain_Type": 3,
          "Diagnosis": false,
          "Fasting_Blood_Sugar": 0,
          "Max_Heart_Rate": 162,
          "Serum_Cholesterol": 315
         },
         {
          "Age": 50,
          "Chest_Pain_Type": 3,
          "Diagnosis": false,
          "Fasting_Blood_Sugar": 0,
          "Max_Heart_Rate": 158,
          "Serum_Cholesterol": 219
         },
         {
          "Age": 59,
          "Chest_Pain_Type": 1,
          "Diagnosis": false,
          "Fasting_Blood_Sugar": 0,
          "Max_Heart_Rate": 145,
          "Serum_Cholesterol": 270
         },
         {
          "Age": 34,
          "Chest_Pain_Type": 1,
          "Diagnosis": false,
          "Fasting_Blood_Sugar": 0,
          "Max_Heart_Rate": 174,
          "Serum_Cholesterol": 182
         },
         {
          "Age": 42,
          "Chest_Pain_Type": 3,
          "Diagnosis": false,
          "Fasting_Blood_Sugar": 1,
          "Max_Heart_Rate": 194,
          "Serum_Cholesterol": 240
         },
         {
          "Age": 59,
          "Chest_Pain_Type": 3,
          "Diagnosis": false,
          "Fasting_Blood_Sugar": 1,
          "Max_Heart_Rate": 157,
          "Serum_Cholesterol": 212
         },
         {
          "Age": 62,
          "Chest_Pain_Type": 4,
          "Diagnosis": false,
          "Fasting_Blood_Sugar": 0,
          "Max_Heart_Rate": 163,
          "Serum_Cholesterol": 209
         },
         {
          "Age": 60,
          "Chest_Pain_Type": 3,
          "Diagnosis": false,
          "Fasting_Blood_Sugar": 1,
          "Max_Heart_Rate": 96,
          "Serum_Cholesterol": 178
         },
         {
          "Age": 42,
          "Chest_Pain_Type": 3,
          "Diagnosis": false,
          "Fasting_Blood_Sugar": 0,
          "Max_Heart_Rate": 173,
          "Serum_Cholesterol": 209
         },
         {
          "Age": 35,
          "Chest_Pain_Type": 2,
          "Diagnosis": false,
          "Fasting_Blood_Sugar": 0,
          "Max_Heart_Rate": 174,
          "Serum_Cholesterol": 192
         },
         {
          "Age": 64,
          "Chest_Pain_Type": 4,
          "Diagnosis": true,
          "Fasting_Blood_Sugar": 0,
          "Max_Heart_Rate": 96,
          "Serum_Cholesterol": 246
         },
         {
          "Age": 65,
          "Chest_Pain_Type": 3,
          "Diagnosis": false,
          "Fasting_Blood_Sugar": 0,
          "Max_Heart_Rate": 148,
          "Serum_Cholesterol": 269
         },
         {
          "Age": 59,
          "Chest_Pain_Type": 1,
          "Diagnosis": true,
          "Fasting_Blood_Sugar": 0,
          "Max_Heart_Rate": 162,
          "Serum_Cholesterol": 204
         },
         {
          "Age": 60,
          "Chest_Pain_Type": 4,
          "Diagnosis": true,
          "Fasting_Blood_Sugar": 0,
          "Max_Heart_Rate": 170,
          "Serum_Cholesterol": 293
         },
         {
          "Age": 58,
          "Chest_Pain_Type": 4,
          "Diagnosis": true,
          "Fasting_Blood_Sugar": 0,
          "Max_Heart_Rate": 140,
          "Serum_Cholesterol": 318
         },
         {
          "Age": 57,
          "Chest_Pain_Type": 4,
          "Diagnosis": true,
          "Fasting_Blood_Sugar": 1,
          "Max_Heart_Rate": 124,
          "Serum_Cholesterol": 289
         },
         {
          "Age": 45,
          "Chest_Pain_Type": 4,
          "Diagnosis": true,
          "Fasting_Blood_Sugar": 0,
          "Max_Heart_Rate": 147,
          "Serum_Cholesterol": 309
         },
         {
          "Age": 54,
          "Chest_Pain_Type": 4,
          "Diagnosis": true,
          "Fasting_Blood_Sugar": 0,
          "Max_Heart_Rate": 113,
          "Serum_Cholesterol": 188
         },
         {
          "Age": 45,
          "Chest_Pain_Type": 1,
          "Diagnosis": true,
          "Fasting_Blood_Sugar": 0,
          "Max_Heart_Rate": 132,
          "Serum_Cholesterol": 264
         },
         {
          "Age": 35,
          "Chest_Pain_Type": 4,
          "Diagnosis": true,
          "Fasting_Blood_Sugar": 0,
          "Max_Heart_Rate": 156,
          "Serum_Cholesterol": 282
         },
         {
          "Age": 60,
          "Chest_Pain_Type": 4,
          "Diagnosis": true,
          "Fasting_Blood_Sugar": 0,
          "Max_Heart_Rate": 141,
          "Serum_Cholesterol": 258
         },
         {
          "Age": 63,
          "Chest_Pain_Type": 4,
          "Diagnosis": true,
          "Fasting_Blood_Sugar": 1,
          "Max_Heart_Rate": 132,
          "Serum_Cholesterol": 330
         },
         {
          "Age": 66,
          "Chest_Pain_Type": 4,
          "Diagnosis": true,
          "Fasting_Blood_Sugar": 1,
          "Max_Heart_Rate": 165,
          "Serum_Cholesterol": 228
         },
         {
          "Age": 48,
          "Chest_Pain_Type": 4,
          "Diagnosis": true,
          "Fasting_Blood_Sugar": 0,
          "Max_Heart_Rate": 166,
          "Serum_Cholesterol": 274
         },
         {
          "Age": 48,
          "Chest_Pain_Type": 4,
          "Diagnosis": false,
          "Fasting_Blood_Sugar": 0,
          "Max_Heart_Rate": 186,
          "Serum_Cholesterol": 222
         },
         {
          "Age": 55,
          "Chest_Pain_Type": 2,
          "Diagnosis": false,
          "Fasting_Blood_Sugar": 0,
          "Max_Heart_Rate": 161,
          "Serum_Cholesterol": 250
         },
         {
          "Age": 52,
          "Chest_Pain_Type": 4,
          "Diagnosis": false,
          "Fasting_Blood_Sugar": 1,
          "Max_Heart_Rate": 147,
          "Serum_Cholesterol": 233
         },
         {
          "Age": 67,
          "Chest_Pain_Type": 3,
          "Diagnosis": true,
          "Fasting_Blood_Sugar": 0,
          "Max_Heart_Rate": 150,
          "Serum_Cholesterol": 212
         },
         {
          "Age": 52,
          "Chest_Pain_Type": 2,
          "Diagnosis": false,
          "Fasting_Blood_Sugar": 0,
          "Max_Heart_Rate": 172,
          "Serum_Cholesterol": 325
         },
         {
          "Age": 61,
          "Chest_Pain_Type": 3,
          "Diagnosis": false,
          "Fasting_Blood_Sugar": 1,
          "Max_Heart_Rate": 137,
          "Serum_Cholesterol": 243
         },
         {
          "Age": 67,
          "Chest_Pain_Type": 4,
          "Diagnosis": true,
          "Fasting_Blood_Sugar": 0,
          "Max_Heart_Rate": 129,
          "Serum_Cholesterol": 229
         },
         {
          "Age": 59,
          "Chest_Pain_Type": 4,
          "Diagnosis": true,
          "Fasting_Blood_Sugar": 0,
          "Max_Heart_Rate": 140,
          "Serum_Cholesterol": 326
         },
         {
          "Age": 55,
          "Chest_Pain_Type": 2,
          "Diagnosis": false,
          "Fasting_Blood_Sugar": 0,
          "Max_Heart_Rate": 155,
          "Serum_Cholesterol": 262
         },
         {
          "Age": 63,
          "Chest_Pain_Type": 4,
          "Diagnosis": true,
          "Fasting_Blood_Sugar": 0,
          "Max_Heart_Rate": 144,
          "Serum_Cholesterol": 187
         },
         {
          "Age": 51,
          "Chest_Pain_Type": 3,
          "Diagnosis": false,
          "Fasting_Blood_Sugar": 0,
          "Max_Heart_Rate": 157,
          "Serum_Cholesterol": 295
         },
         {
          "Age": 56,
          "Chest_Pain_Type": 4,
          "Diagnosis": true,
          "Fasting_Blood_Sugar": 1,
          "Max_Heart_Rate": 144,
          "Serum_Cholesterol": 249
         },
         {
          "Age": 63,
          "Chest_Pain_Type": 4,
          "Diagnosis": true,
          "Fasting_Blood_Sugar": 0,
          "Max_Heart_Rate": 169,
          "Serum_Cholesterol": 269
         },
         {
          "Age": 64,
          "Chest_Pain_Type": 3,
          "Diagnosis": true,
          "Fasting_Blood_Sugar": 0,
          "Max_Heart_Rate": 158,
          "Serum_Cholesterol": 335
         },
         {
          "Age": 65,
          "Chest_Pain_Type": 4,
          "Diagnosis": true,
          "Fasting_Blood_Sugar": 0,
          "Max_Heart_Rate": 158,
          "Serum_Cholesterol": 248
         },
         {
          "Age": 50,
          "Chest_Pain_Type": 4,
          "Diagnosis": true,
          "Fasting_Blood_Sugar": 0,
          "Max_Heart_Rate": 128,
          "Serum_Cholesterol": 243
         },
         {
          "Age": 56,
          "Chest_Pain_Type": 4,
          "Diagnosis": true,
          "Fasting_Blood_Sugar": 1,
          "Max_Heart_Rate": 133,
          "Serum_Cholesterol": 288
         },
         {
          "Age": 43,
          "Chest_Pain_Type": 4,
          "Diagnosis": true,
          "Fasting_Blood_Sugar": 1,
          "Max_Heart_Rate": 136,
          "Serum_Cholesterol": 341
         },
         {
          "Age": 59,
          "Chest_Pain_Type": 4,
          "Diagnosis": true,
          "Fasting_Blood_Sugar": 0,
          "Max_Heart_Rate": 142,
          "Serum_Cholesterol": 239
         },
         {
          "Age": 34,
          "Chest_Pain_Type": 2,
          "Diagnosis": false,
          "Fasting_Blood_Sugar": 0,
          "Max_Heart_Rate": 192,
          "Serum_Cholesterol": 210
         },
         {
          "Age": 52,
          "Chest_Pain_Type": 4,
          "Diagnosis": true,
          "Fasting_Blood_Sugar": 0,
          "Max_Heart_Rate": 160,
          "Serum_Cholesterol": 230
         },
         {
          "Age": 41,
          "Chest_Pain_Type": 4,
          "Diagnosis": true,
          "Fasting_Blood_Sugar": 0,
          "Max_Heart_Rate": 158,
          "Serum_Cholesterol": 172
         },
         {
          "Age": 55,
          "Chest_Pain_Type": 4,
          "Diagnosis": true,
          "Fasting_Blood_Sugar": 0,
          "Max_Heart_Rate": 111,
          "Serum_Cholesterol": 217
         },
         {
          "Age": 59,
          "Chest_Pain_Type": 4,
          "Diagnosis": true,
          "Fasting_Blood_Sugar": 0,
          "Max_Heart_Rate": 162,
          "Serum_Cholesterol": 177
         },
         {
          "Age": 68,
          "Chest_Pain_Type": 3,
          "Diagnosis": true,
          "Fasting_Blood_Sugar": 1,
          "Max_Heart_Rate": 150,
          "Serum_Cholesterol": 274
         },
         {
          "Age": 54,
          "Chest_Pain_Type": 4,
          "Diagnosis": false,
          "Fasting_Blood_Sugar": 0,
          "Max_Heart_Rate": 160,
          "Serum_Cholesterol": 239
         },
         {
          "Age": 52,
          "Chest_Pain_Type": 3,
          "Diagnosis": false,
          "Fasting_Blood_Sugar": 0,
          "Max_Heart_Rate": 169,
          "Serum_Cholesterol": 196
         },
         {
          "Age": 52,
          "Chest_Pain_Type": 2,
          "Diagnosis": false,
          "Fasting_Blood_Sugar": 0,
          "Max_Heart_Rate": 158,
          "Serum_Cholesterol": 201
         }
        ]
       },
       "encoding": {
        "fill": {
         "field": "Diagnosis",
         "scale": {
          "scheme": "set1"
         },
         "type": "nominal"
        },
        "x": {
         "field": "Chest_Pain_Type",
         "title": "Chest Pain Type",
         "type": "nominal"
        },
        "y": {
         "aggregate": "count",
         "axis": {
          "format": "%"
         },
         "field": "Chest_Pain_Type",
         "stack": "normalize",
         "title": "Proportion of Total Count",
         "type": "quantitative"
        }
       },
       "height": 300,
       "mark": "bar",
       "title": "Proportions of Diagnosis for Chest Pain Type",
       "width": 380
      },
      "image/png": "[encoded data removed]",
      "text/plain": [
       "<VegaLite 4 object>\n",
       "\n",
       "If you see this message, it means the renderer has not been properly enabled\n",
       "for the frontend that you are using. For more information, see\n",
       "https://altair-viz.github.io/user_guide/troubleshooting.html\n"
      ]
     },
     "execution_count": 21,
     "metadata": {},
     "output_type": "execute_result"
    }
   ],
   "source": [
    "diagnosis_dist_plot = (\n",
    "    alt.Chart(heart_train, title=\"Proportions of Diagnosis for Chest Pain Type\" )\n",
    "    .mark_bar()\n",
    "    .encode(\n",
    "        y=alt.Y(\n",
    "            \"count(Chest_Pain_Type):Q\",\n",
    "            stack=\"normalize\",\n",
    "            axis=alt.Axis(format=\"%\"),\n",
    "            title=\"Proportion of Total Count\",\n",
    "        ),\n",
    "        x=alt.X(\"Chest_Pain_Type:N\", title= \"Chest Pain Type\"),\n",
    "        fill=alt.Fill(\n",
    "            \"Diagnosis\", scale=alt.Scale(scheme=\"set1\")\n",
    "        ),  # N is to specify this is a categorical variable\n",
    "    )\n",
    "    .properties(width=380, height=300)\n",
    "    .configure_axis(labelFontSize=18, titleFontSize=18)\n",
    "    .configure_title(fontSize=20)\n",
    ")\n",
    "diagnosis_dist_plot"
   ]
  },
  {
   "cell_type": "markdown",
   "id": "94681e1d-38bf-42be-a410-c997d39ae7d5",
   "metadata": {},
   "source": [
    "### Data Analysis"
   ]
  },
  {
   "cell_type": "markdown",
   "id": "df3c6e47-42a0-4c8e-b37e-1b074c0cdb74",
   "metadata": {},
   "source": [
    "From the given dataset, we selected 5 variables as our predictors in order to prevent redundancy or irrelevance. Adding variables that have with weaker correlations leads to overfitting because it would lead to more noise within our model."
   ]
  },
  {
   "cell_type": "markdown",
   "id": "1a5c783c-4c13-402b-8826-7cebe618389c",
   "metadata": {},
   "source": [
    "The variables we have selected for our model are:\n",
    "- Age: measured in years\n",
    "- Chest pain type (cp): 1 = typical angina, 2 = atypical angina, 3 = non-angina pain, 4 = asymptomatic angina\n",
    "- Serum Cholesterol (chol): measured in mg/dl\n",
    "- Fasting blood sugar (fbs): measured in mg/dL \n",
    "- Maximum heart rate achieved (thalach): measured in beats per min (BPM)"
   ]
  },
  {
   "cell_type": "markdown",
   "id": "19790b59-48b8-4890-ba62-dd1a1e9d9524",
   "metadata": {},
   "source": [
    "#### Splitting the dataset into training and testing data"
   ]
  },
  {
   "cell_type": "code",
   "execution_count": 23,
   "id": "ff2a3bb0-6954-407d-afa4-4fa21333af4c",
   "metadata": {},
   "outputs": [
    {
     "name": "stdout",
     "output_type": "stream",
     "text": [
      "     Age  Chest_Pain_Type  Fasting_Blood_Sugar  Serum_Cholesterol  \\\n",
      "254   43                4                  0.0              303.0   \n",
      "152   67                3                  0.0              564.0   \n",
      "170   70                3                  0.0              269.0   \n",
      "178   43                3                  0.0              315.0   \n",
      "282   55                4                  0.0              205.0   \n",
      "\n",
      "     Max_Heart_Rate  Diagnosis  \n",
      "254             181      False  \n",
      "152             160      False  \n",
      "170             112       True  \n",
      "178             162      False  \n",
      "282             130       True  \n",
      "     Age  Chest_Pain_Type  Fasting_Blood_Sugar  Serum_Cholesterol  \\\n",
      "154   64                4                  0.0              246.0   \n",
      "251   58                4                  0.0              218.0   \n",
      "210   37                3                  0.0              215.0   \n",
      "129   62                4                  0.0              209.0   \n",
      "248   52                4                  0.0              212.0   \n",
      "\n",
      "     Max_Heart_Rate  Diagnosis  \n",
      "154              96       True  \n",
      "251             105       True  \n",
      "210             170      False  \n",
      "129             163      False  \n",
      "248             168       True  \n"
     ]
    }
   ],
   "source": [
    "# We are using 75% of our data as training data and 25% as testing data\n",
    "\n",
    "# We will set the stratify argument to the categorical label variable to ensure that the training and testing subsets contain the right proportions of each category of observation.\n",
    "heart_train, heart_test = train_test_split(\n",
    "    heart_disease_final, train_size=0.75, stratify=heart_disease[\"Diagnosis\"] \n",
    ")\n",
    "\n",
    "\n",
    "print(heart_train.head())\n",
    "print(heart_test.head())"
   ]
  },
  {
   "cell_type": "markdown",
   "id": "7a806dad-268e-452d-8d21-208de1c76010",
   "metadata": {},
   "source": [
    "#### KNN Classification"
   ]
  },
  {
   "cell_type": "markdown",
   "id": "9800a3ea-58ad-45ae-ac8e-4ae68024f875",
   "metadata": {},
   "source": [
    "We first start by doing some preprocessing to standardize our variables. We pass the training data into the preprocessor to compute the preprocessing steps. This is to ensure that our test data does not influence our model in any way."
   ]
  },
  {
   "cell_type": "code",
   "execution_count": 24,
   "id": "b70b15ab-3565-4279-9bdc-dacb837b9dbf",
   "metadata": {},
   "outputs": [
    {
     "data": {
      "text/html": [
       "<style>#sk-container-id-1 {color: black;background-color: white;}#sk-container-id-1 pre{padding: 0;}#sk-container-id-1 div.sk-toggleable {background-color: white;}#sk-container-id-1 label.sk-toggleable__label {cursor: pointer;display: block;width: 100%;margin-bottom: 0;padding: 0.3em;box-sizing: border-box;text-align: center;}#sk-container-id-1 label.sk-toggleable__label-arrow:before {content: \"▸\";float: left;margin-right: 0.25em;color: #696969;}#sk-container-id-1 label.sk-toggleable__label-arrow:hover:before {color: black;}#sk-container-id-1 div.sk-estimator:hover label.sk-toggleable__label-arrow:before {color: black;}#sk-container-id-1 div.sk-toggleable__content {max-height: 0;max-width: 0;overflow: hidden;text-align: left;background-color: #f0f8ff;}#sk-container-id-1 div.sk-toggleable__content pre {margin: 0.2em;color: black;border-radius: 0.25em;background-color: #f0f8ff;}#sk-container-id-1 input.sk-toggleable__control:checked~div.sk-toggleable__content {max-height: 200px;max-width: 100%;overflow: auto;}#sk-container-id-1 input.sk-toggleable__control:checked~label.sk-toggleable__label-arrow:before {content: \"▾\";}#sk-container-id-1 div.sk-estimator input.sk-toggleable__control:checked~label.sk-toggleable__label {background-color: #d4ebff;}#sk-container-id-1 div.sk-label input.sk-toggleable__control:checked~label.sk-toggleable__label {background-color: #d4ebff;}#sk-container-id-1 input.sk-hidden--visually {border: 0;clip: rect(1px 1px 1px 1px);clip: rect(1px, 1px, 1px, 1px);height: 1px;margin: -1px;overflow: hidden;padding: 0;position: absolute;width: 1px;}#sk-container-id-1 div.sk-estimator {font-family: monospace;background-color: #f0f8ff;border: 1px dotted black;border-radius: 0.25em;box-sizing: border-box;margin-bottom: 0.5em;}#sk-container-id-1 div.sk-estimator:hover {background-color: #d4ebff;}#sk-container-id-1 div.sk-parallel-item::after {content: \"\";width: 100%;border-bottom: 1px solid gray;flex-grow: 1;}#sk-container-id-1 div.sk-label:hover label.sk-toggleable__label {background-color: #d4ebff;}#sk-container-id-1 div.sk-serial::before {content: \"\";position: absolute;border-left: 1px solid gray;box-sizing: border-box;top: 0;bottom: 0;left: 50%;z-index: 0;}#sk-container-id-1 div.sk-serial {display: flex;flex-direction: column;align-items: center;background-color: white;padding-right: 0.2em;padding-left: 0.2em;position: relative;}#sk-container-id-1 div.sk-item {position: relative;z-index: 1;}#sk-container-id-1 div.sk-parallel {display: flex;align-items: stretch;justify-content: center;background-color: white;position: relative;}#sk-container-id-1 div.sk-item::before, #sk-container-id-1 div.sk-parallel-item::before {content: \"\";position: absolute;border-left: 1px solid gray;box-sizing: border-box;top: 0;bottom: 0;left: 50%;z-index: -1;}#sk-container-id-1 div.sk-parallel-item {display: flex;flex-direction: column;z-index: 1;position: relative;background-color: white;}#sk-container-id-1 div.sk-parallel-item:first-child::after {align-self: flex-end;width: 50%;}#sk-container-id-1 div.sk-parallel-item:last-child::after {align-self: flex-start;width: 50%;}#sk-container-id-1 div.sk-parallel-item:only-child::after {width: 0;}#sk-container-id-1 div.sk-dashed-wrapped {border: 1px dashed gray;margin: 0 0.4em 0.5em 0.4em;box-sizing: border-box;padding-bottom: 0.4em;background-color: white;}#sk-container-id-1 div.sk-label label {font-family: monospace;font-weight: bold;display: inline-block;line-height: 1.2em;}#sk-container-id-1 div.sk-label-container {text-align: center;}#sk-container-id-1 div.sk-container {/* jupyter's `normalize.less` sets `[hidden] { display: none; }` but bootstrap.min.css set `[hidden] { display: none !important; }` so we also need the `!important` here to be able to override the default hidden behavior on the sphinx rendered scikit-learn.org. See: https://github.com/scikit-learn/scikit-learn/issues/21755 */display: inline-block !important;position: relative;}#sk-container-id-1 div.sk-text-repr-fallback {display: none;}</style><div id=\"sk-container-id-1\" class=\"sk-top-container\"><div class=\"sk-text-repr-fallback\"><pre>ColumnTransformer(transformers=[(&#x27;passthrough&#x27;, &#x27;passthrough&#x27;,\n",
       "                                 [&#x27;Chest_Pain_Type&#x27;, &#x27;Fasting_Blood_Sugar&#x27;]),\n",
       "                                (&#x27;standardscaler&#x27;, StandardScaler(),\n",
       "                                 [&#x27;Age&#x27;, &#x27;Serum_Cholesterol&#x27;,\n",
       "                                  &#x27;Max_Heart_Rate&#x27;])])</pre><b>In a Jupyter environment, please rerun this cell to show the HTML representation or trust the notebook. <br />On GitHub, the HTML representation is unable to render, please try loading this page with nbviewer.org.</b></div><div class=\"sk-container\" hidden><div class=\"sk-item sk-dashed-wrapped\"><div class=\"sk-label-container\"><div class=\"sk-label sk-toggleable\"><input class=\"sk-toggleable__control sk-hidden--visually\" id=\"sk-estimator-id-1\" type=\"checkbox\" ><label for=\"sk-estimator-id-1\" class=\"sk-toggleable__label sk-toggleable__label-arrow\">ColumnTransformer</label><div class=\"sk-toggleable__content\"><pre>ColumnTransformer(transformers=[(&#x27;passthrough&#x27;, &#x27;passthrough&#x27;,\n",
       "                                 [&#x27;Chest_Pain_Type&#x27;, &#x27;Fasting_Blood_Sugar&#x27;]),\n",
       "                                (&#x27;standardscaler&#x27;, StandardScaler(),\n",
       "                                 [&#x27;Age&#x27;, &#x27;Serum_Cholesterol&#x27;,\n",
       "                                  &#x27;Max_Heart_Rate&#x27;])])</pre></div></div></div><div class=\"sk-parallel\"><div class=\"sk-parallel-item\"><div class=\"sk-item\"><div class=\"sk-label-container\"><div class=\"sk-label sk-toggleable\"><input class=\"sk-toggleable__control sk-hidden--visually\" id=\"sk-estimator-id-2\" type=\"checkbox\" ><label for=\"sk-estimator-id-2\" class=\"sk-toggleable__label sk-toggleable__label-arrow\">passthrough</label><div class=\"sk-toggleable__content\"><pre>[&#x27;Chest_Pain_Type&#x27;, &#x27;Fasting_Blood_Sugar&#x27;]</pre></div></div></div><div class=\"sk-serial\"><div class=\"sk-item\"><div class=\"sk-estimator sk-toggleable\"><input class=\"sk-toggleable__control sk-hidden--visually\" id=\"sk-estimator-id-3\" type=\"checkbox\" ><label for=\"sk-estimator-id-3\" class=\"sk-toggleable__label sk-toggleable__label-arrow\">passthrough</label><div class=\"sk-toggleable__content\"><pre>passthrough</pre></div></div></div></div></div></div><div class=\"sk-parallel-item\"><div class=\"sk-item\"><div class=\"sk-label-container\"><div class=\"sk-label sk-toggleable\"><input class=\"sk-toggleable__control sk-hidden--visually\" id=\"sk-estimator-id-4\" type=\"checkbox\" ><label for=\"sk-estimator-id-4\" class=\"sk-toggleable__label sk-toggleable__label-arrow\">standardscaler</label><div class=\"sk-toggleable__content\"><pre>[&#x27;Age&#x27;, &#x27;Serum_Cholesterol&#x27;, &#x27;Max_Heart_Rate&#x27;]</pre></div></div></div><div class=\"sk-serial\"><div class=\"sk-item\"><div class=\"sk-estimator sk-toggleable\"><input class=\"sk-toggleable__control sk-hidden--visually\" id=\"sk-estimator-id-5\" type=\"checkbox\" ><label for=\"sk-estimator-id-5\" class=\"sk-toggleable__label sk-toggleable__label-arrow\">StandardScaler</label><div class=\"sk-toggleable__content\"><pre>StandardScaler()</pre></div></div></div></div></div></div></div></div></div></div>"
      ],
      "text/plain": [
       "ColumnTransformer(transformers=[('passthrough', 'passthrough',\n",
       "                                 ['Chest_Pain_Type', 'Fasting_Blood_Sugar']),\n",
       "                                ('standardscaler', StandardScaler(),\n",
       "                                 ['Age', 'Serum_Cholesterol',\n",
       "                                  'Max_Heart_Rate'])])"
      ]
     },
     "execution_count": 24,
     "metadata": {},
     "output_type": "execute_result"
    }
   ],
   "source": [
    "# We apply the standardization steps to the numeric predictor variables only\n",
    "heart_preprocessor = make_column_transformer(\n",
    "    (\n",
    "        \"passthrough\",\n",
    "        [\n",
    "            \"Chest_Pain_Type\",\n",
    "            \"Fasting_Blood_Sugar\",\n",
    "        ],\n",
    "    ),\n",
    "    (StandardScaler(), [\"Age\", \"Serum_Cholesterol\", \"Max_Heart_Rate\"]),\n",
    ")\n",
    "\n",
    "heart_preprocessor"
   ]
  },
  {
   "cell_type": "markdown",
   "id": "0c2c14a5-7c15-48d8-a294-c0c5b76963ce",
   "metadata": {},
   "source": [
    "#### Deciding which value of K to use"
   ]
  },
  {
   "cell_type": "markdown",
   "id": "ae8ebdcf-3644-47c1-973f-009f503cc3ee",
   "metadata": {},
   "source": [
    "First, we create a pipeline which has the number of neighbors left unspecified."
   ]
  },
  {
   "cell_type": "code",
   "execution_count": 25,
   "id": "e7d66d80-377c-4bb9-9f35-cabc6fbb6dfb",
   "metadata": {},
   "outputs": [],
   "source": [
    "knn = KNeighborsClassifier()\n",
    "\n",
    "heart_tune_pipe = make_pipeline(heart_preprocessor, knn)\n"
   ]
  },
  {
   "cell_type": "markdown",
   "id": "5c27cb40-dbdd-4fc1-919f-cefb5af4ae7b",
   "metadata": {},
   "source": [
    "We now construct the parameter_grid dictionary that will tell GridSearchCV what parameter values to try. "
   ]
  },
  {
   "cell_type": "code",
   "execution_count": 36,
   "id": "e3029bb5-8205-4aac-b6dc-d132b37b265c",
   "metadata": {},
   "outputs": [],
   "source": [
    "# We specify the range of K values here\n",
    "param_grid = {\n",
    "    \"kneighborsclassifier__n_neighbors\": range(2, 15, 1),\n",
    "}"
   ]
  },
  {
   "cell_type": "markdown",
   "id": "813e9058-83ca-4541-8968-e109e4b51ab2",
   "metadata": {},
   "source": [
    "Then, we create the GridSearchCV object where we specify the heart_tune_pipe as the estimator argument, param_grid as the param_grid argument and specify cv=10 for 10 fold cross validation. Finally, we use the fit method on the GridSearchCV object to begin the tuning process."
   ]
  },
  {
   "cell_type": "code",
   "execution_count": 37,
   "id": "4de66678-7f13-4d8d-821d-68d2192a1d51",
   "metadata": {},
   "outputs": [
    {
     "data": {
      "text/html": [
       "<div>\n",
       "<style scoped>\n",
       "    .dataframe tbody tr th:only-of-type {\n",
       "        vertical-align: middle;\n",
       "    }\n",
       "\n",
       "    .dataframe tbody tr th {\n",
       "        vertical-align: top;\n",
       "    }\n",
       "\n",
       "    .dataframe thead th {\n",
       "        text-align: right;\n",
       "    }\n",
       "</style>\n",
       "<table border=\"1\" class=\"dataframe\">\n",
       "  <thead>\n",
       "    <tr style=\"text-align: right;\">\n",
       "      <th></th>\n",
       "      <th>mean_fit_time</th>\n",
       "      <th>std_fit_time</th>\n",
       "      <th>mean_score_time</th>\n",
       "      <th>std_score_time</th>\n",
       "      <th>param_kneighborsclassifier__n_neighbors</th>\n",
       "      <th>params</th>\n",
       "      <th>split0_test_score</th>\n",
       "      <th>split1_test_score</th>\n",
       "      <th>split2_test_score</th>\n",
       "      <th>split3_test_score</th>\n",
       "      <th>split4_test_score</th>\n",
       "      <th>split5_test_score</th>\n",
       "      <th>split6_test_score</th>\n",
       "      <th>split7_test_score</th>\n",
       "      <th>split8_test_score</th>\n",
       "      <th>split9_test_score</th>\n",
       "      <th>mean_test_score</th>\n",
       "      <th>std_test_score</th>\n",
       "      <th>rank_test_score</th>\n",
       "    </tr>\n",
       "  </thead>\n",
       "  <tbody>\n",
       "    <tr>\n",
       "      <th>0</th>\n",
       "      <td>0.025850</td>\n",
       "      <td>0.001488</td>\n",
       "      <td>0.020546</td>\n",
       "      <td>0.000451</td>\n",
       "      <td>2</td>\n",
       "      <td>{'kneighborsclassifier__n_neighbors': 2}</td>\n",
       "      <td>0.826087</td>\n",
       "      <td>0.521739</td>\n",
       "      <td>0.695652</td>\n",
       "      <td>0.608696</td>\n",
       "      <td>0.608696</td>\n",
       "      <td>0.608696</td>\n",
       "      <td>0.478261</td>\n",
       "      <td>0.818182</td>\n",
       "      <td>0.545455</td>\n",
       "      <td>0.818182</td>\n",
       "      <td>0.652964</td>\n",
       "      <td>0.123112</td>\n",
       "      <td>13</td>\n",
       "    </tr>\n",
       "    <tr>\n",
       "      <th>1</th>\n",
       "      <td>0.024482</td>\n",
       "      <td>0.000661</td>\n",
       "      <td>0.020028</td>\n",
       "      <td>0.000406</td>\n",
       "      <td>3</td>\n",
       "      <td>{'kneighborsclassifier__n_neighbors': 3}</td>\n",
       "      <td>0.782609</td>\n",
       "      <td>0.521739</td>\n",
       "      <td>0.739130</td>\n",
       "      <td>0.521739</td>\n",
       "      <td>0.652174</td>\n",
       "      <td>0.652174</td>\n",
       "      <td>0.608696</td>\n",
       "      <td>0.818182</td>\n",
       "      <td>0.454545</td>\n",
       "      <td>0.818182</td>\n",
       "      <td>0.656917</td>\n",
       "      <td>0.124274</td>\n",
       "      <td>12</td>\n",
       "    </tr>\n",
       "    <tr>\n",
       "      <th>2</th>\n",
       "      <td>0.026020</td>\n",
       "      <td>0.002161</td>\n",
       "      <td>0.020966</td>\n",
       "      <td>0.000513</td>\n",
       "      <td>4</td>\n",
       "      <td>{'kneighborsclassifier__n_neighbors': 4}</td>\n",
       "      <td>0.913043</td>\n",
       "      <td>0.565217</td>\n",
       "      <td>0.913043</td>\n",
       "      <td>0.608696</td>\n",
       "      <td>0.652174</td>\n",
       "      <td>0.652174</td>\n",
       "      <td>0.521739</td>\n",
       "      <td>0.863636</td>\n",
       "      <td>0.545455</td>\n",
       "      <td>0.727273</td>\n",
       "      <td>0.696245</td>\n",
       "      <td>0.143141</td>\n",
       "      <td>10</td>\n",
       "    </tr>\n",
       "    <tr>\n",
       "      <th>3</th>\n",
       "      <td>0.021898</td>\n",
       "      <td>0.006203</td>\n",
       "      <td>0.017031</td>\n",
       "      <td>0.005659</td>\n",
       "      <td>5</td>\n",
       "      <td>{'kneighborsclassifier__n_neighbors': 5}</td>\n",
       "      <td>0.913043</td>\n",
       "      <td>0.521739</td>\n",
       "      <td>0.869565</td>\n",
       "      <td>0.565217</td>\n",
       "      <td>0.695652</td>\n",
       "      <td>0.739130</td>\n",
       "      <td>0.565217</td>\n",
       "      <td>0.772727</td>\n",
       "      <td>0.545455</td>\n",
       "      <td>0.909091</td>\n",
       "      <td>0.709684</td>\n",
       "      <td>0.146886</td>\n",
       "      <td>6</td>\n",
       "    </tr>\n",
       "    <tr>\n",
       "      <th>4</th>\n",
       "      <td>0.011311</td>\n",
       "      <td>0.007793</td>\n",
       "      <td>0.007172</td>\n",
       "      <td>0.000263</td>\n",
       "      <td>6</td>\n",
       "      <td>{'kneighborsclassifier__n_neighbors': 6}</td>\n",
       "      <td>0.869565</td>\n",
       "      <td>0.521739</td>\n",
       "      <td>0.869565</td>\n",
       "      <td>0.608696</td>\n",
       "      <td>0.652174</td>\n",
       "      <td>0.695652</td>\n",
       "      <td>0.521739</td>\n",
       "      <td>0.772727</td>\n",
       "      <td>0.545455</td>\n",
       "      <td>0.954545</td>\n",
       "      <td>0.701186</td>\n",
       "      <td>0.150218</td>\n",
       "      <td>8</td>\n",
       "    </tr>\n",
       "    <tr>\n",
       "      <th>5</th>\n",
       "      <td>0.024752</td>\n",
       "      <td>0.025831</td>\n",
       "      <td>0.013450</td>\n",
       "      <td>0.012085</td>\n",
       "      <td>7</td>\n",
       "      <td>{'kneighborsclassifier__n_neighbors': 7}</td>\n",
       "      <td>0.869565</td>\n",
       "      <td>0.434783</td>\n",
       "      <td>0.826087</td>\n",
       "      <td>0.521739</td>\n",
       "      <td>0.695652</td>\n",
       "      <td>0.695652</td>\n",
       "      <td>0.608696</td>\n",
       "      <td>0.727273</td>\n",
       "      <td>0.545455</td>\n",
       "      <td>0.954545</td>\n",
       "      <td>0.687945</td>\n",
       "      <td>0.155920</td>\n",
       "      <td>11</td>\n",
       "    </tr>\n",
       "    <tr>\n",
       "      <th>6</th>\n",
       "      <td>0.080245</td>\n",
       "      <td>0.007713</td>\n",
       "      <td>0.026911</td>\n",
       "      <td>0.019313</td>\n",
       "      <td>8</td>\n",
       "      <td>{'kneighborsclassifier__n_neighbors': 8}</td>\n",
       "      <td>0.913043</td>\n",
       "      <td>0.434783</td>\n",
       "      <td>0.826087</td>\n",
       "      <td>0.565217</td>\n",
       "      <td>0.652174</td>\n",
       "      <td>0.695652</td>\n",
       "      <td>0.652174</td>\n",
       "      <td>0.818182</td>\n",
       "      <td>0.590909</td>\n",
       "      <td>0.954545</td>\n",
       "      <td>0.710277</td>\n",
       "      <td>0.156202</td>\n",
       "      <td>4</td>\n",
       "    </tr>\n",
       "    <tr>\n",
       "      <th>7</th>\n",
       "      <td>0.039958</td>\n",
       "      <td>0.023399</td>\n",
       "      <td>0.055514</td>\n",
       "      <td>0.022908</td>\n",
       "      <td>9</td>\n",
       "      <td>{'kneighborsclassifier__n_neighbors': 9}</td>\n",
       "      <td>0.913043</td>\n",
       "      <td>0.434783</td>\n",
       "      <td>0.782609</td>\n",
       "      <td>0.565217</td>\n",
       "      <td>0.739130</td>\n",
       "      <td>0.695652</td>\n",
       "      <td>0.652174</td>\n",
       "      <td>0.818182</td>\n",
       "      <td>0.590909</td>\n",
       "      <td>0.954545</td>\n",
       "      <td>0.714625</td>\n",
       "      <td>0.152669</td>\n",
       "      <td>2</td>\n",
       "    </tr>\n",
       "    <tr>\n",
       "      <th>8</th>\n",
       "      <td>0.045658</td>\n",
       "      <td>0.024565</td>\n",
       "      <td>0.052685</td>\n",
       "      <td>0.026348</td>\n",
       "      <td>10</td>\n",
       "      <td>{'kneighborsclassifier__n_neighbors': 10}</td>\n",
       "      <td>0.913043</td>\n",
       "      <td>0.521739</td>\n",
       "      <td>0.913043</td>\n",
       "      <td>0.478261</td>\n",
       "      <td>0.695652</td>\n",
       "      <td>0.695652</td>\n",
       "      <td>0.652174</td>\n",
       "      <td>0.772727</td>\n",
       "      <td>0.500000</td>\n",
       "      <td>0.863636</td>\n",
       "      <td>0.700593</td>\n",
       "      <td>0.156878</td>\n",
       "      <td>9</td>\n",
       "    </tr>\n",
       "    <tr>\n",
       "      <th>9</th>\n",
       "      <td>0.045926</td>\n",
       "      <td>0.031623</td>\n",
       "      <td>0.045596</td>\n",
       "      <td>0.028645</td>\n",
       "      <td>11</td>\n",
       "      <td>{'kneighborsclassifier__n_neighbors': 11}</td>\n",
       "      <td>0.913043</td>\n",
       "      <td>0.521739</td>\n",
       "      <td>0.826087</td>\n",
       "      <td>0.478261</td>\n",
       "      <td>0.695652</td>\n",
       "      <td>0.652174</td>\n",
       "      <td>0.652174</td>\n",
       "      <td>0.818182</td>\n",
       "      <td>0.636364</td>\n",
       "      <td>0.909091</td>\n",
       "      <td>0.710277</td>\n",
       "      <td>0.144050</td>\n",
       "      <td>4</td>\n",
       "    </tr>\n",
       "    <tr>\n",
       "      <th>10</th>\n",
       "      <td>0.027689</td>\n",
       "      <td>0.008722</td>\n",
       "      <td>0.025070</td>\n",
       "      <td>0.013843</td>\n",
       "      <td>12</td>\n",
       "      <td>{'kneighborsclassifier__n_neighbors': 12}</td>\n",
       "      <td>0.913043</td>\n",
       "      <td>0.608696</td>\n",
       "      <td>0.869565</td>\n",
       "      <td>0.478261</td>\n",
       "      <td>0.695652</td>\n",
       "      <td>0.652174</td>\n",
       "      <td>0.652174</td>\n",
       "      <td>0.727273</td>\n",
       "      <td>0.590909</td>\n",
       "      <td>0.863636</td>\n",
       "      <td>0.705138</td>\n",
       "      <td>0.132437</td>\n",
       "      <td>7</td>\n",
       "    </tr>\n",
       "    <tr>\n",
       "      <th>11</th>\n",
       "      <td>0.017879</td>\n",
       "      <td>0.008130</td>\n",
       "      <td>0.013943</td>\n",
       "      <td>0.006484</td>\n",
       "      <td>13</td>\n",
       "      <td>{'kneighborsclassifier__n_neighbors': 13}</td>\n",
       "      <td>0.913043</td>\n",
       "      <td>0.565217</td>\n",
       "      <td>0.913043</td>\n",
       "      <td>0.478261</td>\n",
       "      <td>0.695652</td>\n",
       "      <td>0.695652</td>\n",
       "      <td>0.652174</td>\n",
       "      <td>0.772727</td>\n",
       "      <td>0.636364</td>\n",
       "      <td>0.863636</td>\n",
       "      <td>0.718577</td>\n",
       "      <td>0.138960</td>\n",
       "      <td>1</td>\n",
       "    </tr>\n",
       "    <tr>\n",
       "      <th>12</th>\n",
       "      <td>0.007983</td>\n",
       "      <td>0.000151</td>\n",
       "      <td>0.006639</td>\n",
       "      <td>0.000145</td>\n",
       "      <td>14</td>\n",
       "      <td>{'kneighborsclassifier__n_neighbors': 14}</td>\n",
       "      <td>0.913043</td>\n",
       "      <td>0.565217</td>\n",
       "      <td>0.913043</td>\n",
       "      <td>0.478261</td>\n",
       "      <td>0.695652</td>\n",
       "      <td>0.739130</td>\n",
       "      <td>0.695652</td>\n",
       "      <td>0.727273</td>\n",
       "      <td>0.545455</td>\n",
       "      <td>0.863636</td>\n",
       "      <td>0.713636</td>\n",
       "      <td>0.144646</td>\n",
       "      <td>3</td>\n",
       "    </tr>\n",
       "  </tbody>\n",
       "</table>\n",
       "</div>"
      ],
      "text/plain": [
       "    mean_fit_time  std_fit_time  mean_score_time  std_score_time  \\\n",
       "0        0.025850      0.001488         0.020546        0.000451   \n",
       "1        0.024482      0.000661         0.020028        0.000406   \n",
       "2        0.026020      0.002161         0.020966        0.000513   \n",
       "3        0.021898      0.006203         0.017031        0.005659   \n",
       "4        0.011311      0.007793         0.007172        0.000263   \n",
       "5        0.024752      0.025831         0.013450        0.012085   \n",
       "6        0.080245      0.007713         0.026911        0.019313   \n",
       "7        0.039958      0.023399         0.055514        0.022908   \n",
       "8        0.045658      0.024565         0.052685        0.026348   \n",
       "9        0.045926      0.031623         0.045596        0.028645   \n",
       "10       0.027689      0.008722         0.025070        0.013843   \n",
       "11       0.017879      0.008130         0.013943        0.006484   \n",
       "12       0.007983      0.000151         0.006639        0.000145   \n",
       "\n",
       "   param_kneighborsclassifier__n_neighbors  \\\n",
       "0                                        2   \n",
       "1                                        3   \n",
       "2                                        4   \n",
       "3                                        5   \n",
       "4                                        6   \n",
       "5                                        7   \n",
       "6                                        8   \n",
       "7                                        9   \n",
       "8                                       10   \n",
       "9                                       11   \n",
       "10                                      12   \n",
       "11                                      13   \n",
       "12                                      14   \n",
       "\n",
       "                                       params  split0_test_score  \\\n",
       "0    {'kneighborsclassifier__n_neighbors': 2}           0.826087   \n",
       "1    {'kneighborsclassifier__n_neighbors': 3}           0.782609   \n",
       "2    {'kneighborsclassifier__n_neighbors': 4}           0.913043   \n",
       "3    {'kneighborsclassifier__n_neighbors': 5}           0.913043   \n",
       "4    {'kneighborsclassifier__n_neighbors': 6}           0.869565   \n",
       "5    {'kneighborsclassifier__n_neighbors': 7}           0.869565   \n",
       "6    {'kneighborsclassifier__n_neighbors': 8}           0.913043   \n",
       "7    {'kneighborsclassifier__n_neighbors': 9}           0.913043   \n",
       "8   {'kneighborsclassifier__n_neighbors': 10}           0.913043   \n",
       "9   {'kneighborsclassifier__n_neighbors': 11}           0.913043   \n",
       "10  {'kneighborsclassifier__n_neighbors': 12}           0.913043   \n",
       "11  {'kneighborsclassifier__n_neighbors': 13}           0.913043   \n",
       "12  {'kneighborsclassifier__n_neighbors': 14}           0.913043   \n",
       "\n",
       "    split1_test_score  split2_test_score  split3_test_score  \\\n",
       "0            0.521739           0.695652           0.608696   \n",
       "1            0.521739           0.739130           0.521739   \n",
       "2            0.565217           0.913043           0.608696   \n",
       "3            0.521739           0.869565           0.565217   \n",
       "4            0.521739           0.869565           0.608696   \n",
       "5            0.434783           0.826087           0.521739   \n",
       "6            0.434783           0.826087           0.565217   \n",
       "7            0.434783           0.782609           0.565217   \n",
       "8            0.521739           0.913043           0.478261   \n",
       "9            0.521739           0.826087           0.478261   \n",
       "10           0.608696           0.869565           0.478261   \n",
       "11           0.565217           0.913043           0.478261   \n",
       "12           0.565217           0.913043           0.478261   \n",
       "\n",
       "    split4_test_score  split5_test_score  split6_test_score  \\\n",
       "0            0.608696           0.608696           0.478261   \n",
       "1            0.652174           0.652174           0.608696   \n",
       "2            0.652174           0.652174           0.521739   \n",
       "3            0.695652           0.739130           0.565217   \n",
       "4            0.652174           0.695652           0.521739   \n",
       "5            0.695652           0.695652           0.608696   \n",
       "6            0.652174           0.695652           0.652174   \n",
       "7            0.739130           0.695652           0.652174   \n",
       "8            0.695652           0.695652           0.652174   \n",
       "9            0.695652           0.652174           0.652174   \n",
       "10           0.695652           0.652174           0.652174   \n",
       "11           0.695652           0.695652           0.652174   \n",
       "12           0.695652           0.739130           0.695652   \n",
       "\n",
       "    split7_test_score  split8_test_score  split9_test_score  mean_test_score  \\\n",
       "0            0.818182           0.545455           0.818182         0.652964   \n",
       "1            0.818182           0.454545           0.818182         0.656917   \n",
       "2            0.863636           0.545455           0.727273         0.696245   \n",
       "3            0.772727           0.545455           0.909091         0.709684   \n",
       "4            0.772727           0.545455           0.954545         0.701186   \n",
       "5            0.727273           0.545455           0.954545         0.687945   \n",
       "6            0.818182           0.590909           0.954545         0.710277   \n",
       "7            0.818182           0.590909           0.954545         0.714625   \n",
       "8            0.772727           0.500000           0.863636         0.700593   \n",
       "9            0.818182           0.636364           0.909091         0.710277   \n",
       "10           0.727273           0.590909           0.863636         0.705138   \n",
       "11           0.772727           0.636364           0.863636         0.718577   \n",
       "12           0.727273           0.545455           0.863636         0.713636   \n",
       "\n",
       "    std_test_score  rank_test_score  \n",
       "0         0.123112               13  \n",
       "1         0.124274               12  \n",
       "2         0.143141               10  \n",
       "3         0.146886                6  \n",
       "4         0.150218                8  \n",
       "5         0.155920               11  \n",
       "6         0.156202                4  \n",
       "7         0.152669                2  \n",
       "8         0.156878                9  \n",
       "9         0.144050                4  \n",
       "10        0.132437                7  \n",
       "11        0.138960                1  \n",
       "12        0.144646                3  "
      ]
     },
     "execution_count": 37,
     "metadata": {},
     "output_type": "execute_result"
    }
   ],
   "source": [
    "heart_tune_grid = GridSearchCV(\n",
    "    estimator=heart_tune_pipe,\n",
    "    param_grid=param_grid,\n",
    "    cv=10\n",
    ")\n",
    "\n",
    "# We pass the training data predictors and labels as the two arguments to fit \n",
    "# We will wrap it in a pd.DataFrame to make it easier to understand, and print the info of the result.\n",
    "\n",
    "\n",
    "X_tune = heart_train.drop(columns=[\"Diagnosis\"])\n",
    "y_tune = heart_train[\"Diagnosis\"]\n",
    "# heart_train\n",
    "knn_model_grid = heart_tune_grid.fit(X_tune, y_tune)\n",
    "# X_tune\n",
    "\n",
    "accuracies_grid = pd.DataFrame(knn_model_grid.cv_results_)\n",
    "\n",
    "accuracies_grid"
   ]
  },
  {
   "cell_type": "markdown",
   "id": "8a25fae3-e359-48e9-9e38-570de60d801b",
   "metadata": {},
   "source": [
    "Next, we create a line plot that will help us decide which value of k to choose."
   ]
  },
  {
   "cell_type": "code",
   "execution_count": 38,
   "id": "58d50b32-183f-47c2-844e-c56ff884f20d",
   "metadata": {},
   "outputs": [
    {
     "name": "stderr",
     "output_type": "stream",
     "text": [
      "/opt/conda/lib/python3.10/site-packages/altair/utils/core.py:317: FutureWarning: iteritems is deprecated and will be removed in a future version. Use .items instead.\n",
      "  for col_name, dtype in df.dtypes.iteritems():\n"
     ]
    },
    {
     "data": {
      "application/vnd.vegalite.v4+json": {
       "$schema": "https://vega.github.io/schema/vega-lite/v4.17.0.json",
       "config": {
        "axis": {
         "labelFontSize": 10,
         "titleFontSize": 15
        },
        "view": {
         "continuousHeight": 300,
         "continuousWidth": 400
        }
       },
       "data": {
        "name": "data-4f553075d2ed217460e6068b24ffc756"
       },
       "datasets": {
        "data-4f553075d2ed217460e6068b24ffc756": [
         {
          "mean_fit_time": 0.025849747657775878,
          "mean_score_time": 0.020545697212219237,
          "mean_test_score": 0.6529644268774704,
          "param_kneighborsclassifier__n_neighbors": 2,
          "params": {
           "kneighborsclassifier__n_neighbors": 2
          },
          "rank_test_score": 13,
          "split0_test_score": 0.8260869565217391,
          "split1_test_score": 0.5217391304347826,
          "split2_test_score": 0.6956521739130435,
          "split3_test_score": 0.6086956521739131,
          "split4_test_score": 0.6086956521739131,
          "split5_test_score": 0.6086956521739131,
          "split6_test_score": 0.4782608695652174,
          "split7_test_score": 0.8181818181818182,
          "split8_test_score": 0.5454545454545454,
          "split9_test_score": 0.8181818181818182,
          "std_fit_time": 0.0014879744552512336,
          "std_score_time": 0.00045071130791650026,
          "std_test_score": 0.12311221954180383
         },
         {
          "mean_fit_time": 0.024481892585754395,
          "mean_score_time": 0.020028209686279295,
          "mean_test_score": 0.6569169960474308,
          "param_kneighborsclassifier__n_neighbors": 3,
          "params": {
           "kneighborsclassifier__n_neighbors": 3
          },
          "rank_test_score": 12,
          "split0_test_score": 0.782608695652174,
          "split1_test_score": 0.5217391304347826,
          "split2_test_score": 0.7391304347826086,
          "split3_test_score": 0.5217391304347826,
          "split4_test_score": 0.6521739130434783,
          "split5_test_score": 0.6521739130434783,
          "split6_test_score": 0.6086956521739131,
          "split7_test_score": 0.8181818181818182,
          "split8_test_score": 0.45454545454545453,
          "split9_test_score": 0.8181818181818182,
          "std_fit_time": 0.0006614586271063397,
          "std_score_time": 0.00040612120548172567,
          "std_test_score": 0.12427420559595796
         },
         {
          "mean_fit_time": 0.026019644737243653,
          "mean_score_time": 0.020966482162475587,
          "mean_test_score": 0.6962450592885376,
          "param_kneighborsclassifier__n_neighbors": 4,
          "params": {
           "kneighborsclassifier__n_neighbors": 4
          },
          "rank_test_score": 10,
          "split0_test_score": 0.9130434782608695,
          "split1_test_score": 0.5652173913043478,
          "split2_test_score": 0.9130434782608695,
          "split3_test_score": 0.6086956521739131,
          "split4_test_score": 0.6521739130434783,
          "split5_test_score": 0.6521739130434783,
          "split6_test_score": 0.5217391304347826,
          "split7_test_score": 0.8636363636363636,
          "split8_test_score": 0.5454545454545454,
          "split9_test_score": 0.7272727272727273,
          "std_fit_time": 0.0021612089317518965,
          "std_score_time": 0.0005125637352152727,
          "std_test_score": 0.14314099779002679
         },
         {
          "mean_fit_time": 0.021898317337036132,
          "mean_score_time": 0.01703059673309326,
          "mean_test_score": 0.7096837944664031,
          "param_kneighborsclassifier__n_neighbors": 5,
          "params": {
           "kneighborsclassifier__n_neighbors": 5
          },
          "rank_test_score": 6,
          "split0_test_score": 0.9130434782608695,
          "split1_test_score": 0.5217391304347826,
          "split2_test_score": 0.8695652173913043,
          "split3_test_score": 0.5652173913043478,
          "split4_test_score": 0.6956521739130435,
          "split5_test_score": 0.7391304347826086,
          "split6_test_score": 0.5652173913043478,
          "split7_test_score": 0.7727272727272727,
          "split8_test_score": 0.5454545454545454,
          "split9_test_score": 0.9090909090909091,
          "std_fit_time": 0.006203452425967521,
          "std_score_time": 0.005658683688820092,
          "std_test_score": 0.14688581454958885
         },
         {
          "mean_fit_time": 0.011310839653015136,
          "mean_score_time": 0.0071724653244018555,
          "mean_test_score": 0.7011857707509881,
          "param_kneighborsclassifier__n_neighbors": 6,
          "params": {
           "kneighborsclassifier__n_neighbors": 6
          },
          "rank_test_score": 8,
          "split0_test_score": 0.8695652173913043,
          "split1_test_score": 0.5217391304347826,
          "split2_test_score": 0.8695652173913043,
          "split3_test_score": 0.6086956521739131,
          "split4_test_score": 0.6521739130434783,
          "split5_test_score": 0.6956521739130435,
          "split6_test_score": 0.5217391304347826,
          "split7_test_score": 0.7727272727272727,
          "split8_test_score": 0.5454545454545454,
          "split9_test_score": 0.9545454545454546,
          "std_fit_time": 0.007792909805124019,
          "std_score_time": 0.0002626248612911871,
          "std_test_score": 0.150217910009905
         },
         {
          "mean_fit_time": 0.024751925468444826,
          "mean_score_time": 0.013450336456298829,
          "mean_test_score": 0.6879446640316207,
          "param_kneighborsclassifier__n_neighbors": 7,
          "params": {
           "kneighborsclassifier__n_neighbors": 7
          },
          "rank_test_score": 11,
          "split0_test_score": 0.8695652173913043,
          "split1_test_score": 0.43478260869565216,
          "split2_test_score": 0.8260869565217391,
          "split3_test_score": 0.5217391304347826,
          "split4_test_score": 0.6956521739130435,
          "split5_test_score": 0.6956521739130435,
          "split6_test_score": 0.6086956521739131,
          "split7_test_score": 0.7272727272727273,
          "split8_test_score": 0.5454545454545454,
          "split9_test_score": 0.9545454545454546,
          "std_fit_time": 0.025830907145310132,
          "std_score_time": 0.012085382180905406,
          "std_test_score": 0.1559198362261258
         },
         {
          "mean_fit_time": 0.08024492263793945,
          "mean_score_time": 0.026910853385925294,
          "mean_test_score": 0.7102766798418972,
          "param_kneighborsclassifier__n_neighbors": 8,
          "params": {
           "kneighborsclassifier__n_neighbors": 8
          },
          "rank_test_score": 4,
          "split0_test_score": 0.9130434782608695,
          "split1_test_score": 0.43478260869565216,
          "split2_test_score": 0.8260869565217391,
          "split3_test_score": 0.5652173913043478,
          "split4_test_score": 0.6521739130434783,
          "split5_test_score": 0.6956521739130435,
          "split6_test_score": 0.6521739130434783,
          "split7_test_score": 0.8181818181818182,
          "split8_test_score": 0.5909090909090909,
          "split9_test_score": 0.9545454545454546,
          "std_fit_time": 0.007713363225319637,
          "std_score_time": 0.019312794295496972,
          "std_test_score": 0.15620201305021206
         },
         {
          "mean_fit_time": 0.03995823860168457,
          "mean_score_time": 0.05551402568817139,
          "mean_test_score": 0.7146245059288537,
          "param_kneighborsclassifier__n_neighbors": 9,
          "params": {
           "kneighborsclassifier__n_neighbors": 9
          },
          "rank_test_score": 2,
          "split0_test_score": 0.9130434782608695,
          "split1_test_score": 0.43478260869565216,
          "split2_test_score": 0.782608695652174,
          "split3_test_score": 0.5652173913043478,
          "split4_test_score": 0.7391304347826086,
          "split5_test_score": 0.6956521739130435,
          "split6_test_score": 0.6521739130434783,
          "split7_test_score": 0.8181818181818182,
          "split8_test_score": 0.5909090909090909,
          "split9_test_score": 0.9545454545454546,
          "std_fit_time": 0.023398618813943717,
          "std_score_time": 0.02290807683450507,
          "std_test_score": 0.15266897552666872
         },
         {
          "mean_fit_time": 0.04565784931182861,
          "mean_score_time": 0.05268454551696777,
          "mean_test_score": 0.700592885375494,
          "param_kneighborsclassifier__n_neighbors": 10,
          "params": {
           "kneighborsclassifier__n_neighbors": 10
          },
          "rank_test_score": 9,
          "split0_test_score": 0.9130434782608695,
          "split1_test_score": 0.5217391304347826,
          "split2_test_score": 0.9130434782608695,
          "split3_test_score": 0.4782608695652174,
          "split4_test_score": 0.6956521739130435,
          "split5_test_score": 0.6956521739130435,
          "split6_test_score": 0.6521739130434783,
          "split7_test_score": 0.7727272727272727,
          "split8_test_score": 0.5,
          "split9_test_score": 0.8636363636363636,
          "std_fit_time": 0.024564766809893945,
          "std_score_time": 0.02634807565895684,
          "std_test_score": 0.15687828695897732
         },
         {
          "mean_fit_time": 0.04592573642730713,
          "mean_score_time": 0.0455963134765625,
          "mean_test_score": 0.7102766798418972,
          "param_kneighborsclassifier__n_neighbors": 11,
          "params": {
           "kneighborsclassifier__n_neighbors": 11
          },
          "rank_test_score": 4,
          "split0_test_score": 0.9130434782608695,
          "split1_test_score": 0.5217391304347826,
          "split2_test_score": 0.8260869565217391,
          "split3_test_score": 0.4782608695652174,
          "split4_test_score": 0.6956521739130435,
          "split5_test_score": 0.6521739130434783,
          "split6_test_score": 0.6521739130434783,
          "split7_test_score": 0.8181818181818182,
          "split8_test_score": 0.6363636363636364,
          "split9_test_score": 0.9090909090909091,
          "std_fit_time": 0.03162343677513937,
          "std_score_time": 0.028645424576030164,
          "std_test_score": 0.1440498636936903
         },
         {
          "mean_fit_time": 0.027689051628112794,
          "mean_score_time": 0.02507011890411377,
          "mean_test_score": 0.7051383399209487,
          "param_kneighborsclassifier__n_neighbors": 12,
          "params": {
           "kneighborsclassifier__n_neighbors": 12
          },
          "rank_test_score": 7,
          "split0_test_score": 0.9130434782608695,
          "split1_test_score": 0.6086956521739131,
          "split2_test_score": 0.8695652173913043,
          "split3_test_score": 0.4782608695652174,
          "split4_test_score": 0.6956521739130435,
          "split5_test_score": 0.6521739130434783,
          "split6_test_score": 0.6521739130434783,
          "split7_test_score": 0.7272727272727273,
          "split8_test_score": 0.5909090909090909,
          "split9_test_score": 0.8636363636363636,
          "std_fit_time": 0.008721816065975089,
          "std_score_time": 0.013843409275931829,
          "std_test_score": 0.13243702182058917
         },
         {
          "mean_fit_time": 0.01787865161895752,
          "mean_score_time": 0.01394340991973877,
          "mean_test_score": 0.7185770750988143,
          "param_kneighborsclassifier__n_neighbors": 13,
          "params": {
           "kneighborsclassifier__n_neighbors": 13
          },
          "rank_test_score": 1,
          "split0_test_score": 0.9130434782608695,
          "split1_test_score": 0.5652173913043478,
          "split2_test_score": 0.9130434782608695,
          "split3_test_score": 0.4782608695652174,
          "split4_test_score": 0.6956521739130435,
          "split5_test_score": 0.6956521739130435,
          "split6_test_score": 0.6521739130434783,
          "split7_test_score": 0.7727272727272727,
          "split8_test_score": 0.6363636363636364,
          "split9_test_score": 0.8636363636363636,
          "std_fit_time": 0.008130043680137578,
          "std_score_time": 0.006484149380623183,
          "std_test_score": 0.13896021297326966
         },
         {
          "mean_fit_time": 0.007983040809631348,
          "mean_score_time": 0.006639361381530762,
          "mean_test_score": 0.7136363636363635,
          "param_kneighborsclassifier__n_neighbors": 14,
          "params": {
           "kneighborsclassifier__n_neighbors": 14
          },
          "rank_test_score": 3,
          "split0_test_score": 0.9130434782608695,
          "split1_test_score": 0.5652173913043478,
          "split2_test_score": 0.9130434782608695,
          "split3_test_score": 0.4782608695652174,
          "split4_test_score": 0.6956521739130435,
          "split5_test_score": 0.7391304347826086,
          "split6_test_score": 0.6956521739130435,
          "split7_test_score": 0.7272727272727273,
          "split8_test_score": 0.5454545454545454,
          "split9_test_score": 0.8636363636363636,
          "std_fit_time": 0.0001508785803199007,
          "std_score_time": 0.00014512831887236017,
          "std_test_score": 0.14464580653681372
         }
        ]
       },
       "encoding": {
        "x": {
         "field": "param_kneighborsclassifier__n_neighbors",
         "scale": {
          "zero": false
         },
         "title": "Neighbors",
         "type": "quantitative"
        },
        "y": {
         "field": "mean_test_score",
         "scale": {
          "zero": false
         },
         "title": "Mean Test Score",
         "type": "quantitative"
        }
       },
       "height": 300,
       "mark": {
        "point": true,
        "type": "line"
       },
       "title": "Grid Search",
       "width": 400
      },
      "image/png": "[encoded data removed]",
      "text/plain": [
       "<VegaLite 4 object>\n",
       "\n",
       "If you see this message, it means the renderer has not been properly enabled\n",
       "for the frontend that you are using. For more information, see\n",
       "https://altair-viz.github.io/user_guide/troubleshooting.html\n"
      ]
     },
     "execution_count": 38,
     "metadata": {},
     "output_type": "execute_result"
    }
   ],
   "source": [
    "accuracy_versus_k_grid = (\n",
    "    alt.Chart(accuracies_grid, title=\"Grid Search\")\n",
    "    .mark_line(point=True)\n",
    "    .encode(\n",
    "        x=alt.X(\n",
    "            \"param_kneighborsclassifier__n_neighbors\",\n",
    "            title=\"Neighbors\",\n",
    "            scale=alt.Scale(zero=False),\n",
    "        ),\n",
    "        y=alt.Y(\n",
    "            \"mean_test_score\", \n",
    "            title=\"Mean Test Score\", \n",
    "            scale=alt.Scale(zero=False)\n",
    "        ),\n",
    "    )\n",
    "    .configure_axis(labelFontSize=10, titleFontSize=15)\n",
    "    .properties(width=400, height=300)\n",
    ")\n",
    "\n",
    "accuracy_versus_k_grid"
   ]
  },
  {
   "cell_type": "markdown",
   "id": "3d6d1fc3-6fca-4e8b-84b0-2b40903d973f",
   "metadata": {
    "tags": []
   },
   "source": [
    "### Methods"
   ]
  },
  {
   "cell_type": "markdown",
   "id": "e5c305d2-f9eb-4a93-9943-8caa990c04fa",
   "metadata": {},
   "source": [
    "The variables we have chosen in order to predict heart disease are as following:\n",
    "- Age: According to the National Institute of Aging (2018), aging results in significant changes on the heart and blood vessels (arteries), which will directly impact the risks of a heart disease. \n",
    "\n",
    "- Chest pain type (cp): As mentioned by Abdullah et al. (2021), chest pain type is a major symptom which has shown to be highly and sensitively correlated to the results of a positive diagnosis for a heart disease, consequently shown to be a predictive factor of heart diseases.\n",
    "\n",
    "- Serum cholesterol (chol): The state of hypercholesterolemia (high levels of cholesterol) in patients exhibit higher vulnerability towards heart disease, indicating a correlational as well as a causation effect between the two (Mannu et al., 2013).\n",
    "\n",
    "- Fasting blood sugar (fbs): Those with higher blood sugar levels symptomatic of those with diabetic mellitus suffer from more severe heart diseases, insinuating an association between blood sugar levels and the presence of heart diseases (Saha et al., 2022)\n",
    "\n",
    "- Maximum heart rate achieved (thalach): As stated by Christine et al. (2009), \"an increase in heart rate by 10 beats per minute [is] associated with an increase in the risk of cardiac death by at least 20%\". This indicates that the count of heart rate is notable in regards to risk of heart disease.\n",
    "\n",
    "We will use the K-classification method to run our analysis, by pulling statistical data from the dataset, in order to create a training data and a testing data that will be able to predict if a person has heart disease based on the predictors listed above.\n",
    "\n",
    "We will visualize the results of the analysis by using a stacked bar chart or a histogram, which shows the distribution of diagnosis for each chest pain type. We will also create scatterplots to show the relationship between different predictor variables."
   ]
  },
  {
   "cell_type": "markdown",
   "id": "3cceb672-c77d-4f19-9f71-de2418afb938",
   "metadata": {},
   "source": [
    "### Expected outcomes and significance"
   ]
  },
  {
   "cell_type": "markdown",
   "id": "f6de8a20-f986-4fe1-9c11-9e1744809d1b",
   "metadata": {},
   "source": [
    "We expect that individuals who are older, have higher cholesterol levels, present higher maximum heart rate, experience certain chest pain types, and have higher blood sugar levels are more likely to be suffering from heart disease.\n",
    "\n",
    "These findings will be able to help indicate and predict the possibility of a heart disease and help people improve their health standards in order to prevent developing heart disease.\n",
    "\n",
    "This analysis could pose questions in the future such as:\n",
    "- \"What habits in our daily life contribute to the development of heart disease in the future?\"\n",
    "- \"What methods could be done to prevent factors of heart disease in the future?\"\n",
    "- \"What other possible diseases might be indicated by these vital signs?\"\n",
    "- \"How do these factors effect the chances of getting a heart disease?\"\n",
    "- \"Why do these factors effect the chances of getting a heart disease?\""
   ]
  },
  {
   "cell_type": "markdown",
   "id": "2ed96368-3b17-4467-9521-7776044bf492",
   "metadata": {
    "tags": []
   },
   "source": [
    "### References"
   ]
  },
  {
   "cell_type": "markdown",
   "id": "a467b332-77b1-4bed-be9b-e2c8dd83a5b2",
   "metadata": {},
   "source": [
    "U.S. Department of Health and Human Services. (2018). Heart health and aging. National Institute on Aging. Retrieved 2023, from https://www.nia.nih.gov/health/heart-health-and-aging \n",
    "\n",
    "Sheik Abdullah, A., Selvakumar, S., Venkatesh, M. (2021). Assessment and evaluation of CHD risk factors using weighted ranked correlation and regression with data classification. _Soft Computing, 25_(6), 4979–5001. https://doi.org/10.1007/s00500-021-05663-y \n",
    "\n",
    "S. Mannu, G., J.S. Zaman, M., Gupta, A., U. Rehman, H., K. Myint, P. (2013). Evidence of lifestyle modification in the management of Hypercholesterolemia. _Current Cardiology Reviews, 9_(1), 2–14. https://doi.org/10.2174/157340313805076313 \n",
    "\n",
    "Saha, A., Kuila, M., & Sharma, R. K. . (2022). Relationship of severity of coronary artery disease with fasting blood sugar and glycosylated hemoglobin. _Asian Journal of Medical Sciences, 13_(3), 38–42. https://doi.org/10.3126/ajms.v13i3.40416\n",
    "\n",
    "Perret-Guillaume, C., Joly, L., &amp; Benetos, A. (2009). Heart rate as a risk factor for cardiovascular disease. _Progress in Cardiovascular Diseases, 52_(1), 6–10. https://doi.org/10.1016/j.pcad.2009.05.003 "
   ]
  }
 ],
 "metadata": {
  "kernelspec": {
   "display_name": "Python 3 (ipykernel)",
   "language": "python",
   "name": "python3"
  },
  "language_info": {
   "codemirror_mode": {
    "name": "ipython",
    "version": 3
   },
   "file_extension": ".py",
   "mimetype": "text/x-python",
   "name": "python",
   "nbconvert_exporter": "python",
   "pygments_lexer": "ipython3",
   "version": "3.10.8"
  }
 },
 "nbformat": 4,
 "nbformat_minor": 5
}
