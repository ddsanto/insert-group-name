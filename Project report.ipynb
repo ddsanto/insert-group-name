{
 "cells": [
  {
   "cell_type": "markdown",
   "id": "902b1dea-2bf0-4231-b21f-b7eaf8be770a",
   "metadata": {},
   "source": [
    "# Project Report"
   ]
  },
  {
   "cell_type": "markdown",
   "id": "b4ba6875-a462-457e-a91e-d6568ac5d073",
   "metadata": {},
   "source": [
    "## Introduction"
   ]
  },
  {
   "cell_type": "markdown",
   "id": "acb2f30d-bac3-44f4-b06d-d0b9ca05f45f",
   "metadata": {},
   "source": [
    "Cardiovascular disease (also commonly known as heart disease) is a general category of diseases that affect the circulatory system of an individual, including the heart, the blood vessels and/or both. While the most prevalent type of cardiovascular disease is the coronary heart disease, there are a lot of other types of cardiovascular diseases that still affect individuals, such as aortic diseases.  These disease might be present in a person due to multiple circumstances, those of which may vary from environmental influences, genetical factors, to lifestyle choices. These variables are likely to play a part in predicting whether an individual is susceptible to a cardiovascular disease.\n",
    "\n",
    "For instance, according to Center for Disease and Control Prevention, people who suffer from diabetes (a health condition that affects how energy is processed from food intake indicated by fasting sugar level in the blood) is more likely to experience a cardiovascular disease due to the symptoms present from diabetes, particularly to the high blood pressure present in most diabetes positive people. Based on a study from Biomed Central, 32% of individuals suffering from diabetes are affected by cardiovascular diseases, indicating that within diabetic people, cardiovascular diseases are statistically influential on the mortality rates. This in turn, suggests that fasting sugar level, which is correlated to diabetes, is also corellated to the possible presence of a cardiovascular disease, making it a variable that should be considered when predicting cardiovascular diseases within individuals. \n",
    "\n",
    "In this project, our group aims to be able to predict the presence of a cardiovascular disease based on variables reported by individuals. These reports are provided by the dataset taken from the UCI Machine Learning Repository (UCI). This particular dataset is a compilation of databases regarding variables within an individual and their diagnoses of a cardiovascular disease from four sources. These four sources are:\n",
    "1. Hungarian Institute of Cardiology. Budapest: Andras Janosi, M.D.\n",
    "2. University Hospital, Zurich, Switzerland: William Steinbrunn, M.D.\n",
    "3. University Hospital, Basel, Switzerland: Matthias Pfisterer, M.D.\n",
    "4. V.A. Medical Center, Long Beach and Cleveland Clinic Foundation: Robert Detrano, M.D., Ph.D.\n",
    "\n",
    "We have chosen to utilize the dataset from the V.A. Medical Center, Long Beach and Cleveland Clinic Foundation.\n",
    "\n",
    "https://archive.ics.uci.edu/ml/datasets/heart+disease\n",
    "\n",
    "The variables in the dataset are as follows:\n",
    "- Age : age in years\n",
    "- Sex : (1 = male; 0 = female)\n",
    "- cp : Chest pain type; (chest pain type 1 = typical angina, 2 = atypical angina, 3 = non-angina pain, 4 = asymptomatic angina)\n",
    "- trestbps : Resting blood pressure (in mm Hg on admission to the hospital)\n",
    "- chol : Serum cholesterol (in mg/dl)\n",
    "- fbs : Fasting blood sugar; Fasting blood sugar > 120 mg/dl (1 = true; 0 = false)\n",
    "- restecg : Resting electrocardiographic results\n",
    "- thalach : Maximum heart rate achieved\n",
    "- exang : Exercise induced angina (1 = yes; 0 = no)\n",
    "- oldpeak : ST depression induced by exercise relative to rest\n",
    "- slope : The slope of the peak exercise ST segment\n",
    "- ca : Number of major vessels (0-3) colored by fluoroscopy\n",
    "- thal : (3 = normal; 6 = fixed defect; 7 = reversable defect)\n",
    "- num : Diagnosis of heart disease (angiographic disease status)\n",
    "\n",
    "In our research, we will be using five of the variables from the dataset, those of which are the following:\n",
    "- Age : measured in years\n",
    "- cp : (1= typical angina; 2= atypical angina; 3= non-angina pain; 4= asymptomatic angina)\n",
    "- chol : measured in mg/dl\n",
    "- fbs : measured in fbs > 120 mg/dl (1= true; 0= false)\n",
    "- thalach : measured in beats per minute (BPM)\n",
    "\n",
    "These variables are chosen because:\n",
    "- Age: According to the National Institute of Aging (2018), aging results in significant changes on the heart and blood vessels (arteries), which will directly impact the risks of a heart disease. \n",
    "\n",
    "- Chest pain type (cp): As mentioned by Abdullah et al. (2021), chest pain type is a major symptom which has shown to be highly and sensitively correlated to the results of a positive diagnosis for a heart disease, consequently shown to be a predictive factor of heart diseases.\n",
    "\n",
    "- Serum cholesterol (chol): The state of hypercholesterolemia (high levels of cholesterol) in patients exhibit higher vulnerability towards heart disease, indicating a correlational as well as a causation effect between the two (Mannu et al., 2013).\n",
    "\n",
    "- Fasting blood sugar (fbs): Those with higher blood sugar levels symptomatic of those with diabetic mellitus suffer from more severe heart diseases, insinuating an association between blood sugar levels and the presence of heart diseases (Saha et al., 2022)\n",
    "\n",
    "- Maximum heart rate achieved (thalach): As stated by Christine et al. (2009), \"an increase in heart rate by 10 beats per minute [is] associated with an increase in the risk of cardiac death by at least 20%\". This indicates that the count of heart rate is notable in regards to risk of heart disease.\n",
    "\n",
    "We will be making use of the classification method in order to conduct this research. We will be loading the dataset in, and then build a training and testing model that will be utilized in order to predict the presence of a cardiovascular disease. We will also be using cross-validation to find the k-nearest neighbors (KNN). We expect that individuals who are older, have higher cholesterol levels, present higher maximum heart rate, experience certain chest pain types, and have higher blood sugar levels are more likely to be suffering from heart disease."
   ]
  },
  {
   "cell_type": "code",
   "execution_count": 1,
   "id": "bc99caa2-d8bf-4b5c-becd-627d214aff83",
   "metadata": {},
   "outputs": [
    {
     "data": {
      "text/plain": [
       "RendererRegistry.enable('mimetype')"
      ]
     },
     "execution_count": 1,
     "metadata": {},
     "output_type": "execute_result"
    }
   ],
   "source": [
    "# Packages needed for classification on our dataset\n",
    "import altair as alt\n",
    "import numpy as np\n",
    "import pandas as pd\n",
    "import sklearn\n",
    "from sklearn.compose import make_column_transformer\n",
    "from sklearn.metrics import confusion_matrix\n",
    "from sklearn.metrics.pairwise import euclidean_distances\n",
    "from sklearn.model_selection import (\n",
    "    GridSearchCV,\n",
    "    RandomizedSearchCV,\n",
    "    cross_validate,\n",
    "    train_test_split,\n",
    ")\n",
    "from sklearn.neighbors import KNeighborsClassifier\n",
    "from sklearn.pipeline import Pipeline, make_pipeline\n",
    "from sklearn.preprocessing import OneHotEncoder, StandardScaler\n",
    "\n",
    "alt.data_transformers.disable_max_rows()\n",
    "alt.renderers.enable(\"mimetype\")"
   ]
  },
  {
   "cell_type": "markdown",
   "id": "d74ddceb-3eb0-483e-b4ed-cfae3512eee2",
   "metadata": {
    "tags": []
   },
   "source": [
    "## Methods & Results"
   ]
  },
  {
   "cell_type": "markdown",
   "id": "ebaa213c-2ef7-4a90-82eb-fe1e63aa96b1",
   "metadata": {},
   "source": [
    "### Preliminary Exploratory Data Analysis"
   ]
  },
  {
   "cell_type": "markdown",
   "id": "641ed44c-b457-4cca-adf4-5ec88db78b3e",
   "metadata": {},
   "source": [
    "Firstly, we load the dataset into Jupyter:"
   ]
  },
  {
   "cell_type": "code",
   "execution_count": 2,
   "id": "0c9b934b-539a-4cc4-ba3a-7962021ea2f1",
   "metadata": {},
   "outputs": [
    {
     "data": {
      "text/html": [
       "<div>\n",
       "<style scoped>\n",
       "    .dataframe tbody tr th:only-of-type {\n",
       "        vertical-align: middle;\n",
       "    }\n",
       "\n",
       "    .dataframe tbody tr th {\n",
       "        vertical-align: top;\n",
       "    }\n",
       "\n",
       "    .dataframe thead th {\n",
       "        text-align: right;\n",
       "    }\n",
       "</style>\n",
       "<table border=\"1\" class=\"dataframe\">\n",
       "  <thead>\n",
       "    <tr style=\"text-align: right;\">\n",
       "      <th></th>\n",
       "      <th>Age</th>\n",
       "      <th>Sex</th>\n",
       "      <th>Chest_Pain_Type</th>\n",
       "      <th>Resting_Blood_Pressure</th>\n",
       "      <th>Serum_Cholesterol</th>\n",
       "      <th>Fasting_Blood_Sugar</th>\n",
       "      <th>Resting_ECG</th>\n",
       "      <th>Max_Heart_Rate</th>\n",
       "      <th>Exercise_Induced_Angina</th>\n",
       "      <th>ST_Depression_Exercise</th>\n",
       "      <th>Peak_Exercise_ST_Segment</th>\n",
       "      <th>Num_Major_Vessels_Flouro</th>\n",
       "      <th>Thalassemia</th>\n",
       "      <th>Diagnosis</th>\n",
       "    </tr>\n",
       "  </thead>\n",
       "  <tbody>\n",
       "    <tr>\n",
       "      <th>0</th>\n",
       "      <td>63.0</td>\n",
       "      <td>1.0</td>\n",
       "      <td>1.0</td>\n",
       "      <td>145.0</td>\n",
       "      <td>233.0</td>\n",
       "      <td>1.0</td>\n",
       "      <td>2.0</td>\n",
       "      <td>150.0</td>\n",
       "      <td>0.0</td>\n",
       "      <td>2.3</td>\n",
       "      <td>3.0</td>\n",
       "      <td>0.0</td>\n",
       "      <td>6.0</td>\n",
       "      <td>0</td>\n",
       "    </tr>\n",
       "    <tr>\n",
       "      <th>1</th>\n",
       "      <td>67.0</td>\n",
       "      <td>1.0</td>\n",
       "      <td>4.0</td>\n",
       "      <td>160.0</td>\n",
       "      <td>286.0</td>\n",
       "      <td>0.0</td>\n",
       "      <td>2.0</td>\n",
       "      <td>108.0</td>\n",
       "      <td>1.0</td>\n",
       "      <td>1.5</td>\n",
       "      <td>2.0</td>\n",
       "      <td>3.0</td>\n",
       "      <td>3.0</td>\n",
       "      <td>2</td>\n",
       "    </tr>\n",
       "    <tr>\n",
       "      <th>2</th>\n",
       "      <td>67.0</td>\n",
       "      <td>1.0</td>\n",
       "      <td>4.0</td>\n",
       "      <td>120.0</td>\n",
       "      <td>229.0</td>\n",
       "      <td>0.0</td>\n",
       "      <td>2.0</td>\n",
       "      <td>129.0</td>\n",
       "      <td>1.0</td>\n",
       "      <td>2.6</td>\n",
       "      <td>2.0</td>\n",
       "      <td>2.0</td>\n",
       "      <td>7.0</td>\n",
       "      <td>1</td>\n",
       "    </tr>\n",
       "    <tr>\n",
       "      <th>3</th>\n",
       "      <td>37.0</td>\n",
       "      <td>1.0</td>\n",
       "      <td>3.0</td>\n",
       "      <td>130.0</td>\n",
       "      <td>250.0</td>\n",
       "      <td>0.0</td>\n",
       "      <td>0.0</td>\n",
       "      <td>187.0</td>\n",
       "      <td>0.0</td>\n",
       "      <td>3.5</td>\n",
       "      <td>3.0</td>\n",
       "      <td>0.0</td>\n",
       "      <td>3.0</td>\n",
       "      <td>0</td>\n",
       "    </tr>\n",
       "    <tr>\n",
       "      <th>4</th>\n",
       "      <td>41.0</td>\n",
       "      <td>0.0</td>\n",
       "      <td>2.0</td>\n",
       "      <td>130.0</td>\n",
       "      <td>204.0</td>\n",
       "      <td>0.0</td>\n",
       "      <td>2.0</td>\n",
       "      <td>172.0</td>\n",
       "      <td>0.0</td>\n",
       "      <td>1.4</td>\n",
       "      <td>1.0</td>\n",
       "      <td>0.0</td>\n",
       "      <td>3.0</td>\n",
       "      <td>0</td>\n",
       "    </tr>\n",
       "    <tr>\n",
       "      <th>...</th>\n",
       "      <td>...</td>\n",
       "      <td>...</td>\n",
       "      <td>...</td>\n",
       "      <td>...</td>\n",
       "      <td>...</td>\n",
       "      <td>...</td>\n",
       "      <td>...</td>\n",
       "      <td>...</td>\n",
       "      <td>...</td>\n",
       "      <td>...</td>\n",
       "      <td>...</td>\n",
       "      <td>...</td>\n",
       "      <td>...</td>\n",
       "      <td>...</td>\n",
       "    </tr>\n",
       "    <tr>\n",
       "      <th>298</th>\n",
       "      <td>45.0</td>\n",
       "      <td>1.0</td>\n",
       "      <td>1.0</td>\n",
       "      <td>110.0</td>\n",
       "      <td>264.0</td>\n",
       "      <td>0.0</td>\n",
       "      <td>0.0</td>\n",
       "      <td>132.0</td>\n",
       "      <td>0.0</td>\n",
       "      <td>1.2</td>\n",
       "      <td>2.0</td>\n",
       "      <td>0.0</td>\n",
       "      <td>7.0</td>\n",
       "      <td>1</td>\n",
       "    </tr>\n",
       "    <tr>\n",
       "      <th>299</th>\n",
       "      <td>68.0</td>\n",
       "      <td>1.0</td>\n",
       "      <td>4.0</td>\n",
       "      <td>144.0</td>\n",
       "      <td>193.0</td>\n",
       "      <td>1.0</td>\n",
       "      <td>0.0</td>\n",
       "      <td>141.0</td>\n",
       "      <td>0.0</td>\n",
       "      <td>3.4</td>\n",
       "      <td>2.0</td>\n",
       "      <td>2.0</td>\n",
       "      <td>7.0</td>\n",
       "      <td>2</td>\n",
       "    </tr>\n",
       "    <tr>\n",
       "      <th>300</th>\n",
       "      <td>57.0</td>\n",
       "      <td>1.0</td>\n",
       "      <td>4.0</td>\n",
       "      <td>130.0</td>\n",
       "      <td>131.0</td>\n",
       "      <td>0.0</td>\n",
       "      <td>0.0</td>\n",
       "      <td>115.0</td>\n",
       "      <td>1.0</td>\n",
       "      <td>1.2</td>\n",
       "      <td>2.0</td>\n",
       "      <td>1.0</td>\n",
       "      <td>7.0</td>\n",
       "      <td>3</td>\n",
       "    </tr>\n",
       "    <tr>\n",
       "      <th>301</th>\n",
       "      <td>57.0</td>\n",
       "      <td>0.0</td>\n",
       "      <td>2.0</td>\n",
       "      <td>130.0</td>\n",
       "      <td>236.0</td>\n",
       "      <td>0.0</td>\n",
       "      <td>2.0</td>\n",
       "      <td>174.0</td>\n",
       "      <td>0.0</td>\n",
       "      <td>0.0</td>\n",
       "      <td>2.0</td>\n",
       "      <td>1.0</td>\n",
       "      <td>3.0</td>\n",
       "      <td>1</td>\n",
       "    </tr>\n",
       "    <tr>\n",
       "      <th>302</th>\n",
       "      <td>38.0</td>\n",
       "      <td>1.0</td>\n",
       "      <td>3.0</td>\n",
       "      <td>138.0</td>\n",
       "      <td>175.0</td>\n",
       "      <td>0.0</td>\n",
       "      <td>0.0</td>\n",
       "      <td>173.0</td>\n",
       "      <td>0.0</td>\n",
       "      <td>0.0</td>\n",
       "      <td>1.0</td>\n",
       "      <td>?</td>\n",
       "      <td>3.0</td>\n",
       "      <td>0</td>\n",
       "    </tr>\n",
       "  </tbody>\n",
       "</table>\n",
       "<p>303 rows × 14 columns</p>\n",
       "</div>"
      ],
      "text/plain": [
       "      Age  Sex  Chest_Pain_Type  Resting_Blood_Pressure  Serum_Cholesterol  \\\n",
       "0    63.0  1.0              1.0                   145.0              233.0   \n",
       "1    67.0  1.0              4.0                   160.0              286.0   \n",
       "2    67.0  1.0              4.0                   120.0              229.0   \n",
       "3    37.0  1.0              3.0                   130.0              250.0   \n",
       "4    41.0  0.0              2.0                   130.0              204.0   \n",
       "..    ...  ...              ...                     ...                ...   \n",
       "298  45.0  1.0              1.0                   110.0              264.0   \n",
       "299  68.0  1.0              4.0                   144.0              193.0   \n",
       "300  57.0  1.0              4.0                   130.0              131.0   \n",
       "301  57.0  0.0              2.0                   130.0              236.0   \n",
       "302  38.0  1.0              3.0                   138.0              175.0   \n",
       "\n",
       "     Fasting_Blood_Sugar  Resting_ECG  Max_Heart_Rate  \\\n",
       "0                    1.0          2.0           150.0   \n",
       "1                    0.0          2.0           108.0   \n",
       "2                    0.0          2.0           129.0   \n",
       "3                    0.0          0.0           187.0   \n",
       "4                    0.0          2.0           172.0   \n",
       "..                   ...          ...             ...   \n",
       "298                  0.0          0.0           132.0   \n",
       "299                  1.0          0.0           141.0   \n",
       "300                  0.0          0.0           115.0   \n",
       "301                  0.0          2.0           174.0   \n",
       "302                  0.0          0.0           173.0   \n",
       "\n",
       "     Exercise_Induced_Angina  ST_Depression_Exercise  \\\n",
       "0                        0.0                     2.3   \n",
       "1                        1.0                     1.5   \n",
       "2                        1.0                     2.6   \n",
       "3                        0.0                     3.5   \n",
       "4                        0.0                     1.4   \n",
       "..                       ...                     ...   \n",
       "298                      0.0                     1.2   \n",
       "299                      0.0                     3.4   \n",
       "300                      1.0                     1.2   \n",
       "301                      0.0                     0.0   \n",
       "302                      0.0                     0.0   \n",
       "\n",
       "     Peak_Exercise_ST_Segment Num_Major_Vessels_Flouro Thalassemia  Diagnosis  \n",
       "0                         3.0                      0.0         6.0          0  \n",
       "1                         2.0                      3.0         3.0          2  \n",
       "2                         2.0                      2.0         7.0          1  \n",
       "3                         3.0                      0.0         3.0          0  \n",
       "4                         1.0                      0.0         3.0          0  \n",
       "..                        ...                      ...         ...        ...  \n",
       "298                       2.0                      0.0         7.0          1  \n",
       "299                       2.0                      2.0         7.0          2  \n",
       "300                       2.0                      1.0         7.0          3  \n",
       "301                       2.0                      1.0         3.0          1  \n",
       "302                       1.0                        ?         3.0          0  \n",
       "\n",
       "[303 rows x 14 columns]"
      ]
     },
     "execution_count": 2,
     "metadata": {},
     "output_type": "execute_result"
    }
   ],
   "source": [
    "# Loading the dataset using the URL\n",
    "url = \"https://archive.ics.uci.edu/ml/machine-learning-databases/heart-disease/processed.cleveland.data\"\n",
    "\n",
    "heart_disease = pd.read_csv(url, header=None)\n",
    "\n",
    "heart_disease.columns = (\"Age\",\n",
    "           \"Sex\",\n",
    "           \"Chest_Pain_Type\",\n",
    "           \"Resting_Blood_Pressure\",\n",
    "           \"Serum_Cholesterol\",\n",
    "           \"Fasting_Blood_Sugar\",\n",
    "           \"Resting_ECG\",\n",
    "           \"Max_Heart_Rate\",\n",
    "           \"Exercise_Induced_Angina\",\n",
    "           \"ST_Depression_Exercise\",\n",
    "           \"Peak_Exercise_ST_Segment\",\n",
    "           \"Num_Major_Vessels_Flouro\",\n",
    "           \"Thalassemia\",\n",
    "           \"Diagnosis\") # assigning human-readable column headings\n",
    "\n",
    "heart_disease"
   ]
  },
  {
   "cell_type": "markdown",
   "id": "8a0dc060-198f-484d-b4f8-f0f7f559b070",
   "metadata": {},
   "source": [
    "We then filter the dataset to include only the variables taken into consideration:"
   ]
  },
  {
   "cell_type": "code",
   "execution_count": 3,
   "id": "d828cc30-8e57-4488-9b79-922c587f12c7",
   "metadata": {},
   "outputs": [
    {
     "data": {
      "text/html": [
       "<div>\n",
       "<style scoped>\n",
       "    .dataframe tbody tr th:only-of-type {\n",
       "        vertical-align: middle;\n",
       "    }\n",
       "\n",
       "    .dataframe tbody tr th {\n",
       "        vertical-align: top;\n",
       "    }\n",
       "\n",
       "    .dataframe thead th {\n",
       "        text-align: right;\n",
       "    }\n",
       "</style>\n",
       "<table border=\"1\" class=\"dataframe\">\n",
       "  <thead>\n",
       "    <tr style=\"text-align: right;\">\n",
       "      <th></th>\n",
       "      <th>Age</th>\n",
       "      <th>Chest_Pain_Type</th>\n",
       "      <th>Fasting_Blood_Sugar</th>\n",
       "      <th>Serum_Cholesterol</th>\n",
       "      <th>Max_Heart_Rate</th>\n",
       "      <th>Diagnosis</th>\n",
       "    </tr>\n",
       "  </thead>\n",
       "  <tbody>\n",
       "    <tr>\n",
       "      <th>0</th>\n",
       "      <td>63.0</td>\n",
       "      <td>1.0</td>\n",
       "      <td>1.0</td>\n",
       "      <td>233.0</td>\n",
       "      <td>150.0</td>\n",
       "      <td>0</td>\n",
       "    </tr>\n",
       "    <tr>\n",
       "      <th>1</th>\n",
       "      <td>67.0</td>\n",
       "      <td>4.0</td>\n",
       "      <td>0.0</td>\n",
       "      <td>286.0</td>\n",
       "      <td>108.0</td>\n",
       "      <td>2</td>\n",
       "    </tr>\n",
       "    <tr>\n",
       "      <th>2</th>\n",
       "      <td>67.0</td>\n",
       "      <td>4.0</td>\n",
       "      <td>0.0</td>\n",
       "      <td>229.0</td>\n",
       "      <td>129.0</td>\n",
       "      <td>1</td>\n",
       "    </tr>\n",
       "    <tr>\n",
       "      <th>3</th>\n",
       "      <td>37.0</td>\n",
       "      <td>3.0</td>\n",
       "      <td>0.0</td>\n",
       "      <td>250.0</td>\n",
       "      <td>187.0</td>\n",
       "      <td>0</td>\n",
       "    </tr>\n",
       "    <tr>\n",
       "      <th>4</th>\n",
       "      <td>41.0</td>\n",
       "      <td>2.0</td>\n",
       "      <td>0.0</td>\n",
       "      <td>204.0</td>\n",
       "      <td>172.0</td>\n",
       "      <td>0</td>\n",
       "    </tr>\n",
       "    <tr>\n",
       "      <th>...</th>\n",
       "      <td>...</td>\n",
       "      <td>...</td>\n",
       "      <td>...</td>\n",
       "      <td>...</td>\n",
       "      <td>...</td>\n",
       "      <td>...</td>\n",
       "    </tr>\n",
       "    <tr>\n",
       "      <th>298</th>\n",
       "      <td>45.0</td>\n",
       "      <td>1.0</td>\n",
       "      <td>0.0</td>\n",
       "      <td>264.0</td>\n",
       "      <td>132.0</td>\n",
       "      <td>1</td>\n",
       "    </tr>\n",
       "    <tr>\n",
       "      <th>299</th>\n",
       "      <td>68.0</td>\n",
       "      <td>4.0</td>\n",
       "      <td>1.0</td>\n",
       "      <td>193.0</td>\n",
       "      <td>141.0</td>\n",
       "      <td>2</td>\n",
       "    </tr>\n",
       "    <tr>\n",
       "      <th>300</th>\n",
       "      <td>57.0</td>\n",
       "      <td>4.0</td>\n",
       "      <td>0.0</td>\n",
       "      <td>131.0</td>\n",
       "      <td>115.0</td>\n",
       "      <td>3</td>\n",
       "    </tr>\n",
       "    <tr>\n",
       "      <th>301</th>\n",
       "      <td>57.0</td>\n",
       "      <td>2.0</td>\n",
       "      <td>0.0</td>\n",
       "      <td>236.0</td>\n",
       "      <td>174.0</td>\n",
       "      <td>1</td>\n",
       "    </tr>\n",
       "    <tr>\n",
       "      <th>302</th>\n",
       "      <td>38.0</td>\n",
       "      <td>3.0</td>\n",
       "      <td>0.0</td>\n",
       "      <td>175.0</td>\n",
       "      <td>173.0</td>\n",
       "      <td>0</td>\n",
       "    </tr>\n",
       "  </tbody>\n",
       "</table>\n",
       "<p>303 rows × 6 columns</p>\n",
       "</div>"
      ],
      "text/plain": [
       "      Age  Chest_Pain_Type  Fasting_Blood_Sugar  Serum_Cholesterol  \\\n",
       "0    63.0              1.0                  1.0              233.0   \n",
       "1    67.0              4.0                  0.0              286.0   \n",
       "2    67.0              4.0                  0.0              229.0   \n",
       "3    37.0              3.0                  0.0              250.0   \n",
       "4    41.0              2.0                  0.0              204.0   \n",
       "..    ...              ...                  ...                ...   \n",
       "298  45.0              1.0                  0.0              264.0   \n",
       "299  68.0              4.0                  1.0              193.0   \n",
       "300  57.0              4.0                  0.0              131.0   \n",
       "301  57.0              2.0                  0.0              236.0   \n",
       "302  38.0              3.0                  0.0              175.0   \n",
       "\n",
       "     Max_Heart_Rate  Diagnosis  \n",
       "0             150.0          0  \n",
       "1             108.0          2  \n",
       "2             129.0          1  \n",
       "3             187.0          0  \n",
       "4             172.0          0  \n",
       "..              ...        ...  \n",
       "298           132.0          1  \n",
       "299           141.0          2  \n",
       "300           115.0          3  \n",
       "301           174.0          1  \n",
       "302           173.0          0  \n",
       "\n",
       "[303 rows x 6 columns]"
      ]
     },
     "execution_count": 3,
     "metadata": {},
     "output_type": "execute_result"
    }
   ],
   "source": [
    "# Filtering to include only the columns we will be using in our analysis\n",
    "heart_disease_final = heart_disease.loc[:, [\"Age\",\"Chest_Pain_Type\",\"Fasting_Blood_Sugar\", \"Serum_Cholesterol\", \"Max_Heart_Rate\", \"Diagnosis\"]]\n",
    "heart_disease_final"
   ]
  },
  {
   "cell_type": "markdown",
   "id": "53887b57-0786-4ac5-8148-0ac23a5a8391",
   "metadata": {},
   "source": [
    "Since our data is in a tidy format (each column is a single variable, each row is a single observation and each cell is a single value), we only need to drop all rows containing Na's and change the data types of certain columns. This is in order to wrangle the dataset for ease of work:"
   ]
  },
  {
   "cell_type": "code",
   "execution_count": 4,
   "id": "1122bf30-625c-460a-99fe-19deaf0a9683",
   "metadata": {},
   "outputs": [
    {
     "data": {
      "text/html": [
       "<div>\n",
       "<style scoped>\n",
       "    .dataframe tbody tr th:only-of-type {\n",
       "        vertical-align: middle;\n",
       "    }\n",
       "\n",
       "    .dataframe tbody tr th {\n",
       "        vertical-align: top;\n",
       "    }\n",
       "\n",
       "    .dataframe thead th {\n",
       "        text-align: right;\n",
       "    }\n",
       "</style>\n",
       "<table border=\"1\" class=\"dataframe\">\n",
       "  <thead>\n",
       "    <tr style=\"text-align: right;\">\n",
       "      <th></th>\n",
       "      <th>Age</th>\n",
       "      <th>Chest_Pain_Type</th>\n",
       "      <th>Fasting_Blood_Sugar</th>\n",
       "      <th>Serum_Cholesterol</th>\n",
       "      <th>Max_Heart_Rate</th>\n",
       "      <th>Diagnosis</th>\n",
       "    </tr>\n",
       "  </thead>\n",
       "  <tbody>\n",
       "    <tr>\n",
       "      <th>0</th>\n",
       "      <td>63.0</td>\n",
       "      <td>1.0</td>\n",
       "      <td>1.0</td>\n",
       "      <td>233.0</td>\n",
       "      <td>150.0</td>\n",
       "      <td>0</td>\n",
       "    </tr>\n",
       "    <tr>\n",
       "      <th>1</th>\n",
       "      <td>67.0</td>\n",
       "      <td>4.0</td>\n",
       "      <td>0.0</td>\n",
       "      <td>286.0</td>\n",
       "      <td>108.0</td>\n",
       "      <td>2</td>\n",
       "    </tr>\n",
       "    <tr>\n",
       "      <th>2</th>\n",
       "      <td>67.0</td>\n",
       "      <td>4.0</td>\n",
       "      <td>0.0</td>\n",
       "      <td>229.0</td>\n",
       "      <td>129.0</td>\n",
       "      <td>1</td>\n",
       "    </tr>\n",
       "    <tr>\n",
       "      <th>3</th>\n",
       "      <td>37.0</td>\n",
       "      <td>3.0</td>\n",
       "      <td>0.0</td>\n",
       "      <td>250.0</td>\n",
       "      <td>187.0</td>\n",
       "      <td>0</td>\n",
       "    </tr>\n",
       "    <tr>\n",
       "      <th>4</th>\n",
       "      <td>41.0</td>\n",
       "      <td>2.0</td>\n",
       "      <td>0.0</td>\n",
       "      <td>204.0</td>\n",
       "      <td>172.0</td>\n",
       "      <td>0</td>\n",
       "    </tr>\n",
       "    <tr>\n",
       "      <th>...</th>\n",
       "      <td>...</td>\n",
       "      <td>...</td>\n",
       "      <td>...</td>\n",
       "      <td>...</td>\n",
       "      <td>...</td>\n",
       "      <td>...</td>\n",
       "    </tr>\n",
       "    <tr>\n",
       "      <th>298</th>\n",
       "      <td>45.0</td>\n",
       "      <td>1.0</td>\n",
       "      <td>0.0</td>\n",
       "      <td>264.0</td>\n",
       "      <td>132.0</td>\n",
       "      <td>1</td>\n",
       "    </tr>\n",
       "    <tr>\n",
       "      <th>299</th>\n",
       "      <td>68.0</td>\n",
       "      <td>4.0</td>\n",
       "      <td>1.0</td>\n",
       "      <td>193.0</td>\n",
       "      <td>141.0</td>\n",
       "      <td>2</td>\n",
       "    </tr>\n",
       "    <tr>\n",
       "      <th>300</th>\n",
       "      <td>57.0</td>\n",
       "      <td>4.0</td>\n",
       "      <td>0.0</td>\n",
       "      <td>131.0</td>\n",
       "      <td>115.0</td>\n",
       "      <td>3</td>\n",
       "    </tr>\n",
       "    <tr>\n",
       "      <th>301</th>\n",
       "      <td>57.0</td>\n",
       "      <td>2.0</td>\n",
       "      <td>0.0</td>\n",
       "      <td>236.0</td>\n",
       "      <td>174.0</td>\n",
       "      <td>1</td>\n",
       "    </tr>\n",
       "    <tr>\n",
       "      <th>302</th>\n",
       "      <td>38.0</td>\n",
       "      <td>3.0</td>\n",
       "      <td>0.0</td>\n",
       "      <td>175.0</td>\n",
       "      <td>173.0</td>\n",
       "      <td>0</td>\n",
       "    </tr>\n",
       "  </tbody>\n",
       "</table>\n",
       "<p>303 rows × 6 columns</p>\n",
       "</div>"
      ],
      "text/plain": [
       "      Age  Chest_Pain_Type  Fasting_Blood_Sugar  Serum_Cholesterol  \\\n",
       "0    63.0              1.0                  1.0              233.0   \n",
       "1    67.0              4.0                  0.0              286.0   \n",
       "2    67.0              4.0                  0.0              229.0   \n",
       "3    37.0              3.0                  0.0              250.0   \n",
       "4    41.0              2.0                  0.0              204.0   \n",
       "..    ...              ...                  ...                ...   \n",
       "298  45.0              1.0                  0.0              264.0   \n",
       "299  68.0              4.0                  1.0              193.0   \n",
       "300  57.0              4.0                  0.0              131.0   \n",
       "301  57.0              2.0                  0.0              236.0   \n",
       "302  38.0              3.0                  0.0              175.0   \n",
       "\n",
       "     Max_Heart_Rate  Diagnosis  \n",
       "0             150.0          0  \n",
       "1             108.0          2  \n",
       "2             129.0          1  \n",
       "3             187.0          0  \n",
       "4             172.0          0  \n",
       "..              ...        ...  \n",
       "298           132.0          1  \n",
       "299           141.0          2  \n",
       "300           115.0          3  \n",
       "301           174.0          1  \n",
       "302           173.0          0  \n",
       "\n",
       "[303 rows x 6 columns]"
      ]
     },
     "execution_count": 4,
     "metadata": {},
     "output_type": "execute_result"
    }
   ],
   "source": [
    "heart_disease_final # The final tidy data"
   ]
  },
  {
   "cell_type": "markdown",
   "id": "1c1e4b08-151e-4f2f-81f7-2627e693b521",
   "metadata": {},
   "source": [
    "### Dataset Summary"
   ]
  },
  {
   "cell_type": "markdown",
   "id": "5550e122-7062-445d-bd6c-ac97c81bac77",
   "metadata": {},
   "source": [
    "We start by showing the mean of each variable grouped by diagnosis:"
   ]
  },
  {
   "cell_type": "code",
   "execution_count": 20,
   "id": "b0ea2105-1538-414b-877e-2763763fb432",
   "metadata": {},
   "outputs": [
    {
     "data": {
      "text/html": [
       "<div>\n",
       "<style scoped>\n",
       "    .dataframe tbody tr th:only-of-type {\n",
       "        vertical-align: middle;\n",
       "    }\n",
       "\n",
       "    .dataframe tbody tr th {\n",
       "        vertical-align: top;\n",
       "    }\n",
       "\n",
       "    .dataframe thead th {\n",
       "        text-align: right;\n",
       "    }\n",
       "</style>\n",
       "<table border=\"1\" class=\"dataframe\">\n",
       "  <thead>\n",
       "    <tr style=\"text-align: right;\">\n",
       "      <th></th>\n",
       "      <th>Age</th>\n",
       "      <th>Fasting_Blood_Sugar</th>\n",
       "      <th>Serum_Cholesterol</th>\n",
       "      <th>Max_Heart_Rate</th>\n",
       "    </tr>\n",
       "    <tr>\n",
       "      <th>Diagnosis</th>\n",
       "      <th></th>\n",
       "      <th></th>\n",
       "      <th></th>\n",
       "      <th></th>\n",
       "    </tr>\n",
       "  </thead>\n",
       "  <tbody>\n",
       "    <tr>\n",
       "      <th>0</th>\n",
       "      <td>52.585366</td>\n",
       "      <td>0.140244</td>\n",
       "      <td>242.640244</td>\n",
       "      <td>158.378049</td>\n",
       "    </tr>\n",
       "    <tr>\n",
       "      <th>1</th>\n",
       "      <td>55.381818</td>\n",
       "      <td>0.072727</td>\n",
       "      <td>249.109091</td>\n",
       "      <td>145.927273</td>\n",
       "    </tr>\n",
       "    <tr>\n",
       "      <th>2</th>\n",
       "      <td>58.027778</td>\n",
       "      <td>0.250000</td>\n",
       "      <td>259.277778</td>\n",
       "      <td>135.583333</td>\n",
       "    </tr>\n",
       "    <tr>\n",
       "      <th>3</th>\n",
       "      <td>56.000000</td>\n",
       "      <td>0.228571</td>\n",
       "      <td>246.457143</td>\n",
       "      <td>132.057143</td>\n",
       "    </tr>\n",
       "    <tr>\n",
       "      <th>4</th>\n",
       "      <td>59.692308</td>\n",
       "      <td>0.076923</td>\n",
       "      <td>253.384615</td>\n",
       "      <td>140.615385</td>\n",
       "    </tr>\n",
       "  </tbody>\n",
       "</table>\n",
       "</div>"
      ],
      "text/plain": [
       "                 Age  Fasting_Blood_Sugar  Serum_Cholesterol  Max_Heart_Rate\n",
       "Diagnosis                                                                   \n",
       "0          52.585366             0.140244         242.640244      158.378049\n",
       "1          55.381818             0.072727         249.109091      145.927273\n",
       "2          58.027778             0.250000         259.277778      135.583333\n",
       "3          56.000000             0.228571         246.457143      132.057143\n",
       "4          59.692308             0.076923         253.384615      140.615385"
      ]
     },
     "execution_count": 20,
     "metadata": {},
     "output_type": "execute_result"
    }
   ],
   "source": [
    "diagnosis_mean = heart_disease_final.groupby(\"Diagnosis\").agg(\"mean\")\n",
    "diagnosis_mean_filtered = diagnosis_mean.loc[:,[\"Age\",\"Fasting_Blood_Sugar\",\"Serum_Cholesterol\",\"Max_Heart_Rate\"]]\n",
    "diagnosis_mean_filtered"
   ]
  },
  {
   "cell_type": "markdown",
   "id": "baff41f0-c2df-4bbf-baca-eb9026350716",
   "metadata": {},
   "source": [
    "We then created a dataframe grouped by chest pain type to see the summarized count of each variable for each chest pain type:"
   ]
  },
  {
   "cell_type": "code",
   "execution_count": 21,
   "id": "dbc4bcfe-5539-4533-be85-b917dfa3076d",
   "metadata": {},
   "outputs": [
    {
     "data": {
      "text/html": [
       "<div>\n",
       "<style scoped>\n",
       "    .dataframe tbody tr th:only-of-type {\n",
       "        vertical-align: middle;\n",
       "    }\n",
       "\n",
       "    .dataframe tbody tr th {\n",
       "        vertical-align: top;\n",
       "    }\n",
       "\n",
       "    .dataframe thead th {\n",
       "        text-align: right;\n",
       "    }\n",
       "</style>\n",
       "<table border=\"1\" class=\"dataframe\">\n",
       "  <thead>\n",
       "    <tr style=\"text-align: right;\">\n",
       "      <th></th>\n",
       "      <th>Age</th>\n",
       "      <th>Fasting_Blood_Sugar</th>\n",
       "      <th>Serum_Cholesterol</th>\n",
       "      <th>Max_Heart_Rate</th>\n",
       "      <th>Diagnosis</th>\n",
       "    </tr>\n",
       "    <tr>\n",
       "      <th>Chest_Pain_Type</th>\n",
       "      <th></th>\n",
       "      <th></th>\n",
       "      <th></th>\n",
       "      <th></th>\n",
       "      <th></th>\n",
       "    </tr>\n",
       "  </thead>\n",
       "  <tbody>\n",
       "    <tr>\n",
       "      <th>1.0</th>\n",
       "      <td>23</td>\n",
       "      <td>23</td>\n",
       "      <td>23</td>\n",
       "      <td>23</td>\n",
       "      <td>23</td>\n",
       "    </tr>\n",
       "    <tr>\n",
       "      <th>2.0</th>\n",
       "      <td>50</td>\n",
       "      <td>50</td>\n",
       "      <td>50</td>\n",
       "      <td>50</td>\n",
       "      <td>50</td>\n",
       "    </tr>\n",
       "    <tr>\n",
       "      <th>3.0</th>\n",
       "      <td>86</td>\n",
       "      <td>86</td>\n",
       "      <td>86</td>\n",
       "      <td>86</td>\n",
       "      <td>86</td>\n",
       "    </tr>\n",
       "    <tr>\n",
       "      <th>4.0</th>\n",
       "      <td>144</td>\n",
       "      <td>144</td>\n",
       "      <td>144</td>\n",
       "      <td>144</td>\n",
       "      <td>144</td>\n",
       "    </tr>\n",
       "  </tbody>\n",
       "</table>\n",
       "</div>"
      ],
      "text/plain": [
       "                 Age  Fasting_Blood_Sugar  Serum_Cholesterol  Max_Heart_Rate  \\\n",
       "Chest_Pain_Type                                                                \n",
       "1.0               23                   23                 23              23   \n",
       "2.0               50                   50                 50              50   \n",
       "3.0               86                   86                 86              86   \n",
       "4.0              144                  144                144             144   \n",
       "\n",
       "                 Diagnosis  \n",
       "Chest_Pain_Type             \n",
       "1.0                     23  \n",
       "2.0                     50  \n",
       "3.0                     86  \n",
       "4.0                    144  "
      ]
     },
     "execution_count": 21,
     "metadata": {},
     "output_type": "execute_result"
    }
   ],
   "source": [
    "# Grouping by Chest_Pain_Type to see count of each variable for every chest pain type\n",
    "chest_pain_grouped = heart_disease_final.groupby(\"Chest_Pain_Type\").agg(\"count\")\n",
    "chest_pain_grouped"
   ]
  },
  {
   "cell_type": "markdown",
   "id": "59ffec56-f355-4432-b199-c6c33974191e",
   "metadata": {},
   "source": [
    "Next, we visualize the data into plots and graphs in order to display data effectively.\n",
    "We visualize how maximum heart rate changes with age through a scatter plot:"
   ]
  },
  {
   "cell_type": "code",
   "execution_count": 22,
   "id": "d02c57ad-0a7e-48df-b658-c9ec6cb7db9f",
   "metadata": {},
   "outputs": [
    {
     "name": "stderr",
     "output_type": "stream",
     "text": [
      "/opt/conda/lib/python3.10/site-packages/altair/utils/core.py:317: FutureWarning: iteritems is deprecated and will be removed in a future version. Use .items instead.\n",
      "  for col_name, dtype in df.dtypes.iteritems():\n"
     ]
    },
    {
     "data": {
      "application/vnd.vegalite.v4+json": {
       "$schema": "https://vega.github.io/schema/vega-lite/v4.17.0.json",
       "config": {
        "axis": {
         "labelFontSize": 15,
         "titleFontSize": 15
        },
        "title": {
         "fontSize": 25
        },
        "view": {
         "continuousHeight": 300,
         "continuousWidth": 400
        }
       },
       "data": {
        "name": "data-86406a1be59dcafffe098f86c4df0505"
       },
       "datasets": {
        "data-86406a1be59dcafffe098f86c4df0505": [
         {
          "Age": 63,
          "Chest_Pain_Type": 1,
          "Diagnosis": 0,
          "Fasting_Blood_Sugar": 1,
          "Max_Heart_Rate": 150,
          "Serum_Cholesterol": 233
         },
         {
          "Age": 67,
          "Chest_Pain_Type": 4,
          "Diagnosis": 2,
          "Fasting_Blood_Sugar": 0,
          "Max_Heart_Rate": 108,
          "Serum_Cholesterol": 286
         },
         {
          "Age": 67,
          "Chest_Pain_Type": 4,
          "Diagnosis": 1,
          "Fasting_Blood_Sugar": 0,
          "Max_Heart_Rate": 129,
          "Serum_Cholesterol": 229
         },
         {
          "Age": 37,
          "Chest_Pain_Type": 3,
          "Diagnosis": 0,
          "Fasting_Blood_Sugar": 0,
          "Max_Heart_Rate": 187,
          "Serum_Cholesterol": 250
         },
         {
          "Age": 41,
          "Chest_Pain_Type": 2,
          "Diagnosis": 0,
          "Fasting_Blood_Sugar": 0,
          "Max_Heart_Rate": 172,
          "Serum_Cholesterol": 204
         },
         {
          "Age": 56,
          "Chest_Pain_Type": 2,
          "Diagnosis": 0,
          "Fasting_Blood_Sugar": 0,
          "Max_Heart_Rate": 178,
          "Serum_Cholesterol": 236
         },
         {
          "Age": 62,
          "Chest_Pain_Type": 4,
          "Diagnosis": 3,
          "Fasting_Blood_Sugar": 0,
          "Max_Heart_Rate": 160,
          "Serum_Cholesterol": 268
         },
         {
          "Age": 57,
          "Chest_Pain_Type": 4,
          "Diagnosis": 0,
          "Fasting_Blood_Sugar": 0,
          "Max_Heart_Rate": 163,
          "Serum_Cholesterol": 354
         },
         {
          "Age": 63,
          "Chest_Pain_Type": 4,
          "Diagnosis": 2,
          "Fasting_Blood_Sugar": 0,
          "Max_Heart_Rate": 147,
          "Serum_Cholesterol": 254
         },
         {
          "Age": 53,
          "Chest_Pain_Type": 4,
          "Diagnosis": 1,
          "Fasting_Blood_Sugar": 1,
          "Max_Heart_Rate": 155,
          "Serum_Cholesterol": 203
         },
         {
          "Age": 57,
          "Chest_Pain_Type": 4,
          "Diagnosis": 0,
          "Fasting_Blood_Sugar": 0,
          "Max_Heart_Rate": 148,
          "Serum_Cholesterol": 192
         },
         {
          "Age": 56,
          "Chest_Pain_Type": 2,
          "Diagnosis": 0,
          "Fasting_Blood_Sugar": 0,
          "Max_Heart_Rate": 153,
          "Serum_Cholesterol": 294
         },
         {
          "Age": 56,
          "Chest_Pain_Type": 3,
          "Diagnosis": 2,
          "Fasting_Blood_Sugar": 1,
          "Max_Heart_Rate": 142,
          "Serum_Cholesterol": 256
         },
         {
          "Age": 44,
          "Chest_Pain_Type": 2,
          "Diagnosis": 0,
          "Fasting_Blood_Sugar": 0,
          "Max_Heart_Rate": 173,
          "Serum_Cholesterol": 263
         },
         {
          "Age": 52,
          "Chest_Pain_Type": 3,
          "Diagnosis": 0,
          "Fasting_Blood_Sugar": 1,
          "Max_Heart_Rate": 162,
          "Serum_Cholesterol": 199
         },
         {
          "Age": 57,
          "Chest_Pain_Type": 3,
          "Diagnosis": 0,
          "Fasting_Blood_Sugar": 0,
          "Max_Heart_Rate": 174,
          "Serum_Cholesterol": 168
         },
         {
          "Age": 48,
          "Chest_Pain_Type": 2,
          "Diagnosis": 1,
          "Fasting_Blood_Sugar": 0,
          "Max_Heart_Rate": 168,
          "Serum_Cholesterol": 229
         },
         {
          "Age": 54,
          "Chest_Pain_Type": 4,
          "Diagnosis": 0,
          "Fasting_Blood_Sugar": 0,
          "Max_Heart_Rate": 160,
          "Serum_Cholesterol": 239
         },
         {
          "Age": 48,
          "Chest_Pain_Type": 3,
          "Diagnosis": 0,
          "Fasting_Blood_Sugar": 0,
          "Max_Heart_Rate": 139,
          "Serum_Cholesterol": 275
         },
         {
          "Age": 49,
          "Chest_Pain_Type": 2,
          "Diagnosis": 0,
          "Fasting_Blood_Sugar": 0,
          "Max_Heart_Rate": 171,
          "Serum_Cholesterol": 266
         },
         {
          "Age": 64,
          "Chest_Pain_Type": 1,
          "Diagnosis": 0,
          "Fasting_Blood_Sugar": 0,
          "Max_Heart_Rate": 144,
          "Serum_Cholesterol": 211
         },
         {
          "Age": 58,
          "Chest_Pain_Type": 1,
          "Diagnosis": 0,
          "Fasting_Blood_Sugar": 1,
          "Max_Heart_Rate": 162,
          "Serum_Cholesterol": 283
         },
         {
          "Age": 58,
          "Chest_Pain_Type": 2,
          "Diagnosis": 1,
          "Fasting_Blood_Sugar": 0,
          "Max_Heart_Rate": 160,
          "Serum_Cholesterol": 284
         },
         {
          "Age": 58,
          "Chest_Pain_Type": 3,
          "Diagnosis": 3,
          "Fasting_Blood_Sugar": 0,
          "Max_Heart_Rate": 173,
          "Serum_Cholesterol": 224
         },
         {
          "Age": 60,
          "Chest_Pain_Type": 4,
          "Diagnosis": 4,
          "Fasting_Blood_Sugar": 0,
          "Max_Heart_Rate": 132,
          "Serum_Cholesterol": 206
         },
         {
          "Age": 50,
          "Chest_Pain_Type": 3,
          "Diagnosis": 0,
          "Fasting_Blood_Sugar": 0,
          "Max_Heart_Rate": 158,
          "Serum_Cholesterol": 219
         },
         {
          "Age": 58,
          "Chest_Pain_Type": 3,
          "Diagnosis": 0,
          "Fasting_Blood_Sugar": 0,
          "Max_Heart_Rate": 172,
          "Serum_Cholesterol": 340
         },
         {
          "Age": 66,
          "Chest_Pain_Type": 1,
          "Diagnosis": 0,
          "Fasting_Blood_Sugar": 0,
          "Max_Heart_Rate": 114,
          "Serum_Cholesterol": 226
         },
         {
          "Age": 43,
          "Chest_Pain_Type": 4,
          "Diagnosis": 0,
          "Fasting_Blood_Sugar": 0,
          "Max_Heart_Rate": 171,
          "Serum_Cholesterol": 247
         },
         {
          "Age": 40,
          "Chest_Pain_Type": 4,
          "Diagnosis": 3,
          "Fasting_Blood_Sugar": 0,
          "Max_Heart_Rate": 114,
          "Serum_Cholesterol": 167
         },
         {
          "Age": 69,
          "Chest_Pain_Type": 1,
          "Diagnosis": 0,
          "Fasting_Blood_Sugar": 0,
          "Max_Heart_Rate": 151,
          "Serum_Cholesterol": 239
         },
         {
          "Age": 60,
          "Chest_Pain_Type": 4,
          "Diagnosis": 2,
          "Fasting_Blood_Sugar": 1,
          "Max_Heart_Rate": 160,
          "Serum_Cholesterol": 230
         },
         {
          "Age": 64,
          "Chest_Pain_Type": 3,
          "Diagnosis": 1,
          "Fasting_Blood_Sugar": 0,
          "Max_Heart_Rate": 158,
          "Serum_Cholesterol": 335
         },
         {
          "Age": 59,
          "Chest_Pain_Type": 4,
          "Diagnosis": 0,
          "Fasting_Blood_Sugar": 0,
          "Max_Heart_Rate": 161,
          "Serum_Cholesterol": 234
         },
         {
          "Age": 44,
          "Chest_Pain_Type": 3,
          "Diagnosis": 0,
          "Fasting_Blood_Sugar": 0,
          "Max_Heart_Rate": 179,
          "Serum_Cholesterol": 233
         },
         {
          "Age": 42,
          "Chest_Pain_Type": 4,
          "Diagnosis": 0,
          "Fasting_Blood_Sugar": 0,
          "Max_Heart_Rate": 178,
          "Serum_Cholesterol": 226
         },
         {
          "Age": 43,
          "Chest_Pain_Type": 4,
          "Diagnosis": 3,
          "Fasting_Blood_Sugar": 0,
          "Max_Heart_Rate": 120,
          "Serum_Cholesterol": 177
         },
         {
          "Age": 57,
          "Chest_Pain_Type": 4,
          "Diagnosis": 1,
          "Fasting_Blood_Sugar": 0,
          "Max_Heart_Rate": 112,
          "Serum_Cholesterol": 276
         },
         {
          "Age": 55,
          "Chest_Pain_Type": 4,
          "Diagnosis": 3,
          "Fasting_Blood_Sugar": 0,
          "Max_Heart_Rate": 132,
          "Serum_Cholesterol": 353
         },
         {
          "Age": 61,
          "Chest_Pain_Type": 3,
          "Diagnosis": 0,
          "Fasting_Blood_Sugar": 1,
          "Max_Heart_Rate": 137,
          "Serum_Cholesterol": 243
         },
         {
          "Age": 65,
          "Chest_Pain_Type": 4,
          "Diagnosis": 4,
          "Fasting_Blood_Sugar": 0,
          "Max_Heart_Rate": 114,
          "Serum_Cholesterol": 225
         },
         {
          "Age": 40,
          "Chest_Pain_Type": 1,
          "Diagnosis": 0,
          "Fasting_Blood_Sugar": 0,
          "Max_Heart_Rate": 178,
          "Serum_Cholesterol": 199
         },
         {
          "Age": 71,
          "Chest_Pain_Type": 2,
          "Diagnosis": 0,
          "Fasting_Blood_Sugar": 0,
          "Max_Heart_Rate": 162,
          "Serum_Cholesterol": 302
         },
         {
          "Age": 59,
          "Chest_Pain_Type": 3,
          "Diagnosis": 0,
          "Fasting_Blood_Sugar": 1,
          "Max_Heart_Rate": 157,
          "Serum_Cholesterol": 212
         },
         {
          "Age": 61,
          "Chest_Pain_Type": 4,
          "Diagnosis": 1,
          "Fasting_Blood_Sugar": 0,
          "Max_Heart_Rate": 169,
          "Serum_Cholesterol": 330
         },
         {
          "Age": 58,
          "Chest_Pain_Type": 3,
          "Diagnosis": 4,
          "Fasting_Blood_Sugar": 0,
          "Max_Heart_Rate": 165,
          "Serum_Cholesterol": 230
         },
         {
          "Age": 51,
          "Chest_Pain_Type": 3,
          "Diagnosis": 0,
          "Fasting_Blood_Sugar": 0,
          "Max_Heart_Rate": 123,
          "Serum_Cholesterol": 175
         },
         {
          "Age": 50,
          "Chest_Pain_Type": 4,
          "Diagnosis": 4,
          "Fasting_Blood_Sugar": 0,
          "Max_Heart_Rate": 128,
          "Serum_Cholesterol": 243
         },
         {
          "Age": 65,
          "Chest_Pain_Type": 3,
          "Diagnosis": 0,
          "Fasting_Blood_Sugar": 1,
          "Max_Heart_Rate": 157,
          "Serum_Cholesterol": 417
         },
         {
          "Age": 53,
          "Chest_Pain_Type": 3,
          "Diagnosis": 0,
          "Fasting_Blood_Sugar": 1,
          "Max_Heart_Rate": 152,
          "Serum_Cholesterol": 197
         },
         {
          "Age": 41,
          "Chest_Pain_Type": 2,
          "Diagnosis": 0,
          "Fasting_Blood_Sugar": 0,
          "Max_Heart_Rate": 168,
          "Serum_Cholesterol": 198
         },
         {
          "Age": 65,
          "Chest_Pain_Type": 4,
          "Diagnosis": 0,
          "Fasting_Blood_Sugar": 0,
          "Max_Heart_Rate": 140,
          "Serum_Cholesterol": 177
         },
         {
          "Age": 44,
          "Chest_Pain_Type": 4,
          "Diagnosis": 2,
          "Fasting_Blood_Sugar": 0,
          "Max_Heart_Rate": 153,
          "Serum_Cholesterol": 290
         },
         {
          "Age": 44,
          "Chest_Pain_Type": 2,
          "Diagnosis": 0,
          "Fasting_Blood_Sugar": 0,
          "Max_Heart_Rate": 188,
          "Serum_Cholesterol": 219
         },
         {
          "Age": 60,
          "Chest_Pain_Type": 4,
          "Diagnosis": 1,
          "Fasting_Blood_Sugar": 0,
          "Max_Heart_Rate": 144,
          "Serum_Cholesterol": 253
         },
         {
          "Age": 54,
          "Chest_Pain_Type": 4,
          "Diagnosis": 1,
          "Fasting_Blood_Sugar": 0,
          "Max_Heart_Rate": 109,
          "Serum_Cholesterol": 266
         },
         {
          "Age": 50,
          "Chest_Pain_Type": 3,
          "Diagnosis": 1,
          "Fasting_Blood_Sugar": 0,
          "Max_Heart_Rate": 163,
          "Serum_Cholesterol": 233
         },
         {
          "Age": 41,
          "Chest_Pain_Type": 4,
          "Diagnosis": 1,
          "Fasting_Blood_Sugar": 0,
          "Max_Heart_Rate": 158,
          "Serum_Cholesterol": 172
         },
         {
          "Age": 54,
          "Chest_Pain_Type": 3,
          "Diagnosis": 0,
          "Fasting_Blood_Sugar": 0,
          "Max_Heart_Rate": 152,
          "Serum_Cholesterol": 273
         },
         {
          "Age": 51,
          "Chest_Pain_Type": 1,
          "Diagnosis": 0,
          "Fasting_Blood_Sugar": 0,
          "Max_Heart_Rate": 125,
          "Serum_Cholesterol": 213
         },
         {
          "Age": 51,
          "Chest_Pain_Type": 4,
          "Diagnosis": 2,
          "Fasting_Blood_Sugar": 0,
          "Max_Heart_Rate": 142,
          "Serum_Cholesterol": 305
         },
         {
          "Age": 46,
          "Chest_Pain_Type": 3,
          "Diagnosis": 0,
          "Fasting_Blood_Sugar": 0,
          "Max_Heart_Rate": 160,
          "Serum_Cholesterol": 177
         },
         {
          "Age": 58,
          "Chest_Pain_Type": 4,
          "Diagnosis": 1,
          "Fasting_Blood_Sugar": 0,
          "Max_Heart_Rate": 131,
          "Serum_Cholesterol": 216
         },
         {
          "Age": 54,
          "Chest_Pain_Type": 3,
          "Diagnosis": 0,
          "Fasting_Blood_Sugar": 1,
          "Max_Heart_Rate": 170,
          "Serum_Cholesterol": 304
         },
         {
          "Age": 54,
          "Chest_Pain_Type": 4,
          "Diagnosis": 2,
          "Fasting_Blood_Sugar": 0,
          "Max_Heart_Rate": 113,
          "Serum_Cholesterol": 188
         },
         {
          "Age": 60,
          "Chest_Pain_Type": 4,
          "Diagnosis": 2,
          "Fasting_Blood_Sugar": 0,
          "Max_Heart_Rate": 142,
          "Serum_Cholesterol": 282
         },
         {
          "Age": 60,
          "Chest_Pain_Type": 3,
          "Diagnosis": 1,
          "Fasting_Blood_Sugar": 0,
          "Max_Heart_Rate": 155,
          "Serum_Cholesterol": 185
         },
         {
          "Age": 54,
          "Chest_Pain_Type": 3,
          "Diagnosis": 0,
          "Fasting_Blood_Sugar": 0,
          "Max_Heart_Rate": 165,
          "Serum_Cholesterol": 232
         },
         {
          "Age": 59,
          "Chest_Pain_Type": 4,
          "Diagnosis": 2,
          "Fasting_Blood_Sugar": 0,
          "Max_Heart_Rate": 140,
          "Serum_Cholesterol": 326
         },
         {
          "Age": 46,
          "Chest_Pain_Type": 3,
          "Diagnosis": 1,
          "Fasting_Blood_Sugar": 0,
          "Max_Heart_Rate": 147,
          "Serum_Cholesterol": 231
         },
         {
          "Age": 65,
          "Chest_Pain_Type": 3,
          "Diagnosis": 0,
          "Fasting_Blood_Sugar": 0,
          "Max_Heart_Rate": 148,
          "Serum_Cholesterol": 269
         },
         {
          "Age": 67,
          "Chest_Pain_Type": 4,
          "Diagnosis": 3,
          "Fasting_Blood_Sugar": 1,
          "Max_Heart_Rate": 163,
          "Serum_Cholesterol": 254
         },
         {
          "Age": 62,
          "Chest_Pain_Type": 4,
          "Diagnosis": 1,
          "Fasting_Blood_Sugar": 0,
          "Max_Heart_Rate": 99,
          "Serum_Cholesterol": 267
         },
         {
          "Age": 65,
          "Chest_Pain_Type": 4,
          "Diagnosis": 1,
          "Fasting_Blood_Sugar": 0,
          "Max_Heart_Rate": 158,
          "Serum_Cholesterol": 248
         },
         {
          "Age": 44,
          "Chest_Pain_Type": 4,
          "Diagnosis": 1,
          "Fasting_Blood_Sugar": 0,
          "Max_Heart_Rate": 177,
          "Serum_Cholesterol": 197
         },
         {
          "Age": 65,
          "Chest_Pain_Type": 3,
          "Diagnosis": 0,
          "Fasting_Blood_Sugar": 0,
          "Max_Heart_Rate": 151,
          "Serum_Cholesterol": 360
         },
         {
          "Age": 60,
          "Chest_Pain_Type": 4,
          "Diagnosis": 1,
          "Fasting_Blood_Sugar": 0,
          "Max_Heart_Rate": 141,
          "Serum_Cholesterol": 258
         },
         {
          "Age": 51,
          "Chest_Pain_Type": 3,
          "Diagnosis": 0,
          "Fasting_Blood_Sugar": 0,
          "Max_Heart_Rate": 142,
          "Serum_Cholesterol": 308
         },
         {
          "Age": 48,
          "Chest_Pain_Type": 2,
          "Diagnosis": 0,
          "Fasting_Blood_Sugar": 0,
          "Max_Heart_Rate": 180,
          "Serum_Cholesterol": 245
         },
         {
          "Age": 58,
          "Chest_Pain_Type": 4,
          "Diagnosis": 3,
          "Fasting_Blood_Sugar": 0,
          "Max_Heart_Rate": 111,
          "Serum_Cholesterol": 270
         },
         {
          "Age": 45,
          "Chest_Pain_Type": 4,
          "Diagnosis": 0,
          "Fasting_Blood_Sugar": 0,
          "Max_Heart_Rate": 148,
          "Serum_Cholesterol": 208
         },
         {
          "Age": 53,
          "Chest_Pain_Type": 4,
          "Diagnosis": 0,
          "Fasting_Blood_Sugar": 0,
          "Max_Heart_Rate": 143,
          "Serum_Cholesterol": 264
         },
         {
          "Age": 39,
          "Chest_Pain_Type": 3,
          "Diagnosis": 0,
          "Fasting_Blood_Sugar": 0,
          "Max_Heart_Rate": 182,
          "Serum_Cholesterol": 321
         },
         {
          "Age": 68,
          "Chest_Pain_Type": 3,
          "Diagnosis": 3,
          "Fasting_Blood_Sugar": 1,
          "Max_Heart_Rate": 150,
          "Serum_Cholesterol": 274
         },
         {
          "Age": 52,
          "Chest_Pain_Type": 2,
          "Diagnosis": 0,
          "Fasting_Blood_Sugar": 0,
          "Max_Heart_Rate": 172,
          "Serum_Cholesterol": 325
         },
         {
          "Age": 44,
          "Chest_Pain_Type": 3,
          "Diagnosis": 0,
          "Fasting_Blood_Sugar": 0,
          "Max_Heart_Rate": 180,
          "Serum_Cholesterol": 235
         },
         {
          "Age": 47,
          "Chest_Pain_Type": 3,
          "Diagnosis": 0,
          "Fasting_Blood_Sugar": 0,
          "Max_Heart_Rate": 156,
          "Serum_Cholesterol": 257
         },
         {
          "Age": 53,
          "Chest_Pain_Type": 3,
          "Diagnosis": 0,
          "Fasting_Blood_Sugar": 0,
          "Max_Heart_Rate": 115,
          "Serum_Cholesterol": 216
         },
         {
          "Age": 53,
          "Chest_Pain_Type": 4,
          "Diagnosis": 0,
          "Fasting_Blood_Sugar": 0,
          "Max_Heart_Rate": 160,
          "Serum_Cholesterol": 234
         },
         {
          "Age": 51,
          "Chest_Pain_Type": 3,
          "Diagnosis": 0,
          "Fasting_Blood_Sugar": 0,
          "Max_Heart_Rate": 149,
          "Serum_Cholesterol": 256
         },
         {
          "Age": 66,
          "Chest_Pain_Type": 4,
          "Diagnosis": 0,
          "Fasting_Blood_Sugar": 0,
          "Max_Heart_Rate": 151,
          "Serum_Cholesterol": 302
         },
         {
          "Age": 62,
          "Chest_Pain_Type": 4,
          "Diagnosis": 3,
          "Fasting_Blood_Sugar": 0,
          "Max_Heart_Rate": 145,
          "Serum_Cholesterol": 164
         },
         {
          "Age": 62,
          "Chest_Pain_Type": 3,
          "Diagnosis": 0,
          "Fasting_Blood_Sugar": 0,
          "Max_Heart_Rate": 146,
          "Serum_Cholesterol": 231
         },
         {
          "Age": 44,
          "Chest_Pain_Type": 3,
          "Diagnosis": 0,
          "Fasting_Blood_Sugar": 0,
          "Max_Heart_Rate": 175,
          "Serum_Cholesterol": 141
         },
         {
          "Age": 63,
          "Chest_Pain_Type": 3,
          "Diagnosis": 0,
          "Fasting_Blood_Sugar": 0,
          "Max_Heart_Rate": 172,
          "Serum_Cholesterol": 252
         },
         {
          "Age": 52,
          "Chest_Pain_Type": 4,
          "Diagnosis": 1,
          "Fasting_Blood_Sugar": 0,
          "Max_Heart_Rate": 161,
          "Serum_Cholesterol": 255
         },
         {
          "Age": 59,
          "Chest_Pain_Type": 4,
          "Diagnosis": 2,
          "Fasting_Blood_Sugar": 0,
          "Max_Heart_Rate": 142,
          "Serum_Cholesterol": 239
         },
         {
          "Age": 60,
          "Chest_Pain_Type": 4,
          "Diagnosis": 3,
          "Fasting_Blood_Sugar": 0,
          "Max_Heart_Rate": 157,
          "Serum_Cholesterol": 258
         },
         {
          "Age": 52,
          "Chest_Pain_Type": 2,
          "Diagnosis": 0,
          "Fasting_Blood_Sugar": 0,
          "Max_Heart_Rate": 158,
          "Serum_Cholesterol": 201
         },
         {
          "Age": 48,
          "Chest_Pain_Type": 4,
          "Diagnosis": 0,
          "Fasting_Blood_Sugar": 0,
          "Max_Heart_Rate": 186,
          "Serum_Cholesterol": 222
         },
         {
          "Age": 45,
          "Chest_Pain_Type": 4,
          "Diagnosis": 0,
          "Fasting_Blood_Sugar": 0,
          "Max_Heart_Rate": 185,
          "Serum_Cholesterol": 260
         },
         {
          "Age": 34,
          "Chest_Pain_Type": 1,
          "Diagnosis": 0,
          "Fasting_Blood_Sugar": 0,
          "Max_Heart_Rate": 174,
          "Serum_Cholesterol": 182
         },
         {
          "Age": 57,
          "Chest_Pain_Type": 4,
          "Diagnosis": 0,
          "Fasting_Blood_Sugar": 0,
          "Max_Heart_Rate": 159,
          "Serum_Cholesterol": 303
         },
         {
          "Age": 71,
          "Chest_Pain_Type": 3,
          "Diagnosis": 0,
          "Fasting_Blood_Sugar": 1,
          "Max_Heart_Rate": 130,
          "Serum_Cholesterol": 265
         },
         {
          "Age": 49,
          "Chest_Pain_Type": 3,
          "Diagnosis": 3,
          "Fasting_Blood_Sugar": 0,
          "Max_Heart_Rate": 139,
          "Serum_Cholesterol": 188
         },
         {
          "Age": 54,
          "Chest_Pain_Type": 2,
          "Diagnosis": 0,
          "Fasting_Blood_Sugar": 0,
          "Max_Heart_Rate": 156,
          "Serum_Cholesterol": 309
         },
         {
          "Age": 59,
          "Chest_Pain_Type": 4,
          "Diagnosis": 2,
          "Fasting_Blood_Sugar": 0,
          "Max_Heart_Rate": 162,
          "Serum_Cholesterol": 177
         },
         {
          "Age": 57,
          "Chest_Pain_Type": 3,
          "Diagnosis": 1,
          "Fasting_Blood_Sugar": 0,
          "Max_Heart_Rate": 150,
          "Serum_Cholesterol": 229
         },
         {
          "Age": 61,
          "Chest_Pain_Type": 4,
          "Diagnosis": 2,
          "Fasting_Blood_Sugar": 0,
          "Max_Heart_Rate": 140,
          "Serum_Cholesterol": 260
         },
         {
          "Age": 39,
          "Chest_Pain_Type": 4,
          "Diagnosis": 3,
          "Fasting_Blood_Sugar": 0,
          "Max_Heart_Rate": 140,
          "Serum_Cholesterol": 219
         },
         {
          "Age": 61,
          "Chest_Pain_Type": 4,
          "Diagnosis": 1,
          "Fasting_Blood_Sugar": 0,
          "Max_Heart_Rate": 146,
          "Serum_Cholesterol": 307
         },
         {
          "Age": 56,
          "Chest_Pain_Type": 4,
          "Diagnosis": 1,
          "Fasting_Blood_Sugar": 1,
          "Max_Heart_Rate": 144,
          "Serum_Cholesterol": 249
         },
         {
          "Age": 52,
          "Chest_Pain_Type": 1,
          "Diagnosis": 0,
          "Fasting_Blood_Sugar": 0,
          "Max_Heart_Rate": 190,
          "Serum_Cholesterol": 186
         },
         {
          "Age": 43,
          "Chest_Pain_Type": 4,
          "Diagnosis": 2,
          "Fasting_Blood_Sugar": 1,
          "Max_Heart_Rate": 136,
          "Serum_Cholesterol": 341
         },
         {
          "Age": 62,
          "Chest_Pain_Type": 3,
          "Diagnosis": 2,
          "Fasting_Blood_Sugar": 0,
          "Max_Heart_Rate": 97,
          "Serum_Cholesterol": 263
         },
         {
          "Age": 41,
          "Chest_Pain_Type": 2,
          "Diagnosis": 0,
          "Fasting_Blood_Sugar": 0,
          "Max_Heart_Rate": 132,
          "Serum_Cholesterol": 203
         },
         {
          "Age": 58,
          "Chest_Pain_Type": 3,
          "Diagnosis": 0,
          "Fasting_Blood_Sugar": 1,
          "Max_Heart_Rate": 165,
          "Serum_Cholesterol": 211
         },
         {
          "Age": 35,
          "Chest_Pain_Type": 4,
          "Diagnosis": 0,
          "Fasting_Blood_Sugar": 0,
          "Max_Heart_Rate": 182,
          "Serum_Cholesterol": 183
         },
         {
          "Age": 63,
          "Chest_Pain_Type": 4,
          "Diagnosis": 3,
          "Fasting_Blood_Sugar": 1,
          "Max_Heart_Rate": 132,
          "Serum_Cholesterol": 330
         },
         {
          "Age": 65,
          "Chest_Pain_Type": 4,
          "Diagnosis": 2,
          "Fasting_Blood_Sugar": 0,
          "Max_Heart_Rate": 127,
          "Serum_Cholesterol": 254
         },
         {
          "Age": 48,
          "Chest_Pain_Type": 4,
          "Diagnosis": 3,
          "Fasting_Blood_Sugar": 1,
          "Max_Heart_Rate": 150,
          "Serum_Cholesterol": 256
         },
         {
          "Age": 63,
          "Chest_Pain_Type": 4,
          "Diagnosis": 4,
          "Fasting_Blood_Sugar": 0,
          "Max_Heart_Rate": 154,
          "Serum_Cholesterol": 407
         },
         {
          "Age": 51,
          "Chest_Pain_Type": 3,
          "Diagnosis": 0,
          "Fasting_Blood_Sugar": 0,
          "Max_Heart_Rate": 143,
          "Serum_Cholesterol": 222
         },
         {
          "Age": 55,
          "Chest_Pain_Type": 4,
          "Diagnosis": 3,
          "Fasting_Blood_Sugar": 0,
          "Max_Heart_Rate": 111,
          "Serum_Cholesterol": 217
         },
         {
          "Age": 65,
          "Chest_Pain_Type": 1,
          "Diagnosis": 1,
          "Fasting_Blood_Sugar": 1,
          "Max_Heart_Rate": 174,
          "Serum_Cholesterol": 282
         },
         {
          "Age": 45,
          "Chest_Pain_Type": 2,
          "Diagnosis": 0,
          "Fasting_Blood_Sugar": 0,
          "Max_Heart_Rate": 175,
          "Serum_Cholesterol": 234
         },
         {
          "Age": 56,
          "Chest_Pain_Type": 4,
          "Diagnosis": 3,
          "Fasting_Blood_Sugar": 1,
          "Max_Heart_Rate": 133,
          "Serum_Cholesterol": 288
         },
         {
          "Age": 54,
          "Chest_Pain_Type": 4,
          "Diagnosis": 3,
          "Fasting_Blood_Sugar": 0,
          "Max_Heart_Rate": 126,
          "Serum_Cholesterol": 239
         },
         {
          "Age": 44,
          "Chest_Pain_Type": 2,
          "Diagnosis": 0,
          "Fasting_Blood_Sugar": 0,
          "Max_Heart_Rate": 170,
          "Serum_Cholesterol": 220
         },
         {
          "Age": 62,
          "Chest_Pain_Type": 4,
          "Diagnosis": 0,
          "Fasting_Blood_Sugar": 0,
          "Max_Heart_Rate": 163,
          "Serum_Cholesterol": 209
         },
         {
          "Age": 54,
          "Chest_Pain_Type": 3,
          "Diagnosis": 0,
          "Fasting_Blood_Sugar": 0,
          "Max_Heart_Rate": 147,
          "Serum_Cholesterol": 258
         },
         {
          "Age": 51,
          "Chest_Pain_Type": 3,
          "Diagnosis": 0,
          "Fasting_Blood_Sugar": 0,
          "Max_Heart_Rate": 154,
          "Serum_Cholesterol": 227
         },
         {
          "Age": 29,
          "Chest_Pain_Type": 2,
          "Diagnosis": 0,
          "Fasting_Blood_Sugar": 0,
          "Max_Heart_Rate": 202,
          "Serum_Cholesterol": 204
         },
         {
          "Age": 51,
          "Chest_Pain_Type": 4,
          "Diagnosis": 0,
          "Fasting_Blood_Sugar": 0,
          "Max_Heart_Rate": 186,
          "Serum_Cholesterol": 261
         },
         {
          "Age": 43,
          "Chest_Pain_Type": 3,
          "Diagnosis": 0,
          "Fasting_Blood_Sugar": 0,
          "Max_Heart_Rate": 165,
          "Serum_Cholesterol": 213
         },
         {
          "Age": 55,
          "Chest_Pain_Type": 2,
          "Diagnosis": 0,
          "Fasting_Blood_Sugar": 0,
          "Max_Heart_Rate": 161,
          "Serum_Cholesterol": 250
         },
         {
          "Age": 70,
          "Chest_Pain_Type": 4,
          "Diagnosis": 4,
          "Fasting_Blood_Sugar": 0,
          "Max_Heart_Rate": 125,
          "Serum_Cholesterol": 174
         },
         {
          "Age": 62,
          "Chest_Pain_Type": 2,
          "Diagnosis": 3,
          "Fasting_Blood_Sugar": 0,
          "Max_Heart_Rate": 103,
          "Serum_Cholesterol": 281
         },
         {
          "Age": 35,
          "Chest_Pain_Type": 4,
          "Diagnosis": 1,
          "Fasting_Blood_Sugar": 0,
          "Max_Heart_Rate": 130,
          "Serum_Cholesterol": 198
         },
         {
          "Age": 51,
          "Chest_Pain_Type": 3,
          "Diagnosis": 0,
          "Fasting_Blood_Sugar": 1,
          "Max_Heart_Rate": 166,
          "Serum_Cholesterol": 245
         },
         {
          "Age": 59,
          "Chest_Pain_Type": 2,
          "Diagnosis": 0,
          "Fasting_Blood_Sugar": 0,
          "Max_Heart_Rate": 164,
          "Serum_Cholesterol": 221
         },
         {
          "Age": 59,
          "Chest_Pain_Type": 1,
          "Diagnosis": 1,
          "Fasting_Blood_Sugar": 0,
          "Max_Heart_Rate": 159,
          "Serum_Cholesterol": 288
         },
         {
          "Age": 52,
          "Chest_Pain_Type": 2,
          "Diagnosis": 0,
          "Fasting_Blood_Sugar": 1,
          "Max_Heart_Rate": 184,
          "Serum_Cholesterol": 205
         },
         {
          "Age": 64,
          "Chest_Pain_Type": 3,
          "Diagnosis": 1,
          "Fasting_Blood_Sugar": 0,
          "Max_Heart_Rate": 131,
          "Serum_Cholesterol": 309
         },
         {
          "Age": 58,
          "Chest_Pain_Type": 3,
          "Diagnosis": 0,
          "Fasting_Blood_Sugar": 0,
          "Max_Heart_Rate": 154,
          "Serum_Cholesterol": 240
         },
         {
          "Age": 47,
          "Chest_Pain_Type": 3,
          "Diagnosis": 1,
          "Fasting_Blood_Sugar": 0,
          "Max_Heart_Rate": 152,
          "Serum_Cholesterol": 243
         },
         {
          "Age": 57,
          "Chest_Pain_Type": 4,
          "Diagnosis": 4,
          "Fasting_Blood_Sugar": 1,
          "Max_Heart_Rate": 124,
          "Serum_Cholesterol": 289
         },
         {
          "Age": 41,
          "Chest_Pain_Type": 3,
          "Diagnosis": 0,
          "Fasting_Blood_Sugar": 0,
          "Max_Heart_Rate": 179,
          "Serum_Cholesterol": 250
         },
         {
          "Age": 45,
          "Chest_Pain_Type": 2,
          "Diagnosis": 0,
          "Fasting_Blood_Sugar": 0,
          "Max_Heart_Rate": 170,
          "Serum_Cholesterol": 308
         },
         {
          "Age": 60,
          "Chest_Pain_Type": 3,
          "Diagnosis": 0,
          "Fasting_Blood_Sugar": 0,
          "Max_Heart_Rate": 160,
          "Serum_Cholesterol": 318
         },
         {
          "Age": 52,
          "Chest_Pain_Type": 1,
          "Diagnosis": 0,
          "Fasting_Blood_Sugar": 1,
          "Max_Heart_Rate": 178,
          "Serum_Cholesterol": 298
         },
         {
          "Age": 42,
          "Chest_Pain_Type": 4,
          "Diagnosis": 0,
          "Fasting_Blood_Sugar": 0,
          "Max_Heart_Rate": 122,
          "Serum_Cholesterol": 265
         },
         {
          "Age": 67,
          "Chest_Pain_Type": 3,
          "Diagnosis": 0,
          "Fasting_Blood_Sugar": 0,
          "Max_Heart_Rate": 160,
          "Serum_Cholesterol": 564
         },
         {
          "Age": 55,
          "Chest_Pain_Type": 4,
          "Diagnosis": 4,
          "Fasting_Blood_Sugar": 0,
          "Max_Heart_Rate": 145,
          "Serum_Cholesterol": 289
         },
         {
          "Age": 64,
          "Chest_Pain_Type": 4,
          "Diagnosis": 3,
          "Fasting_Blood_Sugar": 0,
          "Max_Heart_Rate": 96,
          "Serum_Cholesterol": 246
         },
         {
          "Age": 70,
          "Chest_Pain_Type": 4,
          "Diagnosis": 1,
          "Fasting_Blood_Sugar": 0,
          "Max_Heart_Rate": 109,
          "Serum_Cholesterol": 322
         },
         {
          "Age": 51,
          "Chest_Pain_Type": 4,
          "Diagnosis": 1,
          "Fasting_Blood_Sugar": 0,
          "Max_Heart_Rate": 173,
          "Serum_Cholesterol": 299
         },
         {
          "Age": 58,
          "Chest_Pain_Type": 4,
          "Diagnosis": 1,
          "Fasting_Blood_Sugar": 0,
          "Max_Heart_Rate": 171,
          "Serum_Cholesterol": 300
         },
         {
          "Age": 60,
          "Chest_Pain_Type": 4,
          "Diagnosis": 2,
          "Fasting_Blood_Sugar": 0,
          "Max_Heart_Rate": 170,
          "Serum_Cholesterol": 293
         },
         {
          "Age": 68,
          "Chest_Pain_Type": 3,
          "Diagnosis": 0,
          "Fasting_Blood_Sugar": 0,
          "Max_Heart_Rate": 151,
          "Serum_Cholesterol": 277
         },
         {
          "Age": 46,
          "Chest_Pain_Type": 2,
          "Diagnosis": 0,
          "Fasting_Blood_Sugar": 1,
          "Max_Heart_Rate": 156,
          "Serum_Cholesterol": 197
         },
         {
          "Age": 77,
          "Chest_Pain_Type": 4,
          "Diagnosis": 4,
          "Fasting_Blood_Sugar": 0,
          "Max_Heart_Rate": 162,
          "Serum_Cholesterol": 304
         },
         {
          "Age": 54,
          "Chest_Pain_Type": 3,
          "Diagnosis": 0,
          "Fasting_Blood_Sugar": 0,
          "Max_Heart_Rate": 158,
          "Serum_Cholesterol": 214
         },
         {
          "Age": 58,
          "Chest_Pain_Type": 4,
          "Diagnosis": 0,
          "Fasting_Blood_Sugar": 0,
          "Max_Heart_Rate": 122,
          "Serum_Cholesterol": 248
         },
         {
          "Age": 48,
          "Chest_Pain_Type": 3,
          "Diagnosis": 0,
          "Fasting_Blood_Sugar": 1,
          "Max_Heart_Rate": 175,
          "Serum_Cholesterol": 255
         },
         {
          "Age": 57,
          "Chest_Pain_Type": 4,
          "Diagnosis": 0,
          "Fasting_Blood_Sugar": 0,
          "Max_Heart_Rate": 168,
          "Serum_Cholesterol": 207
         },
         {
          "Age": 52,
          "Chest_Pain_Type": 3,
          "Diagnosis": 0,
          "Fasting_Blood_Sugar": 0,
          "Max_Heart_Rate": 169,
          "Serum_Cholesterol": 223
         },
         {
          "Age": 54,
          "Chest_Pain_Type": 2,
          "Diagnosis": 0,
          "Fasting_Blood_Sugar": 1,
          "Max_Heart_Rate": 159,
          "Serum_Cholesterol": 288
         },
         {
          "Age": 35,
          "Chest_Pain_Type": 4,
          "Diagnosis": 1,
          "Fasting_Blood_Sugar": 0,
          "Max_Heart_Rate": 156,
          "Serum_Cholesterol": 282
         },
         {
          "Age": 45,
          "Chest_Pain_Type": 2,
          "Diagnosis": 0,
          "Fasting_Blood_Sugar": 0,
          "Max_Heart_Rate": 138,
          "Serum_Cholesterol": 160
         },
         {
          "Age": 70,
          "Chest_Pain_Type": 3,
          "Diagnosis": 3,
          "Fasting_Blood_Sugar": 0,
          "Max_Heart_Rate": 112,
          "Serum_Cholesterol": 269
         },
         {
          "Age": 53,
          "Chest_Pain_Type": 4,
          "Diagnosis": 0,
          "Fasting_Blood_Sugar": 0,
          "Max_Heart_Rate": 111,
          "Serum_Cholesterol": 226
         },
         {
          "Age": 59,
          "Chest_Pain_Type": 4,
          "Diagnosis": 1,
          "Fasting_Blood_Sugar": 0,
          "Max_Heart_Rate": 143,
          "Serum_Cholesterol": 249
         },
         {
          "Age": 62,
          "Chest_Pain_Type": 4,
          "Diagnosis": 0,
          "Fasting_Blood_Sugar": 0,
          "Max_Heart_Rate": 157,
          "Serum_Cholesterol": 394
         },
         {
          "Age": 64,
          "Chest_Pain_Type": 4,
          "Diagnosis": 4,
          "Fasting_Blood_Sugar": 0,
          "Max_Heart_Rate": 132,
          "Serum_Cholesterol": 212
         },
         {
          "Age": 57,
          "Chest_Pain_Type": 4,
          "Diagnosis": 1,
          "Fasting_Blood_Sugar": 0,
          "Max_Heart_Rate": 88,
          "Serum_Cholesterol": 274
         },
         {
          "Age": 52,
          "Chest_Pain_Type": 4,
          "Diagnosis": 0,
          "Fasting_Blood_Sugar": 1,
          "Max_Heart_Rate": 147,
          "Serum_Cholesterol": 233
         },
         {
          "Age": 56,
          "Chest_Pain_Type": 4,
          "Diagnosis": 1,
          "Fasting_Blood_Sugar": 0,
          "Max_Heart_Rate": 105,
          "Serum_Cholesterol": 184
         },
         {
          "Age": 43,
          "Chest_Pain_Type": 3,
          "Diagnosis": 0,
          "Fasting_Blood_Sugar": 0,
          "Max_Heart_Rate": 162,
          "Serum_Cholesterol": 315
         },
         {
          "Age": 53,
          "Chest_Pain_Type": 3,
          "Diagnosis": 0,
          "Fasting_Blood_Sugar": 1,
          "Max_Heart_Rate": 173,
          "Serum_Cholesterol": 246
         },
         {
          "Age": 48,
          "Chest_Pain_Type": 4,
          "Diagnosis": 3,
          "Fasting_Blood_Sugar": 0,
          "Max_Heart_Rate": 166,
          "Serum_Cholesterol": 274
         },
         {
          "Age": 56,
          "Chest_Pain_Type": 4,
          "Diagnosis": 2,
          "Fasting_Blood_Sugar": 0,
          "Max_Heart_Rate": 150,
          "Serum_Cholesterol": 409
         },
         {
          "Age": 42,
          "Chest_Pain_Type": 1,
          "Diagnosis": 0,
          "Fasting_Blood_Sugar": 0,
          "Max_Heart_Rate": 178,
          "Serum_Cholesterol": 244
         },
         {
          "Age": 59,
          "Chest_Pain_Type": 1,
          "Diagnosis": 0,
          "Fasting_Blood_Sugar": 0,
          "Max_Heart_Rate": 145,
          "Serum_Cholesterol": 270
         },
         {
          "Age": 60,
          "Chest_Pain_Type": 4,
          "Diagnosis": 1,
          "Fasting_Blood_Sugar": 0,
          "Max_Heart_Rate": 161,
          "Serum_Cholesterol": 305
         },
         {
          "Age": 63,
          "Chest_Pain_Type": 2,
          "Diagnosis": 0,
          "Fasting_Blood_Sugar": 0,
          "Max_Heart_Rate": 179,
          "Serum_Cholesterol": 195
         },
         {
          "Age": 42,
          "Chest_Pain_Type": 3,
          "Diagnosis": 0,
          "Fasting_Blood_Sugar": 1,
          "Max_Heart_Rate": 194,
          "Serum_Cholesterol": 240
         },
         {
          "Age": 66,
          "Chest_Pain_Type": 2,
          "Diagnosis": 2,
          "Fasting_Blood_Sugar": 0,
          "Max_Heart_Rate": 120,
          "Serum_Cholesterol": 246
         },
         {
          "Age": 54,
          "Chest_Pain_Type": 2,
          "Diagnosis": 1,
          "Fasting_Blood_Sugar": 0,
          "Max_Heart_Rate": 195,
          "Serum_Cholesterol": 283
         },
         {
          "Age": 69,
          "Chest_Pain_Type": 3,
          "Diagnosis": 2,
          "Fasting_Blood_Sugar": 0,
          "Max_Heart_Rate": 146,
          "Serum_Cholesterol": 254
         },
         {
          "Age": 50,
          "Chest_Pain_Type": 3,
          "Diagnosis": 0,
          "Fasting_Blood_Sugar": 0,
          "Max_Heart_Rate": 163,
          "Serum_Cholesterol": 196
         },
         {
          "Age": 51,
          "Chest_Pain_Type": 4,
          "Diagnosis": 3,
          "Fasting_Blood_Sugar": 0,
          "Max_Heart_Rate": 122,
          "Serum_Cholesterol": 298
         },
         {
          "Age": 43,
          "Chest_Pain_Type": 4,
          "Diagnosis": 1,
          "Fasting_Blood_Sugar": 1,
          "Max_Heart_Rate": 143,
          "Serum_Cholesterol": 247
         },
         {
          "Age": 62,
          "Chest_Pain_Type": 4,
          "Diagnosis": 2,
          "Fasting_Blood_Sugar": 1,
          "Max_Heart_Rate": 106,
          "Serum_Cholesterol": 294
         },
         {
          "Age": 68,
          "Chest_Pain_Type": 3,
          "Diagnosis": 0,
          "Fasting_Blood_Sugar": 0,
          "Max_Heart_Rate": 115,
          "Serum_Cholesterol": 211
         },
         {
          "Age": 67,
          "Chest_Pain_Type": 4,
          "Diagnosis": 3,
          "Fasting_Blood_Sugar": 0,
          "Max_Heart_Rate": 125,
          "Serum_Cholesterol": 299
         },
         {
          "Age": 69,
          "Chest_Pain_Type": 1,
          "Diagnosis": 0,
          "Fasting_Blood_Sugar": 1,
          "Max_Heart_Rate": 131,
          "Serum_Cholesterol": 234
         },
         {
          "Age": 45,
          "Chest_Pain_Type": 4,
          "Diagnosis": 0,
          "Fasting_Blood_Sugar": 0,
          "Max_Heart_Rate": 152,
          "Serum_Cholesterol": 236
         },
         {
          "Age": 50,
          "Chest_Pain_Type": 2,
          "Diagnosis": 0,
          "Fasting_Blood_Sugar": 0,
          "Max_Heart_Rate": 162,
          "Serum_Cholesterol": 244
         },
         {
          "Age": 59,
          "Chest_Pain_Type": 1,
          "Diagnosis": 1,
          "Fasting_Blood_Sugar": 0,
          "Max_Heart_Rate": 125,
          "Serum_Cholesterol": 273
         },
         {
          "Age": 50,
          "Chest_Pain_Type": 4,
          "Diagnosis": 0,
          "Fasting_Blood_Sugar": 0,
          "Max_Heart_Rate": 159,
          "Serum_Cholesterol": 254
         },
         {
          "Age": 64,
          "Chest_Pain_Type": 4,
          "Diagnosis": 0,
          "Fasting_Blood_Sugar": 0,
          "Max_Heart_Rate": 154,
          "Serum_Cholesterol": 325
         },
         {
          "Age": 57,
          "Chest_Pain_Type": 3,
          "Diagnosis": 0,
          "Fasting_Blood_Sugar": 1,
          "Max_Heart_Rate": 173,
          "Serum_Cholesterol": 126
         },
         {
          "Age": 64,
          "Chest_Pain_Type": 3,
          "Diagnosis": 0,
          "Fasting_Blood_Sugar": 0,
          "Max_Heart_Rate": 133,
          "Serum_Cholesterol": 313
         },
         {
          "Age": 43,
          "Chest_Pain_Type": 4,
          "Diagnosis": 0,
          "Fasting_Blood_Sugar": 0,
          "Max_Heart_Rate": 161,
          "Serum_Cholesterol": 211
         },
         {
          "Age": 45,
          "Chest_Pain_Type": 4,
          "Diagnosis": 3,
          "Fasting_Blood_Sugar": 0,
          "Max_Heart_Rate": 147,
          "Serum_Cholesterol": 309
         },
         {
          "Age": 58,
          "Chest_Pain_Type": 4,
          "Diagnosis": 3,
          "Fasting_Blood_Sugar": 0,
          "Max_Heart_Rate": 130,
          "Serum_Cholesterol": 259
         },
         {
          "Age": 50,
          "Chest_Pain_Type": 4,
          "Diagnosis": 3,
          "Fasting_Blood_Sugar": 0,
          "Max_Heart_Rate": 126,
          "Serum_Cholesterol": 200
         },
         {
          "Age": 55,
          "Chest_Pain_Type": 2,
          "Diagnosis": 0,
          "Fasting_Blood_Sugar": 0,
          "Max_Heart_Rate": 155,
          "Serum_Cholesterol": 262
         },
         {
          "Age": 62,
          "Chest_Pain_Type": 4,
          "Diagnosis": 1,
          "Fasting_Blood_Sugar": 0,
          "Max_Heart_Rate": 154,
          "Serum_Cholesterol": 244
         },
         {
          "Age": 37,
          "Chest_Pain_Type": 3,
          "Diagnosis": 0,
          "Fasting_Blood_Sugar": 0,
          "Max_Heart_Rate": 170,
          "Serum_Cholesterol": 215
         },
         {
          "Age": 38,
          "Chest_Pain_Type": 1,
          "Diagnosis": 4,
          "Fasting_Blood_Sugar": 0,
          "Max_Heart_Rate": 182,
          "Serum_Cholesterol": 231
         },
         {
          "Age": 41,
          "Chest_Pain_Type": 3,
          "Diagnosis": 0,
          "Fasting_Blood_Sugar": 0,
          "Max_Heart_Rate": 168,
          "Serum_Cholesterol": 214
         },
         {
          "Age": 66,
          "Chest_Pain_Type": 4,
          "Diagnosis": 3,
          "Fasting_Blood_Sugar": 1,
          "Max_Heart_Rate": 165,
          "Serum_Cholesterol": 228
         },
         {
          "Age": 52,
          "Chest_Pain_Type": 4,
          "Diagnosis": 1,
          "Fasting_Blood_Sugar": 0,
          "Max_Heart_Rate": 160,
          "Serum_Cholesterol": 230
         },
         {
          "Age": 56,
          "Chest_Pain_Type": 1,
          "Diagnosis": 0,
          "Fasting_Blood_Sugar": 0,
          "Max_Heart_Rate": 162,
          "Serum_Cholesterol": 193
         },
         {
          "Age": 46,
          "Chest_Pain_Type": 2,
          "Diagnosis": 0,
          "Fasting_Blood_Sugar": 0,
          "Max_Heart_Rate": 172,
          "Serum_Cholesterol": 204
         },
         {
          "Age": 46,
          "Chest_Pain_Type": 4,
          "Diagnosis": 0,
          "Fasting_Blood_Sugar": 0,
          "Max_Heart_Rate": 152,
          "Serum_Cholesterol": 243
         },
         {
          "Age": 64,
          "Chest_Pain_Type": 4,
          "Diagnosis": 0,
          "Fasting_Blood_Sugar": 0,
          "Max_Heart_Rate": 122,
          "Serum_Cholesterol": 303
         },
         {
          "Age": 59,
          "Chest_Pain_Type": 4,
          "Diagnosis": 0,
          "Fasting_Blood_Sugar": 0,
          "Max_Heart_Rate": 182,
          "Serum_Cholesterol": 271
         },
         {
          "Age": 41,
          "Chest_Pain_Type": 3,
          "Diagnosis": 0,
          "Fasting_Blood_Sugar": 0,
          "Max_Heart_Rate": 172,
          "Serum_Cholesterol": 268
         },
         {
          "Age": 54,
          "Chest_Pain_Type": 3,
          "Diagnosis": 0,
          "Fasting_Blood_Sugar": 0,
          "Max_Heart_Rate": 167,
          "Serum_Cholesterol": 267
         },
         {
          "Age": 39,
          "Chest_Pain_Type": 3,
          "Diagnosis": 0,
          "Fasting_Blood_Sugar": 0,
          "Max_Heart_Rate": 179,
          "Serum_Cholesterol": 199
         },
         {
          "Age": 53,
          "Chest_Pain_Type": 4,
          "Diagnosis": 3,
          "Fasting_Blood_Sugar": 0,
          "Max_Heart_Rate": 95,
          "Serum_Cholesterol": 282
         },
         {
          "Age": 63,
          "Chest_Pain_Type": 4,
          "Diagnosis": 1,
          "Fasting_Blood_Sugar": 0,
          "Max_Heart_Rate": 169,
          "Serum_Cholesterol": 269
         },
         {
          "Age": 34,
          "Chest_Pain_Type": 2,
          "Diagnosis": 0,
          "Fasting_Blood_Sugar": 0,
          "Max_Heart_Rate": 192,
          "Serum_Cholesterol": 210
         },
         {
          "Age": 47,
          "Chest_Pain_Type": 4,
          "Diagnosis": 0,
          "Fasting_Blood_Sugar": 0,
          "Max_Heart_Rate": 143,
          "Serum_Cholesterol": 204
         },
         {
          "Age": 67,
          "Chest_Pain_Type": 3,
          "Diagnosis": 0,
          "Fasting_Blood_Sugar": 0,
          "Max_Heart_Rate": 172,
          "Serum_Cholesterol": 277
         },
         {
          "Age": 54,
          "Chest_Pain_Type": 4,
          "Diagnosis": 3,
          "Fasting_Blood_Sugar": 0,
          "Max_Heart_Rate": 108,
          "Serum_Cholesterol": 206
         },
         {
          "Age": 66,
          "Chest_Pain_Type": 4,
          "Diagnosis": 2,
          "Fasting_Blood_Sugar": 0,
          "Max_Heart_Rate": 132,
          "Serum_Cholesterol": 212
         },
         {
          "Age": 52,
          "Chest_Pain_Type": 3,
          "Diagnosis": 0,
          "Fasting_Blood_Sugar": 0,
          "Max_Heart_Rate": 169,
          "Serum_Cholesterol": 196
         },
         {
          "Age": 55,
          "Chest_Pain_Type": 4,
          "Diagnosis": 2,
          "Fasting_Blood_Sugar": 0,
          "Max_Heart_Rate": 117,
          "Serum_Cholesterol": 327
         },
         {
          "Age": 49,
          "Chest_Pain_Type": 3,
          "Diagnosis": 1,
          "Fasting_Blood_Sugar": 0,
          "Max_Heart_Rate": 126,
          "Serum_Cholesterol": 149
         },
         {
          "Age": 74,
          "Chest_Pain_Type": 2,
          "Diagnosis": 0,
          "Fasting_Blood_Sugar": 0,
          "Max_Heart_Rate": 121,
          "Serum_Cholesterol": 269
         },
         {
          "Age": 54,
          "Chest_Pain_Type": 3,
          "Diagnosis": 0,
          "Fasting_Blood_Sugar": 0,
          "Max_Heart_Rate": 163,
          "Serum_Cholesterol": 201
         },
         {
          "Age": 54,
          "Chest_Pain_Type": 4,
          "Diagnosis": 3,
          "Fasting_Blood_Sugar": 0,
          "Max_Heart_Rate": 116,
          "Serum_Cholesterol": 286
         },
         {
          "Age": 56,
          "Chest_Pain_Type": 4,
          "Diagnosis": 2,
          "Fasting_Blood_Sugar": 1,
          "Max_Heart_Rate": 103,
          "Serum_Cholesterol": 283
         },
         {
          "Age": 46,
          "Chest_Pain_Type": 4,
          "Diagnosis": 1,
          "Fasting_Blood_Sugar": 0,
          "Max_Heart_Rate": 144,
          "Serum_Cholesterol": 249
         },
         {
          "Age": 49,
          "Chest_Pain_Type": 2,
          "Diagnosis": 0,
          "Fasting_Blood_Sugar": 0,
          "Max_Heart_Rate": 162,
          "Serum_Cholesterol": 271
         },
         {
          "Age": 42,
          "Chest_Pain_Type": 2,
          "Diagnosis": 0,
          "Fasting_Blood_Sugar": 0,
          "Max_Heart_Rate": 162,
          "Serum_Cholesterol": 295
         },
         {
          "Age": 41,
          "Chest_Pain_Type": 2,
          "Diagnosis": 0,
          "Fasting_Blood_Sugar": 0,
          "Max_Heart_Rate": 153,
          "Serum_Cholesterol": 235
         },
         {
          "Age": 41,
          "Chest_Pain_Type": 2,
          "Diagnosis": 0,
          "Fasting_Blood_Sugar": 0,
          "Max_Heart_Rate": 163,
          "Serum_Cholesterol": 306
         },
         {
          "Age": 49,
          "Chest_Pain_Type": 4,
          "Diagnosis": 0,
          "Fasting_Blood_Sugar": 0,
          "Max_Heart_Rate": 163,
          "Serum_Cholesterol": 269
         },
         {
          "Age": 61,
          "Chest_Pain_Type": 1,
          "Diagnosis": 2,
          "Fasting_Blood_Sugar": 0,
          "Max_Heart_Rate": 145,
          "Serum_Cholesterol": 234
         },
         {
          "Age": 60,
          "Chest_Pain_Type": 3,
          "Diagnosis": 0,
          "Fasting_Blood_Sugar": 1,
          "Max_Heart_Rate": 96,
          "Serum_Cholesterol": 178
         },
         {
          "Age": 67,
          "Chest_Pain_Type": 4,
          "Diagnosis": 2,
          "Fasting_Blood_Sugar": 0,
          "Max_Heart_Rate": 71,
          "Serum_Cholesterol": 237
         },
         {
          "Age": 58,
          "Chest_Pain_Type": 4,
          "Diagnosis": 2,
          "Fasting_Blood_Sugar": 0,
          "Max_Heart_Rate": 156,
          "Serum_Cholesterol": 234
         },
         {
          "Age": 47,
          "Chest_Pain_Type": 4,
          "Diagnosis": 1,
          "Fasting_Blood_Sugar": 0,
          "Max_Heart_Rate": 118,
          "Serum_Cholesterol": 275
         },
         {
          "Age": 52,
          "Chest_Pain_Type": 4,
          "Diagnosis": 3,
          "Fasting_Blood_Sugar": 0,
          "Max_Heart_Rate": 168,
          "Serum_Cholesterol": 212
         },
         {
          "Age": 62,
          "Chest_Pain_Type": 2,
          "Diagnosis": 0,
          "Fasting_Blood_Sugar": 1,
          "Max_Heart_Rate": 140,
          "Serum_Cholesterol": 208
         },
         {
          "Age": 57,
          "Chest_Pain_Type": 4,
          "Diagnosis": 0,
          "Fasting_Blood_Sugar": 0,
          "Max_Heart_Rate": 126,
          "Serum_Cholesterol": 201
         },
         {
          "Age": 58,
          "Chest_Pain_Type": 4,
          "Diagnosis": 1,
          "Fasting_Blood_Sugar": 0,
          "Max_Heart_Rate": 105,
          "Serum_Cholesterol": 218
         },
         {
          "Age": 64,
          "Chest_Pain_Type": 4,
          "Diagnosis": 0,
          "Fasting_Blood_Sugar": 0,
          "Max_Heart_Rate": 105,
          "Serum_Cholesterol": 263
         },
         {
          "Age": 51,
          "Chest_Pain_Type": 3,
          "Diagnosis": 0,
          "Fasting_Blood_Sugar": 0,
          "Max_Heart_Rate": 157,
          "Serum_Cholesterol": 295
         },
         {
          "Age": 43,
          "Chest_Pain_Type": 4,
          "Diagnosis": 0,
          "Fasting_Blood_Sugar": 0,
          "Max_Heart_Rate": 181,
          "Serum_Cholesterol": 303
         },
         {
          "Age": 42,
          "Chest_Pain_Type": 3,
          "Diagnosis": 0,
          "Fasting_Blood_Sugar": 0,
          "Max_Heart_Rate": 173,
          "Serum_Cholesterol": 209
         },
         {
          "Age": 67,
          "Chest_Pain_Type": 4,
          "Diagnosis": 0,
          "Fasting_Blood_Sugar": 0,
          "Max_Heart_Rate": 142,
          "Serum_Cholesterol": 223
         },
         {
          "Age": 76,
          "Chest_Pain_Type": 3,
          "Diagnosis": 0,
          "Fasting_Blood_Sugar": 0,
          "Max_Heart_Rate": 116,
          "Serum_Cholesterol": 197
         },
         {
          "Age": 70,
          "Chest_Pain_Type": 2,
          "Diagnosis": 0,
          "Fasting_Blood_Sugar": 0,
          "Max_Heart_Rate": 143,
          "Serum_Cholesterol": 245
         },
         {
          "Age": 57,
          "Chest_Pain_Type": 2,
          "Diagnosis": 1,
          "Fasting_Blood_Sugar": 0,
          "Max_Heart_Rate": 141,
          "Serum_Cholesterol": 261
         },
         {
          "Age": 44,
          "Chest_Pain_Type": 3,
          "Diagnosis": 0,
          "Fasting_Blood_Sugar": 0,
          "Max_Heart_Rate": 149,
          "Serum_Cholesterol": 242
         },
         {
          "Age": 58,
          "Chest_Pain_Type": 2,
          "Diagnosis": 3,
          "Fasting_Blood_Sugar": 1,
          "Max_Heart_Rate": 152,
          "Serum_Cholesterol": 319
         },
         {
          "Age": 60,
          "Chest_Pain_Type": 1,
          "Diagnosis": 0,
          "Fasting_Blood_Sugar": 0,
          "Max_Heart_Rate": 171,
          "Serum_Cholesterol": 240
         },
         {
          "Age": 44,
          "Chest_Pain_Type": 3,
          "Diagnosis": 0,
          "Fasting_Blood_Sugar": 0,
          "Max_Heart_Rate": 169,
          "Serum_Cholesterol": 226
         },
         {
          "Age": 61,
          "Chest_Pain_Type": 4,
          "Diagnosis": 4,
          "Fasting_Blood_Sugar": 0,
          "Max_Heart_Rate": 125,
          "Serum_Cholesterol": 166
         },
         {
          "Age": 42,
          "Chest_Pain_Type": 4,
          "Diagnosis": 2,
          "Fasting_Blood_Sugar": 0,
          "Max_Heart_Rate": 125,
          "Serum_Cholesterol": 315
         },
         {
          "Age": 52,
          "Chest_Pain_Type": 4,
          "Diagnosis": 2,
          "Fasting_Blood_Sugar": 1,
          "Max_Heart_Rate": 156,
          "Serum_Cholesterol": 204
         },
         {
          "Age": 59,
          "Chest_Pain_Type": 3,
          "Diagnosis": 2,
          "Fasting_Blood_Sugar": 1,
          "Max_Heart_Rate": 134,
          "Serum_Cholesterol": 218
         },
         {
          "Age": 40,
          "Chest_Pain_Type": 4,
          "Diagnosis": 1,
          "Fasting_Blood_Sugar": 0,
          "Max_Heart_Rate": 181,
          "Serum_Cholesterol": 223
         },
         {
          "Age": 42,
          "Chest_Pain_Type": 3,
          "Diagnosis": 0,
          "Fasting_Blood_Sugar": 0,
          "Max_Heart_Rate": 150,
          "Serum_Cholesterol": 180
         },
         {
          "Age": 61,
          "Chest_Pain_Type": 4,
          "Diagnosis": 1,
          "Fasting_Blood_Sugar": 0,
          "Max_Heart_Rate": 138,
          "Serum_Cholesterol": 207
         },
         {
          "Age": 66,
          "Chest_Pain_Type": 4,
          "Diagnosis": 0,
          "Fasting_Blood_Sugar": 0,
          "Max_Heart_Rate": 138,
          "Serum_Cholesterol": 228
         },
         {
          "Age": 46,
          "Chest_Pain_Type": 4,
          "Diagnosis": 2,
          "Fasting_Blood_Sugar": 0,
          "Max_Heart_Rate": 120,
          "Serum_Cholesterol": 311
         },
         {
          "Age": 71,
          "Chest_Pain_Type": 4,
          "Diagnosis": 0,
          "Fasting_Blood_Sugar": 0,
          "Max_Heart_Rate": 125,
          "Serum_Cholesterol": 149
         },
         {
          "Age": 59,
          "Chest_Pain_Type": 1,
          "Diagnosis": 1,
          "Fasting_Blood_Sugar": 0,
          "Max_Heart_Rate": 162,
          "Serum_Cholesterol": 204
         },
         {
          "Age": 64,
          "Chest_Pain_Type": 1,
          "Diagnosis": 0,
          "Fasting_Blood_Sugar": 0,
          "Max_Heart_Rate": 155,
          "Serum_Cholesterol": 227
         },
         {
          "Age": 66,
          "Chest_Pain_Type": 3,
          "Diagnosis": 0,
          "Fasting_Blood_Sugar": 0,
          "Max_Heart_Rate": 152,
          "Serum_Cholesterol": 278
         },
         {
          "Age": 39,
          "Chest_Pain_Type": 3,
          "Diagnosis": 0,
          "Fasting_Blood_Sugar": 0,
          "Max_Heart_Rate": 152,
          "Serum_Cholesterol": 220
         },
         {
          "Age": 57,
          "Chest_Pain_Type": 2,
          "Diagnosis": 1,
          "Fasting_Blood_Sugar": 0,
          "Max_Heart_Rate": 164,
          "Serum_Cholesterol": 232
         },
         {
          "Age": 58,
          "Chest_Pain_Type": 4,
          "Diagnosis": 0,
          "Fasting_Blood_Sugar": 0,
          "Max_Heart_Rate": 131,
          "Serum_Cholesterol": 197
         },
         {
          "Age": 57,
          "Chest_Pain_Type": 4,
          "Diagnosis": 2,
          "Fasting_Blood_Sugar": 0,
          "Max_Heart_Rate": 143,
          "Serum_Cholesterol": 335
         },
         {
          "Age": 47,
          "Chest_Pain_Type": 3,
          "Diagnosis": 0,
          "Fasting_Blood_Sugar": 0,
          "Max_Heart_Rate": 179,
          "Serum_Cholesterol": 253
         },
         {
          "Age": 55,
          "Chest_Pain_Type": 4,
          "Diagnosis": 3,
          "Fasting_Blood_Sugar": 0,
          "Max_Heart_Rate": 130,
          "Serum_Cholesterol": 205
         },
         {
          "Age": 35,
          "Chest_Pain_Type": 2,
          "Diagnosis": 0,
          "Fasting_Blood_Sugar": 0,
          "Max_Heart_Rate": 174,
          "Serum_Cholesterol": 192
         },
         {
          "Age": 61,
          "Chest_Pain_Type": 4,
          "Diagnosis": 2,
          "Fasting_Blood_Sugar": 0,
          "Max_Heart_Rate": 161,
          "Serum_Cholesterol": 203
         },
         {
          "Age": 58,
          "Chest_Pain_Type": 4,
          "Diagnosis": 4,
          "Fasting_Blood_Sugar": 0,
          "Max_Heart_Rate": 140,
          "Serum_Cholesterol": 318
         },
         {
          "Age": 58,
          "Chest_Pain_Type": 4,
          "Diagnosis": 2,
          "Fasting_Blood_Sugar": 1,
          "Max_Heart_Rate": 146,
          "Serum_Cholesterol": 225
         },
         {
          "Age": 58,
          "Chest_Pain_Type": 2,
          "Diagnosis": 0,
          "Fasting_Blood_Sugar": 0,
          "Max_Heart_Rate": 144,
          "Serum_Cholesterol": 220
         },
         {
          "Age": 56,
          "Chest_Pain_Type": 2,
          "Diagnosis": 0,
          "Fasting_Blood_Sugar": 0,
          "Max_Heart_Rate": 163,
          "Serum_Cholesterol": 221
         },
         {
          "Age": 56,
          "Chest_Pain_Type": 2,
          "Diagnosis": 0,
          "Fasting_Blood_Sugar": 0,
          "Max_Heart_Rate": 169,
          "Serum_Cholesterol": 240
         },
         {
          "Age": 67,
          "Chest_Pain_Type": 3,
          "Diagnosis": 1,
          "Fasting_Blood_Sugar": 0,
          "Max_Heart_Rate": 150,
          "Serum_Cholesterol": 212
         },
         {
          "Age": 55,
          "Chest_Pain_Type": 2,
          "Diagnosis": 0,
          "Fasting_Blood_Sugar": 0,
          "Max_Heart_Rate": 166,
          "Serum_Cholesterol": 342
         },
         {
          "Age": 44,
          "Chest_Pain_Type": 4,
          "Diagnosis": 2,
          "Fasting_Blood_Sugar": 0,
          "Max_Heart_Rate": 144,
          "Serum_Cholesterol": 169
         },
         {
          "Age": 63,
          "Chest_Pain_Type": 4,
          "Diagnosis": 2,
          "Fasting_Blood_Sugar": 0,
          "Max_Heart_Rate": 144,
          "Serum_Cholesterol": 187
         },
         {
          "Age": 63,
          "Chest_Pain_Type": 4,
          "Diagnosis": 1,
          "Fasting_Blood_Sugar": 0,
          "Max_Heart_Rate": 136,
          "Serum_Cholesterol": 197
         },
         {
          "Age": 41,
          "Chest_Pain_Type": 2,
          "Diagnosis": 0,
          "Fasting_Blood_Sugar": 0,
          "Max_Heart_Rate": 182,
          "Serum_Cholesterol": 157
         },
         {
          "Age": 59,
          "Chest_Pain_Type": 4,
          "Diagnosis": 3,
          "Fasting_Blood_Sugar": 1,
          "Max_Heart_Rate": 90,
          "Serum_Cholesterol": 176
         },
         {
          "Age": 57,
          "Chest_Pain_Type": 4,
          "Diagnosis": 1,
          "Fasting_Blood_Sugar": 0,
          "Max_Heart_Rate": 123,
          "Serum_Cholesterol": 241
         },
         {
          "Age": 45,
          "Chest_Pain_Type": 1,
          "Diagnosis": 1,
          "Fasting_Blood_Sugar": 0,
          "Max_Heart_Rate": 132,
          "Serum_Cholesterol": 264
         },
         {
          "Age": 68,
          "Chest_Pain_Type": 4,
          "Diagnosis": 2,
          "Fasting_Blood_Sugar": 1,
          "Max_Heart_Rate": 141,
          "Serum_Cholesterol": 193
         },
         {
          "Age": 57,
          "Chest_Pain_Type": 4,
          "Diagnosis": 3,
          "Fasting_Blood_Sugar": 0,
          "Max_Heart_Rate": 115,
          "Serum_Cholesterol": 131
         },
         {
          "Age": 57,
          "Chest_Pain_Type": 2,
          "Diagnosis": 1,
          "Fasting_Blood_Sugar": 0,
          "Max_Heart_Rate": 174,
          "Serum_Cholesterol": 236
         },
         {
          "Age": 38,
          "Chest_Pain_Type": 3,
          "Diagnosis": 0,
          "Fasting_Blood_Sugar": 0,
          "Max_Heart_Rate": 173,
          "Serum_Cholesterol": 175
         }
        ]
       },
       "encoding": {
        "x": {
         "field": "Age",
         "scale": {
          "zero": false
         },
         "title": "Age (years)",
         "type": "quantitative"
        },
        "y": {
         "field": "Max_Heart_Rate",
         "scale": {
          "zero": false
         },
         "title": "Maximum Heart Rate Achieved (bpm)",
         "type": "quantitative"
        }
       },
       "height": 400,
       "mark": "point",
       "title": "Age vs Maximum Heart Rate",
       "width": 400
      },
      "image/png": "[encoded data removed]",
      "text/plain": [
       "<VegaLite 4 object>\n",
       "\n",
       "If you see this message, it means the renderer has not been properly enabled\n",
       "for the frontend that you are using. For more information, see\n",
       "https://altair-viz.github.io/user_guide/troubleshooting.html\n"
      ]
     },
     "execution_count": 22,
     "metadata": {},
     "output_type": "execute_result"
    }
   ],
   "source": [
    "age_vs_thalach = (\n",
    "    alt.Chart(heart_disease_final, title=\"Age vs Maximum Heart Rate\")\n",
    "    .mark_point()\n",
    "    .encode(\n",
    "        x=alt.X(\"Age\", title=\"Age (years)\",scale=alt.Scale(zero=False)),\n",
    "        y=alt.Y(\n",
    "            \"Max_Heart_Rate:Q\",\n",
    "            title=\"Maximum Heart Rate Achieved (bpm)\",\n",
    "            scale=alt.Scale(zero=False)\n",
    "        ),\n",
    "    )\n",
    "    .configure_axis(labelFontSize=15, titleFontSize=15)\n",
    "    .configure_title(fontSize=25)\n",
    "    .properties(width=400, height=400)\n",
    ")\n",
    "age_vs_thalach"
   ]
  },
  {
   "cell_type": "markdown",
   "id": "e56ed169-230c-49a6-a18d-aa8010808ce6",
   "metadata": {},
   "source": [
    "Next, we visualize a bar graph that displays the distribution of diagnosis for each chest pain type:"
   ]
  },
  {
   "cell_type": "code",
   "execution_count": 32,
   "id": "fb0b06cd-c7a5-46be-a381-3c55d202cbab",
   "metadata": {},
   "outputs": [
    {
     "data": {
      "application/vnd.vegalite.v4+json": {
       "$schema": "https://vega.github.io/schema/vega-lite/v4.17.0.json",
       "config": {
        "axis": {
         "labelFontSize": 18,
         "titleFontSize": 18
        },
        "title": {
         "fontSize": 20
        },
        "view": {
         "continuousHeight": 300,
         "continuousWidth": 400
        }
       },
       "data": {
        "name": "data-9c9ac4daf7e1c30bcb11253b40dcb417"
       },
       "datasets": {
        "data-9c9ac4daf7e1c30bcb11253b40dcb417": [
         {
          "Age": 66,
          "Chest_Pain_Type": 2,
          "Diagnosis": 2,
          "Fasting_Blood_Sugar": 0,
          "Max_Heart_Rate": 120,
          "Serum_Cholesterol": 246
         },
         {
          "Age": 52,
          "Chest_Pain_Type": 2,
          "Diagnosis": 0,
          "Fasting_Blood_Sugar": 0,
          "Max_Heart_Rate": 158,
          "Serum_Cholesterol": 201
         },
         {
          "Age": 45,
          "Chest_Pain_Type": 4,
          "Diagnosis": 0,
          "Fasting_Blood_Sugar": 0,
          "Max_Heart_Rate": 152,
          "Serum_Cholesterol": 236
         },
         {
          "Age": 62,
          "Chest_Pain_Type": 4,
          "Diagnosis": 1,
          "Fasting_Blood_Sugar": 0,
          "Max_Heart_Rate": 154,
          "Serum_Cholesterol": 244
         },
         {
          "Age": 55,
          "Chest_Pain_Type": 2,
          "Diagnosis": 0,
          "Fasting_Blood_Sugar": 0,
          "Max_Heart_Rate": 166,
          "Serum_Cholesterol": 342
         },
         {
          "Age": 58,
          "Chest_Pain_Type": 4,
          "Diagnosis": 0,
          "Fasting_Blood_Sugar": 0,
          "Max_Heart_Rate": 122,
          "Serum_Cholesterol": 248
         },
         {
          "Age": 40,
          "Chest_Pain_Type": 1,
          "Diagnosis": 0,
          "Fasting_Blood_Sugar": 0,
          "Max_Heart_Rate": 178,
          "Serum_Cholesterol": 199
         },
         {
          "Age": 43,
          "Chest_Pain_Type": 4,
          "Diagnosis": 0,
          "Fasting_Blood_Sugar": 0,
          "Max_Heart_Rate": 161,
          "Serum_Cholesterol": 211
         },
         {
          "Age": 54,
          "Chest_Pain_Type": 4,
          "Diagnosis": 2,
          "Fasting_Blood_Sugar": 0,
          "Max_Heart_Rate": 113,
          "Serum_Cholesterol": 188
         },
         {
          "Age": 59,
          "Chest_Pain_Type": 1,
          "Diagnosis": 1,
          "Fasting_Blood_Sugar": 0,
          "Max_Heart_Rate": 125,
          "Serum_Cholesterol": 273
         },
         {
          "Age": 37,
          "Chest_Pain_Type": 3,
          "Diagnosis": 0,
          "Fasting_Blood_Sugar": 0,
          "Max_Heart_Rate": 170,
          "Serum_Cholesterol": 215
         },
         {
          "Age": 45,
          "Chest_Pain_Type": 1,
          "Diagnosis": 1,
          "Fasting_Blood_Sugar": 0,
          "Max_Heart_Rate": 132,
          "Serum_Cholesterol": 264
         },
         {
          "Age": 60,
          "Chest_Pain_Type": 4,
          "Diagnosis": 1,
          "Fasting_Blood_Sugar": 0,
          "Max_Heart_Rate": 141,
          "Serum_Cholesterol": 258
         },
         {
          "Age": 52,
          "Chest_Pain_Type": 3,
          "Diagnosis": 0,
          "Fasting_Blood_Sugar": 1,
          "Max_Heart_Rate": 162,
          "Serum_Cholesterol": 199
         },
         {
          "Age": 57,
          "Chest_Pain_Type": 4,
          "Diagnosis": 1,
          "Fasting_Blood_Sugar": 0,
          "Max_Heart_Rate": 88,
          "Serum_Cholesterol": 274
         },
         {
          "Age": 74,
          "Chest_Pain_Type": 2,
          "Diagnosis": 0,
          "Fasting_Blood_Sugar": 0,
          "Max_Heart_Rate": 121,
          "Serum_Cholesterol": 269
         },
         {
          "Age": 64,
          "Chest_Pain_Type": 1,
          "Diagnosis": 0,
          "Fasting_Blood_Sugar": 0,
          "Max_Heart_Rate": 144,
          "Serum_Cholesterol": 211
         },
         {
          "Age": 46,
          "Chest_Pain_Type": 2,
          "Diagnosis": 0,
          "Fasting_Blood_Sugar": 0,
          "Max_Heart_Rate": 172,
          "Serum_Cholesterol": 204
         },
         {
          "Age": 64,
          "Chest_Pain_Type": 4,
          "Diagnosis": 0,
          "Fasting_Blood_Sugar": 0,
          "Max_Heart_Rate": 154,
          "Serum_Cholesterol": 325
         },
         {
          "Age": 65,
          "Chest_Pain_Type": 3,
          "Diagnosis": 0,
          "Fasting_Blood_Sugar": 0,
          "Max_Heart_Rate": 151,
          "Serum_Cholesterol": 360
         },
         {
          "Age": 58,
          "Chest_Pain_Type": 4,
          "Diagnosis": 2,
          "Fasting_Blood_Sugar": 0,
          "Max_Heart_Rate": 156,
          "Serum_Cholesterol": 234
         },
         {
          "Age": 58,
          "Chest_Pain_Type": 4,
          "Diagnosis": 1,
          "Fasting_Blood_Sugar": 0,
          "Max_Heart_Rate": 105,
          "Serum_Cholesterol": 218
         },
         {
          "Age": 34,
          "Chest_Pain_Type": 2,
          "Diagnosis": 0,
          "Fasting_Blood_Sugar": 0,
          "Max_Heart_Rate": 192,
          "Serum_Cholesterol": 210
         },
         {
          "Age": 35,
          "Chest_Pain_Type": 2,
          "Diagnosis": 0,
          "Fasting_Blood_Sugar": 0,
          "Max_Heart_Rate": 174,
          "Serum_Cholesterol": 192
         },
         {
          "Age": 51,
          "Chest_Pain_Type": 4,
          "Diagnosis": 3,
          "Fasting_Blood_Sugar": 0,
          "Max_Heart_Rate": 122,
          "Serum_Cholesterol": 298
         },
         {
          "Age": 48,
          "Chest_Pain_Type": 3,
          "Diagnosis": 0,
          "Fasting_Blood_Sugar": 0,
          "Max_Heart_Rate": 139,
          "Serum_Cholesterol": 275
         },
         {
          "Age": 46,
          "Chest_Pain_Type": 4,
          "Diagnosis": 0,
          "Fasting_Blood_Sugar": 0,
          "Max_Heart_Rate": 152,
          "Serum_Cholesterol": 243
         },
         {
          "Age": 51,
          "Chest_Pain_Type": 3,
          "Diagnosis": 0,
          "Fasting_Blood_Sugar": 0,
          "Max_Heart_Rate": 123,
          "Serum_Cholesterol": 175
         },
         {
          "Age": 62,
          "Chest_Pain_Type": 2,
          "Diagnosis": 0,
          "Fasting_Blood_Sugar": 1,
          "Max_Heart_Rate": 140,
          "Serum_Cholesterol": 208
         },
         {
          "Age": 45,
          "Chest_Pain_Type": 2,
          "Diagnosis": 0,
          "Fasting_Blood_Sugar": 0,
          "Max_Heart_Rate": 170,
          "Serum_Cholesterol": 308
         },
         {
          "Age": 54,
          "Chest_Pain_Type": 4,
          "Diagnosis": 3,
          "Fasting_Blood_Sugar": 0,
          "Max_Heart_Rate": 108,
          "Serum_Cholesterol": 206
         },
         {
          "Age": 65,
          "Chest_Pain_Type": 4,
          "Diagnosis": 1,
          "Fasting_Blood_Sugar": 0,
          "Max_Heart_Rate": 158,
          "Serum_Cholesterol": 248
         },
         {
          "Age": 57,
          "Chest_Pain_Type": 4,
          "Diagnosis": 3,
          "Fasting_Blood_Sugar": 0,
          "Max_Heart_Rate": 115,
          "Serum_Cholesterol": 131
         },
         {
          "Age": 43,
          "Chest_Pain_Type": 3,
          "Diagnosis": 0,
          "Fasting_Blood_Sugar": 0,
          "Max_Heart_Rate": 165,
          "Serum_Cholesterol": 213
         },
         {
          "Age": 43,
          "Chest_Pain_Type": 3,
          "Diagnosis": 0,
          "Fasting_Blood_Sugar": 0,
          "Max_Heart_Rate": 162,
          "Serum_Cholesterol": 315
         },
         {
          "Age": 58,
          "Chest_Pain_Type": 3,
          "Diagnosis": 0,
          "Fasting_Blood_Sugar": 0,
          "Max_Heart_Rate": 172,
          "Serum_Cholesterol": 340
         },
         {
          "Age": 66,
          "Chest_Pain_Type": 1,
          "Diagnosis": 0,
          "Fasting_Blood_Sugar": 0,
          "Max_Heart_Rate": 114,
          "Serum_Cholesterol": 226
         },
         {
          "Age": 62,
          "Chest_Pain_Type": 4,
          "Diagnosis": 3,
          "Fasting_Blood_Sugar": 0,
          "Max_Heart_Rate": 160,
          "Serum_Cholesterol": 268
         },
         {
          "Age": 50,
          "Chest_Pain_Type": 3,
          "Diagnosis": 0,
          "Fasting_Blood_Sugar": 0,
          "Max_Heart_Rate": 158,
          "Serum_Cholesterol": 219
         },
         {
          "Age": 50,
          "Chest_Pain_Type": 3,
          "Diagnosis": 0,
          "Fasting_Blood_Sugar": 0,
          "Max_Heart_Rate": 163,
          "Serum_Cholesterol": 196
         },
         {
          "Age": 48,
          "Chest_Pain_Type": 4,
          "Diagnosis": 3,
          "Fasting_Blood_Sugar": 1,
          "Max_Heart_Rate": 150,
          "Serum_Cholesterol": 256
         },
         {
          "Age": 63,
          "Chest_Pain_Type": 4,
          "Diagnosis": 2,
          "Fasting_Blood_Sugar": 0,
          "Max_Heart_Rate": 144,
          "Serum_Cholesterol": 187
         },
         {
          "Age": 59,
          "Chest_Pain_Type": 1,
          "Diagnosis": 0,
          "Fasting_Blood_Sugar": 0,
          "Max_Heart_Rate": 145,
          "Serum_Cholesterol": 270
         },
         {
          "Age": 49,
          "Chest_Pain_Type": 2,
          "Diagnosis": 0,
          "Fasting_Blood_Sugar": 0,
          "Max_Heart_Rate": 162,
          "Serum_Cholesterol": 271
         },
         {
          "Age": 48,
          "Chest_Pain_Type": 3,
          "Diagnosis": 0,
          "Fasting_Blood_Sugar": 1,
          "Max_Heart_Rate": 175,
          "Serum_Cholesterol": 255
         },
         {
          "Age": 67,
          "Chest_Pain_Type": 4,
          "Diagnosis": 0,
          "Fasting_Blood_Sugar": 0,
          "Max_Heart_Rate": 142,
          "Serum_Cholesterol": 223
         },
         {
          "Age": 60,
          "Chest_Pain_Type": 4,
          "Diagnosis": 1,
          "Fasting_Blood_Sugar": 0,
          "Max_Heart_Rate": 144,
          "Serum_Cholesterol": 253
         },
         {
          "Age": 67,
          "Chest_Pain_Type": 4,
          "Diagnosis": 3,
          "Fasting_Blood_Sugar": 1,
          "Max_Heart_Rate": 163,
          "Serum_Cholesterol": 254
         },
         {
          "Age": 62,
          "Chest_Pain_Type": 4,
          "Diagnosis": 3,
          "Fasting_Blood_Sugar": 0,
          "Max_Heart_Rate": 145,
          "Serum_Cholesterol": 164
         },
         {
          "Age": 65,
          "Chest_Pain_Type": 3,
          "Diagnosis": 0,
          "Fasting_Blood_Sugar": 0,
          "Max_Heart_Rate": 148,
          "Serum_Cholesterol": 269
         },
         {
          "Age": 42,
          "Chest_Pain_Type": 4,
          "Diagnosis": 0,
          "Fasting_Blood_Sugar": 0,
          "Max_Heart_Rate": 122,
          "Serum_Cholesterol": 265
         },
         {
          "Age": 45,
          "Chest_Pain_Type": 4,
          "Diagnosis": 0,
          "Fasting_Blood_Sugar": 0,
          "Max_Heart_Rate": 185,
          "Serum_Cholesterol": 260
         },
         {
          "Age": 44,
          "Chest_Pain_Type": 2,
          "Diagnosis": 0,
          "Fasting_Blood_Sugar": 0,
          "Max_Heart_Rate": 170,
          "Serum_Cholesterol": 220
         },
         {
          "Age": 58,
          "Chest_Pain_Type": 4,
          "Diagnosis": 1,
          "Fasting_Blood_Sugar": 0,
          "Max_Heart_Rate": 131,
          "Serum_Cholesterol": 216
         },
         {
          "Age": 57,
          "Chest_Pain_Type": 4,
          "Diagnosis": 0,
          "Fasting_Blood_Sugar": 0,
          "Max_Heart_Rate": 126,
          "Serum_Cholesterol": 201
         },
         {
          "Age": 39,
          "Chest_Pain_Type": 3,
          "Diagnosis": 0,
          "Fasting_Blood_Sugar": 0,
          "Max_Heart_Rate": 182,
          "Serum_Cholesterol": 321
         },
         {
          "Age": 67,
          "Chest_Pain_Type": 4,
          "Diagnosis": 1,
          "Fasting_Blood_Sugar": 0,
          "Max_Heart_Rate": 129,
          "Serum_Cholesterol": 229
         },
         {
          "Age": 59,
          "Chest_Pain_Type": 1,
          "Diagnosis": 1,
          "Fasting_Blood_Sugar": 0,
          "Max_Heart_Rate": 159,
          "Serum_Cholesterol": 288
         },
         {
          "Age": 52,
          "Chest_Pain_Type": 4,
          "Diagnosis": 3,
          "Fasting_Blood_Sugar": 0,
          "Max_Heart_Rate": 168,
          "Serum_Cholesterol": 212
         },
         {
          "Age": 67,
          "Chest_Pain_Type": 4,
          "Diagnosis": 3,
          "Fasting_Blood_Sugar": 0,
          "Max_Heart_Rate": 125,
          "Serum_Cholesterol": 299
         },
         {
          "Age": 54,
          "Chest_Pain_Type": 3,
          "Diagnosis": 0,
          "Fasting_Blood_Sugar": 1,
          "Max_Heart_Rate": 170,
          "Serum_Cholesterol": 304
         },
         {
          "Age": 67,
          "Chest_Pain_Type": 4,
          "Diagnosis": 2,
          "Fasting_Blood_Sugar": 0,
          "Max_Heart_Rate": 108,
          "Serum_Cholesterol": 286
         },
         {
          "Age": 51,
          "Chest_Pain_Type": 3,
          "Diagnosis": 0,
          "Fasting_Blood_Sugar": 0,
          "Max_Heart_Rate": 142,
          "Serum_Cholesterol": 308
         },
         {
          "Age": 57,
          "Chest_Pain_Type": 4,
          "Diagnosis": 0,
          "Fasting_Blood_Sugar": 0,
          "Max_Heart_Rate": 168,
          "Serum_Cholesterol": 207
         },
         {
          "Age": 55,
          "Chest_Pain_Type": 4,
          "Diagnosis": 3,
          "Fasting_Blood_Sugar": 0,
          "Max_Heart_Rate": 130,
          "Serum_Cholesterol": 205
         },
         {
          "Age": 70,
          "Chest_Pain_Type": 3,
          "Diagnosis": 3,
          "Fasting_Blood_Sugar": 0,
          "Max_Heart_Rate": 112,
          "Serum_Cholesterol": 269
         },
         {
          "Age": 66,
          "Chest_Pain_Type": 4,
          "Diagnosis": 0,
          "Fasting_Blood_Sugar": 0,
          "Max_Heart_Rate": 138,
          "Serum_Cholesterol": 228
         },
         {
          "Age": 59,
          "Chest_Pain_Type": 4,
          "Diagnosis": 2,
          "Fasting_Blood_Sugar": 0,
          "Max_Heart_Rate": 140,
          "Serum_Cholesterol": 326
         },
         {
          "Age": 56,
          "Chest_Pain_Type": 3,
          "Diagnosis": 2,
          "Fasting_Blood_Sugar": 1,
          "Max_Heart_Rate": 142,
          "Serum_Cholesterol": 256
         },
         {
          "Age": 49,
          "Chest_Pain_Type": 3,
          "Diagnosis": 3,
          "Fasting_Blood_Sugar": 0,
          "Max_Heart_Rate": 139,
          "Serum_Cholesterol": 188
         },
         {
          "Age": 57,
          "Chest_Pain_Type": 2,
          "Diagnosis": 1,
          "Fasting_Blood_Sugar": 0,
          "Max_Heart_Rate": 164,
          "Serum_Cholesterol": 232
         },
         {
          "Age": 66,
          "Chest_Pain_Type": 4,
          "Diagnosis": 2,
          "Fasting_Blood_Sugar": 0,
          "Max_Heart_Rate": 132,
          "Serum_Cholesterol": 212
         },
         {
          "Age": 58,
          "Chest_Pain_Type": 4,
          "Diagnosis": 2,
          "Fasting_Blood_Sugar": 1,
          "Max_Heart_Rate": 146,
          "Serum_Cholesterol": 225
         },
         {
          "Age": 57,
          "Chest_Pain_Type": 4,
          "Diagnosis": 0,
          "Fasting_Blood_Sugar": 0,
          "Max_Heart_Rate": 159,
          "Serum_Cholesterol": 303
         },
         {
          "Age": 41,
          "Chest_Pain_Type": 3,
          "Diagnosis": 0,
          "Fasting_Blood_Sugar": 0,
          "Max_Heart_Rate": 168,
          "Serum_Cholesterol": 214
         },
         {
          "Age": 51,
          "Chest_Pain_Type": 3,
          "Diagnosis": 0,
          "Fasting_Blood_Sugar": 1,
          "Max_Heart_Rate": 166,
          "Serum_Cholesterol": 245
         },
         {
          "Age": 59,
          "Chest_Pain_Type": 2,
          "Diagnosis": 0,
          "Fasting_Blood_Sugar": 0,
          "Max_Heart_Rate": 164,
          "Serum_Cholesterol": 221
         },
         {
          "Age": 40,
          "Chest_Pain_Type": 4,
          "Diagnosis": 3,
          "Fasting_Blood_Sugar": 0,
          "Max_Heart_Rate": 114,
          "Serum_Cholesterol": 167
         },
         {
          "Age": 57,
          "Chest_Pain_Type": 3,
          "Diagnosis": 1,
          "Fasting_Blood_Sugar": 0,
          "Max_Heart_Rate": 150,
          "Serum_Cholesterol": 229
         },
         {
          "Age": 65,
          "Chest_Pain_Type": 4,
          "Diagnosis": 0,
          "Fasting_Blood_Sugar": 0,
          "Max_Heart_Rate": 140,
          "Serum_Cholesterol": 177
         },
         {
          "Age": 54,
          "Chest_Pain_Type": 4,
          "Diagnosis": 0,
          "Fasting_Blood_Sugar": 0,
          "Max_Heart_Rate": 160,
          "Serum_Cholesterol": 239
         },
         {
          "Age": 54,
          "Chest_Pain_Type": 3,
          "Diagnosis": 0,
          "Fasting_Blood_Sugar": 0,
          "Max_Heart_Rate": 165,
          "Serum_Cholesterol": 232
         },
         {
          "Age": 38,
          "Chest_Pain_Type": 1,
          "Diagnosis": 4,
          "Fasting_Blood_Sugar": 0,
          "Max_Heart_Rate": 182,
          "Serum_Cholesterol": 231
         },
         {
          "Age": 44,
          "Chest_Pain_Type": 4,
          "Diagnosis": 1,
          "Fasting_Blood_Sugar": 0,
          "Max_Heart_Rate": 177,
          "Serum_Cholesterol": 197
         },
         {
          "Age": 51,
          "Chest_Pain_Type": 3,
          "Diagnosis": 0,
          "Fasting_Blood_Sugar": 0,
          "Max_Heart_Rate": 154,
          "Serum_Cholesterol": 227
         },
         {
          "Age": 50,
          "Chest_Pain_Type": 4,
          "Diagnosis": 0,
          "Fasting_Blood_Sugar": 0,
          "Max_Heart_Rate": 159,
          "Serum_Cholesterol": 254
         },
         {
          "Age": 46,
          "Chest_Pain_Type": 3,
          "Diagnosis": 1,
          "Fasting_Blood_Sugar": 0,
          "Max_Heart_Rate": 147,
          "Serum_Cholesterol": 231
         },
         {
          "Age": 58,
          "Chest_Pain_Type": 4,
          "Diagnosis": 3,
          "Fasting_Blood_Sugar": 0,
          "Max_Heart_Rate": 130,
          "Serum_Cholesterol": 259
         },
         {
          "Age": 62,
          "Chest_Pain_Type": 4,
          "Diagnosis": 1,
          "Fasting_Blood_Sugar": 0,
          "Max_Heart_Rate": 99,
          "Serum_Cholesterol": 267
         },
         {
          "Age": 57,
          "Chest_Pain_Type": 4,
          "Diagnosis": 4,
          "Fasting_Blood_Sugar": 1,
          "Max_Heart_Rate": 124,
          "Serum_Cholesterol": 289
         },
         {
          "Age": 41,
          "Chest_Pain_Type": 2,
          "Diagnosis": 0,
          "Fasting_Blood_Sugar": 0,
          "Max_Heart_Rate": 163,
          "Serum_Cholesterol": 306
         },
         {
          "Age": 41,
          "Chest_Pain_Type": 2,
          "Diagnosis": 0,
          "Fasting_Blood_Sugar": 0,
          "Max_Heart_Rate": 172,
          "Serum_Cholesterol": 204
         },
         {
          "Age": 54,
          "Chest_Pain_Type": 3,
          "Diagnosis": 0,
          "Fasting_Blood_Sugar": 0,
          "Max_Heart_Rate": 163,
          "Serum_Cholesterol": 201
         },
         {
          "Age": 68,
          "Chest_Pain_Type": 3,
          "Diagnosis": 3,
          "Fasting_Blood_Sugar": 1,
          "Max_Heart_Rate": 150,
          "Serum_Cholesterol": 274
         },
         {
          "Age": 57,
          "Chest_Pain_Type": 2,
          "Diagnosis": 1,
          "Fasting_Blood_Sugar": 0,
          "Max_Heart_Rate": 141,
          "Serum_Cholesterol": 261
         },
         {
          "Age": 50,
          "Chest_Pain_Type": 3,
          "Diagnosis": 1,
          "Fasting_Blood_Sugar": 0,
          "Max_Heart_Rate": 163,
          "Serum_Cholesterol": 233
         },
         {
          "Age": 64,
          "Chest_Pain_Type": 3,
          "Diagnosis": 1,
          "Fasting_Blood_Sugar": 0,
          "Max_Heart_Rate": 158,
          "Serum_Cholesterol": 335
         },
         {
          "Age": 39,
          "Chest_Pain_Type": 3,
          "Diagnosis": 0,
          "Fasting_Blood_Sugar": 0,
          "Max_Heart_Rate": 152,
          "Serum_Cholesterol": 220
         },
         {
          "Age": 54,
          "Chest_Pain_Type": 4,
          "Diagnosis": 3,
          "Fasting_Blood_Sugar": 0,
          "Max_Heart_Rate": 126,
          "Serum_Cholesterol": 239
         },
         {
          "Age": 29,
          "Chest_Pain_Type": 2,
          "Diagnosis": 0,
          "Fasting_Blood_Sugar": 0,
          "Max_Heart_Rate": 202,
          "Serum_Cholesterol": 204
         },
         {
          "Age": 66,
          "Chest_Pain_Type": 3,
          "Diagnosis": 0,
          "Fasting_Blood_Sugar": 0,
          "Max_Heart_Rate": 152,
          "Serum_Cholesterol": 278
         },
         {
          "Age": 56,
          "Chest_Pain_Type": 4,
          "Diagnosis": 2,
          "Fasting_Blood_Sugar": 1,
          "Max_Heart_Rate": 103,
          "Serum_Cholesterol": 283
         },
         {
          "Age": 56,
          "Chest_Pain_Type": 4,
          "Diagnosis": 3,
          "Fasting_Blood_Sugar": 1,
          "Max_Heart_Rate": 133,
          "Serum_Cholesterol": 288
         },
         {
          "Age": 59,
          "Chest_Pain_Type": 4,
          "Diagnosis": 2,
          "Fasting_Blood_Sugar": 0,
          "Max_Heart_Rate": 162,
          "Serum_Cholesterol": 177
         },
         {
          "Age": 38,
          "Chest_Pain_Type": 3,
          "Diagnosis": 0,
          "Fasting_Blood_Sugar": 0,
          "Max_Heart_Rate": 173,
          "Serum_Cholesterol": 175
         },
         {
          "Age": 59,
          "Chest_Pain_Type": 3,
          "Diagnosis": 0,
          "Fasting_Blood_Sugar": 1,
          "Max_Heart_Rate": 157,
          "Serum_Cholesterol": 212
         },
         {
          "Age": 49,
          "Chest_Pain_Type": 3,
          "Diagnosis": 1,
          "Fasting_Blood_Sugar": 0,
          "Max_Heart_Rate": 126,
          "Serum_Cholesterol": 149
         },
         {
          "Age": 44,
          "Chest_Pain_Type": 2,
          "Diagnosis": 0,
          "Fasting_Blood_Sugar": 0,
          "Max_Heart_Rate": 173,
          "Serum_Cholesterol": 263
         },
         {
          "Age": 48,
          "Chest_Pain_Type": 2,
          "Diagnosis": 1,
          "Fasting_Blood_Sugar": 0,
          "Max_Heart_Rate": 168,
          "Serum_Cholesterol": 229
         },
         {
          "Age": 54,
          "Chest_Pain_Type": 3,
          "Diagnosis": 0,
          "Fasting_Blood_Sugar": 0,
          "Max_Heart_Rate": 167,
          "Serum_Cholesterol": 267
         },
         {
          "Age": 58,
          "Chest_Pain_Type": 2,
          "Diagnosis": 3,
          "Fasting_Blood_Sugar": 1,
          "Max_Heart_Rate": 152,
          "Serum_Cholesterol": 319
         },
         {
          "Age": 71,
          "Chest_Pain_Type": 2,
          "Diagnosis": 0,
          "Fasting_Blood_Sugar": 0,
          "Max_Heart_Rate": 162,
          "Serum_Cholesterol": 302
         },
         {
          "Age": 67,
          "Chest_Pain_Type": 3,
          "Diagnosis": 0,
          "Fasting_Blood_Sugar": 0,
          "Max_Heart_Rate": 160,
          "Serum_Cholesterol": 564
         },
         {
          "Age": 58,
          "Chest_Pain_Type": 3,
          "Diagnosis": 0,
          "Fasting_Blood_Sugar": 0,
          "Max_Heart_Rate": 154,
          "Serum_Cholesterol": 240
         },
         {
          "Age": 53,
          "Chest_Pain_Type": 4,
          "Diagnosis": 0,
          "Fasting_Blood_Sugar": 0,
          "Max_Heart_Rate": 143,
          "Serum_Cholesterol": 264
         },
         {
          "Age": 54,
          "Chest_Pain_Type": 3,
          "Diagnosis": 0,
          "Fasting_Blood_Sugar": 0,
          "Max_Heart_Rate": 152,
          "Serum_Cholesterol": 273
         },
         {
          "Age": 51,
          "Chest_Pain_Type": 4,
          "Diagnosis": 0,
          "Fasting_Blood_Sugar": 0,
          "Max_Heart_Rate": 186,
          "Serum_Cholesterol": 261
         },
         {
          "Age": 52,
          "Chest_Pain_Type": 4,
          "Diagnosis": 1,
          "Fasting_Blood_Sugar": 0,
          "Max_Heart_Rate": 161,
          "Serum_Cholesterol": 255
         },
         {
          "Age": 70,
          "Chest_Pain_Type": 4,
          "Diagnosis": 1,
          "Fasting_Blood_Sugar": 0,
          "Max_Heart_Rate": 109,
          "Serum_Cholesterol": 322
         },
         {
          "Age": 57,
          "Chest_Pain_Type": 4,
          "Diagnosis": 2,
          "Fasting_Blood_Sugar": 0,
          "Max_Heart_Rate": 143,
          "Serum_Cholesterol": 335
         },
         {
          "Age": 64,
          "Chest_Pain_Type": 1,
          "Diagnosis": 0,
          "Fasting_Blood_Sugar": 0,
          "Max_Heart_Rate": 155,
          "Serum_Cholesterol": 227
         },
         {
          "Age": 54,
          "Chest_Pain_Type": 2,
          "Diagnosis": 0,
          "Fasting_Blood_Sugar": 1,
          "Max_Heart_Rate": 159,
          "Serum_Cholesterol": 288
         },
         {
          "Age": 63,
          "Chest_Pain_Type": 1,
          "Diagnosis": 0,
          "Fasting_Blood_Sugar": 1,
          "Max_Heart_Rate": 150,
          "Serum_Cholesterol": 233
         },
         {
          "Age": 40,
          "Chest_Pain_Type": 4,
          "Diagnosis": 1,
          "Fasting_Blood_Sugar": 0,
          "Max_Heart_Rate": 181,
          "Serum_Cholesterol": 223
         },
         {
          "Age": 51,
          "Chest_Pain_Type": 1,
          "Diagnosis": 0,
          "Fasting_Blood_Sugar": 0,
          "Max_Heart_Rate": 125,
          "Serum_Cholesterol": 213
         },
         {
          "Age": 76,
          "Chest_Pain_Type": 3,
          "Diagnosis": 0,
          "Fasting_Blood_Sugar": 0,
          "Max_Heart_Rate": 116,
          "Serum_Cholesterol": 197
         },
         {
          "Age": 46,
          "Chest_Pain_Type": 4,
          "Diagnosis": 1,
          "Fasting_Blood_Sugar": 0,
          "Max_Heart_Rate": 144,
          "Serum_Cholesterol": 249
         },
         {
          "Age": 52,
          "Chest_Pain_Type": 1,
          "Diagnosis": 0,
          "Fasting_Blood_Sugar": 0,
          "Max_Heart_Rate": 190,
          "Serum_Cholesterol": 186
         },
         {
          "Age": 51,
          "Chest_Pain_Type": 4,
          "Diagnosis": 2,
          "Fasting_Blood_Sugar": 0,
          "Max_Heart_Rate": 142,
          "Serum_Cholesterol": 305
         },
         {
          "Age": 58,
          "Chest_Pain_Type": 3,
          "Diagnosis": 4,
          "Fasting_Blood_Sugar": 0,
          "Max_Heart_Rate": 165,
          "Serum_Cholesterol": 230
         },
         {
          "Age": 67,
          "Chest_Pain_Type": 3,
          "Diagnosis": 0,
          "Fasting_Blood_Sugar": 0,
          "Max_Heart_Rate": 172,
          "Serum_Cholesterol": 277
         },
         {
          "Age": 58,
          "Chest_Pain_Type": 1,
          "Diagnosis": 0,
          "Fasting_Blood_Sugar": 1,
          "Max_Heart_Rate": 162,
          "Serum_Cholesterol": 283
         },
         {
          "Age": 52,
          "Chest_Pain_Type": 4,
          "Diagnosis": 2,
          "Fasting_Blood_Sugar": 1,
          "Max_Heart_Rate": 156,
          "Serum_Cholesterol": 204
         },
         {
          "Age": 41,
          "Chest_Pain_Type": 2,
          "Diagnosis": 0,
          "Fasting_Blood_Sugar": 0,
          "Max_Heart_Rate": 168,
          "Serum_Cholesterol": 198
         },
         {
          "Age": 63,
          "Chest_Pain_Type": 2,
          "Diagnosis": 0,
          "Fasting_Blood_Sugar": 0,
          "Max_Heart_Rate": 179,
          "Serum_Cholesterol": 195
         },
         {
          "Age": 53,
          "Chest_Pain_Type": 4,
          "Diagnosis": 0,
          "Fasting_Blood_Sugar": 0,
          "Max_Heart_Rate": 111,
          "Serum_Cholesterol": 226
         },
         {
          "Age": 57,
          "Chest_Pain_Type": 4,
          "Diagnosis": 1,
          "Fasting_Blood_Sugar": 0,
          "Max_Heart_Rate": 123,
          "Serum_Cholesterol": 241
         },
         {
          "Age": 56,
          "Chest_Pain_Type": 4,
          "Diagnosis": 1,
          "Fasting_Blood_Sugar": 1,
          "Max_Heart_Rate": 144,
          "Serum_Cholesterol": 249
         },
         {
          "Age": 52,
          "Chest_Pain_Type": 2,
          "Diagnosis": 0,
          "Fasting_Blood_Sugar": 0,
          "Max_Heart_Rate": 172,
          "Serum_Cholesterol": 325
         },
         {
          "Age": 58,
          "Chest_Pain_Type": 3,
          "Diagnosis": 3,
          "Fasting_Blood_Sugar": 0,
          "Max_Heart_Rate": 173,
          "Serum_Cholesterol": 224
         },
         {
          "Age": 44,
          "Chest_Pain_Type": 2,
          "Diagnosis": 0,
          "Fasting_Blood_Sugar": 0,
          "Max_Heart_Rate": 188,
          "Serum_Cholesterol": 219
         },
         {
          "Age": 43,
          "Chest_Pain_Type": 4,
          "Diagnosis": 1,
          "Fasting_Blood_Sugar": 1,
          "Max_Heart_Rate": 143,
          "Serum_Cholesterol": 247
         },
         {
          "Age": 49,
          "Chest_Pain_Type": 4,
          "Diagnosis": 0,
          "Fasting_Blood_Sugar": 0,
          "Max_Heart_Rate": 163,
          "Serum_Cholesterol": 269
         },
         {
          "Age": 62,
          "Chest_Pain_Type": 4,
          "Diagnosis": 0,
          "Fasting_Blood_Sugar": 0,
          "Max_Heart_Rate": 157,
          "Serum_Cholesterol": 394
         },
         {
          "Age": 56,
          "Chest_Pain_Type": 2,
          "Diagnosis": 0,
          "Fasting_Blood_Sugar": 0,
          "Max_Heart_Rate": 163,
          "Serum_Cholesterol": 221
         },
         {
          "Age": 42,
          "Chest_Pain_Type": 4,
          "Diagnosis": 2,
          "Fasting_Blood_Sugar": 0,
          "Max_Heart_Rate": 125,
          "Serum_Cholesterol": 315
         },
         {
          "Age": 35,
          "Chest_Pain_Type": 4,
          "Diagnosis": 1,
          "Fasting_Blood_Sugar": 0,
          "Max_Heart_Rate": 130,
          "Serum_Cholesterol": 198
         },
         {
          "Age": 69,
          "Chest_Pain_Type": 3,
          "Diagnosis": 2,
          "Fasting_Blood_Sugar": 0,
          "Max_Heart_Rate": 146,
          "Serum_Cholesterol": 254
         },
         {
          "Age": 41,
          "Chest_Pain_Type": 2,
          "Diagnosis": 0,
          "Fasting_Blood_Sugar": 0,
          "Max_Heart_Rate": 182,
          "Serum_Cholesterol": 157
         },
         {
          "Age": 65,
          "Chest_Pain_Type": 4,
          "Diagnosis": 2,
          "Fasting_Blood_Sugar": 0,
          "Max_Heart_Rate": 127,
          "Serum_Cholesterol": 254
         },
         {
          "Age": 54,
          "Chest_Pain_Type": 3,
          "Diagnosis": 0,
          "Fasting_Blood_Sugar": 0,
          "Max_Heart_Rate": 147,
          "Serum_Cholesterol": 258
         },
         {
          "Age": 44,
          "Chest_Pain_Type": 4,
          "Diagnosis": 2,
          "Fasting_Blood_Sugar": 0,
          "Max_Heart_Rate": 153,
          "Serum_Cholesterol": 290
         },
         {
          "Age": 66,
          "Chest_Pain_Type": 4,
          "Diagnosis": 3,
          "Fasting_Blood_Sugar": 1,
          "Max_Heart_Rate": 165,
          "Serum_Cholesterol": 228
         },
         {
          "Age": 70,
          "Chest_Pain_Type": 4,
          "Diagnosis": 4,
          "Fasting_Blood_Sugar": 0,
          "Max_Heart_Rate": 125,
          "Serum_Cholesterol": 174
         },
         {
          "Age": 57,
          "Chest_Pain_Type": 4,
          "Diagnosis": 1,
          "Fasting_Blood_Sugar": 0,
          "Max_Heart_Rate": 112,
          "Serum_Cholesterol": 276
         },
         {
          "Age": 55,
          "Chest_Pain_Type": 4,
          "Diagnosis": 3,
          "Fasting_Blood_Sugar": 0,
          "Max_Heart_Rate": 111,
          "Serum_Cholesterol": 217
         },
         {
          "Age": 65,
          "Chest_Pain_Type": 3,
          "Diagnosis": 0,
          "Fasting_Blood_Sugar": 1,
          "Max_Heart_Rate": 157,
          "Serum_Cholesterol": 417
         },
         {
          "Age": 51,
          "Chest_Pain_Type": 3,
          "Diagnosis": 0,
          "Fasting_Blood_Sugar": 0,
          "Max_Heart_Rate": 143,
          "Serum_Cholesterol": 222
         },
         {
          "Age": 55,
          "Chest_Pain_Type": 4,
          "Diagnosis": 2,
          "Fasting_Blood_Sugar": 0,
          "Max_Heart_Rate": 117,
          "Serum_Cholesterol": 327
         },
         {
          "Age": 54,
          "Chest_Pain_Type": 4,
          "Diagnosis": 1,
          "Fasting_Blood_Sugar": 0,
          "Max_Heart_Rate": 109,
          "Serum_Cholesterol": 266
         },
         {
          "Age": 62,
          "Chest_Pain_Type": 2,
          "Diagnosis": 3,
          "Fasting_Blood_Sugar": 0,
          "Max_Heart_Rate": 103,
          "Serum_Cholesterol": 281
         },
         {
          "Age": 53,
          "Chest_Pain_Type": 3,
          "Diagnosis": 0,
          "Fasting_Blood_Sugar": 1,
          "Max_Heart_Rate": 173,
          "Serum_Cholesterol": 246
         },
         {
          "Age": 61,
          "Chest_Pain_Type": 4,
          "Diagnosis": 2,
          "Fasting_Blood_Sugar": 0,
          "Max_Heart_Rate": 161,
          "Serum_Cholesterol": 203
         },
         {
          "Age": 47,
          "Chest_Pain_Type": 3,
          "Diagnosis": 0,
          "Fasting_Blood_Sugar": 0,
          "Max_Heart_Rate": 179,
          "Serum_Cholesterol": 253
         },
         {
          "Age": 60,
          "Chest_Pain_Type": 4,
          "Diagnosis": 2,
          "Fasting_Blood_Sugar": 0,
          "Max_Heart_Rate": 142,
          "Serum_Cholesterol": 282
         },
         {
          "Age": 48,
          "Chest_Pain_Type": 4,
          "Diagnosis": 3,
          "Fasting_Blood_Sugar": 0,
          "Max_Heart_Rate": 166,
          "Serum_Cholesterol": 274
         },
         {
          "Age": 47,
          "Chest_Pain_Type": 3,
          "Diagnosis": 1,
          "Fasting_Blood_Sugar": 0,
          "Max_Heart_Rate": 152,
          "Serum_Cholesterol": 243
         },
         {
          "Age": 57,
          "Chest_Pain_Type": 4,
          "Diagnosis": 0,
          "Fasting_Blood_Sugar": 0,
          "Max_Heart_Rate": 148,
          "Serum_Cholesterol": 192
         },
         {
          "Age": 59,
          "Chest_Pain_Type": 3,
          "Diagnosis": 2,
          "Fasting_Blood_Sugar": 1,
          "Max_Heart_Rate": 134,
          "Serum_Cholesterol": 218
         },
         {
          "Age": 64,
          "Chest_Pain_Type": 3,
          "Diagnosis": 0,
          "Fasting_Blood_Sugar": 0,
          "Max_Heart_Rate": 133,
          "Serum_Cholesterol": 313
         },
         {
          "Age": 44,
          "Chest_Pain_Type": 3,
          "Diagnosis": 0,
          "Fasting_Blood_Sugar": 0,
          "Max_Heart_Rate": 149,
          "Serum_Cholesterol": 242
         },
         {
          "Age": 43,
          "Chest_Pain_Type": 4,
          "Diagnosis": 0,
          "Fasting_Blood_Sugar": 0,
          "Max_Heart_Rate": 181,
          "Serum_Cholesterol": 303
         },
         {
          "Age": 55,
          "Chest_Pain_Type": 2,
          "Diagnosis": 0,
          "Fasting_Blood_Sugar": 0,
          "Max_Heart_Rate": 161,
          "Serum_Cholesterol": 250
         },
         {
          "Age": 56,
          "Chest_Pain_Type": 2,
          "Diagnosis": 0,
          "Fasting_Blood_Sugar": 0,
          "Max_Heart_Rate": 169,
          "Serum_Cholesterol": 240
         },
         {
          "Age": 61,
          "Chest_Pain_Type": 4,
          "Diagnosis": 1,
          "Fasting_Blood_Sugar": 0,
          "Max_Heart_Rate": 146,
          "Serum_Cholesterol": 307
         },
         {
          "Age": 46,
          "Chest_Pain_Type": 4,
          "Diagnosis": 2,
          "Fasting_Blood_Sugar": 0,
          "Max_Heart_Rate": 120,
          "Serum_Cholesterol": 311
         },
         {
          "Age": 50,
          "Chest_Pain_Type": 4,
          "Diagnosis": 3,
          "Fasting_Blood_Sugar": 0,
          "Max_Heart_Rate": 126,
          "Serum_Cholesterol": 200
         },
         {
          "Age": 65,
          "Chest_Pain_Type": 4,
          "Diagnosis": 4,
          "Fasting_Blood_Sugar": 0,
          "Max_Heart_Rate": 114,
          "Serum_Cholesterol": 225
         },
         {
          "Age": 68,
          "Chest_Pain_Type": 4,
          "Diagnosis": 2,
          "Fasting_Blood_Sugar": 1,
          "Max_Heart_Rate": 141,
          "Serum_Cholesterol": 193
         },
         {
          "Age": 69,
          "Chest_Pain_Type": 1,
          "Diagnosis": 0,
          "Fasting_Blood_Sugar": 0,
          "Max_Heart_Rate": 151,
          "Serum_Cholesterol": 239
         },
         {
          "Age": 60,
          "Chest_Pain_Type": 3,
          "Diagnosis": 0,
          "Fasting_Blood_Sugar": 0,
          "Max_Heart_Rate": 160,
          "Serum_Cholesterol": 318
         },
         {
          "Age": 52,
          "Chest_Pain_Type": 4,
          "Diagnosis": 0,
          "Fasting_Blood_Sugar": 1,
          "Max_Heart_Rate": 147,
          "Serum_Cholesterol": 233
         },
         {
          "Age": 58,
          "Chest_Pain_Type": 3,
          "Diagnosis": 0,
          "Fasting_Blood_Sugar": 1,
          "Max_Heart_Rate": 165,
          "Serum_Cholesterol": 211
         },
         {
          "Age": 59,
          "Chest_Pain_Type": 4,
          "Diagnosis": 0,
          "Fasting_Blood_Sugar": 0,
          "Max_Heart_Rate": 182,
          "Serum_Cholesterol": 271
         },
         {
          "Age": 51,
          "Chest_Pain_Type": 3,
          "Diagnosis": 0,
          "Fasting_Blood_Sugar": 0,
          "Max_Heart_Rate": 149,
          "Serum_Cholesterol": 256
         },
         {
          "Age": 58,
          "Chest_Pain_Type": 4,
          "Diagnosis": 0,
          "Fasting_Blood_Sugar": 0,
          "Max_Heart_Rate": 131,
          "Serum_Cholesterol": 197
         },
         {
          "Age": 63,
          "Chest_Pain_Type": 3,
          "Diagnosis": 0,
          "Fasting_Blood_Sugar": 0,
          "Max_Heart_Rate": 172,
          "Serum_Cholesterol": 252
         },
         {
          "Age": 58,
          "Chest_Pain_Type": 4,
          "Diagnosis": 3,
          "Fasting_Blood_Sugar": 0,
          "Max_Heart_Rate": 111,
          "Serum_Cholesterol": 270
         },
         {
          "Age": 70,
          "Chest_Pain_Type": 2,
          "Diagnosis": 0,
          "Fasting_Blood_Sugar": 0,
          "Max_Heart_Rate": 143,
          "Serum_Cholesterol": 245
         },
         {
          "Age": 47,
          "Chest_Pain_Type": 4,
          "Diagnosis": 0,
          "Fasting_Blood_Sugar": 0,
          "Max_Heart_Rate": 143,
          "Serum_Cholesterol": 204
         },
         {
          "Age": 59,
          "Chest_Pain_Type": 4,
          "Diagnosis": 1,
          "Fasting_Blood_Sugar": 0,
          "Max_Heart_Rate": 143,
          "Serum_Cholesterol": 249
         },
         {
          "Age": 51,
          "Chest_Pain_Type": 4,
          "Diagnosis": 1,
          "Fasting_Blood_Sugar": 0,
          "Max_Heart_Rate": 173,
          "Serum_Cholesterol": 299
         },
         {
          "Age": 42,
          "Chest_Pain_Type": 3,
          "Diagnosis": 0,
          "Fasting_Blood_Sugar": 0,
          "Max_Heart_Rate": 150,
          "Serum_Cholesterol": 180
         },
         {
          "Age": 51,
          "Chest_Pain_Type": 3,
          "Diagnosis": 0,
          "Fasting_Blood_Sugar": 0,
          "Max_Heart_Rate": 157,
          "Serum_Cholesterol": 295
         },
         {
          "Age": 64,
          "Chest_Pain_Type": 4,
          "Diagnosis": 0,
          "Fasting_Blood_Sugar": 0,
          "Max_Heart_Rate": 122,
          "Serum_Cholesterol": 303
         },
         {
          "Age": 64,
          "Chest_Pain_Type": 4,
          "Diagnosis": 4,
          "Fasting_Blood_Sugar": 0,
          "Max_Heart_Rate": 132,
          "Serum_Cholesterol": 212
         },
         {
          "Age": 55,
          "Chest_Pain_Type": 4,
          "Diagnosis": 4,
          "Fasting_Blood_Sugar": 0,
          "Max_Heart_Rate": 145,
          "Serum_Cholesterol": 289
         },
         {
          "Age": 50,
          "Chest_Pain_Type": 4,
          "Diagnosis": 4,
          "Fasting_Blood_Sugar": 0,
          "Max_Heart_Rate": 128,
          "Serum_Cholesterol": 243
         },
         {
          "Age": 61,
          "Chest_Pain_Type": 4,
          "Diagnosis": 1,
          "Fasting_Blood_Sugar": 0,
          "Max_Heart_Rate": 169,
          "Serum_Cholesterol": 330
         },
         {
          "Age": 60,
          "Chest_Pain_Type": 4,
          "Diagnosis": 4,
          "Fasting_Blood_Sugar": 0,
          "Max_Heart_Rate": 132,
          "Serum_Cholesterol": 206
         },
         {
          "Age": 71,
          "Chest_Pain_Type": 4,
          "Diagnosis": 0,
          "Fasting_Blood_Sugar": 0,
          "Max_Heart_Rate": 125,
          "Serum_Cholesterol": 149
         },
         {
          "Age": 61,
          "Chest_Pain_Type": 4,
          "Diagnosis": 2,
          "Fasting_Blood_Sugar": 0,
          "Max_Heart_Rate": 140,
          "Serum_Cholesterol": 260
         },
         {
          "Age": 63,
          "Chest_Pain_Type": 4,
          "Diagnosis": 1,
          "Fasting_Blood_Sugar": 0,
          "Max_Heart_Rate": 136,
          "Serum_Cholesterol": 197
         },
         {
          "Age": 46,
          "Chest_Pain_Type": 2,
          "Diagnosis": 0,
          "Fasting_Blood_Sugar": 1,
          "Max_Heart_Rate": 156,
          "Serum_Cholesterol": 197
         },
         {
          "Age": 41,
          "Chest_Pain_Type": 4,
          "Diagnosis": 1,
          "Fasting_Blood_Sugar": 0,
          "Max_Heart_Rate": 158,
          "Serum_Cholesterol": 172
         },
         {
          "Age": 62,
          "Chest_Pain_Type": 4,
          "Diagnosis": 0,
          "Fasting_Blood_Sugar": 0,
          "Max_Heart_Rate": 163,
          "Serum_Cholesterol": 209
         },
         {
          "Age": 55,
          "Chest_Pain_Type": 4,
          "Diagnosis": 3,
          "Fasting_Blood_Sugar": 0,
          "Max_Heart_Rate": 132,
          "Serum_Cholesterol": 353
         },
         {
          "Age": 52,
          "Chest_Pain_Type": 1,
          "Diagnosis": 0,
          "Fasting_Blood_Sugar": 1,
          "Max_Heart_Rate": 178,
          "Serum_Cholesterol": 298
         },
         {
          "Age": 68,
          "Chest_Pain_Type": 3,
          "Diagnosis": 0,
          "Fasting_Blood_Sugar": 0,
          "Max_Heart_Rate": 115,
          "Serum_Cholesterol": 211
         },
         {
          "Age": 39,
          "Chest_Pain_Type": 3,
          "Diagnosis": 0,
          "Fasting_Blood_Sugar": 0,
          "Max_Heart_Rate": 179,
          "Serum_Cholesterol": 199
         },
         {
          "Age": 61,
          "Chest_Pain_Type": 4,
          "Diagnosis": 1,
          "Fasting_Blood_Sugar": 0,
          "Max_Heart_Rate": 138,
          "Serum_Cholesterol": 207
         },
         {
          "Age": 41,
          "Chest_Pain_Type": 2,
          "Diagnosis": 0,
          "Fasting_Blood_Sugar": 0,
          "Max_Heart_Rate": 132,
          "Serum_Cholesterol": 203
         },
         {
          "Age": 62,
          "Chest_Pain_Type": 3,
          "Diagnosis": 2,
          "Fasting_Blood_Sugar": 0,
          "Max_Heart_Rate": 97,
          "Serum_Cholesterol": 263
         },
         {
          "Age": 77,
          "Chest_Pain_Type": 4,
          "Diagnosis": 4,
          "Fasting_Blood_Sugar": 0,
          "Max_Heart_Rate": 162,
          "Serum_Cholesterol": 304
         },
         {
          "Age": 56,
          "Chest_Pain_Type": 2,
          "Diagnosis": 0,
          "Fasting_Blood_Sugar": 0,
          "Max_Heart_Rate": 178,
          "Serum_Cholesterol": 236
         },
         {
          "Age": 48,
          "Chest_Pain_Type": 4,
          "Diagnosis": 0,
          "Fasting_Blood_Sugar": 0,
          "Max_Heart_Rate": 186,
          "Serum_Cholesterol": 222
         },
         {
          "Age": 53,
          "Chest_Pain_Type": 3,
          "Diagnosis": 0,
          "Fasting_Blood_Sugar": 1,
          "Max_Heart_Rate": 152,
          "Serum_Cholesterol": 197
         },
         {
          "Age": 53,
          "Chest_Pain_Type": 3,
          "Diagnosis": 0,
          "Fasting_Blood_Sugar": 0,
          "Max_Heart_Rate": 115,
          "Serum_Cholesterol": 216
         },
         {
          "Age": 64,
          "Chest_Pain_Type": 3,
          "Diagnosis": 1,
          "Fasting_Blood_Sugar": 0,
          "Max_Heart_Rate": 131,
          "Serum_Cholesterol": 309
         },
         {
          "Age": 44,
          "Chest_Pain_Type": 3,
          "Diagnosis": 0,
          "Fasting_Blood_Sugar": 0,
          "Max_Heart_Rate": 179,
          "Serum_Cholesterol": 233
         },
         {
          "Age": 60,
          "Chest_Pain_Type": 3,
          "Diagnosis": 0,
          "Fasting_Blood_Sugar": 1,
          "Max_Heart_Rate": 96,
          "Serum_Cholesterol": 178
         },
         {
          "Age": 48,
          "Chest_Pain_Type": 2,
          "Diagnosis": 0,
          "Fasting_Blood_Sugar": 0,
          "Max_Heart_Rate": 180,
          "Serum_Cholesterol": 245
         },
         {
          "Age": 59,
          "Chest_Pain_Type": 4,
          "Diagnosis": 0,
          "Fasting_Blood_Sugar": 0,
          "Max_Heart_Rate": 161,
          "Serum_Cholesterol": 234
         },
         {
          "Age": 59,
          "Chest_Pain_Type": 1,
          "Diagnosis": 1,
          "Fasting_Blood_Sugar": 0,
          "Max_Heart_Rate": 162,
          "Serum_Cholesterol": 204
         },
         {
          "Age": 45,
          "Chest_Pain_Type": 2,
          "Diagnosis": 0,
          "Fasting_Blood_Sugar": 0,
          "Max_Heart_Rate": 138,
          "Serum_Cholesterol": 160
         },
         {
          "Age": 63,
          "Chest_Pain_Type": 4,
          "Diagnosis": 2,
          "Fasting_Blood_Sugar": 0,
          "Max_Heart_Rate": 147,
          "Serum_Cholesterol": 254
         },
         {
          "Age": 55,
          "Chest_Pain_Type": 2,
          "Diagnosis": 0,
          "Fasting_Blood_Sugar": 0,
          "Max_Heart_Rate": 155,
          "Serum_Cholesterol": 262
         }
        ]
       },
       "encoding": {
        "fill": {
         "field": "Diagnosis",
         "scale": {
          "scheme": "set1"
         },
         "type": "quantitative"
        },
        "x": {
         "field": "Chest_Pain_Type",
         "title": "Chest Pain Type",
         "type": "nominal"
        },
        "y": {
         "aggregate": "count",
         "axis": {
          "format": "%"
         },
         "field": "Chest_Pain_Type",
         "stack": "normalize",
         "title": "Proportion of Total Count",
         "type": "quantitative"
        }
       },
       "height": 300,
       "mark": "bar",
       "title": "Proportions of Diagnosis for Chest Pain Type",
       "width": 380
      },
      "image/png": "[encoded data removed]",
      "text/plain": [
       "<VegaLite 4 object>\n",
       "\n",
       "If you see this message, it means the renderer has not been properly enabled\n",
       "for the frontend that you are using. For more information, see\n",
       "https://altair-viz.github.io/user_guide/troubleshooting.html\n"
      ]
     },
     "execution_count": 32,
     "metadata": {},
     "output_type": "execute_result"
    }
   ],
   "source": [
    "diagnosis_dist_plot = (\n",
    "    alt.Chart(heart_train, title=\"Proportions of Diagnosis for Chest Pain Type\" )\n",
    "    .mark_bar()\n",
    "    .encode(\n",
    "        y=alt.Y(\n",
    "            \"count(Chest_Pain_Type):Q\",\n",
    "            stack=\"normalize\",\n",
    "            axis=alt.Axis(format=\"%\"),\n",
    "            title=\"Proportion of Total Count\",\n",
    "        ),\n",
    "        x=alt.X(\"Chest_Pain_Type:N\", title= \"Chest Pain Type\"),\n",
    "        fill=alt.Fill(\n",
    "            \"Diagnosis\", scale=alt.Scale(scheme=\"set1\")\n",
    "        ),  # N is to specify this is a categorical variable\n",
    "    )\n",
    "    .properties(width=380, height=300)\n",
    "    .configure_axis(labelFontSize=18, titleFontSize=18)\n",
    "    .configure_title(fontSize=20)\n",
    ")\n",
    "diagnosis_dist_plot"
   ]
  },
  {
   "cell_type": "markdown",
   "id": "94681e1d-38bf-42be-a410-c997d39ae7d5",
   "metadata": {},
   "source": [
    "### Data Analysis"
   ]
  },
  {
   "cell_type": "markdown",
   "id": "df3c6e47-42a0-4c8e-b37e-1b074c0cdb74",
   "metadata": {},
   "source": [
    "From the given dataset, we selected 5 variables as our predictors in order to prevent redundancy or irrelevance. Adding variables that have with weaker correlations leads to overfitting because it would lead to more noise within our model."
   ]
  },
  {
   "cell_type": "markdown",
   "id": "1a5c783c-4c13-402b-8826-7cebe618389c",
   "metadata": {},
   "source": [
    "The variables we have selected for our model are:\n",
    "- Age: measured in years\n",
    "- Chest pain type (cp): 1 = typical angina, 2 = atypical angina, 3 = non-angina pain, 4 = asymptomatic angina\n",
    "- Serum Cholesterol (chol): measured in mg/dl\n",
    "- Fasting blood sugar (fbs): measured in mg/dL \n",
    "- Maximum heart rate achieved (thalach): measured in beats per min (BPM)"
   ]
  },
  {
   "cell_type": "markdown",
   "id": "19790b59-48b8-4890-ba62-dd1a1e9d9524",
   "metadata": {},
   "source": [
    "### Splitting the dataset into training and testing data"
   ]
  },
  {
   "cell_type": "code",
   "execution_count": 24,
   "id": "ff2a3bb0-6954-407d-afa4-4fa21333af4c",
   "metadata": {},
   "outputs": [
    {
     "name": "stdout",
     "output_type": "stream",
     "text": [
      "      Age  Chest_Pain_Type  Fasting_Blood_Sugar  Serum_Cholesterol  \\\n",
      "187  66.0              2.0                  0.0              246.0   \n",
      "98   52.0              2.0                  0.0              201.0   \n",
      "197  45.0              4.0                  0.0              236.0   \n",
      "209  62.0              4.0                  0.0              244.0   \n",
      "291  55.0              2.0                  0.0              342.0   \n",
      "\n",
      "     Max_Heart_Rate  Diagnosis  \n",
      "187           120.0          2  \n",
      "98            158.0          0  \n",
      "197           152.0          0  \n",
      "209           154.0          1  \n",
      "291           166.0          0  \n",
      "      Age  Chest_Pain_Type  Fasting_Blood_Sugar  Serum_Cholesterol  \\\n",
      "263  44.0              3.0                  0.0              226.0   \n",
      "240  41.0              2.0                  0.0              235.0   \n",
      "252  64.0              4.0                  0.0              263.0   \n",
      "66   60.0              3.0                  0.0              185.0   \n",
      "9    53.0              4.0                  1.0              203.0   \n",
      "\n",
      "     Max_Heart_Rate  Diagnosis  \n",
      "263           169.0          0  \n",
      "240           153.0          0  \n",
      "252           105.0          0  \n",
      "66            155.0          1  \n",
      "9             155.0          1  \n"
     ]
    }
   ],
   "source": [
    "# We are using 75% of our data as training data and 25% as testing data\n",
    "\n",
    "# We will set the stratify argument to the categorical label variable to ensure that the training and testing subsets contain the right proportions of each category of observation.\n",
    "heart_train, heart_test = train_test_split(\n",
    "    heart_disease_final, train_size=0.75, stratify=heart_disease[\"Diagnosis\"], random_state=2304 \n",
    ")\n",
    "\n",
    "\n",
    "print(heart_train.head())\n",
    "print(heart_test.head())"
   ]
  },
  {
   "cell_type": "markdown",
   "id": "7a806dad-268e-452d-8d21-208de1c76010",
   "metadata": {},
   "source": [
    "### KNN Classification"
   ]
  },
  {
   "cell_type": "markdown",
   "id": "9800a3ea-58ad-45ae-ac8e-4ae68024f875",
   "metadata": {},
   "source": [
    "We first start by doing some preprocessing to standardize our variables. We pass the training data into the preprocessor to compute the preprocessing steps. This is to ensure that our test data does not influence our model in any way."
   ]
  },
  {
   "cell_type": "code",
   "execution_count": 25,
   "id": "b70b15ab-3565-4279-9bdc-dacb837b9dbf",
   "metadata": {},
   "outputs": [
    {
     "data": {
      "text/html": [
       "<style>#sk-container-id-3 {color: black;background-color: white;}#sk-container-id-3 pre{padding: 0;}#sk-container-id-3 div.sk-toggleable {background-color: white;}#sk-container-id-3 label.sk-toggleable__label {cursor: pointer;display: block;width: 100%;margin-bottom: 0;padding: 0.3em;box-sizing: border-box;text-align: center;}#sk-container-id-3 label.sk-toggleable__label-arrow:before {content: \"▸\";float: left;margin-right: 0.25em;color: #696969;}#sk-container-id-3 label.sk-toggleable__label-arrow:hover:before {color: black;}#sk-container-id-3 div.sk-estimator:hover label.sk-toggleable__label-arrow:before {color: black;}#sk-container-id-3 div.sk-toggleable__content {max-height: 0;max-width: 0;overflow: hidden;text-align: left;background-color: #f0f8ff;}#sk-container-id-3 div.sk-toggleable__content pre {margin: 0.2em;color: black;border-radius: 0.25em;background-color: #f0f8ff;}#sk-container-id-3 input.sk-toggleable__control:checked~div.sk-toggleable__content {max-height: 200px;max-width: 100%;overflow: auto;}#sk-container-id-3 input.sk-toggleable__control:checked~label.sk-toggleable__label-arrow:before {content: \"▾\";}#sk-container-id-3 div.sk-estimator input.sk-toggleable__control:checked~label.sk-toggleable__label {background-color: #d4ebff;}#sk-container-id-3 div.sk-label input.sk-toggleable__control:checked~label.sk-toggleable__label {background-color: #d4ebff;}#sk-container-id-3 input.sk-hidden--visually {border: 0;clip: rect(1px 1px 1px 1px);clip: rect(1px, 1px, 1px, 1px);height: 1px;margin: -1px;overflow: hidden;padding: 0;position: absolute;width: 1px;}#sk-container-id-3 div.sk-estimator {font-family: monospace;background-color: #f0f8ff;border: 1px dotted black;border-radius: 0.25em;box-sizing: border-box;margin-bottom: 0.5em;}#sk-container-id-3 div.sk-estimator:hover {background-color: #d4ebff;}#sk-container-id-3 div.sk-parallel-item::after {content: \"\";width: 100%;border-bottom: 1px solid gray;flex-grow: 1;}#sk-container-id-3 div.sk-label:hover label.sk-toggleable__label {background-color: #d4ebff;}#sk-container-id-3 div.sk-serial::before {content: \"\";position: absolute;border-left: 1px solid gray;box-sizing: border-box;top: 0;bottom: 0;left: 50%;z-index: 0;}#sk-container-id-3 div.sk-serial {display: flex;flex-direction: column;align-items: center;background-color: white;padding-right: 0.2em;padding-left: 0.2em;position: relative;}#sk-container-id-3 div.sk-item {position: relative;z-index: 1;}#sk-container-id-3 div.sk-parallel {display: flex;align-items: stretch;justify-content: center;background-color: white;position: relative;}#sk-container-id-3 div.sk-item::before, #sk-container-id-3 div.sk-parallel-item::before {content: \"\";position: absolute;border-left: 1px solid gray;box-sizing: border-box;top: 0;bottom: 0;left: 50%;z-index: -1;}#sk-container-id-3 div.sk-parallel-item {display: flex;flex-direction: column;z-index: 1;position: relative;background-color: white;}#sk-container-id-3 div.sk-parallel-item:first-child::after {align-self: flex-end;width: 50%;}#sk-container-id-3 div.sk-parallel-item:last-child::after {align-self: flex-start;width: 50%;}#sk-container-id-3 div.sk-parallel-item:only-child::after {width: 0;}#sk-container-id-3 div.sk-dashed-wrapped {border: 1px dashed gray;margin: 0 0.4em 0.5em 0.4em;box-sizing: border-box;padding-bottom: 0.4em;background-color: white;}#sk-container-id-3 div.sk-label label {font-family: monospace;font-weight: bold;display: inline-block;line-height: 1.2em;}#sk-container-id-3 div.sk-label-container {text-align: center;}#sk-container-id-3 div.sk-container {/* jupyter's `normalize.less` sets `[hidden] { display: none; }` but bootstrap.min.css set `[hidden] { display: none !important; }` so we also need the `!important` here to be able to override the default hidden behavior on the sphinx rendered scikit-learn.org. See: https://github.com/scikit-learn/scikit-learn/issues/21755 */display: inline-block !important;position: relative;}#sk-container-id-3 div.sk-text-repr-fallback {display: none;}</style><div id=\"sk-container-id-3\" class=\"sk-top-container\"><div class=\"sk-text-repr-fallback\"><pre>ColumnTransformer(transformers=[(&#x27;passthrough&#x27;, &#x27;passthrough&#x27;,\n",
       "                                 [&#x27;Chest_Pain_Type&#x27;, &#x27;Fasting_Blood_Sugar&#x27;]),\n",
       "                                (&#x27;standardscaler&#x27;, StandardScaler(),\n",
       "                                 [&#x27;Age&#x27;, &#x27;Serum_Cholesterol&#x27;,\n",
       "                                  &#x27;Max_Heart_Rate&#x27;])])</pre><b>In a Jupyter environment, please rerun this cell to show the HTML representation or trust the notebook. <br />On GitHub, the HTML representation is unable to render, please try loading this page with nbviewer.org.</b></div><div class=\"sk-container\" hidden><div class=\"sk-item sk-dashed-wrapped\"><div class=\"sk-label-container\"><div class=\"sk-label sk-toggleable\"><input class=\"sk-toggleable__control sk-hidden--visually\" id=\"sk-estimator-id-13\" type=\"checkbox\" ><label for=\"sk-estimator-id-13\" class=\"sk-toggleable__label sk-toggleable__label-arrow\">ColumnTransformer</label><div class=\"sk-toggleable__content\"><pre>ColumnTransformer(transformers=[(&#x27;passthrough&#x27;, &#x27;passthrough&#x27;,\n",
       "                                 [&#x27;Chest_Pain_Type&#x27;, &#x27;Fasting_Blood_Sugar&#x27;]),\n",
       "                                (&#x27;standardscaler&#x27;, StandardScaler(),\n",
       "                                 [&#x27;Age&#x27;, &#x27;Serum_Cholesterol&#x27;,\n",
       "                                  &#x27;Max_Heart_Rate&#x27;])])</pre></div></div></div><div class=\"sk-parallel\"><div class=\"sk-parallel-item\"><div class=\"sk-item\"><div class=\"sk-label-container\"><div class=\"sk-label sk-toggleable\"><input class=\"sk-toggleable__control sk-hidden--visually\" id=\"sk-estimator-id-14\" type=\"checkbox\" ><label for=\"sk-estimator-id-14\" class=\"sk-toggleable__label sk-toggleable__label-arrow\">passthrough</label><div class=\"sk-toggleable__content\"><pre>[&#x27;Chest_Pain_Type&#x27;, &#x27;Fasting_Blood_Sugar&#x27;]</pre></div></div></div><div class=\"sk-serial\"><div class=\"sk-item\"><div class=\"sk-estimator sk-toggleable\"><input class=\"sk-toggleable__control sk-hidden--visually\" id=\"sk-estimator-id-15\" type=\"checkbox\" ><label for=\"sk-estimator-id-15\" class=\"sk-toggleable__label sk-toggleable__label-arrow\">passthrough</label><div class=\"sk-toggleable__content\"><pre>passthrough</pre></div></div></div></div></div></div><div class=\"sk-parallel-item\"><div class=\"sk-item\"><div class=\"sk-label-container\"><div class=\"sk-label sk-toggleable\"><input class=\"sk-toggleable__control sk-hidden--visually\" id=\"sk-estimator-id-16\" type=\"checkbox\" ><label for=\"sk-estimator-id-16\" class=\"sk-toggleable__label sk-toggleable__label-arrow\">standardscaler</label><div class=\"sk-toggleable__content\"><pre>[&#x27;Age&#x27;, &#x27;Serum_Cholesterol&#x27;, &#x27;Max_Heart_Rate&#x27;]</pre></div></div></div><div class=\"sk-serial\"><div class=\"sk-item\"><div class=\"sk-estimator sk-toggleable\"><input class=\"sk-toggleable__control sk-hidden--visually\" id=\"sk-estimator-id-17\" type=\"checkbox\" ><label for=\"sk-estimator-id-17\" class=\"sk-toggleable__label sk-toggleable__label-arrow\">StandardScaler</label><div class=\"sk-toggleable__content\"><pre>StandardScaler()</pre></div></div></div></div></div></div></div></div></div></div>"
      ],
      "text/plain": [
       "ColumnTransformer(transformers=[('passthrough', 'passthrough',\n",
       "                                 ['Chest_Pain_Type', 'Fasting_Blood_Sugar']),\n",
       "                                ('standardscaler', StandardScaler(),\n",
       "                                 ['Age', 'Serum_Cholesterol',\n",
       "                                  'Max_Heart_Rate'])])"
      ]
     },
     "execution_count": 25,
     "metadata": {},
     "output_type": "execute_result"
    }
   ],
   "source": [
    "# We apply the standardization steps to the numeric predictor variables only\n",
    "heart_preprocessor = make_column_transformer(\n",
    "    (\n",
    "        \"passthrough\",\n",
    "        [\n",
    "            \"Chest_Pain_Type\",\n",
    "            \"Fasting_Blood_Sugar\",\n",
    "        ],\n",
    "    ),\n",
    "    (StandardScaler(), [\"Age\", \"Serum_Cholesterol\", \"Max_Heart_Rate\"]),\n",
    ")\n",
    "\n",
    "heart_preprocessor"
   ]
  },
  {
   "cell_type": "markdown",
   "id": "0c2c14a5-7c15-48d8-a294-c0c5b76963ce",
   "metadata": {},
   "source": [
    "### Cross-validation: Deciding which value of K to use"
   ]
  },
  {
   "cell_type": "markdown",
   "id": "ae8ebdcf-3644-47c1-973f-009f503cc3ee",
   "metadata": {},
   "source": [
    "First, we create a pipeline which has the number of neighbors left unspecified."
   ]
  },
  {
   "cell_type": "code",
   "execution_count": 26,
   "id": "e7d66d80-377c-4bb9-9f35-cabc6fbb6dfb",
   "metadata": {},
   "outputs": [],
   "source": [
    "knn = KNeighborsClassifier()\n",
    "\n",
    "heart_tune_pipe = make_pipeline(heart_preprocessor, knn)"
   ]
  },
  {
   "cell_type": "markdown",
   "id": "5c27cb40-dbdd-4fc1-919f-cefb5af4ae7b",
   "metadata": {},
   "source": [
    "We now construct the parameter_grid dictionary that will tell GridSearchCV what parameter values to try. "
   ]
  },
  {
   "cell_type": "code",
   "execution_count": 27,
   "id": "e3029bb5-8205-4aac-b6dc-d132b37b265c",
   "metadata": {},
   "outputs": [],
   "source": [
    "# We specify the range of K values here\n",
    "param_grid = {\n",
    "    \"kneighborsclassifier__n_neighbors\": range(2, 100, 1),\n",
    "}"
   ]
  },
  {
   "cell_type": "markdown",
   "id": "813e9058-83ca-4541-8968-e109e4b51ab2",
   "metadata": {},
   "source": [
    "Then, we create the GridSearchCV object where we specify the heart_tune_pipe as the estimator argument, param_grid as the param_grid argument and specify cv=10 for 10 fold cross validation. Finally, we use the fit method on the GridSearchCV object to begin the tuning process."
   ]
  },
  {
   "cell_type": "code",
   "execution_count": 28,
   "id": "4de66678-7f13-4d8d-821d-68d2192a1d51",
   "metadata": {},
   "outputs": [
    {
     "data": {
      "text/html": [
       "<div>\n",
       "<style scoped>\n",
       "    .dataframe tbody tr th:only-of-type {\n",
       "        vertical-align: middle;\n",
       "    }\n",
       "\n",
       "    .dataframe tbody tr th {\n",
       "        vertical-align: top;\n",
       "    }\n",
       "\n",
       "    .dataframe thead th {\n",
       "        text-align: right;\n",
       "    }\n",
       "</style>\n",
       "<table border=\"1\" class=\"dataframe\">\n",
       "  <thead>\n",
       "    <tr style=\"text-align: right;\">\n",
       "      <th></th>\n",
       "      <th>mean_fit_time</th>\n",
       "      <th>std_fit_time</th>\n",
       "      <th>mean_score_time</th>\n",
       "      <th>std_score_time</th>\n",
       "      <th>param_kneighborsclassifier__n_neighbors</th>\n",
       "      <th>params</th>\n",
       "      <th>split0_test_score</th>\n",
       "      <th>split1_test_score</th>\n",
       "      <th>split2_test_score</th>\n",
       "      <th>split3_test_score</th>\n",
       "      <th>split4_test_score</th>\n",
       "      <th>split5_test_score</th>\n",
       "      <th>split6_test_score</th>\n",
       "      <th>split7_test_score</th>\n",
       "      <th>split8_test_score</th>\n",
       "      <th>split9_test_score</th>\n",
       "      <th>mean_test_score</th>\n",
       "      <th>std_test_score</th>\n",
       "      <th>rank_test_score</th>\n",
       "    </tr>\n",
       "  </thead>\n",
       "  <tbody>\n",
       "    <tr>\n",
       "      <th>0</th>\n",
       "      <td>0.007825</td>\n",
       "      <td>0.001239</td>\n",
       "      <td>0.006254</td>\n",
       "      <td>0.000765</td>\n",
       "      <td>2</td>\n",
       "      <td>{'kneighborsclassifier__n_neighbors': 2}</td>\n",
       "      <td>0.521739</td>\n",
       "      <td>0.521739</td>\n",
       "      <td>0.434783</td>\n",
       "      <td>0.391304</td>\n",
       "      <td>0.521739</td>\n",
       "      <td>0.391304</td>\n",
       "      <td>0.478261</td>\n",
       "      <td>0.545455</td>\n",
       "      <td>0.636364</td>\n",
       "      <td>0.500000</td>\n",
       "      <td>0.494269</td>\n",
       "      <td>0.070785</td>\n",
       "      <td>97</td>\n",
       "    </tr>\n",
       "    <tr>\n",
       "      <th>1</th>\n",
       "      <td>0.009804</td>\n",
       "      <td>0.005472</td>\n",
       "      <td>0.007872</td>\n",
       "      <td>0.003816</td>\n",
       "      <td>3</td>\n",
       "      <td>{'kneighborsclassifier__n_neighbors': 3}</td>\n",
       "      <td>0.391304</td>\n",
       "      <td>0.521739</td>\n",
       "      <td>0.478261</td>\n",
       "      <td>0.434783</td>\n",
       "      <td>0.521739</td>\n",
       "      <td>0.434783</td>\n",
       "      <td>0.478261</td>\n",
       "      <td>0.500000</td>\n",
       "      <td>0.636364</td>\n",
       "      <td>0.500000</td>\n",
       "      <td>0.489723</td>\n",
       "      <td>0.063048</td>\n",
       "      <td>98</td>\n",
       "    </tr>\n",
       "    <tr>\n",
       "      <th>2</th>\n",
       "      <td>0.019299</td>\n",
       "      <td>0.005738</td>\n",
       "      <td>0.016543</td>\n",
       "      <td>0.003941</td>\n",
       "      <td>4</td>\n",
       "      <td>{'kneighborsclassifier__n_neighbors': 4}</td>\n",
       "      <td>0.521739</td>\n",
       "      <td>0.521739</td>\n",
       "      <td>0.521739</td>\n",
       "      <td>0.521739</td>\n",
       "      <td>0.565217</td>\n",
       "      <td>0.478261</td>\n",
       "      <td>0.434783</td>\n",
       "      <td>0.590909</td>\n",
       "      <td>0.545455</td>\n",
       "      <td>0.590909</td>\n",
       "      <td>0.529249</td>\n",
       "      <td>0.045727</td>\n",
       "      <td>93</td>\n",
       "    </tr>\n",
       "    <tr>\n",
       "      <th>3</th>\n",
       "      <td>0.012361</td>\n",
       "      <td>0.006619</td>\n",
       "      <td>0.011138</td>\n",
       "      <td>0.006090</td>\n",
       "      <td>5</td>\n",
       "      <td>{'kneighborsclassifier__n_neighbors': 5}</td>\n",
       "      <td>0.478261</td>\n",
       "      <td>0.565217</td>\n",
       "      <td>0.434783</td>\n",
       "      <td>0.478261</td>\n",
       "      <td>0.608696</td>\n",
       "      <td>0.434783</td>\n",
       "      <td>0.521739</td>\n",
       "      <td>0.590909</td>\n",
       "      <td>0.500000</td>\n",
       "      <td>0.590909</td>\n",
       "      <td>0.520356</td>\n",
       "      <td>0.061950</td>\n",
       "      <td>95</td>\n",
       "    </tr>\n",
       "    <tr>\n",
       "      <th>4</th>\n",
       "      <td>0.022346</td>\n",
       "      <td>0.000355</td>\n",
       "      <td>0.018709</td>\n",
       "      <td>0.000262</td>\n",
       "      <td>6</td>\n",
       "      <td>{'kneighborsclassifier__n_neighbors': 6}</td>\n",
       "      <td>0.521739</td>\n",
       "      <td>0.565217</td>\n",
       "      <td>0.478261</td>\n",
       "      <td>0.478261</td>\n",
       "      <td>0.565217</td>\n",
       "      <td>0.521739</td>\n",
       "      <td>0.521739</td>\n",
       "      <td>0.545455</td>\n",
       "      <td>0.500000</td>\n",
       "      <td>0.500000</td>\n",
       "      <td>0.519763</td>\n",
       "      <td>0.030050</td>\n",
       "      <td>96</td>\n",
       "    </tr>\n",
       "    <tr>\n",
       "      <th>...</th>\n",
       "      <td>...</td>\n",
       "      <td>...</td>\n",
       "      <td>...</td>\n",
       "      <td>...</td>\n",
       "      <td>...</td>\n",
       "      <td>...</td>\n",
       "      <td>...</td>\n",
       "      <td>...</td>\n",
       "      <td>...</td>\n",
       "      <td>...</td>\n",
       "      <td>...</td>\n",
       "      <td>...</td>\n",
       "      <td>...</td>\n",
       "      <td>...</td>\n",
       "      <td>...</td>\n",
       "      <td>...</td>\n",
       "      <td>...</td>\n",
       "      <td>...</td>\n",
       "      <td>...</td>\n",
       "    </tr>\n",
       "    <tr>\n",
       "      <th>93</th>\n",
       "      <td>0.007196</td>\n",
       "      <td>0.000128</td>\n",
       "      <td>0.006239</td>\n",
       "      <td>0.000093</td>\n",
       "      <td>95</td>\n",
       "      <td>{'kneighborsclassifier__n_neighbors': 95}</td>\n",
       "      <td>0.521739</td>\n",
       "      <td>0.521739</td>\n",
       "      <td>0.521739</td>\n",
       "      <td>0.521739</td>\n",
       "      <td>0.521739</td>\n",
       "      <td>0.521739</td>\n",
       "      <td>0.521739</td>\n",
       "      <td>0.590909</td>\n",
       "      <td>0.590909</td>\n",
       "      <td>0.590909</td>\n",
       "      <td>0.542490</td>\n",
       "      <td>0.031698</td>\n",
       "      <td>59</td>\n",
       "    </tr>\n",
       "    <tr>\n",
       "      <th>94</th>\n",
       "      <td>0.007464</td>\n",
       "      <td>0.000606</td>\n",
       "      <td>0.006475</td>\n",
       "      <td>0.000584</td>\n",
       "      <td>96</td>\n",
       "      <td>{'kneighborsclassifier__n_neighbors': 96}</td>\n",
       "      <td>0.521739</td>\n",
       "      <td>0.521739</td>\n",
       "      <td>0.521739</td>\n",
       "      <td>0.521739</td>\n",
       "      <td>0.521739</td>\n",
       "      <td>0.521739</td>\n",
       "      <td>0.521739</td>\n",
       "      <td>0.590909</td>\n",
       "      <td>0.590909</td>\n",
       "      <td>0.590909</td>\n",
       "      <td>0.542490</td>\n",
       "      <td>0.031698</td>\n",
       "      <td>59</td>\n",
       "    </tr>\n",
       "    <tr>\n",
       "      <th>95</th>\n",
       "      <td>0.007144</td>\n",
       "      <td>0.000155</td>\n",
       "      <td>0.006284</td>\n",
       "      <td>0.000235</td>\n",
       "      <td>97</td>\n",
       "      <td>{'kneighborsclassifier__n_neighbors': 97}</td>\n",
       "      <td>0.521739</td>\n",
       "      <td>0.521739</td>\n",
       "      <td>0.521739</td>\n",
       "      <td>0.521739</td>\n",
       "      <td>0.521739</td>\n",
       "      <td>0.521739</td>\n",
       "      <td>0.521739</td>\n",
       "      <td>0.590909</td>\n",
       "      <td>0.590909</td>\n",
       "      <td>0.590909</td>\n",
       "      <td>0.542490</td>\n",
       "      <td>0.031698</td>\n",
       "      <td>59</td>\n",
       "    </tr>\n",
       "    <tr>\n",
       "      <th>96</th>\n",
       "      <td>0.009313</td>\n",
       "      <td>0.006371</td>\n",
       "      <td>0.006416</td>\n",
       "      <td>0.000255</td>\n",
       "      <td>98</td>\n",
       "      <td>{'kneighborsclassifier__n_neighbors': 98}</td>\n",
       "      <td>0.521739</td>\n",
       "      <td>0.521739</td>\n",
       "      <td>0.521739</td>\n",
       "      <td>0.521739</td>\n",
       "      <td>0.521739</td>\n",
       "      <td>0.521739</td>\n",
       "      <td>0.521739</td>\n",
       "      <td>0.590909</td>\n",
       "      <td>0.590909</td>\n",
       "      <td>0.590909</td>\n",
       "      <td>0.542490</td>\n",
       "      <td>0.031698</td>\n",
       "      <td>59</td>\n",
       "    </tr>\n",
       "    <tr>\n",
       "      <th>97</th>\n",
       "      <td>0.012471</td>\n",
       "      <td>0.015396</td>\n",
       "      <td>0.008207</td>\n",
       "      <td>0.005418</td>\n",
       "      <td>99</td>\n",
       "      <td>{'kneighborsclassifier__n_neighbors': 99}</td>\n",
       "      <td>0.521739</td>\n",
       "      <td>0.521739</td>\n",
       "      <td>0.521739</td>\n",
       "      <td>0.521739</td>\n",
       "      <td>0.521739</td>\n",
       "      <td>0.521739</td>\n",
       "      <td>0.521739</td>\n",
       "      <td>0.590909</td>\n",
       "      <td>0.590909</td>\n",
       "      <td>0.590909</td>\n",
       "      <td>0.542490</td>\n",
       "      <td>0.031698</td>\n",
       "      <td>59</td>\n",
       "    </tr>\n",
       "  </tbody>\n",
       "</table>\n",
       "<p>98 rows × 19 columns</p>\n",
       "</div>"
      ],
      "text/plain": [
       "    mean_fit_time  std_fit_time  mean_score_time  std_score_time  \\\n",
       "0        0.007825      0.001239         0.006254        0.000765   \n",
       "1        0.009804      0.005472         0.007872        0.003816   \n",
       "2        0.019299      0.005738         0.016543        0.003941   \n",
       "3        0.012361      0.006619         0.011138        0.006090   \n",
       "4        0.022346      0.000355         0.018709        0.000262   \n",
       "..            ...           ...              ...             ...   \n",
       "93       0.007196      0.000128         0.006239        0.000093   \n",
       "94       0.007464      0.000606         0.006475        0.000584   \n",
       "95       0.007144      0.000155         0.006284        0.000235   \n",
       "96       0.009313      0.006371         0.006416        0.000255   \n",
       "97       0.012471      0.015396         0.008207        0.005418   \n",
       "\n",
       "   param_kneighborsclassifier__n_neighbors  \\\n",
       "0                                        2   \n",
       "1                                        3   \n",
       "2                                        4   \n",
       "3                                        5   \n",
       "4                                        6   \n",
       "..                                     ...   \n",
       "93                                      95   \n",
       "94                                      96   \n",
       "95                                      97   \n",
       "96                                      98   \n",
       "97                                      99   \n",
       "\n",
       "                                       params  split0_test_score  \\\n",
       "0    {'kneighborsclassifier__n_neighbors': 2}           0.521739   \n",
       "1    {'kneighborsclassifier__n_neighbors': 3}           0.391304   \n",
       "2    {'kneighborsclassifier__n_neighbors': 4}           0.521739   \n",
       "3    {'kneighborsclassifier__n_neighbors': 5}           0.478261   \n",
       "4    {'kneighborsclassifier__n_neighbors': 6}           0.521739   \n",
       "..                                        ...                ...   \n",
       "93  {'kneighborsclassifier__n_neighbors': 95}           0.521739   \n",
       "94  {'kneighborsclassifier__n_neighbors': 96}           0.521739   \n",
       "95  {'kneighborsclassifier__n_neighbors': 97}           0.521739   \n",
       "96  {'kneighborsclassifier__n_neighbors': 98}           0.521739   \n",
       "97  {'kneighborsclassifier__n_neighbors': 99}           0.521739   \n",
       "\n",
       "    split1_test_score  split2_test_score  split3_test_score  \\\n",
       "0            0.521739           0.434783           0.391304   \n",
       "1            0.521739           0.478261           0.434783   \n",
       "2            0.521739           0.521739           0.521739   \n",
       "3            0.565217           0.434783           0.478261   \n",
       "4            0.565217           0.478261           0.478261   \n",
       "..                ...                ...                ...   \n",
       "93           0.521739           0.521739           0.521739   \n",
       "94           0.521739           0.521739           0.521739   \n",
       "95           0.521739           0.521739           0.521739   \n",
       "96           0.521739           0.521739           0.521739   \n",
       "97           0.521739           0.521739           0.521739   \n",
       "\n",
       "    split4_test_score  split5_test_score  split6_test_score  \\\n",
       "0            0.521739           0.391304           0.478261   \n",
       "1            0.521739           0.434783           0.478261   \n",
       "2            0.565217           0.478261           0.434783   \n",
       "3            0.608696           0.434783           0.521739   \n",
       "4            0.565217           0.521739           0.521739   \n",
       "..                ...                ...                ...   \n",
       "93           0.521739           0.521739           0.521739   \n",
       "94           0.521739           0.521739           0.521739   \n",
       "95           0.521739           0.521739           0.521739   \n",
       "96           0.521739           0.521739           0.521739   \n",
       "97           0.521739           0.521739           0.521739   \n",
       "\n",
       "    split7_test_score  split8_test_score  split9_test_score  mean_test_score  \\\n",
       "0            0.545455           0.636364           0.500000         0.494269   \n",
       "1            0.500000           0.636364           0.500000         0.489723   \n",
       "2            0.590909           0.545455           0.590909         0.529249   \n",
       "3            0.590909           0.500000           0.590909         0.520356   \n",
       "4            0.545455           0.500000           0.500000         0.519763   \n",
       "..                ...                ...                ...              ...   \n",
       "93           0.590909           0.590909           0.590909         0.542490   \n",
       "94           0.590909           0.590909           0.590909         0.542490   \n",
       "95           0.590909           0.590909           0.590909         0.542490   \n",
       "96           0.590909           0.590909           0.590909         0.542490   \n",
       "97           0.590909           0.590909           0.590909         0.542490   \n",
       "\n",
       "    std_test_score  rank_test_score  \n",
       "0         0.070785               97  \n",
       "1         0.063048               98  \n",
       "2         0.045727               93  \n",
       "3         0.061950               95  \n",
       "4         0.030050               96  \n",
       "..             ...              ...  \n",
       "93        0.031698               59  \n",
       "94        0.031698               59  \n",
       "95        0.031698               59  \n",
       "96        0.031698               59  \n",
       "97        0.031698               59  \n",
       "\n",
       "[98 rows x 19 columns]"
      ]
     },
     "execution_count": 28,
     "metadata": {},
     "output_type": "execute_result"
    }
   ],
   "source": [
    "heart_tune_grid = GridSearchCV(\n",
    "    estimator=heart_tune_pipe,\n",
    "    param_grid=param_grid,\n",
    "    cv=10\n",
    ")\n",
    "\n",
    "# We pass the training data predictors and labels as the two arguments to fit \n",
    "# We will wrap it in a pd.DataFrame to make it easier to understand, and print the info of the result.\n",
    "\n",
    "\n",
    "X_tune = heart_train.drop(columns=[\"Diagnosis\"])\n",
    "y_tune = heart_train[\"Diagnosis\"]\n",
    "# heart_train\n",
    "knn_model_grid = heart_tune_grid.fit(X_tune, y_tune)\n",
    "# X_tune\n",
    "\n",
    "accuracies_grid = pd.DataFrame(knn_model_grid.cv_results_)\n",
    "\n",
    "accuracies_grid"
   ]
  },
  {
   "cell_type": "markdown",
   "id": "8a25fae3-e359-48e9-9e38-570de60d801b",
   "metadata": {},
   "source": [
    "Next, we create a line plot that will help us decide which value of k to choose."
   ]
  },
  {
   "cell_type": "code",
   "execution_count": 29,
   "id": "58d50b32-183f-47c2-844e-c56ff884f20d",
   "metadata": {},
   "outputs": [
    {
     "name": "stderr",
     "output_type": "stream",
     "text": [
      "/opt/conda/lib/python3.10/site-packages/altair/utils/core.py:317: FutureWarning: iteritems is deprecated and will be removed in a future version. Use .items instead.\n",
      "  for col_name, dtype in df.dtypes.iteritems():\n"
     ]
    },
    {
     "data": {
      "application/vnd.vegalite.v4+json": {
       "$schema": "https://vega.github.io/schema/vega-lite/v4.17.0.json",
       "config": {
        "axis": {
         "labelFontSize": 10,
         "titleFontSize": 15
        },
        "view": {
         "continuousHeight": 300,
         "continuousWidth": 400
        }
       },
       "data": {
        "name": "data-210cbbc57d71c3bbdcdc4e18dc54b19e"
       },
       "datasets": {
        "data-210cbbc57d71c3bbdcdc4e18dc54b19e": [
         {
          "mean_fit_time": 0.00782470703125,
          "mean_score_time": 0.006253504753112793,
          "mean_test_score": 0.49426877470355735,
          "param_kneighborsclassifier__n_neighbors": 2,
          "params": {
           "kneighborsclassifier__n_neighbors": 2
          },
          "rank_test_score": 97,
          "split0_test_score": 0.5217391304347826,
          "split1_test_score": 0.5217391304347826,
          "split2_test_score": 0.43478260869565216,
          "split3_test_score": 0.391304347826087,
          "split4_test_score": 0.5217391304347826,
          "split5_test_score": 0.391304347826087,
          "split6_test_score": 0.4782608695652174,
          "split7_test_score": 0.5454545454545454,
          "split8_test_score": 0.6363636363636364,
          "split9_test_score": 0.5,
          "std_fit_time": 0.001239030493373383,
          "std_score_time": 0.0007652051516789638,
          "std_test_score": 0.07078548190880564
         },
         {
          "mean_fit_time": 0.00980372428894043,
          "mean_score_time": 0.00787200927734375,
          "mean_test_score": 0.4897233201581028,
          "param_kneighborsclassifier__n_neighbors": 3,
          "params": {
           "kneighborsclassifier__n_neighbors": 3
          },
          "rank_test_score": 98,
          "split0_test_score": 0.391304347826087,
          "split1_test_score": 0.5217391304347826,
          "split2_test_score": 0.4782608695652174,
          "split3_test_score": 0.43478260869565216,
          "split4_test_score": 0.5217391304347826,
          "split5_test_score": 0.43478260869565216,
          "split6_test_score": 0.4782608695652174,
          "split7_test_score": 0.5,
          "split8_test_score": 0.6363636363636364,
          "split9_test_score": 0.5,
          "std_fit_time": 0.005472140655238958,
          "std_score_time": 0.003815699113776742,
          "std_test_score": 0.0630481245267681
         },
         {
          "mean_fit_time": 0.019298911094665527,
          "mean_score_time": 0.016543126106262206,
          "mean_test_score": 0.5292490118577076,
          "param_kneighborsclassifier__n_neighbors": 4,
          "params": {
           "kneighborsclassifier__n_neighbors": 4
          },
          "rank_test_score": 93,
          "split0_test_score": 0.5217391304347826,
          "split1_test_score": 0.5217391304347826,
          "split2_test_score": 0.5217391304347826,
          "split3_test_score": 0.5217391304347826,
          "split4_test_score": 0.5652173913043478,
          "split5_test_score": 0.4782608695652174,
          "split6_test_score": 0.43478260869565216,
          "split7_test_score": 0.5909090909090909,
          "split8_test_score": 0.5454545454545454,
          "split9_test_score": 0.5909090909090909,
          "std_fit_time": 0.00573824226571652,
          "std_score_time": 0.0039407139897173335,
          "std_test_score": 0.04572697190191169
         },
         {
          "mean_fit_time": 0.012360906600952149,
          "mean_score_time": 0.011137914657592774,
          "mean_test_score": 0.5203557312252964,
          "param_kneighborsclassifier__n_neighbors": 5,
          "params": {
           "kneighborsclassifier__n_neighbors": 5
          },
          "rank_test_score": 95,
          "split0_test_score": 0.4782608695652174,
          "split1_test_score": 0.5652173913043478,
          "split2_test_score": 0.43478260869565216,
          "split3_test_score": 0.4782608695652174,
          "split4_test_score": 0.6086956521739131,
          "split5_test_score": 0.43478260869565216,
          "split6_test_score": 0.5217391304347826,
          "split7_test_score": 0.5909090909090909,
          "split8_test_score": 0.5,
          "split9_test_score": 0.5909090909090909,
          "std_fit_time": 0.006619298098357022,
          "std_score_time": 0.006090235189659527,
          "std_test_score": 0.06194982344284499
         },
         {
          "mean_fit_time": 0.02234632968902588,
          "mean_score_time": 0.018709373474121094,
          "mean_test_score": 0.5197628458498024,
          "param_kneighborsclassifier__n_neighbors": 6,
          "params": {
           "kneighborsclassifier__n_neighbors": 6
          },
          "rank_test_score": 96,
          "split0_test_score": 0.5217391304347826,
          "split1_test_score": 0.5652173913043478,
          "split2_test_score": 0.4782608695652174,
          "split3_test_score": 0.4782608695652174,
          "split4_test_score": 0.5652173913043478,
          "split5_test_score": 0.5217391304347826,
          "split6_test_score": 0.5217391304347826,
          "split7_test_score": 0.5454545454545454,
          "split8_test_score": 0.5,
          "split9_test_score": 0.5,
          "std_fit_time": 0.0003549069538440328,
          "std_score_time": 0.0002623488060583921,
          "std_test_score": 0.03004992538932522
         },
         {
          "mean_fit_time": 0.010027146339416504,
          "mean_score_time": 0.007826995849609376,
          "mean_test_score": 0.5464426877470355,
          "param_kneighborsclassifier__n_neighbors": 7,
          "params": {
           "kneighborsclassifier__n_neighbors": 7
          },
          "rank_test_score": 58,
          "split0_test_score": 0.5652173913043478,
          "split1_test_score": 0.6086956521739131,
          "split2_test_score": 0.4782608695652174,
          "split3_test_score": 0.4782608695652174,
          "split4_test_score": 0.6086956521739131,
          "split5_test_score": 0.4782608695652174,
          "split6_test_score": 0.5652173913043478,
          "split7_test_score": 0.5909090909090909,
          "split8_test_score": 0.5909090909090909,
          "split9_test_score": 0.5,
          "std_fit_time": 0.005994684970374038,
          "std_score_time": 0.004138558489874008,
          "std_test_score": 0.053398097723086665
         },
         {
          "mean_fit_time": 0.007413482666015625,
          "mean_score_time": 0.007509422302246094,
          "mean_test_score": 0.5243083003952569,
          "param_kneighborsclassifier__n_neighbors": 8,
          "params": {
           "kneighborsclassifier__n_neighbors": 8
          },
          "rank_test_score": 94,
          "split0_test_score": 0.5652173913043478,
          "split1_test_score": 0.6086956521739131,
          "split2_test_score": 0.43478260869565216,
          "split3_test_score": 0.4782608695652174,
          "split4_test_score": 0.5217391304347826,
          "split5_test_score": 0.5217391304347826,
          "split6_test_score": 0.5217391304347826,
          "split7_test_score": 0.5454545454545454,
          "split8_test_score": 0.5909090909090909,
          "split9_test_score": 0.45454545454545453,
          "std_fit_time": 0.0005053194936855089,
          "std_score_time": 0.003946652942359365,
          "std_test_score": 0.05357189539362843
         },
         {
          "mean_fit_time": 0.007458996772766113,
          "mean_score_time": 0.00881056785583496,
          "mean_test_score": 0.5373517786561265,
          "param_kneighborsclassifier__n_neighbors": 9,
          "params": {
           "kneighborsclassifier__n_neighbors": 9
          },
          "rank_test_score": 91,
          "split0_test_score": 0.5652173913043478,
          "split1_test_score": 0.6086956521739131,
          "split2_test_score": 0.43478260869565216,
          "split3_test_score": 0.5217391304347826,
          "split4_test_score": 0.5652173913043478,
          "split5_test_score": 0.5217391304347826,
          "split6_test_score": 0.5652173913043478,
          "split7_test_score": 0.5909090909090909,
          "split8_test_score": 0.5454545454545454,
          "split9_test_score": 0.45454545454545453,
          "std_fit_time": 0.00022834471547138684,
          "std_score_time": 0.00755825239917632,
          "std_test_score": 0.053120897419870784
         },
         {
          "mean_fit_time": 0.0075457096099853516,
          "mean_score_time": 0.006127667427062988,
          "mean_test_score": 0.5596837944664032,
          "param_kneighborsclassifier__n_neighbors": 10,
          "params": {
           "kneighborsclassifier__n_neighbors": 10
          },
          "rank_test_score": 30,
          "split0_test_score": 0.5652173913043478,
          "split1_test_score": 0.6086956521739131,
          "split2_test_score": 0.43478260869565216,
          "split3_test_score": 0.5652173913043478,
          "split4_test_score": 0.5652173913043478,
          "split5_test_score": 0.5652173913043478,
          "split6_test_score": 0.5652173913043478,
          "split7_test_score": 0.6818181818181818,
          "split8_test_score": 0.5909090909090909,
          "split9_test_score": 0.45454545454545453,
          "std_fit_time": 0.0007660621944651266,
          "std_score_time": 9.703788767840246e-05,
          "std_test_score": 0.06715762808926948
         },
         {
          "mean_fit_time": 0.007142448425292968,
          "mean_score_time": 0.013781857490539551,
          "mean_test_score": 0.5333992094861659,
          "param_kneighborsclassifier__n_neighbors": 11,
          "params": {
           "kneighborsclassifier__n_neighbors": 11
          },
          "rank_test_score": 92,
          "split0_test_score": 0.5217391304347826,
          "split1_test_score": 0.5217391304347826,
          "split2_test_score": 0.43478260869565216,
          "split3_test_score": 0.5217391304347826,
          "split4_test_score": 0.5652173913043478,
          "split5_test_score": 0.5652173913043478,
          "split6_test_score": 0.5217391304347826,
          "split7_test_score": 0.6363636363636364,
          "split8_test_score": 0.5909090909090909,
          "split9_test_score": 0.45454545454545453,
          "std_fit_time": 0.00010352777129929287,
          "std_score_time": 0.015717169336687955,
          "std_test_score": 0.05693929350244695
         },
         {
          "mean_fit_time": 0.007778835296630859,
          "mean_score_time": 0.007711553573608398,
          "mean_test_score": 0.5375494071146245,
          "param_kneighborsclassifier__n_neighbors": 12,
          "params": {
           "kneighborsclassifier__n_neighbors": 12
          },
          "rank_test_score": 90,
          "split0_test_score": 0.5217391304347826,
          "split1_test_score": 0.6086956521739131,
          "split2_test_score": 0.4782608695652174,
          "split3_test_score": 0.5217391304347826,
          "split4_test_score": 0.5652173913043478,
          "split5_test_score": 0.5217391304347826,
          "split6_test_score": 0.5217391304347826,
          "split7_test_score": 0.5454545454545454,
          "split8_test_score": 0.6363636363636364,
          "split9_test_score": 0.45454545454545453,
          "std_fit_time": 0.001127772636469904,
          "std_score_time": 0.004477971813416099,
          "std_test_score": 0.05201797273157977
         },
         {
          "mean_fit_time": 0.010760283470153809,
          "mean_score_time": 0.00689082145690918,
          "mean_test_score": 0.5640316205533595,
          "param_kneighborsclassifier__n_neighbors": 13,
          "params": {
           "kneighborsclassifier__n_neighbors": 13
          },
          "rank_test_score": 21,
          "split0_test_score": 0.5652173913043478,
          "split1_test_score": 0.6956521739130435,
          "split2_test_score": 0.4782608695652174,
          "split3_test_score": 0.5217391304347826,
          "split4_test_score": 0.5652173913043478,
          "split5_test_score": 0.5652173913043478,
          "split6_test_score": 0.5217391304347826,
          "split7_test_score": 0.5454545454545454,
          "split8_test_score": 0.7272727272727273,
          "split9_test_score": 0.45454545454545453,
          "std_fit_time": 0.008181018998699928,
          "std_score_time": 0.0002540482994634646,
          "std_test_score": 0.08200128448918491
         },
         {
          "mean_fit_time": 0.008205199241638183,
          "mean_score_time": 0.012019920349121093,
          "mean_test_score": 0.550790513833992,
          "param_kneighborsclassifier__n_neighbors": 14,
          "params": {
           "kneighborsclassifier__n_neighbors": 14
          },
          "rank_test_score": 49,
          "split0_test_score": 0.5652173913043478,
          "split1_test_score": 0.6086956521739131,
          "split2_test_score": 0.5217391304347826,
          "split3_test_score": 0.5217391304347826,
          "split4_test_score": 0.5217391304347826,
          "split5_test_score": 0.5652173913043478,
          "split6_test_score": 0.5217391304347826,
          "split7_test_score": 0.6363636363636364,
          "split8_test_score": 0.5909090909090909,
          "split9_test_score": 0.45454545454545453,
          "std_fit_time": 9.926464987555036e-05,
          "std_score_time": 0.01348579673460787,
          "std_test_score": 0.050339425012950266
         },
         {
          "mean_fit_time": 0.00797727108001709,
          "mean_score_time": 0.006703853607177734,
          "mean_test_score": 0.5685770750988143,
          "param_kneighborsclassifier__n_neighbors": 15,
          "params": {
           "kneighborsclassifier__n_neighbors": 15
          },
          "rank_test_score": 12,
          "split0_test_score": 0.6086956521739131,
          "split1_test_score": 0.6521739130434783,
          "split2_test_score": 0.4782608695652174,
          "split3_test_score": 0.5217391304347826,
          "split4_test_score": 0.5217391304347826,
          "split5_test_score": 0.5652173913043478,
          "split6_test_score": 0.5652173913043478,
          "split7_test_score": 0.6363636363636364,
          "split8_test_score": 0.6363636363636364,
          "split9_test_score": 0.5,
          "std_fit_time": 0.00041441749050200857,
          "std_score_time": 0.00036325968287816634,
          "std_test_score": 0.059209763214600614
         },
         {
          "mean_fit_time": 0.007175159454345703,
          "mean_score_time": 0.006085944175720215,
          "mean_test_score": 0.5729249011857707,
          "param_kneighborsclassifier__n_neighbors": 16,
          "params": {
           "kneighborsclassifier__n_neighbors": 16
          },
          "rank_test_score": 6,
          "split0_test_score": 0.6521739130434783,
          "split1_test_score": 0.6086956521739131,
          "split2_test_score": 0.5217391304347826,
          "split3_test_score": 0.5217391304347826,
          "split4_test_score": 0.5217391304347826,
          "split5_test_score": 0.5652173913043478,
          "split6_test_score": 0.5652173913043478,
          "split7_test_score": 0.6363636363636364,
          "split8_test_score": 0.6363636363636364,
          "split9_test_score": 0.5,
          "std_fit_time": 0.00021901769149114734,
          "std_score_time": 0.0001316692392840095,
          "std_test_score": 0.053764022134537626
         },
         {
          "mean_fit_time": 0.007113313674926758,
          "mean_score_time": 0.0060520172119140625,
          "mean_test_score": 0.5824110671936759,
          "param_kneighborsclassifier__n_neighbors": 17,
          "params": {
           "kneighborsclassifier__n_neighbors": 17
          },
          "rank_test_score": 1,
          "split0_test_score": 0.6086956521739131,
          "split1_test_score": 0.6086956521739131,
          "split2_test_score": 0.4782608695652174,
          "split3_test_score": 0.5217391304347826,
          "split4_test_score": 0.5217391304347826,
          "split5_test_score": 0.5217391304347826,
          "split6_test_score": 0.6086956521739131,
          "split7_test_score": 0.7272727272727273,
          "split8_test_score": 0.6363636363636364,
          "split9_test_score": 0.5909090909090909,
          "std_fit_time": 0.00011414898950724152,
          "std_score_time": 9.40723097050469e-05,
          "std_test_score": 0.06923232648625069
         },
         {
          "mean_fit_time": 0.006998658180236816,
          "mean_score_time": 0.00595560073852539,
          "mean_test_score": 0.5557312252964426,
          "param_kneighborsclassifier__n_neighbors": 18,
          "params": {
           "kneighborsclassifier__n_neighbors": 18
          },
          "rank_test_score": 35,
          "split0_test_score": 0.5652173913043478,
          "split1_test_score": 0.5652173913043478,
          "split2_test_score": 0.4782608695652174,
          "split3_test_score": 0.5217391304347826,
          "split4_test_score": 0.5217391304347826,
          "split5_test_score": 0.5217391304347826,
          "split6_test_score": 0.5652173913043478,
          "split7_test_score": 0.6363636363636364,
          "split8_test_score": 0.5909090909090909,
          "split9_test_score": 0.5909090909090909,
          "std_fit_time": 4.7591985446947594e-05,
          "std_score_time": 0.0001006410093222366,
          "std_test_score": 0.04326032335246174
         },
         {
          "mean_fit_time": 0.007069873809814453,
          "mean_score_time": 0.00593714714050293,
          "mean_test_score": 0.5602766798418972,
          "param_kneighborsclassifier__n_neighbors": 19,
          "params": {
           "kneighborsclassifier__n_neighbors": 19
          },
          "rank_test_score": 23,
          "split0_test_score": 0.6086956521739131,
          "split1_test_score": 0.5217391304347826,
          "split2_test_score": 0.4782608695652174,
          "split3_test_score": 0.5217391304347826,
          "split4_test_score": 0.5217391304347826,
          "split5_test_score": 0.5217391304347826,
          "split6_test_score": 0.5652173913043478,
          "split7_test_score": 0.6818181818181818,
          "split8_test_score": 0.5909090909090909,
          "split9_test_score": 0.5909090909090909,
          "std_fit_time": 8.456655579596947e-05,
          "std_score_time": 3.247936671436025e-05,
          "std_test_score": 0.05628942833449057
         },
         {
          "mean_fit_time": 0.006988525390625,
          "mean_score_time": 0.005939650535583496,
          "mean_test_score": 0.5737154150197629,
          "param_kneighborsclassifier__n_neighbors": 20,
          "params": {
           "kneighborsclassifier__n_neighbors": 20
          },
          "rank_test_score": 4,
          "split0_test_score": 0.6086956521739131,
          "split1_test_score": 0.5652173913043478,
          "split2_test_score": 0.4782608695652174,
          "split3_test_score": 0.5217391304347826,
          "split4_test_score": 0.5217391304347826,
          "split5_test_score": 0.5217391304347826,
          "split6_test_score": 0.5652173913043478,
          "split7_test_score": 0.7272727272727273,
          "split8_test_score": 0.6363636363636364,
          "split9_test_score": 0.5909090909090909,
          "std_fit_time": 5.990353982205586e-05,
          "std_score_time": 7.34699182392969e-05,
          "std_test_score": 0.06810616183995337
         },
         {
          "mean_fit_time": 0.0074143648147583004,
          "mean_score_time": 0.006310081481933594,
          "mean_test_score": 0.5782608695652174,
          "param_kneighborsclassifier__n_neighbors": 21,
          "params": {
           "kneighborsclassifier__n_neighbors": 21
          },
          "rank_test_score": 3,
          "split0_test_score": 0.6086956521739131,
          "split1_test_score": 0.5652173913043478,
          "split2_test_score": 0.4782608695652174,
          "split3_test_score": 0.5217391304347826,
          "split4_test_score": 0.5217391304347826,
          "split5_test_score": 0.5217391304347826,
          "split6_test_score": 0.5652173913043478,
          "split7_test_score": 0.6818181818181818,
          "split8_test_score": 0.6818181818181818,
          "split9_test_score": 0.6363636363636364,
          "std_fit_time": 0.00021405462352658302,
          "std_score_time": 0.0001887242680351096,
          "std_test_score": 0.06758315394938022
         },
         {
          "mean_fit_time": 0.007738327980041504,
          "mean_score_time": 0.006198453903198242,
          "mean_test_score": 0.5824110671936759,
          "param_kneighborsclassifier__n_neighbors": 22,
          "params": {
           "kneighborsclassifier__n_neighbors": 22
          },
          "rank_test_score": 1,
          "split0_test_score": 0.6086956521739131,
          "split1_test_score": 0.6086956521739131,
          "split2_test_score": 0.4782608695652174,
          "split3_test_score": 0.5217391304347826,
          "split4_test_score": 0.5217391304347826,
          "split5_test_score": 0.5217391304347826,
          "split6_test_score": 0.6086956521739131,
          "split7_test_score": 0.6818181818181818,
          "split8_test_score": 0.6818181818181818,
          "split9_test_score": 0.5909090909090909,
          "std_fit_time": 0.0012996894508113376,
          "std_score_time": 0.00026545074908595155,
          "std_test_score": 0.06618075165939821
         },
         {
          "mean_fit_time": 0.007012796401977539,
          "mean_score_time": 0.00595858097076416,
          "mean_test_score": 0.5693675889328064,
          "param_kneighborsclassifier__n_neighbors": 23,
          "params": {
           "kneighborsclassifier__n_neighbors": 23
          },
          "rank_test_score": 7,
          "split0_test_score": 0.5652173913043478,
          "split1_test_score": 0.5652173913043478,
          "split2_test_score": 0.4782608695652174,
          "split3_test_score": 0.4782608695652174,
          "split4_test_score": 0.5217391304347826,
          "split5_test_score": 0.5217391304347826,
          "split6_test_score": 0.6086956521739131,
          "split7_test_score": 0.6818181818181818,
          "split8_test_score": 0.6818181818181818,
          "split9_test_score": 0.5909090909090909,
          "std_fit_time": 4.874092190429454e-05,
          "std_score_time": 7.073372976085786e-05,
          "std_test_score": 0.06962274166721054
         },
         {
          "mean_fit_time": 0.007072329521179199,
          "mean_score_time": 0.005981302261352539,
          "mean_test_score": 0.5693675889328063,
          "param_kneighborsclassifier__n_neighbors": 24,
          "params": {
           "kneighborsclassifier__n_neighbors": 24
          },
          "rank_test_score": 8,
          "split0_test_score": 0.5652173913043478,
          "split1_test_score": 0.5652173913043478,
          "split2_test_score": 0.5217391304347826,
          "split3_test_score": 0.4782608695652174,
          "split4_test_score": 0.5217391304347826,
          "split5_test_score": 0.5217391304347826,
          "split6_test_score": 0.5652173913043478,
          "split7_test_score": 0.6818181818181818,
          "split8_test_score": 0.6818181818181818,
          "split9_test_score": 0.5909090909090909,
          "std_fit_time": 0.0001293497259103398,
          "std_score_time": 4.9402515812222185e-05,
          "std_test_score": 0.06396235212968912
         },
         {
          "mean_fit_time": 0.007208561897277832,
          "mean_score_time": 0.0062176227569580075,
          "mean_test_score": 0.5606719367588934,
          "param_kneighborsclassifier__n_neighbors": 25,
          "params": {
           "kneighborsclassifier__n_neighbors": 25
          },
          "rank_test_score": 22,
          "split0_test_score": 0.5217391304347826,
          "split1_test_score": 0.5652173913043478,
          "split2_test_score": 0.5217391304347826,
          "split3_test_score": 0.4782608695652174,
          "split4_test_score": 0.5217391304347826,
          "split5_test_score": 0.5217391304347826,
          "split6_test_score": 0.5217391304347826,
          "split7_test_score": 0.6363636363636364,
          "split8_test_score": 0.6818181818181818,
          "split9_test_score": 0.6363636363636364,
          "std_fit_time": 0.00021306910843141747,
          "std_score_time": 0.0005788788881865735,
          "std_test_score": 0.06365998874053735
         },
         {
          "mean_fit_time": 0.00827171802520752,
          "mean_score_time": 0.0069438695907592775,
          "mean_test_score": 0.5561264822134389,
          "param_kneighborsclassifier__n_neighbors": 26,
          "params": {
           "kneighborsclassifier__n_neighbors": 26
          },
          "rank_test_score": 31,
          "split0_test_score": 0.5217391304347826,
          "split1_test_score": 0.5652173913043478,
          "split2_test_score": 0.5217391304347826,
          "split3_test_score": 0.4782608695652174,
          "split4_test_score": 0.5217391304347826,
          "split5_test_score": 0.5217391304347826,
          "split6_test_score": 0.5217391304347826,
          "split7_test_score": 0.6363636363636364,
          "split8_test_score": 0.6363636363636364,
          "split9_test_score": 0.6363636363636364,
          "std_fit_time": 0.0004589650221299736,
          "std_score_time": 0.0005032145698445316,
          "std_test_score": 0.05601084787011795
         },
         {
          "mean_fit_time": 0.008635449409484863,
          "mean_score_time": 0.007269501686096191,
          "mean_test_score": 0.5691699604743083,
          "param_kneighborsclassifier__n_neighbors": 27,
          "params": {
           "kneighborsclassifier__n_neighbors": 27
          },
          "rank_test_score": 9,
          "split0_test_score": 0.5652173913043478,
          "split1_test_score": 0.6086956521739131,
          "split2_test_score": 0.5217391304347826,
          "split3_test_score": 0.4782608695652174,
          "split4_test_score": 0.5217391304347826,
          "split5_test_score": 0.5652173913043478,
          "split6_test_score": 0.5217391304347826,
          "split7_test_score": 0.6363636363636364,
          "split8_test_score": 0.6363636363636364,
          "split9_test_score": 0.6363636363636364,
          "std_fit_time": 0.0001502889833870445,
          "std_score_time": 4.065176606220357e-05,
          "std_test_score": 0.054910845808101995
         },
         {
          "mean_fit_time": 0.008613324165344239,
          "mean_score_time": 0.007291483879089356,
          "mean_test_score": 0.5735177865612648,
          "param_kneighborsclassifier__n_neighbors": 28,
          "params": {
           "kneighborsclassifier__n_neighbors": 28
          },
          "rank_test_score": 5,
          "split0_test_score": 0.5652173913043478,
          "split1_test_score": 0.6086956521739131,
          "split2_test_score": 0.5217391304347826,
          "split3_test_score": 0.4782608695652174,
          "split4_test_score": 0.5217391304347826,
          "split5_test_score": 0.5652173913043478,
          "split6_test_score": 0.5652173913043478,
          "split7_test_score": 0.6363636363636364,
          "split8_test_score": 0.6363636363636364,
          "split9_test_score": 0.6363636363636364,
          "std_fit_time": 8.897521037149859e-05,
          "std_score_time": 2.85324489778727e-05,
          "std_test_score": 0.05265825018132702
         },
         {
          "mean_fit_time": 0.007413935661315918,
          "mean_score_time": 0.006152844429016114,
          "mean_test_score": 0.5557312252964427,
          "param_kneighborsclassifier__n_neighbors": 29,
          "params": {
           "kneighborsclassifier__n_neighbors": 29
          },
          "rank_test_score": 32,
          "split0_test_score": 0.5217391304347826,
          "split1_test_score": 0.6086956521739131,
          "split2_test_score": 0.5217391304347826,
          "split3_test_score": 0.4782608695652174,
          "split4_test_score": 0.5217391304347826,
          "split5_test_score": 0.5652173913043478,
          "split6_test_score": 0.5217391304347826,
          "split7_test_score": 0.5909090909090909,
          "split8_test_score": 0.6363636363636364,
          "split9_test_score": 0.5909090909090909,
          "std_fit_time": 0.0007746881664073196,
          "std_score_time": 0.0005995051688692828,
          "std_test_score": 0.04742918310711181
         },
         {
          "mean_fit_time": 0.015473294258117675,
          "mean_score_time": 0.013915944099426269,
          "mean_test_score": 0.5689723320158102,
          "param_kneighborsclassifier__n_neighbors": 30,
          "params": {
           "kneighborsclassifier__n_neighbors": 30
          },
          "rank_test_score": 10,
          "split0_test_score": 0.5217391304347826,
          "split1_test_score": 0.6086956521739131,
          "split2_test_score": 0.5217391304347826,
          "split3_test_score": 0.4782608695652174,
          "split4_test_score": 0.5217391304347826,
          "split5_test_score": 0.5652173913043478,
          "split6_test_score": 0.6086956521739131,
          "split7_test_score": 0.5909090909090909,
          "split8_test_score": 0.6818181818181818,
          "split9_test_score": 0.5909090909090909,
          "std_fit_time": 0.003699666936821423,
          "std_score_time": 0.002711742582838193,
          "std_test_score": 0.05638094352023866
         },
         {
          "mean_fit_time": 0.013207507133483887,
          "mean_score_time": 0.011546111106872559,
          "mean_test_score": 0.5687747035573123,
          "param_kneighborsclassifier__n_neighbors": 31,
          "params": {
           "kneighborsclassifier__n_neighbors": 31
          },
          "rank_test_score": 11,
          "split0_test_score": 0.5217391304347826,
          "split1_test_score": 0.6086956521739131,
          "split2_test_score": 0.5217391304347826,
          "split3_test_score": 0.4782608695652174,
          "split4_test_score": 0.5217391304347826,
          "split5_test_score": 0.5652173913043478,
          "split6_test_score": 0.6521739130434783,
          "split7_test_score": 0.5909090909090909,
          "split8_test_score": 0.6363636363636364,
          "split9_test_score": 0.5909090909090909,
          "std_fit_time": 0.0027956738155727385,
          "std_score_time": 0.002305165459351967,
          "std_test_score": 0.05379561353628169
         },
         {
          "mean_fit_time": 0.024799871444702148,
          "mean_score_time": 0.011613297462463378,
          "mean_test_score": 0.5646245059288538,
          "param_kneighborsclassifier__n_neighbors": 32,
          "params": {
           "kneighborsclassifier__n_neighbors": 32
          },
          "rank_test_score": 13,
          "split0_test_score": 0.5217391304347826,
          "split1_test_score": 0.5652173913043478,
          "split2_test_score": 0.5217391304347826,
          "split3_test_score": 0.4782608695652174,
          "split4_test_score": 0.5217391304347826,
          "split5_test_score": 0.5652173913043478,
          "split6_test_score": 0.6086956521739131,
          "split7_test_score": 0.5909090909090909,
          "split8_test_score": 0.6363636363636364,
          "split9_test_score": 0.6363636363636364,
          "std_fit_time": 0.015805672413728027,
          "std_score_time": 0.0015088349834561994,
          "std_test_score": 0.050894987981041924
         },
         {
          "mean_fit_time": 0.0077727317810058595,
          "mean_score_time": 0.00671534538269043,
          "mean_test_score": 0.5600790513833992,
          "param_kneighborsclassifier__n_neighbors": 33,
          "params": {
           "kneighborsclassifier__n_neighbors": 33
          },
          "rank_test_score": 24,
          "split0_test_score": 0.5217391304347826,
          "split1_test_score": 0.5652173913043478,
          "split2_test_score": 0.5217391304347826,
          "split3_test_score": 0.4782608695652174,
          "split4_test_score": 0.5217391304347826,
          "split5_test_score": 0.5652173913043478,
          "split6_test_score": 0.6086956521739131,
          "split7_test_score": 0.5909090909090909,
          "split8_test_score": 0.6363636363636364,
          "split9_test_score": 0.5909090909090909,
          "std_fit_time": 0.00022709278421894532,
          "std_score_time": 0.0006955035441658182,
          "std_test_score": 0.04608770228347323
         },
         {
          "mean_fit_time": 0.027260184288024902,
          "mean_score_time": 0.016759252548217772,
          "mean_test_score": 0.5646245059288537,
          "param_kneighborsclassifier__n_neighbors": 34,
          "params": {
           "kneighborsclassifier__n_neighbors": 34
          },
          "rank_test_score": 14,
          "split0_test_score": 0.5217391304347826,
          "split1_test_score": 0.5652173913043478,
          "split2_test_score": 0.5217391304347826,
          "split3_test_score": 0.4782608695652174,
          "split4_test_score": 0.5217391304347826,
          "split5_test_score": 0.5652173913043478,
          "split6_test_score": 0.6086956521739131,
          "split7_test_score": 0.5909090909090909,
          "split8_test_score": 0.6818181818181818,
          "split9_test_score": 0.5909090909090909,
          "std_fit_time": 0.01893550600377645,
          "std_score_time": 0.007624560416989675,
          "std_test_score": 0.05480440622875381
         },
         {
          "mean_fit_time": 0.025322484970092773,
          "mean_score_time": 0.02533860206604004,
          "mean_test_score": 0.5513833992094862,
          "param_kneighborsclassifier__n_neighbors": 35,
          "params": {
           "kneighborsclassifier__n_neighbors": 35
          },
          "rank_test_score": 45,
          "split0_test_score": 0.5217391304347826,
          "split1_test_score": 0.5652173913043478,
          "split2_test_score": 0.5217391304347826,
          "split3_test_score": 0.4782608695652174,
          "split4_test_score": 0.5217391304347826,
          "split5_test_score": 0.5652173913043478,
          "split6_test_score": 0.5217391304347826,
          "split7_test_score": 0.5909090909090909,
          "split8_test_score": 0.6363636363636364,
          "split9_test_score": 0.5909090909090909,
          "std_fit_time": 0.010019127356029014,
          "std_score_time": 0.0155846652964796,
          "std_test_score": 0.04426171598156338
         },
         {
          "mean_fit_time": 0.015552473068237305,
          "mean_score_time": 0.01298534870147705,
          "mean_test_score": 0.5515810276679841,
          "param_kneighborsclassifier__n_neighbors": 36,
          "params": {
           "kneighborsclassifier__n_neighbors": 36
          },
          "rank_test_score": 44,
          "split0_test_score": 0.5217391304347826,
          "split1_test_score": 0.5652173913043478,
          "split2_test_score": 0.5217391304347826,
          "split3_test_score": 0.4782608695652174,
          "split4_test_score": 0.5217391304347826,
          "split5_test_score": 0.5217391304347826,
          "split6_test_score": 0.5217391304347826,
          "split7_test_score": 0.5909090909090909,
          "split8_test_score": 0.6818181818181818,
          "split9_test_score": 0.5909090909090909,
          "std_fit_time": 0.005786607967521503,
          "std_score_time": 0.005003515068418219,
          "std_test_score": 0.05483575438302823
         },
         {
          "mean_fit_time": 0.02928287982940674,
          "mean_score_time": 0.020783591270446777,
          "mean_test_score": 0.5646245059288537,
          "param_kneighborsclassifier__n_neighbors": 37,
          "params": {
           "kneighborsclassifier__n_neighbors": 37
          },
          "rank_test_score": 14,
          "split0_test_score": 0.5217391304347826,
          "split1_test_score": 0.5652173913043478,
          "split2_test_score": 0.5652173913043478,
          "split3_test_score": 0.5217391304347826,
          "split4_test_score": 0.5217391304347826,
          "split5_test_score": 0.5652173913043478,
          "split6_test_score": 0.5217391304347826,
          "split7_test_score": 0.5909090909090909,
          "split8_test_score": 0.6818181818181818,
          "split9_test_score": 0.5909090909090909,
          "std_fit_time": 0.03134548690674542,
          "std_score_time": 0.0266878832766454,
          "std_test_score": 0.047406531984416266
         },
         {
          "mean_fit_time": 0.008664989471435547,
          "mean_score_time": 0.0068383455276489254,
          "mean_test_score": 0.5644268774703558,
          "param_kneighborsclassifier__n_neighbors": 38,
          "params": {
           "kneighborsclassifier__n_neighbors": 38
          },
          "rank_test_score": 16,
          "split0_test_score": 0.5217391304347826,
          "split1_test_score": 0.5652173913043478,
          "split2_test_score": 0.6086956521739131,
          "split3_test_score": 0.5217391304347826,
          "split4_test_score": 0.5217391304347826,
          "split5_test_score": 0.5652173913043478,
          "split6_test_score": 0.5217391304347826,
          "split7_test_score": 0.5909090909090909,
          "split8_test_score": 0.6363636363636364,
          "split9_test_score": 0.5909090909090909,
          "std_fit_time": 0.0014768788152258558,
          "std_score_time": 0.00022775904739128947,
          "std_test_score": 0.039783742613270515
         },
         {
          "mean_fit_time": 0.008070802688598633,
          "mean_score_time": 0.006846880912780762,
          "mean_test_score": 0.5596837944664033,
          "param_kneighborsclassifier__n_neighbors": 39,
          "params": {
           "kneighborsclassifier__n_neighbors": 39
          },
          "rank_test_score": 29,
          "split0_test_score": 0.5217391304347826,
          "split1_test_score": 0.5652173913043478,
          "split2_test_score": 0.6086956521739131,
          "split3_test_score": 0.5217391304347826,
          "split4_test_score": 0.5217391304347826,
          "split5_test_score": 0.5652173913043478,
          "split6_test_score": 0.5652173913043478,
          "split7_test_score": 0.5909090909090909,
          "split8_test_score": 0.5454545454545454,
          "split9_test_score": 0.5909090909090909,
          "std_fit_time": 0.0002719428943407991,
          "std_score_time": 0.00022735807343632404,
          "std_test_score": 0.02994315725931807
         },
         {
          "mean_fit_time": 0.009131574630737304,
          "mean_score_time": 0.006652283668518067,
          "mean_test_score": 0.5644268774703558,
          "param_kneighborsclassifier__n_neighbors": 40,
          "params": {
           "kneighborsclassifier__n_neighbors": 40
          },
          "rank_test_score": 16,
          "split0_test_score": 0.4782608695652174,
          "split1_test_score": 0.5217391304347826,
          "split2_test_score": 0.6086956521739131,
          "split3_test_score": 0.5652173913043478,
          "split4_test_score": 0.5217391304347826,
          "split5_test_score": 0.5652173913043478,
          "split6_test_score": 0.5652173913043478,
          "split7_test_score": 0.5909090909090909,
          "split8_test_score": 0.5909090909090909,
          "split9_test_score": 0.6363636363636364,
          "std_fit_time": 0.003653208586356104,
          "std_score_time": 0.00026591475265097764,
          "std_test_score": 0.04428112475951067
         },
         {
          "mean_fit_time": 0.00759124755859375,
          "mean_score_time": 0.006572175025939942,
          "mean_test_score": 0.5555335968379447,
          "param_kneighborsclassifier__n_neighbors": 41,
          "params": {
           "kneighborsclassifier__n_neighbors": 41
          },
          "rank_test_score": 36,
          "split0_test_score": 0.4782608695652174,
          "split1_test_score": 0.5217391304347826,
          "split2_test_score": 0.6086956521739131,
          "split3_test_score": 0.5217391304347826,
          "split4_test_score": 0.5217391304347826,
          "split5_test_score": 0.5652173913043478,
          "split6_test_score": 0.5652173913043478,
          "split7_test_score": 0.6363636363636364,
          "split8_test_score": 0.5454545454545454,
          "split9_test_score": 0.5909090909090909,
          "std_fit_time": 0.00010315256353795585,
          "std_score_time": 0.000253638376783396,
          "std_test_score": 0.04505278713238513
         },
         {
          "mean_fit_time": 0.007532978057861328,
          "mean_score_time": 0.00644378662109375,
          "mean_test_score": 0.5555335968379447,
          "param_kneighborsclassifier__n_neighbors": 42,
          "params": {
           "kneighborsclassifier__n_neighbors": 42
          },
          "rank_test_score": 36,
          "split0_test_score": 0.4782608695652174,
          "split1_test_score": 0.5217391304347826,
          "split2_test_score": 0.6086956521739131,
          "split3_test_score": 0.5217391304347826,
          "split4_test_score": 0.5217391304347826,
          "split5_test_score": 0.5652173913043478,
          "split6_test_score": 0.5652173913043478,
          "split7_test_score": 0.6363636363636364,
          "split8_test_score": 0.5454545454545454,
          "split9_test_score": 0.5909090909090909,
          "std_fit_time": 0.0002378787891995361,
          "std_score_time": 0.00013512095268451683,
          "std_test_score": 0.04505278713238513
         },
         {
          "mean_fit_time": 0.010143852233886719,
          "mean_score_time": 0.008680605888366699,
          "mean_test_score": 0.5600790513833991,
          "param_kneighborsclassifier__n_neighbors": 43,
          "params": {
           "kneighborsclassifier__n_neighbors": 43
          },
          "rank_test_score": 25,
          "split0_test_score": 0.4782608695652174,
          "split1_test_score": 0.5217391304347826,
          "split2_test_score": 0.6086956521739131,
          "split3_test_score": 0.5217391304347826,
          "split4_test_score": 0.5217391304347826,
          "split5_test_score": 0.5652173913043478,
          "split6_test_score": 0.5652173913043478,
          "split7_test_score": 0.6818181818181818,
          "split8_test_score": 0.5454545454545454,
          "split9_test_score": 0.5909090909090909,
          "std_fit_time": 0.005138875641494708,
          "std_score_time": 0.004507064855217278,
          "std_test_score": 0.054318713007229825
         },
         {
          "mean_fit_time": 0.007411956787109375,
          "mean_score_time": 0.0062852144241333004,
          "mean_test_score": 0.5555335968379446,
          "param_kneighborsclassifier__n_neighbors": 44,
          "params": {
           "kneighborsclassifier__n_neighbors": 44
          },
          "rank_test_score": 40,
          "split0_test_score": 0.4782608695652174,
          "split1_test_score": 0.5217391304347826,
          "split2_test_score": 0.5652173913043478,
          "split3_test_score": 0.5652173913043478,
          "split4_test_score": 0.5217391304347826,
          "split5_test_score": 0.5652173913043478,
          "split6_test_score": 0.5652173913043478,
          "split7_test_score": 0.6818181818181818,
          "split8_test_score": 0.5454545454545454,
          "split9_test_score": 0.5454545454545454,
          "std_fit_time": 0.00046347686284244554,
          "std_score_time": 0.0002479050303312975,
          "std_test_score": 0.04978080027218674
         },
         {
          "mean_fit_time": 0.007606220245361328,
          "mean_score_time": 0.006575751304626465,
          "mean_test_score": 0.5555335968379446,
          "param_kneighborsclassifier__n_neighbors": 45,
          "params": {
           "kneighborsclassifier__n_neighbors": 45
          },
          "rank_test_score": 40,
          "split0_test_score": 0.4782608695652174,
          "split1_test_score": 0.5217391304347826,
          "split2_test_score": 0.6086956521739131,
          "split3_test_score": 0.5652173913043478,
          "split4_test_score": 0.5217391304347826,
          "split5_test_score": 0.5652173913043478,
          "split6_test_score": 0.5217391304347826,
          "split7_test_score": 0.6818181818181818,
          "split8_test_score": 0.5454545454545454,
          "split9_test_score": 0.5454545454545454,
          "std_fit_time": 0.0002332218242687922,
          "std_score_time": 0.0003102965378290895,
          "std_test_score": 0.05344342718602299
         },
         {
          "mean_fit_time": 0.007614660263061524,
          "mean_score_time": 0.006528329849243164,
          "mean_test_score": 0.5600790513833991,
          "param_kneighborsclassifier__n_neighbors": 46,
          "params": {
           "kneighborsclassifier__n_neighbors": 46
          },
          "rank_test_score": 25,
          "split0_test_score": 0.4782608695652174,
          "split1_test_score": 0.5217391304347826,
          "split2_test_score": 0.6086956521739131,
          "split3_test_score": 0.5652173913043478,
          "split4_test_score": 0.5217391304347826,
          "split5_test_score": 0.5652173913043478,
          "split6_test_score": 0.5217391304347826,
          "split7_test_score": 0.6818181818181818,
          "split8_test_score": 0.5454545454545454,
          "split9_test_score": 0.5909090909090909,
          "std_fit_time": 0.00039342868216552467,
          "std_score_time": 0.00027531847879713305,
          "std_test_score": 0.054318713007229825
         },
         {
          "mean_fit_time": 0.010693597793579101,
          "mean_score_time": 0.00829935073852539,
          "mean_test_score": 0.5470355731225296,
          "param_kneighborsclassifier__n_neighbors": 47,
          "params": {
           "kneighborsclassifier__n_neighbors": 47
          },
          "rank_test_score": 50,
          "split0_test_score": 0.4782608695652174,
          "split1_test_score": 0.5217391304347826,
          "split2_test_score": 0.4782608695652174,
          "split3_test_score": 0.5652173913043478,
          "split4_test_score": 0.5217391304347826,
          "split5_test_score": 0.5652173913043478,
          "split6_test_score": 0.5217391304347826,
          "split7_test_score": 0.6818181818181818,
          "split8_test_score": 0.5454545454545454,
          "split9_test_score": 0.5909090909090909,
          "std_fit_time": 0.010700441593954408,
          "std_score_time": 0.006318501147054395,
          "std_test_score": 0.05668733860379147
         },
         {
          "mean_fit_time": 0.007297921180725098,
          "mean_score_time": 0.0065487146377563475,
          "mean_test_score": 0.5598814229249011,
          "param_kneighborsclassifier__n_neighbors": 48,
          "params": {
           "kneighborsclassifier__n_neighbors": 48
          },
          "rank_test_score": 28,
          "split0_test_score": 0.5217391304347826,
          "split1_test_score": 0.5217391304347826,
          "split2_test_score": 0.5652173913043478,
          "split3_test_score": 0.6086956521739131,
          "split4_test_score": 0.5217391304347826,
          "split5_test_score": 0.5652173913043478,
          "split6_test_score": 0.5217391304347826,
          "split7_test_score": 0.6363636363636364,
          "split8_test_score": 0.5454545454545454,
          "split9_test_score": 0.5909090909090909,
          "std_fit_time": 0.00036363799975380046,
          "std_score_time": 0.0010640416903546699,
          "std_test_score": 0.03908899070895159
         },
         {
          "mean_fit_time": 0.007378530502319336,
          "mean_score_time": 0.010704612731933594,
          "mean_test_score": 0.5555335968379447,
          "param_kneighborsclassifier__n_neighbors": 49,
          "params": {
           "kneighborsclassifier__n_neighbors": 49
          },
          "rank_test_score": 36,
          "split0_test_score": 0.4782608695652174,
          "split1_test_score": 0.5217391304347826,
          "split2_test_score": 0.5652173913043478,
          "split3_test_score": 0.6086956521739131,
          "split4_test_score": 0.5217391304347826,
          "split5_test_score": 0.5652173913043478,
          "split6_test_score": 0.5217391304347826,
          "split7_test_score": 0.6363636363636364,
          "split8_test_score": 0.5454545454545454,
          "split9_test_score": 0.5909090909090909,
          "std_fit_time": 0.0005143648393181405,
          "std_score_time": 0.013089923134103182,
          "std_test_score": 0.04505278713238513
         },
         {
          "mean_fit_time": 0.01412031650543213,
          "mean_score_time": 0.006886911392211914,
          "mean_test_score": 0.5468379446640316,
          "param_kneighborsclassifier__n_neighbors": 50,
          "params": {
           "kneighborsclassifier__n_neighbors": 50
          },
          "rank_test_score": 53,
          "split0_test_score": 0.4782608695652174,
          "split1_test_score": 0.5217391304347826,
          "split2_test_score": 0.5217391304347826,
          "split3_test_score": 0.6086956521739131,
          "split4_test_score": 0.5217391304347826,
          "split5_test_score": 0.5217391304347826,
          "split6_test_score": 0.5217391304347826,
          "split7_test_score": 0.6363636363636364,
          "split8_test_score": 0.5454545454545454,
          "split9_test_score": 0.5909090909090909,
          "std_fit_time": 0.013331966877824264,
          "std_score_time": 2.5264450848004967e-05,
          "std_test_score": 0.046516634427994794
         },
         {
          "mean_fit_time": 0.007977461814880371,
          "mean_score_time": 0.006852436065673828,
          "mean_test_score": 0.5557312252964427,
          "param_kneighborsclassifier__n_neighbors": 51,
          "params": {
           "kneighborsclassifier__n_neighbors": 51
          },
          "rank_test_score": 32,
          "split0_test_score": 0.4782608695652174,
          "split1_test_score": 0.5217391304347826,
          "split2_test_score": 0.5217391304347826,
          "split3_test_score": 0.5652173913043478,
          "split4_test_score": 0.5217391304347826,
          "split5_test_score": 0.5652173913043478,
          "split6_test_score": 0.5652173913043478,
          "split7_test_score": 0.6818181818181818,
          "split8_test_score": 0.5454545454545454,
          "split9_test_score": 0.5909090909090909,
          "std_fit_time": 7.055260178555383e-05,
          "std_score_time": 4.3814926384529855e-05,
          "std_test_score": 0.05194133091817422
         },
         {
          "mean_fit_time": 0.010691261291503907,
          "mean_score_time": 0.008660364151000976,
          "mean_test_score": 0.5644268774703558,
          "param_kneighborsclassifier__n_neighbors": 52,
          "params": {
           "kneighborsclassifier__n_neighbors": 52
          },
          "rank_test_score": 16,
          "split0_test_score": 0.5217391304347826,
          "split1_test_score": 0.5217391304347826,
          "split2_test_score": 0.5652173913043478,
          "split3_test_score": 0.5652173913043478,
          "split4_test_score": 0.5217391304347826,
          "split5_test_score": 0.5652173913043478,
          "split6_test_score": 0.5652173913043478,
          "split7_test_score": 0.6818181818181818,
          "split8_test_score": 0.5454545454545454,
          "split9_test_score": 0.5909090909090909,
          "std_fit_time": 0.004736565489173281,
          "std_score_time": 0.0037414179566080653,
          "std_test_score": 0.04506795561884627
         },
         {
          "mean_fit_time": 0.008240199089050293,
          "mean_score_time": 0.007067322731018066,
          "mean_test_score": 0.5555335968379447,
          "param_kneighborsclassifier__n_neighbors": 53,
          "params": {
           "kneighborsclassifier__n_neighbors": 53
          },
          "rank_test_score": 36,
          "split0_test_score": 0.5217391304347826,
          "split1_test_score": 0.5217391304347826,
          "split2_test_score": 0.5217391304347826,
          "split3_test_score": 0.5652173913043478,
          "split4_test_score": 0.5217391304347826,
          "split5_test_score": 0.5652173913043478,
          "split6_test_score": 0.5652173913043478,
          "split7_test_score": 0.6363636363636364,
          "split8_test_score": 0.5454545454545454,
          "split9_test_score": 0.5909090909090909,
          "std_fit_time": 0.00011885807991872262,
          "std_score_time": 4.949919393347168e-05,
          "std_test_score": 0.03568767239677058
         },
         {
          "mean_fit_time": 0.00821230411529541,
          "mean_score_time": 0.007011580467224121,
          "mean_test_score": 0.55098814229249,
          "param_kneighborsclassifier__n_neighbors": 54,
          "params": {
           "kneighborsclassifier__n_neighbors": 54
          },
          "rank_test_score": 48,
          "split0_test_score": 0.5217391304347826,
          "split1_test_score": 0.5217391304347826,
          "split2_test_score": 0.5217391304347826,
          "split3_test_score": 0.5652173913043478,
          "split4_test_score": 0.5217391304347826,
          "split5_test_score": 0.5652173913043478,
          "split6_test_score": 0.5652173913043478,
          "split7_test_score": 0.6363636363636364,
          "split8_test_score": 0.5454545454545454,
          "split9_test_score": 0.5454545454545454,
          "std_fit_time": 9.958167535461652e-05,
          "std_score_time": 0.00017850528304889175,
          "std_test_score": 0.033733736432176864
         },
         {
          "mean_fit_time": 0.007156157493591308,
          "mean_score_time": 0.006115126609802246,
          "mean_test_score": 0.5422924901185769,
          "param_kneighborsclassifier__n_neighbors": 55,
          "params": {
           "kneighborsclassifier__n_neighbors": 55
          },
          "rank_test_score": 89,
          "split0_test_score": 0.4782608695652174,
          "split1_test_score": 0.5217391304347826,
          "split2_test_score": 0.5217391304347826,
          "split3_test_score": 0.5217391304347826,
          "split4_test_score": 0.5217391304347826,
          "split5_test_score": 0.5652173913043478,
          "split6_test_score": 0.5652173913043478,
          "split7_test_score": 0.6363636363636364,
          "split8_test_score": 0.5454545454545454,
          "split9_test_score": 0.5454545454545454,
          "std_fit_time": 0.00031334216430925493,
          "std_score_time": 9.932673954849665e-05,
          "std_test_score": 0.039636209127973665
         },
         {
          "mean_fit_time": 0.00713193416595459,
          "mean_score_time": 0.0061339855194091795,
          "mean_test_score": 0.5555335968379446,
          "param_kneighborsclassifier__n_neighbors": 56,
          "params": {
           "kneighborsclassifier__n_neighbors": 56
          },
          "rank_test_score": 40,
          "split0_test_score": 0.4782608695652174,
          "split1_test_score": 0.5217391304347826,
          "split2_test_score": 0.5652173913043478,
          "split3_test_score": 0.5652173913043478,
          "split4_test_score": 0.5217391304347826,
          "split5_test_score": 0.5652173913043478,
          "split6_test_score": 0.5652173913043478,
          "split7_test_score": 0.6818181818181818,
          "split8_test_score": 0.5454545454545454,
          "split9_test_score": 0.5454545454545454,
          "std_fit_time": 0.00016052669106929622,
          "std_score_time": 0.00016366277356445543,
          "std_test_score": 0.04978080027218674
         },
         {
          "mean_fit_time": 0.007277679443359375,
          "mean_score_time": 0.00633389949798584,
          "mean_test_score": 0.5555335968379446,
          "param_kneighborsclassifier__n_neighbors": 57,
          "params": {
           "kneighborsclassifier__n_neighbors": 57
          },
          "rank_test_score": 40,
          "split0_test_score": 0.5217391304347826,
          "split1_test_score": 0.5217391304347826,
          "split2_test_score": 0.5652173913043478,
          "split3_test_score": 0.5652173913043478,
          "split4_test_score": 0.5217391304347826,
          "split5_test_score": 0.5652173913043478,
          "split6_test_score": 0.5217391304347826,
          "split7_test_score": 0.6818181818181818,
          "split8_test_score": 0.5454545454545454,
          "split9_test_score": 0.5454545454545454,
          "std_fit_time": 0.0002760728978121372,
          "std_score_time": 0.00030176474921973995,
          "std_test_score": 0.04582637059697129
         },
         {
          "mean_fit_time": 0.007526516914367676,
          "mean_score_time": 0.006501555442810059,
          "mean_test_score": 0.5598814229249012,
          "param_kneighborsclassifier__n_neighbors": 58,
          "params": {
           "kneighborsclassifier__n_neighbors": 58
          },
          "rank_test_score": 27,
          "split0_test_score": 0.5217391304347826,
          "split1_test_score": 0.5217391304347826,
          "split2_test_score": 0.5652173913043478,
          "split3_test_score": 0.6086956521739131,
          "split4_test_score": 0.5217391304347826,
          "split5_test_score": 0.5217391304347826,
          "split6_test_score": 0.5652173913043478,
          "split7_test_score": 0.6818181818181818,
          "split8_test_score": 0.5454545454545454,
          "split9_test_score": 0.5454545454545454,
          "std_fit_time": 0.0002766853362919368,
          "std_score_time": 0.0002688997208907776,
          "std_test_score": 0.04852211326432762
         },
         {
          "mean_fit_time": 0.007232284545898438,
          "mean_score_time": 0.006165313720703125,
          "mean_test_score": 0.5557312252964427,
          "param_kneighborsclassifier__n_neighbors": 59,
          "params": {
           "kneighborsclassifier__n_neighbors": 59
          },
          "rank_test_score": 32,
          "split0_test_score": 0.5217391304347826,
          "split1_test_score": 0.5217391304347826,
          "split2_test_score": 0.5652173913043478,
          "split3_test_score": 0.5652173913043478,
          "split4_test_score": 0.5217391304347826,
          "split5_test_score": 0.5217391304347826,
          "split6_test_score": 0.5217391304347826,
          "split7_test_score": 0.6818181818181818,
          "split8_test_score": 0.5454545454545454,
          "split9_test_score": 0.5909090909090909,
          "std_fit_time": 0.00024696952378951663,
          "std_score_time": 0.00013430780301009363,
          "std_test_score": 0.04816461381453077
         },
         {
          "mean_fit_time": 0.007199907302856445,
          "mean_score_time": 0.00614619255065918,
          "mean_test_score": 0.5644268774703558,
          "param_kneighborsclassifier__n_neighbors": 60,
          "params": {
           "kneighborsclassifier__n_neighbors": 60
          },
          "rank_test_score": 16,
          "split0_test_score": 0.5217391304347826,
          "split1_test_score": 0.5217391304347826,
          "split2_test_score": 0.5652173913043478,
          "split3_test_score": 0.6086956521739131,
          "split4_test_score": 0.5217391304347826,
          "split5_test_score": 0.5652173913043478,
          "split6_test_score": 0.5217391304347826,
          "split7_test_score": 0.6818181818181818,
          "split8_test_score": 0.5454545454545454,
          "split9_test_score": 0.5909090909090909,
          "std_fit_time": 0.0002413115979642974,
          "std_score_time": 0.00015596278506163538,
          "std_test_score": 0.04908352531461743
         },
         {
          "mean_fit_time": 0.007067990303039551,
          "mean_score_time": 0.006095337867736817,
          "mean_test_score": 0.5642292490118577,
          "param_kneighborsclassifier__n_neighbors": 61,
          "params": {
           "kneighborsclassifier__n_neighbors": 61
          },
          "rank_test_score": 20,
          "split0_test_score": 0.5652173913043478,
          "split1_test_score": 0.5217391304347826,
          "split2_test_score": 0.5652173913043478,
          "split3_test_score": 0.6086956521739131,
          "split4_test_score": 0.5217391304347826,
          "split5_test_score": 0.5652173913043478,
          "split6_test_score": 0.5217391304347826,
          "split7_test_score": 0.6363636363636364,
          "split8_test_score": 0.5454545454545454,
          "split9_test_score": 0.5909090909090909,
          "std_fit_time": 9.970151013682812e-05,
          "std_score_time": 6.585577345424817e-05,
          "std_test_score": 0.03696497546565605
         },
         {
          "mean_fit_time": 0.007202029228210449,
          "mean_score_time": 0.006293749809265137,
          "mean_test_score": 0.551185770750988,
          "param_kneighborsclassifier__n_neighbors": 62,
          "params": {
           "kneighborsclassifier__n_neighbors": 62
          },
          "rank_test_score": 46,
          "split0_test_score": 0.5217391304347826,
          "split1_test_score": 0.5217391304347826,
          "split2_test_score": 0.5217391304347826,
          "split3_test_score": 0.5652173913043478,
          "split4_test_score": 0.5217391304347826,
          "split5_test_score": 0.5652173913043478,
          "split6_test_score": 0.5217391304347826,
          "split7_test_score": 0.6363636363636364,
          "split8_test_score": 0.5454545454545454,
          "split9_test_score": 0.5909090909090909,
          "std_fit_time": 0.000274325773316016,
          "std_score_time": 0.0002521378873544767,
          "std_test_score": 0.036871877872404216
         },
         {
          "mean_fit_time": 0.007620048522949219,
          "mean_score_time": 0.010953807830810547,
          "mean_test_score": 0.5468379446640316,
          "param_kneighborsclassifier__n_neighbors": 63,
          "params": {
           "kneighborsclassifier__n_neighbors": 63
          },
          "rank_test_score": 53,
          "split0_test_score": 0.5217391304347826,
          "split1_test_score": 0.5217391304347826,
          "split2_test_score": 0.5217391304347826,
          "split3_test_score": 0.5217391304347826,
          "split4_test_score": 0.5217391304347826,
          "split5_test_score": 0.5652173913043478,
          "split6_test_score": 0.5217391304347826,
          "split7_test_score": 0.6363636363636364,
          "split8_test_score": 0.5454545454545454,
          "split9_test_score": 0.5909090909090909,
          "std_fit_time": 0.0002213288814352869,
          "std_score_time": 0.010483266382345272,
          "std_test_score": 0.0375187101485502
         },
         {
          "mean_fit_time": 0.007028532028198242,
          "mean_score_time": 0.006087851524353027,
          "mean_test_score": 0.5509881422924902,
          "param_kneighborsclassifier__n_neighbors": 64,
          "params": {
           "kneighborsclassifier__n_neighbors": 64
          },
          "rank_test_score": 47,
          "split0_test_score": 0.5652173913043478,
          "split1_test_score": 0.5217391304347826,
          "split2_test_score": 0.5217391304347826,
          "split3_test_score": 0.5652173913043478,
          "split4_test_score": 0.5217391304347826,
          "split5_test_score": 0.5652173913043478,
          "split6_test_score": 0.5217391304347826,
          "split7_test_score": 0.5909090909090909,
          "split8_test_score": 0.5454545454545454,
          "split9_test_score": 0.5909090909090909,
          "std_fit_time": 6.040736404900519e-05,
          "std_score_time": 6.305745945154147e-05,
          "std_test_score": 0.026921029571316726
         },
         {
          "mean_fit_time": 0.010101962089538574,
          "mean_score_time": 0.00822296142578125,
          "mean_test_score": 0.5466403162055335,
          "param_kneighborsclassifier__n_neighbors": 65,
          "params": {
           "kneighborsclassifier__n_neighbors": 65
          },
          "rank_test_score": 55,
          "split0_test_score": 0.5217391304347826,
          "split1_test_score": 0.5217391304347826,
          "split2_test_score": 0.5217391304347826,
          "split3_test_score": 0.5652173913043478,
          "split4_test_score": 0.5217391304347826,
          "split5_test_score": 0.5652173913043478,
          "split6_test_score": 0.5217391304347826,
          "split7_test_score": 0.5909090909090909,
          "split8_test_score": 0.5454545454545454,
          "split9_test_score": 0.5909090909090909,
          "std_fit_time": 0.006100904850750969,
          "std_score_time": 0.004396524096462339,
          "std_test_score": 0.027769435684190203
         },
         {
          "mean_fit_time": 0.00868551731109619,
          "mean_score_time": 0.008565354347229003,
          "mean_test_score": 0.542292490118577,
          "param_kneighborsclassifier__n_neighbors": 66,
          "params": {
           "kneighborsclassifier__n_neighbors": 66
          },
          "rank_test_score": 87,
          "split0_test_score": 0.5217391304347826,
          "split1_test_score": 0.5217391304347826,
          "split2_test_score": 0.5217391304347826,
          "split3_test_score": 0.5217391304347826,
          "split4_test_score": 0.5217391304347826,
          "split5_test_score": 0.5652173913043478,
          "split6_test_score": 0.5217391304347826,
          "split7_test_score": 0.5909090909090909,
          "split8_test_score": 0.5454545454545454,
          "split9_test_score": 0.5909090909090909,
          "std_fit_time": 0.004728133887007132,
          "std_score_time": 0.00482271498130222,
          "std_test_score": 0.02792371930621355
         },
         {
          "mean_fit_time": 0.03623838424682617,
          "mean_score_time": 0.029497766494750978,
          "mean_test_score": 0.5466403162055335,
          "param_kneighborsclassifier__n_neighbors": 67,
          "params": {
           "kneighborsclassifier__n_neighbors": 67
          },
          "rank_test_score": 55,
          "split0_test_score": 0.5217391304347826,
          "split1_test_score": 0.5652173913043478,
          "split2_test_score": 0.5217391304347826,
          "split3_test_score": 0.5217391304347826,
          "split4_test_score": 0.5217391304347826,
          "split5_test_score": 0.5652173913043478,
          "split6_test_score": 0.5217391304347826,
          "split7_test_score": 0.5909090909090909,
          "split8_test_score": 0.5454545454545454,
          "split9_test_score": 0.5909090909090909,
          "std_fit_time": 0.020865309034189455,
          "std_score_time": 0.019473141010534996,
          "std_test_score": 0.027769435684190203
         },
         {
          "mean_fit_time": 0.04727578163146973,
          "mean_score_time": 0.034071946144104005,
          "mean_test_score": 0.542292490118577,
          "param_kneighborsclassifier__n_neighbors": 68,
          "params": {
           "kneighborsclassifier__n_neighbors": 68
          },
          "rank_test_score": 87,
          "split0_test_score": 0.5217391304347826,
          "split1_test_score": 0.5217391304347826,
          "split2_test_score": 0.5217391304347826,
          "split3_test_score": 0.5217391304347826,
          "split4_test_score": 0.5217391304347826,
          "split5_test_score": 0.5652173913043478,
          "split6_test_score": 0.5217391304347826,
          "split7_test_score": 0.5909090909090909,
          "split8_test_score": 0.5454545454545454,
          "split9_test_score": 0.5909090909090909,
          "std_fit_time": 0.03196395855401023,
          "std_score_time": 0.024622872081610344,
          "std_test_score": 0.02792371930621355
         },
         {
          "mean_fit_time": 0.03322575092315674,
          "mean_score_time": 0.019260191917419435,
          "mean_test_score": 0.5466403162055335,
          "param_kneighborsclassifier__n_neighbors": 69,
          "params": {
           "kneighborsclassifier__n_neighbors": 69
          },
          "rank_test_score": 55,
          "split0_test_score": 0.5217391304347826,
          "split1_test_score": 0.5652173913043478,
          "split2_test_score": 0.5217391304347826,
          "split3_test_score": 0.5217391304347826,
          "split4_test_score": 0.5217391304347826,
          "split5_test_score": 0.5652173913043478,
          "split6_test_score": 0.5217391304347826,
          "split7_test_score": 0.5909090909090909,
          "split8_test_score": 0.5454545454545454,
          "split9_test_score": 0.5909090909090909,
          "std_fit_time": 0.01803478438494991,
          "std_score_time": 0.0002947174106150402,
          "std_test_score": 0.027769435684190203
         },
         {
          "mean_fit_time": 0.022282862663269044,
          "mean_score_time": 0.019356203079223634,
          "mean_test_score": 0.5468379446640317,
          "param_kneighborsclassifier__n_neighbors": 70,
          "params": {
           "kneighborsclassifier__n_neighbors": 70
          },
          "rank_test_score": 51,
          "split0_test_score": 0.5217391304347826,
          "split1_test_score": 0.5217391304347826,
          "split2_test_score": 0.5217391304347826,
          "split3_test_score": 0.5217391304347826,
          "split4_test_score": 0.5217391304347826,
          "split5_test_score": 0.5652173913043478,
          "split6_test_score": 0.5217391304347826,
          "split7_test_score": 0.5909090909090909,
          "split8_test_score": 0.5909090909090909,
          "split9_test_score": 0.5909090909090909,
          "std_fit_time": 0.00025730270579962404,
          "std_score_time": 0.0001351981684704979,
          "std_test_score": 0.03153459165289852
         },
         {
          "mean_fit_time": 0.01009805202484131,
          "mean_score_time": 0.008794283866882325,
          "mean_test_score": 0.5468379446640317,
          "param_kneighborsclassifier__n_neighbors": 71,
          "params": {
           "kneighborsclassifier__n_neighbors": 71
          },
          "rank_test_score": 51,
          "split0_test_score": 0.5217391304347826,
          "split1_test_score": 0.5217391304347826,
          "split2_test_score": 0.5217391304347826,
          "split3_test_score": 0.5217391304347826,
          "split4_test_score": 0.5217391304347826,
          "split5_test_score": 0.5652173913043478,
          "split6_test_score": 0.5217391304347826,
          "split7_test_score": 0.5909090909090909,
          "split8_test_score": 0.5909090909090909,
          "split9_test_score": 0.5909090909090909,
          "std_fit_time": 0.006024323846535245,
          "std_score_time": 0.0052643297626177865,
          "std_test_score": 0.03153459165289852
         },
         {
          "mean_fit_time": 0.007720589637756348,
          "mean_score_time": 0.006605625152587891,
          "mean_test_score": 0.542490118577075,
          "param_kneighborsclassifier__n_neighbors": 72,
          "params": {
           "kneighborsclassifier__n_neighbors": 72
          },
          "rank_test_score": 59,
          "split0_test_score": 0.5217391304347826,
          "split1_test_score": 0.5217391304347826,
          "split2_test_score": 0.5217391304347826,
          "split3_test_score": 0.5217391304347826,
          "split4_test_score": 0.5217391304347826,
          "split5_test_score": 0.5217391304347826,
          "split6_test_score": 0.5217391304347826,
          "split7_test_score": 0.5909090909090909,
          "split8_test_score": 0.5909090909090909,
          "split9_test_score": 0.5909090909090909,
          "std_fit_time": 0.0006998723947174464,
          "std_score_time": 0.0005551385727767201,
          "std_test_score": 0.031697657969062154
         },
         {
          "mean_fit_time": 0.007058548927307129,
          "mean_score_time": 0.0061150074005126955,
          "mean_test_score": 0.542490118577075,
          "param_kneighborsclassifier__n_neighbors": 73,
          "params": {
           "kneighborsclassifier__n_neighbors": 73
          },
          "rank_test_score": 59,
          "split0_test_score": 0.5217391304347826,
          "split1_test_score": 0.5217391304347826,
          "split2_test_score": 0.5217391304347826,
          "split3_test_score": 0.5217391304347826,
          "split4_test_score": 0.5217391304347826,
          "split5_test_score": 0.5217391304347826,
          "split6_test_score": 0.5217391304347826,
          "split7_test_score": 0.5909090909090909,
          "split8_test_score": 0.5909090909090909,
          "split9_test_score": 0.5909090909090909,
          "std_fit_time": 0.0001199468232691524,
          "std_score_time": 0.00010719246287231686,
          "std_test_score": 0.031697657969062154
         },
         {
          "mean_fit_time": 0.007076883316040039,
          "mean_score_time": 0.0061579465866088865,
          "mean_test_score": 0.542490118577075,
          "param_kneighborsclassifier__n_neighbors": 74,
          "params": {
           "kneighborsclassifier__n_neighbors": 74
          },
          "rank_test_score": 59,
          "split0_test_score": 0.5217391304347826,
          "split1_test_score": 0.5217391304347826,
          "split2_test_score": 0.5217391304347826,
          "split3_test_score": 0.5217391304347826,
          "split4_test_score": 0.5217391304347826,
          "split5_test_score": 0.5217391304347826,
          "split6_test_score": 0.5217391304347826,
          "split7_test_score": 0.5909090909090909,
          "split8_test_score": 0.5909090909090909,
          "split9_test_score": 0.5909090909090909,
          "std_fit_time": 0.0001255420054098732,
          "std_score_time": 6.38738502445723e-05,
          "std_test_score": 0.031697657969062154
         },
         {
          "mean_fit_time": 0.007134079933166504,
          "mean_score_time": 0.006158900260925293,
          "mean_test_score": 0.542490118577075,
          "param_kneighborsclassifier__n_neighbors": 75,
          "params": {
           "kneighborsclassifier__n_neighbors": 75
          },
          "rank_test_score": 59,
          "split0_test_score": 0.5217391304347826,
          "split1_test_score": 0.5217391304347826,
          "split2_test_score": 0.5217391304347826,
          "split3_test_score": 0.5217391304347826,
          "split4_test_score": 0.5217391304347826,
          "split5_test_score": 0.5217391304347826,
          "split6_test_score": 0.5217391304347826,
          "split7_test_score": 0.5909090909090909,
          "split8_test_score": 0.5909090909090909,
          "split9_test_score": 0.5909090909090909,
          "std_fit_time": 0.00018436732365943625,
          "std_score_time": 7.317058424014843e-05,
          "std_test_score": 0.031697657969062154
         },
         {
          "mean_fit_time": 0.007121944427490234,
          "mean_score_time": 0.006164002418518067,
          "mean_test_score": 0.542490118577075,
          "param_kneighborsclassifier__n_neighbors": 76,
          "params": {
           "kneighborsclassifier__n_neighbors": 76
          },
          "rank_test_score": 59,
          "split0_test_score": 0.5217391304347826,
          "split1_test_score": 0.5217391304347826,
          "split2_test_score": 0.5217391304347826,
          "split3_test_score": 0.5217391304347826,
          "split4_test_score": 0.5217391304347826,
          "split5_test_score": 0.5217391304347826,
          "split6_test_score": 0.5217391304347826,
          "split7_test_score": 0.5909090909090909,
          "split8_test_score": 0.5909090909090909,
          "split9_test_score": 0.5909090909090909,
          "std_fit_time": 0.00010591959441302157,
          "std_score_time": 0.00010744248287436666,
          "std_test_score": 0.031697657969062154
         },
         {
          "mean_fit_time": 0.007102870941162109,
          "mean_score_time": 0.006154942512512207,
          "mean_test_score": 0.542490118577075,
          "param_kneighborsclassifier__n_neighbors": 77,
          "params": {
           "kneighborsclassifier__n_neighbors": 77
          },
          "rank_test_score": 59,
          "split0_test_score": 0.5217391304347826,
          "split1_test_score": 0.5217391304347826,
          "split2_test_score": 0.5217391304347826,
          "split3_test_score": 0.5217391304347826,
          "split4_test_score": 0.5217391304347826,
          "split5_test_score": 0.5217391304347826,
          "split6_test_score": 0.5217391304347826,
          "split7_test_score": 0.5909090909090909,
          "split8_test_score": 0.5909090909090909,
          "split9_test_score": 0.5909090909090909,
          "std_fit_time": 0.0001617456381986431,
          "std_score_time": 7.93802154486636e-05,
          "std_test_score": 0.031697657969062154
         },
         {
          "mean_fit_time": 0.007542085647583008,
          "mean_score_time": 0.00657498836517334,
          "mean_test_score": 0.542490118577075,
          "param_kneighborsclassifier__n_neighbors": 78,
          "params": {
           "kneighborsclassifier__n_neighbors": 78
          },
          "rank_test_score": 59,
          "split0_test_score": 0.5217391304347826,
          "split1_test_score": 0.5217391304347826,
          "split2_test_score": 0.5217391304347826,
          "split3_test_score": 0.5217391304347826,
          "split4_test_score": 0.5217391304347826,
          "split5_test_score": 0.5217391304347826,
          "split6_test_score": 0.5217391304347826,
          "split7_test_score": 0.5909090909090909,
          "split8_test_score": 0.5909090909090909,
          "split9_test_score": 0.5909090909090909,
          "std_fit_time": 0.0005124568273669035,
          "std_score_time": 0.0002545196277398624,
          "std_test_score": 0.031697657969062154
         },
         {
          "mean_fit_time": 0.0074930906295776365,
          "mean_score_time": 0.006534051895141601,
          "mean_test_score": 0.542490118577075,
          "param_kneighborsclassifier__n_neighbors": 79,
          "params": {
           "kneighborsclassifier__n_neighbors": 79
          },
          "rank_test_score": 59,
          "split0_test_score": 0.5217391304347826,
          "split1_test_score": 0.5217391304347826,
          "split2_test_score": 0.5217391304347826,
          "split3_test_score": 0.5217391304347826,
          "split4_test_score": 0.5217391304347826,
          "split5_test_score": 0.5217391304347826,
          "split6_test_score": 0.5217391304347826,
          "split7_test_score": 0.5909090909090909,
          "split8_test_score": 0.5909090909090909,
          "split9_test_score": 0.5909090909090909,
          "std_fit_time": 0.0005292573701221407,
          "std_score_time": 0.0004394299266945626,
          "std_test_score": 0.031697657969062154
         },
         {
          "mean_fit_time": 0.00710296630859375,
          "mean_score_time": 0.006134915351867676,
          "mean_test_score": 0.542490118577075,
          "param_kneighborsclassifier__n_neighbors": 80,
          "params": {
           "kneighborsclassifier__n_neighbors": 80
          },
          "rank_test_score": 59,
          "split0_test_score": 0.5217391304347826,
          "split1_test_score": 0.5217391304347826,
          "split2_test_score": 0.5217391304347826,
          "split3_test_score": 0.5217391304347826,
          "split4_test_score": 0.5217391304347826,
          "split5_test_score": 0.5217391304347826,
          "split6_test_score": 0.5217391304347826,
          "split7_test_score": 0.5909090909090909,
          "split8_test_score": 0.5909090909090909,
          "split9_test_score": 0.5909090909090909,
          "std_fit_time": 0.00013049788166534325,
          "std_score_time": 7.925142951352787e-05,
          "std_test_score": 0.031697657969062154
         },
         {
          "mean_fit_time": 0.0070449113845825195,
          "mean_score_time": 0.006138300895690918,
          "mean_test_score": 0.542490118577075,
          "param_kneighborsclassifier__n_neighbors": 81,
          "params": {
           "kneighborsclassifier__n_neighbors": 81
          },
          "rank_test_score": 59,
          "split0_test_score": 0.5217391304347826,
          "split1_test_score": 0.5217391304347826,
          "split2_test_score": 0.5217391304347826,
          "split3_test_score": 0.5217391304347826,
          "split4_test_score": 0.5217391304347826,
          "split5_test_score": 0.5217391304347826,
          "split6_test_score": 0.5217391304347826,
          "split7_test_score": 0.5909090909090909,
          "split8_test_score": 0.5909090909090909,
          "split9_test_score": 0.5909090909090909,
          "std_fit_time": 8.562827415623447e-05,
          "std_score_time": 8.34516421506467e-05,
          "std_test_score": 0.031697657969062154
         },
         {
          "mean_fit_time": 0.007090878486633301,
          "mean_score_time": 0.006190848350524902,
          "mean_test_score": 0.542490118577075,
          "param_kneighborsclassifier__n_neighbors": 82,
          "params": {
           "kneighborsclassifier__n_neighbors": 82
          },
          "rank_test_score": 59,
          "split0_test_score": 0.5217391304347826,
          "split1_test_score": 0.5217391304347826,
          "split2_test_score": 0.5217391304347826,
          "split3_test_score": 0.5217391304347826,
          "split4_test_score": 0.5217391304347826,
          "split5_test_score": 0.5217391304347826,
          "split6_test_score": 0.5217391304347826,
          "split7_test_score": 0.5909090909090909,
          "split8_test_score": 0.5909090909090909,
          "split9_test_score": 0.5909090909090909,
          "std_fit_time": 0.00012176076983461655,
          "std_score_time": 0.0001147693178912371,
          "std_test_score": 0.031697657969062154
         },
         {
          "mean_fit_time": 0.007500672340393066,
          "mean_score_time": 0.00992119312286377,
          "mean_test_score": 0.542490118577075,
          "param_kneighborsclassifier__n_neighbors": 83,
          "params": {
           "kneighborsclassifier__n_neighbors": 83
          },
          "rank_test_score": 59,
          "split0_test_score": 0.5217391304347826,
          "split1_test_score": 0.5217391304347826,
          "split2_test_score": 0.5217391304347826,
          "split3_test_score": 0.5217391304347826,
          "split4_test_score": 0.5217391304347826,
          "split5_test_score": 0.5217391304347826,
          "split6_test_score": 0.5217391304347826,
          "split7_test_score": 0.5909090909090909,
          "split8_test_score": 0.5909090909090909,
          "split9_test_score": 0.5909090909090909,
          "std_fit_time": 0.0004561502670383314,
          "std_score_time": 0.010376738244239608,
          "std_test_score": 0.031697657969062154
         },
         {
          "mean_fit_time": 0.033767080307006835,
          "mean_score_time": 0.01428816318511963,
          "mean_test_score": 0.542490118577075,
          "param_kneighborsclassifier__n_neighbors": 84,
          "params": {
           "kneighborsclassifier__n_neighbors": 84
          },
          "rank_test_score": 59,
          "split0_test_score": 0.5217391304347826,
          "split1_test_score": 0.5217391304347826,
          "split2_test_score": 0.5217391304347826,
          "split3_test_score": 0.5217391304347826,
          "split4_test_score": 0.5217391304347826,
          "split5_test_score": 0.5217391304347826,
          "split6_test_score": 0.5217391304347826,
          "split7_test_score": 0.5909090909090909,
          "split8_test_score": 0.5909090909090909,
          "split9_test_score": 0.5909090909090909,
          "std_fit_time": 0.029953450870805136,
          "std_score_time": 0.006302471950159385,
          "std_test_score": 0.031697657969062154
         },
         {
          "mean_fit_time": 0.03735582828521729,
          "mean_score_time": 0.02751126289367676,
          "mean_test_score": 0.542490118577075,
          "param_kneighborsclassifier__n_neighbors": 85,
          "params": {
           "kneighborsclassifier__n_neighbors": 85
          },
          "rank_test_score": 59,
          "split0_test_score": 0.5217391304347826,
          "split1_test_score": 0.5217391304347826,
          "split2_test_score": 0.5217391304347826,
          "split3_test_score": 0.5217391304347826,
          "split4_test_score": 0.5217391304347826,
          "split5_test_score": 0.5217391304347826,
          "split6_test_score": 0.5217391304347826,
          "split7_test_score": 0.5909090909090909,
          "split8_test_score": 0.5909090909090909,
          "split9_test_score": 0.5909090909090909,
          "std_fit_time": 0.019485996121561714,
          "std_score_time": 0.016700696209320097,
          "std_test_score": 0.031697657969062154
         },
         {
          "mean_fit_time": 0.021858954429626466,
          "mean_score_time": 0.019067835807800294,
          "mean_test_score": 0.542490118577075,
          "param_kneighborsclassifier__n_neighbors": 86,
          "params": {
           "kneighborsclassifier__n_neighbors": 86
          },
          "rank_test_score": 59,
          "split0_test_score": 0.5217391304347826,
          "split1_test_score": 0.5217391304347826,
          "split2_test_score": 0.5217391304347826,
          "split3_test_score": 0.5217391304347826,
          "split4_test_score": 0.5217391304347826,
          "split5_test_score": 0.5217391304347826,
          "split6_test_score": 0.5217391304347826,
          "split7_test_score": 0.5909090909090909,
          "split8_test_score": 0.5909090909090909,
          "split9_test_score": 0.5909090909090909,
          "std_fit_time": 0.0011567213608313714,
          "std_score_time": 0.0009940049717685861,
          "std_test_score": 0.031697657969062154
         },
         {
          "mean_fit_time": 0.03404469490051269,
          "mean_score_time": 0.013965034484863281,
          "mean_test_score": 0.542490118577075,
          "param_kneighborsclassifier__n_neighbors": 87,
          "params": {
           "kneighborsclassifier__n_neighbors": 87
          },
          "rank_test_score": 59,
          "split0_test_score": 0.5217391304347826,
          "split1_test_score": 0.5217391304347826,
          "split2_test_score": 0.5217391304347826,
          "split3_test_score": 0.5217391304347826,
          "split4_test_score": 0.5217391304347826,
          "split5_test_score": 0.5217391304347826,
          "split6_test_score": 0.5217391304347826,
          "split7_test_score": 0.5909090909090909,
          "split8_test_score": 0.5909090909090909,
          "split9_test_score": 0.5909090909090909,
          "std_fit_time": 0.052742769360646584,
          "std_score_time": 0.004333476586039803,
          "std_test_score": 0.031697657969062154
         },
         {
          "mean_fit_time": 0.007714271545410156,
          "mean_score_time": 0.006656503677368164,
          "mean_test_score": 0.542490118577075,
          "param_kneighborsclassifier__n_neighbors": 88,
          "params": {
           "kneighborsclassifier__n_neighbors": 88
          },
          "rank_test_score": 59,
          "split0_test_score": 0.5217391304347826,
          "split1_test_score": 0.5217391304347826,
          "split2_test_score": 0.5217391304347826,
          "split3_test_score": 0.5217391304347826,
          "split4_test_score": 0.5217391304347826,
          "split5_test_score": 0.5217391304347826,
          "split6_test_score": 0.5217391304347826,
          "split7_test_score": 0.5909090909090909,
          "split8_test_score": 0.5909090909090909,
          "split9_test_score": 0.5909090909090909,
          "std_fit_time": 0.0005338221695149848,
          "std_score_time": 0.00045685964714720664,
          "std_test_score": 0.031697657969062154
         },
         {
          "mean_fit_time": 0.007279634475708008,
          "mean_score_time": 0.006261682510375977,
          "mean_test_score": 0.542490118577075,
          "param_kneighborsclassifier__n_neighbors": 89,
          "params": {
           "kneighborsclassifier__n_neighbors": 89
          },
          "rank_test_score": 59,
          "split0_test_score": 0.5217391304347826,
          "split1_test_score": 0.5217391304347826,
          "split2_test_score": 0.5217391304347826,
          "split3_test_score": 0.5217391304347826,
          "split4_test_score": 0.5217391304347826,
          "split5_test_score": 0.5217391304347826,
          "split6_test_score": 0.5217391304347826,
          "split7_test_score": 0.5909090909090909,
          "split8_test_score": 0.5909090909090909,
          "split9_test_score": 0.5909090909090909,
          "std_fit_time": 0.00014495939800333228,
          "std_score_time": 0.00012731066348062978,
          "std_test_score": 0.031697657969062154
         },
         {
          "mean_fit_time": 0.00722963809967041,
          "mean_score_time": 0.006380724906921387,
          "mean_test_score": 0.542490118577075,
          "param_kneighborsclassifier__n_neighbors": 90,
          "params": {
           "kneighborsclassifier__n_neighbors": 90
          },
          "rank_test_score": 59,
          "split0_test_score": 0.5217391304347826,
          "split1_test_score": 0.5217391304347826,
          "split2_test_score": 0.5217391304347826,
          "split3_test_score": 0.5217391304347826,
          "split4_test_score": 0.5217391304347826,
          "split5_test_score": 0.5217391304347826,
          "split6_test_score": 0.5217391304347826,
          "split7_test_score": 0.5909090909090909,
          "split8_test_score": 0.5909090909090909,
          "split9_test_score": 0.5909090909090909,
          "std_fit_time": 0.00018330435487890344,
          "std_score_time": 0.00016200401398168922,
          "std_test_score": 0.031697657969062154
         },
         {
          "mean_fit_time": 0.007120442390441894,
          "mean_score_time": 0.006185221672058106,
          "mean_test_score": 0.542490118577075,
          "param_kneighborsclassifier__n_neighbors": 91,
          "params": {
           "kneighborsclassifier__n_neighbors": 91
          },
          "rank_test_score": 59,
          "split0_test_score": 0.5217391304347826,
          "split1_test_score": 0.5217391304347826,
          "split2_test_score": 0.5217391304347826,
          "split3_test_score": 0.5217391304347826,
          "split4_test_score": 0.5217391304347826,
          "split5_test_score": 0.5217391304347826,
          "split6_test_score": 0.5217391304347826,
          "split7_test_score": 0.5909090909090909,
          "split8_test_score": 0.5909090909090909,
          "split9_test_score": 0.5909090909090909,
          "std_fit_time": 0.00013319565197834107,
          "std_score_time": 8.35661745262677e-05,
          "std_test_score": 0.031697657969062154
         },
         {
          "mean_fit_time": 0.00709843635559082,
          "mean_score_time": 0.006139993667602539,
          "mean_test_score": 0.542490118577075,
          "param_kneighborsclassifier__n_neighbors": 92,
          "params": {
           "kneighborsclassifier__n_neighbors": 92
          },
          "rank_test_score": 59,
          "split0_test_score": 0.5217391304347826,
          "split1_test_score": 0.5217391304347826,
          "split2_test_score": 0.5217391304347826,
          "split3_test_score": 0.5217391304347826,
          "split4_test_score": 0.5217391304347826,
          "split5_test_score": 0.5217391304347826,
          "split6_test_score": 0.5217391304347826,
          "split7_test_score": 0.5909090909090909,
          "split8_test_score": 0.5909090909090909,
          "split9_test_score": 0.5909090909090909,
          "std_fit_time": 8.576503202787549e-05,
          "std_score_time": 7.729764189997812e-05,
          "std_test_score": 0.031697657969062154
         },
         {
          "mean_fit_time": 0.0071536779403686525,
          "mean_score_time": 0.006207084655761719,
          "mean_test_score": 0.542490118577075,
          "param_kneighborsclassifier__n_neighbors": 93,
          "params": {
           "kneighborsclassifier__n_neighbors": 93
          },
          "rank_test_score": 59,
          "split0_test_score": 0.5217391304347826,
          "split1_test_score": 0.5217391304347826,
          "split2_test_score": 0.5217391304347826,
          "split3_test_score": 0.5217391304347826,
          "split4_test_score": 0.5217391304347826,
          "split5_test_score": 0.5217391304347826,
          "split6_test_score": 0.5217391304347826,
          "split7_test_score": 0.5909090909090909,
          "split8_test_score": 0.5909090909090909,
          "split9_test_score": 0.5909090909090909,
          "std_fit_time": 0.00017142279423319845,
          "std_score_time": 0.000103552256678264,
          "std_test_score": 0.031697657969062154
         },
         {
          "mean_fit_time": 0.007126450538635254,
          "mean_score_time": 0.006277632713317871,
          "mean_test_score": 0.542490118577075,
          "param_kneighborsclassifier__n_neighbors": 94,
          "params": {
           "kneighborsclassifier__n_neighbors": 94
          },
          "rank_test_score": 59,
          "split0_test_score": 0.5217391304347826,
          "split1_test_score": 0.5217391304347826,
          "split2_test_score": 0.5217391304347826,
          "split3_test_score": 0.5217391304347826,
          "split4_test_score": 0.5217391304347826,
          "split5_test_score": 0.5217391304347826,
          "split6_test_score": 0.5217391304347826,
          "split7_test_score": 0.5909090909090909,
          "split8_test_score": 0.5909090909090909,
          "split9_test_score": 0.5909090909090909,
          "std_fit_time": 0.00018679651390201565,
          "std_score_time": 0.00018627010680387994,
          "std_test_score": 0.031697657969062154
         },
         {
          "mean_fit_time": 0.007196164131164551,
          "mean_score_time": 0.006238889694213867,
          "mean_test_score": 0.542490118577075,
          "param_kneighborsclassifier__n_neighbors": 95,
          "params": {
           "kneighborsclassifier__n_neighbors": 95
          },
          "rank_test_score": 59,
          "split0_test_score": 0.5217391304347826,
          "split1_test_score": 0.5217391304347826,
          "split2_test_score": 0.5217391304347826,
          "split3_test_score": 0.5217391304347826,
          "split4_test_score": 0.5217391304347826,
          "split5_test_score": 0.5217391304347826,
          "split6_test_score": 0.5217391304347826,
          "split7_test_score": 0.5909090909090909,
          "split8_test_score": 0.5909090909090909,
          "split9_test_score": 0.5909090909090909,
          "std_fit_time": 0.00012797470969600129,
          "std_score_time": 9.267068561858723e-05,
          "std_test_score": 0.031697657969062154
         },
         {
          "mean_fit_time": 0.007463765144348144,
          "mean_score_time": 0.006475496292114258,
          "mean_test_score": 0.542490118577075,
          "param_kneighborsclassifier__n_neighbors": 96,
          "params": {
           "kneighborsclassifier__n_neighbors": 96
          },
          "rank_test_score": 59,
          "split0_test_score": 0.5217391304347826,
          "split1_test_score": 0.5217391304347826,
          "split2_test_score": 0.5217391304347826,
          "split3_test_score": 0.5217391304347826,
          "split4_test_score": 0.5217391304347826,
          "split5_test_score": 0.5217391304347826,
          "split6_test_score": 0.5217391304347826,
          "split7_test_score": 0.5909090909090909,
          "split8_test_score": 0.5909090909090909,
          "split9_test_score": 0.5909090909090909,
          "std_fit_time": 0.0006063601346759634,
          "std_score_time": 0.0005837931641157084,
          "std_test_score": 0.031697657969062154
         },
         {
          "mean_fit_time": 0.007143926620483398,
          "mean_score_time": 0.006284070014953613,
          "mean_test_score": 0.542490118577075,
          "param_kneighborsclassifier__n_neighbors": 97,
          "params": {
           "kneighborsclassifier__n_neighbors": 97
          },
          "rank_test_score": 59,
          "split0_test_score": 0.5217391304347826,
          "split1_test_score": 0.5217391304347826,
          "split2_test_score": 0.5217391304347826,
          "split3_test_score": 0.5217391304347826,
          "split4_test_score": 0.5217391304347826,
          "split5_test_score": 0.5217391304347826,
          "split6_test_score": 0.5217391304347826,
          "split7_test_score": 0.5909090909090909,
          "split8_test_score": 0.5909090909090909,
          "split9_test_score": 0.5909090909090909,
          "std_fit_time": 0.0001554938774958935,
          "std_score_time": 0.0002346596770211107,
          "std_test_score": 0.031697657969062154
         },
         {
          "mean_fit_time": 0.009312772750854492,
          "mean_score_time": 0.0064159870147705075,
          "mean_test_score": 0.542490118577075,
          "param_kneighborsclassifier__n_neighbors": 98,
          "params": {
           "kneighborsclassifier__n_neighbors": 98
          },
          "rank_test_score": 59,
          "split0_test_score": 0.5217391304347826,
          "split1_test_score": 0.5217391304347826,
          "split2_test_score": 0.5217391304347826,
          "split3_test_score": 0.5217391304347826,
          "split4_test_score": 0.5217391304347826,
          "split5_test_score": 0.5217391304347826,
          "split6_test_score": 0.5217391304347826,
          "split7_test_score": 0.5909090909090909,
          "split8_test_score": 0.5909090909090909,
          "split9_test_score": 0.5909090909090909,
          "std_fit_time": 0.006371418371545248,
          "std_score_time": 0.0002553765762500292,
          "std_test_score": 0.031697657969062154
         },
         {
          "mean_fit_time": 0.012471389770507813,
          "mean_score_time": 0.008207249641418456,
          "mean_test_score": 0.542490118577075,
          "param_kneighborsclassifier__n_neighbors": 99,
          "params": {
           "kneighborsclassifier__n_neighbors": 99
          },
          "rank_test_score": 59,
          "split0_test_score": 0.5217391304347826,
          "split1_test_score": 0.5217391304347826,
          "split2_test_score": 0.5217391304347826,
          "split3_test_score": 0.5217391304347826,
          "split4_test_score": 0.5217391304347826,
          "split5_test_score": 0.5217391304347826,
          "split6_test_score": 0.5217391304347826,
          "split7_test_score": 0.5909090909090909,
          "split8_test_score": 0.5909090909090909,
          "split9_test_score": 0.5909090909090909,
          "std_fit_time": 0.01539613884875068,
          "std_score_time": 0.0054179706471850836,
          "std_test_score": 0.031697657969062154
         }
        ]
       },
       "encoding": {
        "x": {
         "field": "param_kneighborsclassifier__n_neighbors",
         "scale": {
          "zero": false
         },
         "title": "Neighbors",
         "type": "quantitative"
        },
        "y": {
         "field": "mean_test_score",
         "scale": {
          "zero": false
         },
         "title": "Mean Test Score",
         "type": "quantitative"
        }
       },
       "height": 300,
       "mark": {
        "point": true,
        "type": "line"
       },
       "title": "Grid Search",
       "width": 400
      },
      "image/png": "[encoded data removed]",
      "text/plain": [
       "<VegaLite 4 object>\n",
       "\n",
       "If you see this message, it means the renderer has not been properly enabled\n",
       "for the frontend that you are using. For more information, see\n",
       "https://altair-viz.github.io/user_guide/troubleshooting.html\n"
      ]
     },
     "execution_count": 29,
     "metadata": {},
     "output_type": "execute_result"
    }
   ],
   "source": [
    "accuracy_versus_k_grid = (\n",
    "    alt.Chart(accuracies_grid, title=\"Grid Search\")\n",
    "    .mark_line(point=True)\n",
    "    .encode(\n",
    "        x=alt.X(\n",
    "            \"param_kneighborsclassifier__n_neighbors\",\n",
    "            title=\"Neighbors\",\n",
    "            scale=alt.Scale(zero=False),\n",
    "        ),\n",
    "        y=alt.Y(\n",
    "            \"mean_test_score\", \n",
    "            title=\"Mean Test Score\", \n",
    "            scale=alt.Scale(zero=False)\n",
    "        ),\n",
    "    )\n",
    "    .configure_axis(labelFontSize=10, titleFontSize=15)\n",
    "    .properties(width=400, height=300)\n",
    ")\n",
    "\n",
    "accuracy_versus_k_grid"
   ]
  },
  {
   "cell_type": "markdown",
   "id": "47949735-c365-472c-af26-e3d6577fa8ca",
   "metadata": {},
   "source": [
    "From the graph, we can see that K = 55 and 56 has the greatest accuracy. Therefore, when building our classification model we will pick the value of parameter K to be 55."
   ]
  },
  {
   "cell_type": "markdown",
   "id": "e6ec4bef-6978-477b-a3e8-3a5092fa7ed3",
   "metadata": {},
   "source": [
    "### Building our model"
   ]
  },
  {
   "cell_type": "markdown",
   "id": "f0dbda59-e6e7-4ce2-8bf7-fe202d5f8b24",
   "metadata": {},
   "source": [
    "Now, we will build our classifier using the training data and K=55."
   ]
  },
  {
   "cell_type": "code",
   "execution_count": 103,
   "id": "ddbc8af9-d1bb-4164-87d0-9d4b66e760c8",
   "metadata": {},
   "outputs": [
    {
     "data": {
      "text/html": [
       "<style>#sk-container-id-18 {color: black;background-color: white;}#sk-container-id-18 pre{padding: 0;}#sk-container-id-18 div.sk-toggleable {background-color: white;}#sk-container-id-18 label.sk-toggleable__label {cursor: pointer;display: block;width: 100%;margin-bottom: 0;padding: 0.3em;box-sizing: border-box;text-align: center;}#sk-container-id-18 label.sk-toggleable__label-arrow:before {content: \"▸\";float: left;margin-right: 0.25em;color: #696969;}#sk-container-id-18 label.sk-toggleable__label-arrow:hover:before {color: black;}#sk-container-id-18 div.sk-estimator:hover label.sk-toggleable__label-arrow:before {color: black;}#sk-container-id-18 div.sk-toggleable__content {max-height: 0;max-width: 0;overflow: hidden;text-align: left;background-color: #f0f8ff;}#sk-container-id-18 div.sk-toggleable__content pre {margin: 0.2em;color: black;border-radius: 0.25em;background-color: #f0f8ff;}#sk-container-id-18 input.sk-toggleable__control:checked~div.sk-toggleable__content {max-height: 200px;max-width: 100%;overflow: auto;}#sk-container-id-18 input.sk-toggleable__control:checked~label.sk-toggleable__label-arrow:before {content: \"▾\";}#sk-container-id-18 div.sk-estimator input.sk-toggleable__control:checked~label.sk-toggleable__label {background-color: #d4ebff;}#sk-container-id-18 div.sk-label input.sk-toggleable__control:checked~label.sk-toggleable__label {background-color: #d4ebff;}#sk-container-id-18 input.sk-hidden--visually {border: 0;clip: rect(1px 1px 1px 1px);clip: rect(1px, 1px, 1px, 1px);height: 1px;margin: -1px;overflow: hidden;padding: 0;position: absolute;width: 1px;}#sk-container-id-18 div.sk-estimator {font-family: monospace;background-color: #f0f8ff;border: 1px dotted black;border-radius: 0.25em;box-sizing: border-box;margin-bottom: 0.5em;}#sk-container-id-18 div.sk-estimator:hover {background-color: #d4ebff;}#sk-container-id-18 div.sk-parallel-item::after {content: \"\";width: 100%;border-bottom: 1px solid gray;flex-grow: 1;}#sk-container-id-18 div.sk-label:hover label.sk-toggleable__label {background-color: #d4ebff;}#sk-container-id-18 div.sk-serial::before {content: \"\";position: absolute;border-left: 1px solid gray;box-sizing: border-box;top: 0;bottom: 0;left: 50%;z-index: 0;}#sk-container-id-18 div.sk-serial {display: flex;flex-direction: column;align-items: center;background-color: white;padding-right: 0.2em;padding-left: 0.2em;position: relative;}#sk-container-id-18 div.sk-item {position: relative;z-index: 1;}#sk-container-id-18 div.sk-parallel {display: flex;align-items: stretch;justify-content: center;background-color: white;position: relative;}#sk-container-id-18 div.sk-item::before, #sk-container-id-18 div.sk-parallel-item::before {content: \"\";position: absolute;border-left: 1px solid gray;box-sizing: border-box;top: 0;bottom: 0;left: 50%;z-index: -1;}#sk-container-id-18 div.sk-parallel-item {display: flex;flex-direction: column;z-index: 1;position: relative;background-color: white;}#sk-container-id-18 div.sk-parallel-item:first-child::after {align-self: flex-end;width: 50%;}#sk-container-id-18 div.sk-parallel-item:last-child::after {align-self: flex-start;width: 50%;}#sk-container-id-18 div.sk-parallel-item:only-child::after {width: 0;}#sk-container-id-18 div.sk-dashed-wrapped {border: 1px dashed gray;margin: 0 0.4em 0.5em 0.4em;box-sizing: border-box;padding-bottom: 0.4em;background-color: white;}#sk-container-id-18 div.sk-label label {font-family: monospace;font-weight: bold;display: inline-block;line-height: 1.2em;}#sk-container-id-18 div.sk-label-container {text-align: center;}#sk-container-id-18 div.sk-container {/* jupyter's `normalize.less` sets `[hidden] { display: none; }` but bootstrap.min.css set `[hidden] { display: none !important; }` so we also need the `!important` here to be able to override the default hidden behavior on the sphinx rendered scikit-learn.org. See: https://github.com/scikit-learn/scikit-learn/issues/21755 */display: inline-block !important;position: relative;}#sk-container-id-18 div.sk-text-repr-fallback {display: none;}</style><div id=\"sk-container-id-18\" class=\"sk-top-container\"><div class=\"sk-text-repr-fallback\"><pre>Pipeline(steps=[(&#x27;columntransformer&#x27;,\n",
       "                 ColumnTransformer(transformers=[(&#x27;passthrough&#x27;, &#x27;passthrough&#x27;,\n",
       "                                                  [&#x27;Chest_Pain_Type&#x27;,\n",
       "                                                   &#x27;Fasting_Blood_Sugar&#x27;]),\n",
       "                                                 (&#x27;standardscaler&#x27;,\n",
       "                                                  StandardScaler(),\n",
       "                                                  [&#x27;Age&#x27;, &#x27;Serum_Cholesterol&#x27;,\n",
       "                                                   &#x27;Max_Heart_Rate&#x27;])])),\n",
       "                (&#x27;kneighborsclassifier&#x27;, KNeighborsClassifier(n_neighbors=55))])</pre><b>In a Jupyter environment, please rerun this cell to show the HTML representation or trust the notebook. <br />On GitHub, the HTML representation is unable to render, please try loading this page with nbviewer.org.</b></div><div class=\"sk-container\" hidden><div class=\"sk-item sk-dashed-wrapped\"><div class=\"sk-label-container\"><div class=\"sk-label sk-toggleable\"><input class=\"sk-toggleable__control sk-hidden--visually\" id=\"sk-estimator-id-114\" type=\"checkbox\" ><label for=\"sk-estimator-id-114\" class=\"sk-toggleable__label sk-toggleable__label-arrow\">Pipeline</label><div class=\"sk-toggleable__content\"><pre>Pipeline(steps=[(&#x27;columntransformer&#x27;,\n",
       "                 ColumnTransformer(transformers=[(&#x27;passthrough&#x27;, &#x27;passthrough&#x27;,\n",
       "                                                  [&#x27;Chest_Pain_Type&#x27;,\n",
       "                                                   &#x27;Fasting_Blood_Sugar&#x27;]),\n",
       "                                                 (&#x27;standardscaler&#x27;,\n",
       "                                                  StandardScaler(),\n",
       "                                                  [&#x27;Age&#x27;, &#x27;Serum_Cholesterol&#x27;,\n",
       "                                                   &#x27;Max_Heart_Rate&#x27;])])),\n",
       "                (&#x27;kneighborsclassifier&#x27;, KNeighborsClassifier(n_neighbors=55))])</pre></div></div></div><div class=\"sk-serial\"><div class=\"sk-item sk-dashed-wrapped\"><div class=\"sk-label-container\"><div class=\"sk-label sk-toggleable\"><input class=\"sk-toggleable__control sk-hidden--visually\" id=\"sk-estimator-id-115\" type=\"checkbox\" ><label for=\"sk-estimator-id-115\" class=\"sk-toggleable__label sk-toggleable__label-arrow\">columntransformer: ColumnTransformer</label><div class=\"sk-toggleable__content\"><pre>ColumnTransformer(transformers=[(&#x27;passthrough&#x27;, &#x27;passthrough&#x27;,\n",
       "                                 [&#x27;Chest_Pain_Type&#x27;, &#x27;Fasting_Blood_Sugar&#x27;]),\n",
       "                                (&#x27;standardscaler&#x27;, StandardScaler(),\n",
       "                                 [&#x27;Age&#x27;, &#x27;Serum_Cholesterol&#x27;,\n",
       "                                  &#x27;Max_Heart_Rate&#x27;])])</pre></div></div></div><div class=\"sk-parallel\"><div class=\"sk-parallel-item\"><div class=\"sk-item\"><div class=\"sk-label-container\"><div class=\"sk-label sk-toggleable\"><input class=\"sk-toggleable__control sk-hidden--visually\" id=\"sk-estimator-id-116\" type=\"checkbox\" ><label for=\"sk-estimator-id-116\" class=\"sk-toggleable__label sk-toggleable__label-arrow\">passthrough</label><div class=\"sk-toggleable__content\"><pre>[&#x27;Chest_Pain_Type&#x27;, &#x27;Fasting_Blood_Sugar&#x27;]</pre></div></div></div><div class=\"sk-serial\"><div class=\"sk-item\"><div class=\"sk-estimator sk-toggleable\"><input class=\"sk-toggleable__control sk-hidden--visually\" id=\"sk-estimator-id-117\" type=\"checkbox\" ><label for=\"sk-estimator-id-117\" class=\"sk-toggleable__label sk-toggleable__label-arrow\">passthrough</label><div class=\"sk-toggleable__content\"><pre>passthrough</pre></div></div></div></div></div></div><div class=\"sk-parallel-item\"><div class=\"sk-item\"><div class=\"sk-label-container\"><div class=\"sk-label sk-toggleable\"><input class=\"sk-toggleable__control sk-hidden--visually\" id=\"sk-estimator-id-118\" type=\"checkbox\" ><label for=\"sk-estimator-id-118\" class=\"sk-toggleable__label sk-toggleable__label-arrow\">standardscaler</label><div class=\"sk-toggleable__content\"><pre>[&#x27;Age&#x27;, &#x27;Serum_Cholesterol&#x27;, &#x27;Max_Heart_Rate&#x27;]</pre></div></div></div><div class=\"sk-serial\"><div class=\"sk-item\"><div class=\"sk-estimator sk-toggleable\"><input class=\"sk-toggleable__control sk-hidden--visually\" id=\"sk-estimator-id-119\" type=\"checkbox\" ><label for=\"sk-estimator-id-119\" class=\"sk-toggleable__label sk-toggleable__label-arrow\">StandardScaler</label><div class=\"sk-toggleable__content\"><pre>StandardScaler()</pre></div></div></div></div></div></div></div></div><div class=\"sk-item\"><div class=\"sk-estimator sk-toggleable\"><input class=\"sk-toggleable__control sk-hidden--visually\" id=\"sk-estimator-id-120\" type=\"checkbox\" ><label for=\"sk-estimator-id-120\" class=\"sk-toggleable__label sk-toggleable__label-arrow\">KNeighborsClassifier</label><div class=\"sk-toggleable__content\"><pre>KNeighborsClassifier(n_neighbors=55)</pre></div></div></div></div></div></div></div>"
      ],
      "text/plain": [
       "Pipeline(steps=[('columntransformer',\n",
       "                 ColumnTransformer(transformers=[('passthrough', 'passthrough',\n",
       "                                                  ['Chest_Pain_Type',\n",
       "                                                   'Fasting_Blood_Sugar']),\n",
       "                                                 ('standardscaler',\n",
       "                                                  StandardScaler(),\n",
       "                                                  ['Age', 'Serum_Cholesterol',\n",
       "                                                   'Max_Heart_Rate'])])),\n",
       "                ('kneighborsclassifier', KNeighborsClassifier(n_neighbors=55))])"
      ]
     },
     "execution_count": 103,
     "metadata": {},
     "output_type": "execute_result"
    }
   ],
   "source": [
    "knn_spec = KNeighborsClassifier(n_neighbors=55)\n",
    "\n",
    "X = heart_train[[\"Age\",\"Chest_Pain_Type\",\"Fasting_Blood_Sugar\", \"Serum_Cholesterol\", \"Max_Heart_Rate\"]]\n",
    "y = heart_train[\"Diagnosis\"]\n",
    "\n",
    "heart_fit = make_pipeline(heart_preprocessor, knn_spec).fit(X, y)\n",
    "heart_fit"
   ]
  },
  {
   "cell_type": "markdown",
   "id": "d7054be8-281d-42be-9a2c-dc2dcc4f1c8b",
   "metadata": {},
   "source": [
    "### Predicting Diagnosis for the test data"
   ]
  },
  {
   "cell_type": "code",
   "execution_count": 104,
   "id": "ffb620c6-de4e-42f3-9a07-e7b95c277478",
   "metadata": {},
   "outputs": [
    {
     "data": {
      "text/html": [
       "<div>\n",
       "<style scoped>\n",
       "    .dataframe tbody tr th:only-of-type {\n",
       "        vertical-align: middle;\n",
       "    }\n",
       "\n",
       "    .dataframe tbody tr th {\n",
       "        vertical-align: top;\n",
       "    }\n",
       "\n",
       "    .dataframe thead th {\n",
       "        text-align: right;\n",
       "    }\n",
       "</style>\n",
       "<table border=\"1\" class=\"dataframe\">\n",
       "  <thead>\n",
       "    <tr style=\"text-align: right;\">\n",
       "      <th></th>\n",
       "      <th>Age</th>\n",
       "      <th>Chest_Pain_Type</th>\n",
       "      <th>Fasting_Blood_Sugar</th>\n",
       "      <th>Serum_Cholesterol</th>\n",
       "      <th>Max_Heart_Rate</th>\n",
       "      <th>Diagnosis</th>\n",
       "      <th>predicted</th>\n",
       "    </tr>\n",
       "  </thead>\n",
       "  <tbody>\n",
       "    <tr>\n",
       "      <th>0</th>\n",
       "      <td>44.0</td>\n",
       "      <td>3.0</td>\n",
       "      <td>0.0</td>\n",
       "      <td>226.0</td>\n",
       "      <td>169.0</td>\n",
       "      <td>0</td>\n",
       "      <td>0</td>\n",
       "    </tr>\n",
       "    <tr>\n",
       "      <th>1</th>\n",
       "      <td>41.0</td>\n",
       "      <td>2.0</td>\n",
       "      <td>0.0</td>\n",
       "      <td>235.0</td>\n",
       "      <td>153.0</td>\n",
       "      <td>0</td>\n",
       "      <td>0</td>\n",
       "    </tr>\n",
       "    <tr>\n",
       "      <th>2</th>\n",
       "      <td>64.0</td>\n",
       "      <td>4.0</td>\n",
       "      <td>0.0</td>\n",
       "      <td>263.0</td>\n",
       "      <td>105.0</td>\n",
       "      <td>0</td>\n",
       "      <td>1</td>\n",
       "    </tr>\n",
       "    <tr>\n",
       "      <th>3</th>\n",
       "      <td>60.0</td>\n",
       "      <td>3.0</td>\n",
       "      <td>0.0</td>\n",
       "      <td>185.0</td>\n",
       "      <td>155.0</td>\n",
       "      <td>1</td>\n",
       "      <td>0</td>\n",
       "    </tr>\n",
       "    <tr>\n",
       "      <th>4</th>\n",
       "      <td>53.0</td>\n",
       "      <td>4.0</td>\n",
       "      <td>1.0</td>\n",
       "      <td>203.0</td>\n",
       "      <td>155.0</td>\n",
       "      <td>1</td>\n",
       "      <td>0</td>\n",
       "    </tr>\n",
       "    <tr>\n",
       "      <th>5</th>\n",
       "      <td>67.0</td>\n",
       "      <td>3.0</td>\n",
       "      <td>0.0</td>\n",
       "      <td>212.0</td>\n",
       "      <td>150.0</td>\n",
       "      <td>1</td>\n",
       "      <td>0</td>\n",
       "    </tr>\n",
       "    <tr>\n",
       "      <th>6</th>\n",
       "      <td>41.0</td>\n",
       "      <td>3.0</td>\n",
       "      <td>0.0</td>\n",
       "      <td>268.0</td>\n",
       "      <td>172.0</td>\n",
       "      <td>0</td>\n",
       "      <td>0</td>\n",
       "    </tr>\n",
       "    <tr>\n",
       "      <th>7</th>\n",
       "      <td>42.0</td>\n",
       "      <td>3.0</td>\n",
       "      <td>1.0</td>\n",
       "      <td>240.0</td>\n",
       "      <td>194.0</td>\n",
       "      <td>0</td>\n",
       "      <td>0</td>\n",
       "    </tr>\n",
       "    <tr>\n",
       "      <th>8</th>\n",
       "      <td>54.0</td>\n",
       "      <td>4.0</td>\n",
       "      <td>0.0</td>\n",
       "      <td>286.0</td>\n",
       "      <td>116.0</td>\n",
       "      <td>3</td>\n",
       "      <td>1</td>\n",
       "    </tr>\n",
       "    <tr>\n",
       "      <th>9</th>\n",
       "      <td>56.0</td>\n",
       "      <td>2.0</td>\n",
       "      <td>0.0</td>\n",
       "      <td>294.0</td>\n",
       "      <td>153.0</td>\n",
       "      <td>0</td>\n",
       "      <td>0</td>\n",
       "    </tr>\n",
       "  </tbody>\n",
       "</table>\n",
       "</div>"
      ],
      "text/plain": [
       "    Age  Chest_Pain_Type  Fasting_Blood_Sugar  Serum_Cholesterol  \\\n",
       "0  44.0              3.0                  0.0              226.0   \n",
       "1  41.0              2.0                  0.0              235.0   \n",
       "2  64.0              4.0                  0.0              263.0   \n",
       "3  60.0              3.0                  0.0              185.0   \n",
       "4  53.0              4.0                  1.0              203.0   \n",
       "5  67.0              3.0                  0.0              212.0   \n",
       "6  41.0              3.0                  0.0              268.0   \n",
       "7  42.0              3.0                  1.0              240.0   \n",
       "8  54.0              4.0                  0.0              286.0   \n",
       "9  56.0              2.0                  0.0              294.0   \n",
       "\n",
       "   Max_Heart_Rate  Diagnosis  predicted  \n",
       "0           169.0          0          0  \n",
       "1           153.0          0          0  \n",
       "2           105.0          0          1  \n",
       "3           155.0          1          0  \n",
       "4           155.0          1          0  \n",
       "5           150.0          1          0  \n",
       "6           172.0          0          0  \n",
       "7           194.0          0          0  \n",
       "8           116.0          3          1  \n",
       "9           153.0          0          0  "
      ]
     },
     "execution_count": 104,
     "metadata": {},
     "output_type": "execute_result"
    }
   ],
   "source": [
    "# Passing the fitted model and the test dataset to the predict function\n",
    "heart_test_predictions = heart_fit.predict(heart_test[[\"Age\",\"Chest_Pain_Type\",\"Fasting_Blood_Sugar\", \"Serum_Cholesterol\", \"Max_Heart_Rate\"]])\n",
    "\n",
    "heart_test_predictions = pd.concat(\n",
    "    [\n",
    "        heart_test.reset_index(drop=True),\n",
    "        pd.DataFrame(heart_test_predictions, columns=[\"predicted\"]),\n",
    "    ],\n",
    "    axis=1,\n",
    ")\n",
    "heart_test_predictions.head(10)"
   ]
  },
  {
   "cell_type": "markdown",
   "id": "bcf74873-3ab9-4dae-a01c-90f208cf64cb",
   "metadata": {},
   "source": [
    "### Testing the accuracy of our model"
   ]
  },
  {
   "cell_type": "markdown",
   "id": "00016938-6979-4961-bc1b-9ca4e29e19ea",
   "metadata": {},
   "source": [
    "Here, we use the score function to get statistics about the quality of our model. We named the predictors as X_test and the target variable as y_test"
   ]
  },
  {
   "cell_type": "code",
   "execution_count": 105,
   "id": "45a711bf-c5ac-4bb4-8053-dedc1b38823b",
   "metadata": {},
   "outputs": [
    {
     "data": {
      "text/plain": [
       "0.5394736842105263"
      ]
     },
     "execution_count": 105,
     "metadata": {},
     "output_type": "execute_result"
    }
   ],
   "source": [
    "X_test = heart_test[[\"Age\",\"Chest_Pain_Type\",\"Fasting_Blood_Sugar\", \"Serum_Cholesterol\", \"Max_Heart_Rate\"]]\n",
    "y_test = heart_test[\"Diagnosis\"]\n",
    "\n",
    "heart_prediction_accuracy = heart_fit.score(X_test, y_test)\n",
    "heart_prediction_accuracy"
   ]
  },
  {
   "cell_type": "markdown",
   "id": "ccf82c95-4ab0-4a71-b2ae-31214cef1448",
   "metadata": {},
   "source": [
    "### Creating a confusion matrix"
   ]
  },
  {
   "cell_type": "markdown",
   "id": "74fd33ab-1a6a-4c8e-9f60-bc7e9fa973e2",
   "metadata": {},
   "source": [
    "We create a confusion matrix to see the table of predicted labels and true labels."
   ]
  },
  {
   "cell_type": "code",
   "execution_count": 106,
   "id": "b542bca7-d986-4ad6-9f26-d253ad7e9d71",
   "metadata": {},
   "outputs": [
    {
     "data": {
      "text/plain": [
       "<sklearn.metrics._plot.confusion_matrix.ConfusionMatrixDisplay at 0x7fe221974700>"
      ]
     },
     "execution_count": 106,
     "metadata": {},
     "output_type": "execute_result"
    },
    {
     "data": {
      "image/png": "[encoded data removed]",
      "text/plain": [
       "<Figure size 640x480 with 2 Axes>"
      ]
     },
     "metadata": {},
     "output_type": "display_data"
    }
   ],
   "source": [
    "from sklearn.metrics import ConfusionMatrixDisplay\n",
    "\n",
    "heart_mat = confusion_matrix(\n",
    "    heart_test_predictions[\"Diagnosis\"],  # true labels\n",
    "    heart_test_predictions[\"predicted\"],  # predicted labels\n",
    "    labels=heart_fit.classes_, # specify the label for each class\n",
    ")\n",
    "\n",
    "disp = ConfusionMatrixDisplay(\n",
    "    confusion_matrix=heart_mat, display_labels=heart_fit.classes_\n",
    ")\n",
    "disp.plot()\n"
   ]
  },
  {
   "cell_type": "markdown",
   "id": "798e0334-52bd-4df8-a133-0ae7cc783a28",
   "metadata": {},
   "source": [
    "We can see from the confusion matrix that there are 11 false negative reports and 6 false positive reports. Also, there were 59 reports that were correctly diagnosed."
   ]
  },
  {
   "cell_type": "markdown",
   "id": "3d6d1fc3-6fca-4e8b-84b0-2b40903d973f",
   "metadata": {
    "tags": []
   },
   "source": [
    "## Discussion"
   ]
  },
  {
   "cell_type": "markdown",
   "id": "b4c25b19-0e93-4f35-a976-9328290d6383",
   "metadata": {},
   "source": [
    "### Our data analysis procedure"
   ]
  },
  {
   "cell_type": "markdown",
   "id": "bb01447b-ee57-4aee-82aa-9c283531d955",
   "metadata": {},
   "source": [
    "We first started by loading our dataset from the original source on the web using the pandas read_csv function and giving appropriate column headings to each column. Then, we filtered the dataset to include only those variables that we will be using in our classification model which were age, chest pain type, serum cholesterol, fasting blood sugar and maximum heart rate achieved along with the target variable which is Diagnosis.\n",
    "\n",
    "Next, since our data was already in a tidy format, the only data wrangling and cleaning we had to perform was to drop all columns containing NaN and changing the data types of some columns to make it more appropriate for use in our analysis. The columns whose data types we modified were:\n",
    "- Age: since age is a whole number measured in years, we changed it to Integer\n",
    "- Diagnosis: A patient either has heart disease or not, hence diagnosis will be of bool type.\n",
    "- Chest Pain Type: Since chest pain type can only be one of 1, 2, 3, 4 hence it will be of type int64\n",
    "- Max Heart Rate: Since maximum heart rate is measured in Beats per Minute, we changed its type to int64\n",
    "\n",
    "Our next step was to produce summary tables and graphs showing the relationship between different variables in the data which would be useful for exploratory data analysis. We produced a table that showed the mean value of each variable grouped by Diagnosis. Our second summary table showed the count for each variable grouped by chest pain type. We also produced 2 visualizations of the data which included:\n",
    "- A scatterplot of Max Heart Rate Achieved against Age.\n",
    "- A histogram showing the proportions of Diagnosis for each Chest Pain Type.\n",
    "\n",
    "We started building our model by splitting the data set into training and testing data. We decided to use 75% of our data as training data and 25% as testing data. We first started by doing some preprocessing to standardize our variables. This is to ensure that our test data does not influence our model in any way. Then, we performed cross-validation to decide which value of K should be used to build the model.\n",
    "After perfoming cross-validation, we created a line chart of Mean Test Score against Number of Neighbors to help us decide the best value for the parameter. Looking at the graph, we decided to use K=55 to build our classification model.\n",
    "\n",
    "Using K=55, we built our classification model by performing knn-classification and added our predictions as a new column to the original dataset. Then, we calculated the accuracy of our model using the score function, which gave us an accuracy of around 77.6%. Additionally, we created a confusion matrix to help us analyse the number of correct and false diagnoses.\n",
    "\n",
    "By analysing the confusion matrix, we came to the conclusion that 59 out of 76 reports were correctly diagnosed, 11 were false negatives and 6 were false positives.\n"
   ]
  },
  {
   "cell_type": "markdown",
   "id": "f6de8a20-f986-4fe1-9c11-9e1744809d1b",
   "metadata": {},
   "source": [
    "These findings will be able to help indicate and predict the possibility of a heart disease and help people improve their health standards in order to prevent developing heart disease.\n",
    "\n",
    "This analysis could pose questions in the future such as:\n",
    "- \"What habits in our daily life contribute to the development of heart disease in the future?\"\n",
    "- \"What methods could be done to prevent factors of heart disease in the future?\"\n",
    "- \"What other possible diseases might be indicated by these vital signs?\"\n",
    "- \"How do these factors effect the chances of getting a heart disease?\"\n",
    "- \"Why do these factors effect the chances of getting a heart disease?\"\n",
    "\n",
    "_add summary of what we found, whether it is what we expected, impact of findings and what future questions could this lead to_"
   ]
  },
  {
   "cell_type": "markdown",
   "id": "2ed96368-3b17-4467-9521-7776044bf492",
   "metadata": {
    "tags": []
   },
   "source": [
    "## References"
   ]
  },
  {
   "cell_type": "markdown",
   "id": "a467b332-77b1-4bed-be9b-e2c8dd83a5b2",
   "metadata": {},
   "source": [
    "U.S. Department of Health and Human Services. (2018). Heart health and aging. National Institute on Aging. Retrieved 2023, from https://www.nia.nih.gov/health/heart-health-and-aging \n",
    "\n",
    "Sheik Abdullah, A., Selvakumar, S., Venkatesh, M. (2021). Assessment and evaluation of CHD risk factors using weighted ranked correlation and regression with data classification. _Soft Computing, 25_(6), 4979–5001. https://doi.org/10.1007/s00500-021-05663-y \n",
    "\n",
    "S. Mannu, G., J.S. Zaman, M., Gupta, A., U. Rehman, H., K. Myint, P. (2013). Evidence of lifestyle modification in the management of Hypercholesterolemia. _Current Cardiology Reviews, 9_(1), 2–14. https://doi.org/10.2174/157340313805076313 \n",
    "\n",
    "Saha, A., Kuila, M., & Sharma, R. K. . (2022). Relationship of severity of coronary artery disease with fasting blood sugar and glycosylated hemoglobin. _Asian Journal of Medical Sciences, 13_(3), 38–42. https://doi.org/10.3126/ajms.v13i3.40416\n",
    "\n",
    "Perret-Guillaume, C., Joly, L., &amp; Benetos, A. (2009). Heart rate as a risk factor for cardiovascular disease. _Progress in Cardiovascular Diseases, 52_(1), 6–10. https://doi.org/10.1016/j.pcad.2009.05.003 \n",
    "\n",
    "Centers for Disease Control and Prevention. (2022). Diabetes and your heart. Centers for Disease Control and Prevention. Retrieved 2023, from https://www.cdc.gov/diabetes/library/features/diabetes-and-heart.html#:~:text=If%20you%20have%20diabetes%2C%20you,are%20to%20have%20heart%20disease\n",
    "\n",
    "Einarson, T. R., Acs, A., Ludwig, C., &amp; Panton, U. H. (2018). Prevalence of cardiovascular disease in type 2 diabetes: A systematic literature review of scientific evidence from across the world in 2007–2017 - Cardiovascular Diabetology. BioMed Central. Retrieved 2023, from https://cardiab.biomedcentral.com/articles/10.1186/s12933-018-0728-6#:~:text=Globally%2C%20overall%20CVD%20affects%20approximately,deaths%20over%20the%20study%20period "
   ]
  }
 ],
 "metadata": {
  "kernelspec": {
   "display_name": "Python 3 (ipykernel)",
   "language": "python",
   "name": "python3"
  },
  "language_info": {
   "codemirror_mode": {
    "name": "ipython",
    "version": 3
   },
   "file_extension": ".py",
   "mimetype": "text/x-python",
   "name": "python",
   "nbconvert_exporter": "python",
   "pygments_lexer": "ipython3",
   "version": "3.10.8"
  }
 },
 "nbformat": 4,
 "nbformat_minor": 5
}
