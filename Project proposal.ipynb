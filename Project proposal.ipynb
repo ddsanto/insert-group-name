{
 "cells": [
  {
   "cell_type": "markdown",
   "id": "902b1dea-2bf0-4231-b21f-b7eaf8be770a",
   "metadata": {},
   "source": [
    "### Project Proposal - Heart Disease dataset"
   ]
  },
  {
   "cell_type": "markdown",
   "id": "b4ba6875-a462-457e-a91e-d6568ac5d073",
   "metadata": {},
   "source": [
    "#### Introduction"
   ]
  },
  {
   "cell_type": "markdown",
   "id": "aaa6d812-d263-4cd9-b410-1a292766e732",
   "metadata": {},
   "source": [
    "Cardiovascular disease (also known as heart disease) is a type of disease that affects the heart or blood vessels and is one of the leading causes of death in the world. Patients suffering from this disease have compromised circulatory systems due to several factors including age, sex, cholestrol levels etc. "
   ]
  },
  {
   "cell_type": "markdown",
   "id": "a5fb249d-83c0-424c-8c87-b40c13ce6e08",
   "metadata": {},
   "source": [
    "In this project, our goal is to predict whether or not a person has heart disease based on their vital signs. For this classification, we have chosen to use the Heart Disease dataset from the UCI Machine Learning Repository (UCI). The dataset contains many variables which affect the probability of a person suffering from heart disease. For our data analysis, we will be focusing on the following variables:"
   ]
  },
  {
   "cell_type": "markdown",
   "id": "7b7890e6-7701-4bcc-9407-56335dd71f66",
   "metadata": {},
   "source": [
    "- Age - age in years\n",
    "- Sex - (1=male, 0=female)\n",
    "- Chest pain type (cp) - 1 = typical angina, 2 = atypical angina, 3 = non-angina pain, 4 = asymptomatic angina\n",
    "- Fasting blood sugar (fbs) - fasting blood sugar in mg/dL \n",
    "- Maximum heart rate achieved - measured in beats per min (BPM)\n",
    "- Exercise induced angina - 1 = yes; 0 = no\n",
    "- Diagnosis - diagnosis of angiographic (heart) disease"
   ]
  },
  {
   "cell_type": "code",
   "execution_count": 1,
   "id": "bc99caa2-d8bf-4b5c-becd-627d214aff83",
   "metadata": {},
   "outputs": [
    {
     "data": {
      "text/plain": [
       "RendererRegistry.enable('mimetype')"
      ]
     },
     "execution_count": 1,
     "metadata": {},
     "output_type": "execute_result"
    }
   ],
   "source": [
    "# Packages needed for classification on our dataset\n",
    "import altair as alt\n",
    "import numpy as np\n",
    "import pandas as pd\n",
    "import sklearn\n",
    "from sklearn.compose import make_column_transformer\n",
    "from sklearn.metrics import confusion_matrix\n",
    "from sklearn.metrics.pairwise import euclidean_distances\n",
    "from sklearn.model_selection import (\n",
    "    GridSearchCV,\n",
    "    RandomizedSearchCV,\n",
    "    cross_validate,\n",
    "    train_test_split,\n",
    ")\n",
    "from sklearn.neighbors import KNeighborsClassifier\n",
    "from sklearn.pipeline import Pipeline, make_pipeline\n",
    "from sklearn.preprocessing import OneHotEncoder, StandardScaler\n",
    "\n",
    "alt.data_transformers.disable_max_rows()\n",
    "alt.renderers.enable(\"mimetype\")"
   ]
  },
  {
   "cell_type": "markdown",
   "id": "ebaa213c-2ef7-4a90-82eb-fe1e63aa96b1",
   "metadata": {},
   "source": [
    "### Preliminary exploratory data analysis"
   ]
  },
  {
   "cell_type": "code",
   "execution_count": 2,
   "id": "0c9b934b-539a-4cc4-ba3a-7962021ea2f1",
   "metadata": {},
   "outputs": [
    {
     "data": {
      "text/html": [
       "<div>\n",
       "<style scoped>\n",
       "    .dataframe tbody tr th:only-of-type {\n",
       "        vertical-align: middle;\n",
       "    }\n",
       "\n",
       "    .dataframe tbody tr th {\n",
       "        vertical-align: top;\n",
       "    }\n",
       "\n",
       "    .dataframe thead th {\n",
       "        text-align: right;\n",
       "    }\n",
       "</style>\n",
       "<table border=\"1\" class=\"dataframe\">\n",
       "  <thead>\n",
       "    <tr style=\"text-align: right;\">\n",
       "      <th></th>\n",
       "      <th>Age</th>\n",
       "      <th>Sex</th>\n",
       "      <th>Chest_Pain_Type</th>\n",
       "      <th>Fasting_Blood_Sugar</th>\n",
       "      <th>Max_Heart_Rate</th>\n",
       "      <th>Exercise_Induced_Angina</th>\n",
       "      <th>Diagnosis</th>\n",
       "    </tr>\n",
       "  </thead>\n",
       "  <tbody>\n",
       "    <tr>\n",
       "      <th>0</th>\n",
       "      <td>63.0</td>\n",
       "      <td>1.0</td>\n",
       "      <td>1.0</td>\n",
       "      <td>1.0</td>\n",
       "      <td>150.0</td>\n",
       "      <td>0.0</td>\n",
       "      <td>0</td>\n",
       "    </tr>\n",
       "    <tr>\n",
       "      <th>1</th>\n",
       "      <td>67.0</td>\n",
       "      <td>1.0</td>\n",
       "      <td>4.0</td>\n",
       "      <td>0.0</td>\n",
       "      <td>108.0</td>\n",
       "      <td>1.0</td>\n",
       "      <td>2</td>\n",
       "    </tr>\n",
       "    <tr>\n",
       "      <th>2</th>\n",
       "      <td>67.0</td>\n",
       "      <td>1.0</td>\n",
       "      <td>4.0</td>\n",
       "      <td>0.0</td>\n",
       "      <td>129.0</td>\n",
       "      <td>1.0</td>\n",
       "      <td>1</td>\n",
       "    </tr>\n",
       "    <tr>\n",
       "      <th>3</th>\n",
       "      <td>37.0</td>\n",
       "      <td>1.0</td>\n",
       "      <td>3.0</td>\n",
       "      <td>0.0</td>\n",
       "      <td>187.0</td>\n",
       "      <td>0.0</td>\n",
       "      <td>0</td>\n",
       "    </tr>\n",
       "    <tr>\n",
       "      <th>4</th>\n",
       "      <td>41.0</td>\n",
       "      <td>0.0</td>\n",
       "      <td>2.0</td>\n",
       "      <td>0.0</td>\n",
       "      <td>172.0</td>\n",
       "      <td>0.0</td>\n",
       "      <td>0</td>\n",
       "    </tr>\n",
       "    <tr>\n",
       "      <th>...</th>\n",
       "      <td>...</td>\n",
       "      <td>...</td>\n",
       "      <td>...</td>\n",
       "      <td>...</td>\n",
       "      <td>...</td>\n",
       "      <td>...</td>\n",
       "      <td>...</td>\n",
       "    </tr>\n",
       "    <tr>\n",
       "      <th>298</th>\n",
       "      <td>45.0</td>\n",
       "      <td>1.0</td>\n",
       "      <td>1.0</td>\n",
       "      <td>0.0</td>\n",
       "      <td>132.0</td>\n",
       "      <td>0.0</td>\n",
       "      <td>1</td>\n",
       "    </tr>\n",
       "    <tr>\n",
       "      <th>299</th>\n",
       "      <td>68.0</td>\n",
       "      <td>1.0</td>\n",
       "      <td>4.0</td>\n",
       "      <td>1.0</td>\n",
       "      <td>141.0</td>\n",
       "      <td>0.0</td>\n",
       "      <td>2</td>\n",
       "    </tr>\n",
       "    <tr>\n",
       "      <th>300</th>\n",
       "      <td>57.0</td>\n",
       "      <td>1.0</td>\n",
       "      <td>4.0</td>\n",
       "      <td>0.0</td>\n",
       "      <td>115.0</td>\n",
       "      <td>1.0</td>\n",
       "      <td>3</td>\n",
       "    </tr>\n",
       "    <tr>\n",
       "      <th>301</th>\n",
       "      <td>57.0</td>\n",
       "      <td>0.0</td>\n",
       "      <td>2.0</td>\n",
       "      <td>0.0</td>\n",
       "      <td>174.0</td>\n",
       "      <td>0.0</td>\n",
       "      <td>1</td>\n",
       "    </tr>\n",
       "    <tr>\n",
       "      <th>302</th>\n",
       "      <td>38.0</td>\n",
       "      <td>1.0</td>\n",
       "      <td>3.0</td>\n",
       "      <td>0.0</td>\n",
       "      <td>173.0</td>\n",
       "      <td>0.0</td>\n",
       "      <td>0</td>\n",
       "    </tr>\n",
       "  </tbody>\n",
       "</table>\n",
       "<p>303 rows × 7 columns</p>\n",
       "</div>"
      ],
      "text/plain": [
       "      Age  Sex  Chest_Pain_Type  Fasting_Blood_Sugar  Max_Heart_Rate  \\\n",
       "0    63.0  1.0              1.0                  1.0           150.0   \n",
       "1    67.0  1.0              4.0                  0.0           108.0   \n",
       "2    67.0  1.0              4.0                  0.0           129.0   \n",
       "3    37.0  1.0              3.0                  0.0           187.0   \n",
       "4    41.0  0.0              2.0                  0.0           172.0   \n",
       "..    ...  ...              ...                  ...             ...   \n",
       "298  45.0  1.0              1.0                  0.0           132.0   \n",
       "299  68.0  1.0              4.0                  1.0           141.0   \n",
       "300  57.0  1.0              4.0                  0.0           115.0   \n",
       "301  57.0  0.0              2.0                  0.0           174.0   \n",
       "302  38.0  1.0              3.0                  0.0           173.0   \n",
       "\n",
       "     Exercise_Induced_Angina  Diagnosis  \n",
       "0                        0.0          0  \n",
       "1                        1.0          2  \n",
       "2                        1.0          1  \n",
       "3                        0.0          0  \n",
       "4                        0.0          0  \n",
       "..                       ...        ...  \n",
       "298                      0.0          1  \n",
       "299                      0.0          2  \n",
       "300                      1.0          3  \n",
       "301                      0.0          1  \n",
       "302                      0.0          0  \n",
       "\n",
       "[303 rows x 7 columns]"
      ]
     },
     "execution_count": 2,
     "metadata": {},
     "output_type": "execute_result"
    }
   ],
   "source": [
    "# Loading the dataset using the URL\n",
    "url = \"https://archive.ics.uci.edu/ml/machine-learning-databases/heart-disease/processed.cleveland.data\"\n",
    "\n",
    "heart_disease = pd.read_csv(url, header=None)\n",
    "\n",
    "heart_disease.columns = (\"Age\",\n",
    "           \"Sex\",\n",
    "           \"Chest_Pain_Type\",\n",
    "           \"Resting_Blood_Pressure\",\n",
    "           \"Serum_Cholesterol\",\n",
    "           \"Fasting_Blood_Sugar\",\n",
    "           \"Resting_ECG\",\n",
    "           \"Max_Heart_Rate\",\n",
    "           \"Exercise_Induced_Angina\",\n",
    "           \"ST_Depression_Exercise\",\n",
    "           \"Peak_Exercise_ST_Segment\",\n",
    "           \"Num_Major_Vessels_Flouro\",\n",
    "           \"Thalassemia\",\n",
    "           \"Diagnosis\") # assigning human-readable column headings\n",
    "\n",
    "# Filtering to include only the columns we will be using in our analysis\n",
    "heart_disease_final = heart_disease.loc[:, [\"Age\",\"Sex\",\"Chest_Pain_Type\",\"Fasting_Blood_Sugar\",\"Max_Heart_Rate\",\"Exercise_Induced_Angina\",\"Diagnosis\"]]\n",
    "heart_disease_final\n"
   ]
  },
  {
   "cell_type": "markdown",
   "id": "53887b57-0786-4ac5-8148-0ac23a5a8391",
   "metadata": {},
   "source": [
    "Since our data was already in a tidy format (each column is a single variable, each row is a single observation and each cell is a single value). Hence, the only steps we needed to take to make the dataset easier to work with were to drop all rows with Na's and change the data types of some columns. This is shown below:"
   ]
  },
  {
   "cell_type": "code",
   "execution_count": 3,
   "id": "a9b4816e-35fc-490c-b5de-5a5756272a48",
   "metadata": {},
   "outputs": [
    {
     "name": "stdout",
     "output_type": "stream",
     "text": [
      "<class 'pandas.core.frame.DataFrame'>\n",
      "RangeIndex: 303 entries, 0 to 302\n",
      "Data columns (total 7 columns):\n",
      " #   Column                   Non-Null Count  Dtype  \n",
      "---  ------                   --------------  -----  \n",
      " 0   Age                      303 non-null    int64  \n",
      " 1   Sex                      303 non-null    bool   \n",
      " 2   Chest_Pain_Type          303 non-null    int64  \n",
      " 3   Fasting_Blood_Sugar      303 non-null    float64\n",
      " 4   Max_Heart_Rate           303 non-null    float64\n",
      " 5   Exercise_Induced_Angina  303 non-null    float64\n",
      " 6   Diagnosis                303 non-null    bool   \n",
      "dtypes: bool(2), float64(3), int64(2)\n",
      "memory usage: 12.6 KB\n"
     ]
    }
   ],
   "source": [
    "heart_disease_final.dropna() # Removing Na's\n",
    "\n",
    "\n",
    "# Age is measured in years therefore will be an integer\n",
    "heart_disease_final.Age = heart_disease.Age.astype('int64') \n",
    "\n",
    "# Since sex is one of male or female, we convert the data type to bool\n",
    "heart_disease_final.Sex = heart_disease.Sex.astype(bool) \n",
    "\n",
    "# A patient either has heart disease or not, hence diagnosis will also be of bool type\n",
    "heart_disease_final.Diagnosis = heart_disease.Diagnosis.astype(bool) \n",
    "\n",
    "# Since chest pain type can only be one of 1, 2, 3, 4 hence it will be of type int64\n",
    "heart_disease_final.Chest_Pain_Type = heart_disease.Chest_Pain_Type.astype('int64') \n",
    "\n",
    "heart_disease_final.info()\n"
   ]
  },
  {
   "cell_type": "code",
   "execution_count": 4,
   "id": "1122bf30-625c-460a-99fe-19deaf0a9683",
   "metadata": {},
   "outputs": [
    {
     "data": {
      "text/html": [
       "<div>\n",
       "<style scoped>\n",
       "    .dataframe tbody tr th:only-of-type {\n",
       "        vertical-align: middle;\n",
       "    }\n",
       "\n",
       "    .dataframe tbody tr th {\n",
       "        vertical-align: top;\n",
       "    }\n",
       "\n",
       "    .dataframe thead th {\n",
       "        text-align: right;\n",
       "    }\n",
       "</style>\n",
       "<table border=\"1\" class=\"dataframe\">\n",
       "  <thead>\n",
       "    <tr style=\"text-align: right;\">\n",
       "      <th></th>\n",
       "      <th>Age</th>\n",
       "      <th>Sex</th>\n",
       "      <th>Chest_Pain_Type</th>\n",
       "      <th>Fasting_Blood_Sugar</th>\n",
       "      <th>Max_Heart_Rate</th>\n",
       "      <th>Exercise_Induced_Angina</th>\n",
       "      <th>Diagnosis</th>\n",
       "    </tr>\n",
       "  </thead>\n",
       "  <tbody>\n",
       "    <tr>\n",
       "      <th>0</th>\n",
       "      <td>63</td>\n",
       "      <td>True</td>\n",
       "      <td>1</td>\n",
       "      <td>1.0</td>\n",
       "      <td>150.0</td>\n",
       "      <td>0.0</td>\n",
       "      <td>False</td>\n",
       "    </tr>\n",
       "    <tr>\n",
       "      <th>1</th>\n",
       "      <td>67</td>\n",
       "      <td>True</td>\n",
       "      <td>4</td>\n",
       "      <td>0.0</td>\n",
       "      <td>108.0</td>\n",
       "      <td>1.0</td>\n",
       "      <td>True</td>\n",
       "    </tr>\n",
       "    <tr>\n",
       "      <th>2</th>\n",
       "      <td>67</td>\n",
       "      <td>True</td>\n",
       "      <td>4</td>\n",
       "      <td>0.0</td>\n",
       "      <td>129.0</td>\n",
       "      <td>1.0</td>\n",
       "      <td>True</td>\n",
       "    </tr>\n",
       "    <tr>\n",
       "      <th>3</th>\n",
       "      <td>37</td>\n",
       "      <td>True</td>\n",
       "      <td>3</td>\n",
       "      <td>0.0</td>\n",
       "      <td>187.0</td>\n",
       "      <td>0.0</td>\n",
       "      <td>False</td>\n",
       "    </tr>\n",
       "    <tr>\n",
       "      <th>4</th>\n",
       "      <td>41</td>\n",
       "      <td>False</td>\n",
       "      <td>2</td>\n",
       "      <td>0.0</td>\n",
       "      <td>172.0</td>\n",
       "      <td>0.0</td>\n",
       "      <td>False</td>\n",
       "    </tr>\n",
       "    <tr>\n",
       "      <th>...</th>\n",
       "      <td>...</td>\n",
       "      <td>...</td>\n",
       "      <td>...</td>\n",
       "      <td>...</td>\n",
       "      <td>...</td>\n",
       "      <td>...</td>\n",
       "      <td>...</td>\n",
       "    </tr>\n",
       "    <tr>\n",
       "      <th>298</th>\n",
       "      <td>45</td>\n",
       "      <td>True</td>\n",
       "      <td>1</td>\n",
       "      <td>0.0</td>\n",
       "      <td>132.0</td>\n",
       "      <td>0.0</td>\n",
       "      <td>True</td>\n",
       "    </tr>\n",
       "    <tr>\n",
       "      <th>299</th>\n",
       "      <td>68</td>\n",
       "      <td>True</td>\n",
       "      <td>4</td>\n",
       "      <td>1.0</td>\n",
       "      <td>141.0</td>\n",
       "      <td>0.0</td>\n",
       "      <td>True</td>\n",
       "    </tr>\n",
       "    <tr>\n",
       "      <th>300</th>\n",
       "      <td>57</td>\n",
       "      <td>True</td>\n",
       "      <td>4</td>\n",
       "      <td>0.0</td>\n",
       "      <td>115.0</td>\n",
       "      <td>1.0</td>\n",
       "      <td>True</td>\n",
       "    </tr>\n",
       "    <tr>\n",
       "      <th>301</th>\n",
       "      <td>57</td>\n",
       "      <td>False</td>\n",
       "      <td>2</td>\n",
       "      <td>0.0</td>\n",
       "      <td>174.0</td>\n",
       "      <td>0.0</td>\n",
       "      <td>True</td>\n",
       "    </tr>\n",
       "    <tr>\n",
       "      <th>302</th>\n",
       "      <td>38</td>\n",
       "      <td>True</td>\n",
       "      <td>3</td>\n",
       "      <td>0.0</td>\n",
       "      <td>173.0</td>\n",
       "      <td>0.0</td>\n",
       "      <td>False</td>\n",
       "    </tr>\n",
       "  </tbody>\n",
       "</table>\n",
       "<p>303 rows × 7 columns</p>\n",
       "</div>"
      ],
      "text/plain": [
       "     Age    Sex  Chest_Pain_Type  Fasting_Blood_Sugar  Max_Heart_Rate  \\\n",
       "0     63   True                1                  1.0           150.0   \n",
       "1     67   True                4                  0.0           108.0   \n",
       "2     67   True                4                  0.0           129.0   \n",
       "3     37   True                3                  0.0           187.0   \n",
       "4     41  False                2                  0.0           172.0   \n",
       "..   ...    ...              ...                  ...             ...   \n",
       "298   45   True                1                  0.0           132.0   \n",
       "299   68   True                4                  1.0           141.0   \n",
       "300   57   True                4                  0.0           115.0   \n",
       "301   57  False                2                  0.0           174.0   \n",
       "302   38   True                3                  0.0           173.0   \n",
       "\n",
       "     Exercise_Induced_Angina  Diagnosis  \n",
       "0                        0.0      False  \n",
       "1                        1.0       True  \n",
       "2                        1.0       True  \n",
       "3                        0.0      False  \n",
       "4                        0.0      False  \n",
       "..                       ...        ...  \n",
       "298                      0.0       True  \n",
       "299                      0.0       True  \n",
       "300                      1.0       True  \n",
       "301                      0.0       True  \n",
       "302                      0.0      False  \n",
       "\n",
       "[303 rows x 7 columns]"
      ]
     },
     "execution_count": 4,
     "metadata": {},
     "output_type": "execute_result"
    }
   ],
   "source": [
    "heart_disease_final # The final tidy data"
   ]
  },
  {
   "cell_type": "markdown",
   "id": "d4e998a6-06c3-4323-8745-c73d777b1dea",
   "metadata": {},
   "source": [
    "### Splitting data into training and testing data"
   ]
  },
  {
   "cell_type": "code",
   "execution_count": 5,
   "id": "256fe072-045b-4a08-bac4-67a94c36406c",
   "metadata": {},
   "outputs": [
    {
     "name": "stdout",
     "output_type": "stream",
     "text": [
      "     Age    Sex  Chest_Pain_Type  Fasting_Blood_Sugar  Max_Heart_Rate  \\\n",
      "36    43   True                4                  0.0           120.0   \n",
      "148   45   True                2                  0.0           170.0   \n",
      "21    58  False                1                  1.0           162.0   \n",
      "187   66   True                2                  0.0           120.0   \n",
      "161   77   True                4                  0.0           162.0   \n",
      "\n",
      "     Exercise_Induced_Angina  Diagnosis  \n",
      "36                       1.0       True  \n",
      "148                      0.0      False  \n",
      "21                       0.0      False  \n",
      "187                      1.0       True  \n",
      "161                      1.0       True  \n",
      "     Age    Sex  Chest_Pain_Type  Fasting_Blood_Sugar  Max_Heart_Rate  \\\n",
      "11    56  False                2                  0.0           153.0   \n",
      "292   44   True                4                  0.0           144.0   \n",
      "269   42   True                3                  0.0           150.0   \n",
      "268   40   True                4                  0.0           181.0   \n",
      "94    63  False                3                  0.0           172.0   \n",
      "\n",
      "     Exercise_Induced_Angina  Diagnosis  \n",
      "11                       0.0      False  \n",
      "292                      1.0       True  \n",
      "269                      0.0      False  \n",
      "268                      0.0       True  \n",
      "94                       0.0      False  \n"
     ]
    }
   ],
   "source": [
    "heart_train, heart_test = train_test_split(heart_disease_final, test_size=0.25, random_state=123) # set the random state to be 123\n",
    "print(heart_train.head())\n",
    "print(heart_test.head())"
   ]
  },
  {
   "cell_type": "markdown",
   "id": "1c1e4b08-151e-4f2f-81f7-2627e693b521",
   "metadata": {},
   "source": [
    "### Summary Tables"
   ]
  },
  {
   "cell_type": "markdown",
   "id": "baff41f0-c2df-4bbf-baca-eb9026350716",
   "metadata": {},
   "source": [
    "First, we started by creating a dataframe grouped by chest pain type to see summarized count of each variable for each chest pain type"
   ]
  },
  {
   "cell_type": "code",
   "execution_count": 6,
   "id": "dbc4bcfe-5539-4533-be85-b917dfa3076d",
   "metadata": {},
   "outputs": [
    {
     "data": {
      "text/html": [
       "<div>\n",
       "<style scoped>\n",
       "    .dataframe tbody tr th:only-of-type {\n",
       "        vertical-align: middle;\n",
       "    }\n",
       "\n",
       "    .dataframe tbody tr th {\n",
       "        vertical-align: top;\n",
       "    }\n",
       "\n",
       "    .dataframe thead th {\n",
       "        text-align: right;\n",
       "    }\n",
       "</style>\n",
       "<table border=\"1\" class=\"dataframe\">\n",
       "  <thead>\n",
       "    <tr style=\"text-align: right;\">\n",
       "      <th></th>\n",
       "      <th>Age</th>\n",
       "      <th>Sex</th>\n",
       "      <th>Fasting_Blood_Sugar</th>\n",
       "      <th>Max_Heart_Rate</th>\n",
       "      <th>Exercise_Induced_Angina</th>\n",
       "      <th>Diagnosis</th>\n",
       "    </tr>\n",
       "    <tr>\n",
       "      <th>Chest_Pain_Type</th>\n",
       "      <th></th>\n",
       "      <th></th>\n",
       "      <th></th>\n",
       "      <th></th>\n",
       "      <th></th>\n",
       "      <th></th>\n",
       "    </tr>\n",
       "  </thead>\n",
       "  <tbody>\n",
       "    <tr>\n",
       "      <th>1</th>\n",
       "      <td>16</td>\n",
       "      <td>16</td>\n",
       "      <td>16</td>\n",
       "      <td>16</td>\n",
       "      <td>16</td>\n",
       "      <td>16</td>\n",
       "    </tr>\n",
       "    <tr>\n",
       "      <th>2</th>\n",
       "      <td>35</td>\n",
       "      <td>35</td>\n",
       "      <td>35</td>\n",
       "      <td>35</td>\n",
       "      <td>35</td>\n",
       "      <td>35</td>\n",
       "    </tr>\n",
       "    <tr>\n",
       "      <th>3</th>\n",
       "      <td>72</td>\n",
       "      <td>72</td>\n",
       "      <td>72</td>\n",
       "      <td>72</td>\n",
       "      <td>72</td>\n",
       "      <td>72</td>\n",
       "    </tr>\n",
       "    <tr>\n",
       "      <th>4</th>\n",
       "      <td>104</td>\n",
       "      <td>104</td>\n",
       "      <td>104</td>\n",
       "      <td>104</td>\n",
       "      <td>104</td>\n",
       "      <td>104</td>\n",
       "    </tr>\n",
       "  </tbody>\n",
       "</table>\n",
       "</div>"
      ],
      "text/plain": [
       "                 Age  Sex  Fasting_Blood_Sugar  Max_Heart_Rate  \\\n",
       "Chest_Pain_Type                                                  \n",
       "1                 16   16                   16              16   \n",
       "2                 35   35                   35              35   \n",
       "3                 72   72                   72              72   \n",
       "4                104  104                  104             104   \n",
       "\n",
       "                 Exercise_Induced_Angina  Diagnosis  \n",
       "Chest_Pain_Type                                      \n",
       "1                                     16         16  \n",
       "2                                     35         35  \n",
       "3                                     72         72  \n",
       "4                                    104        104  "
      ]
     },
     "execution_count": 6,
     "metadata": {},
     "output_type": "execute_result"
    }
   ],
   "source": [
    "# Grouping by Chest_Pain_Type to see count of each variable for every chest pain type\n",
    "chest_pain_grouped = heart_train.groupby(\"Chest_Pain_Type\").agg(\"count\")\n",
    "chest_pain_grouped"
   ]
  },
  {
   "cell_type": "markdown",
   "id": "cc9d6cc4-278a-4699-8b6e-6c0b3280546f",
   "metadata": {},
   "source": [
    "## We created a table in order to count the amount of chest pain type experienced in general."
   ]
  },
  {
   "cell_type": "code",
   "execution_count": 7,
   "id": "a32d08e7-e073-47b8-877f-ba4719a7abbe",
   "metadata": {},
   "outputs": [
    {
     "data": {
      "text/html": [
       "<div>\n",
       "<style scoped>\n",
       "    .dataframe tbody tr th:only-of-type {\n",
       "        vertical-align: middle;\n",
       "    }\n",
       "\n",
       "    .dataframe tbody tr th {\n",
       "        vertical-align: top;\n",
       "    }\n",
       "\n",
       "    .dataframe thead th {\n",
       "        text-align: right;\n",
       "    }\n",
       "</style>\n",
       "<table border=\"1\" class=\"dataframe\">\n",
       "  <thead>\n",
       "    <tr style=\"text-align: right;\">\n",
       "      <th></th>\n",
       "      <th>Chest_Pain_Type</th>\n",
       "      <th>Count</th>\n",
       "    </tr>\n",
       "  </thead>\n",
       "  <tbody>\n",
       "    <tr>\n",
       "      <th>0</th>\n",
       "      <td>1</td>\n",
       "      <td>16</td>\n",
       "    </tr>\n",
       "    <tr>\n",
       "      <th>1</th>\n",
       "      <td>2</td>\n",
       "      <td>35</td>\n",
       "    </tr>\n",
       "    <tr>\n",
       "      <th>2</th>\n",
       "      <td>3</td>\n",
       "      <td>72</td>\n",
       "    </tr>\n",
       "    <tr>\n",
       "      <th>3</th>\n",
       "      <td>4</td>\n",
       "      <td>104</td>\n",
       "    </tr>\n",
       "  </tbody>\n",
       "</table>\n",
       "</div>"
      ],
      "text/plain": [
       "   Chest_Pain_Type  Count\n",
       "0                1     16\n",
       "1                2     35\n",
       "2                3     72\n",
       "3                4    104"
      ]
     },
     "execution_count": 7,
     "metadata": {},
     "output_type": "execute_result"
    }
   ],
   "source": [
    "# Selecting the needed columns to utilize in counting the amount of chest pain type experienced\n",
    "chest_pain_type_count = heart_train.loc[:,[\"Chest_Pain_Type\",\"Age\"]]\n",
    "\n",
    "# Grouping by chest pain type and counting how many experience each chest pain type\n",
    "chest_pain_type_count = chest_pain_type_count.groupby(\"Chest_Pain_Type\").agg([\"count\"]).reset_index()\n",
    "\n",
    "# Renaming the columns into the correct names\n",
    "chest_pain_type_count.columns=(\"Chest_Pain_Type\", \"Count\")\n",
    "chest_pain_type_count"
   ]
  },
  {
   "cell_type": "markdown",
   "id": "39b2d00d-3fd5-488a-a336-08e1ab12599b",
   "metadata": {},
   "source": [
    "#### Count of True Diagnosis for each Chest Pain Type"
   ]
  },
  {
   "cell_type": "markdown",
   "id": "80a0b18a-41ba-481e-9bf9-79a4f3b53f15",
   "metadata": {},
   "source": [
    "We created a table that shows the chest pain type and the count of positive diagnosis (meaning the person experiencing that chest pain type was diagnosed with heart disease). "
   ]
  },
  {
   "cell_type": "code",
   "execution_count": 8,
   "id": "97ed4c71-def9-4cf3-8775-1795171ecb3a",
   "metadata": {},
   "outputs": [
    {
     "data": {
      "text/html": [
       "<div>\n",
       "<style scoped>\n",
       "    .dataframe tbody tr th:only-of-type {\n",
       "        vertical-align: middle;\n",
       "    }\n",
       "\n",
       "    .dataframe tbody tr th {\n",
       "        vertical-align: top;\n",
       "    }\n",
       "\n",
       "    .dataframe thead th {\n",
       "        text-align: right;\n",
       "    }\n",
       "</style>\n",
       "<table border=\"1\" class=\"dataframe\">\n",
       "  <thead>\n",
       "    <tr style=\"text-align: right;\">\n",
       "      <th></th>\n",
       "      <th>Chest_Pain_Type</th>\n",
       "      <th>True_Diagnosis_Count</th>\n",
       "    </tr>\n",
       "  </thead>\n",
       "  <tbody>\n",
       "    <tr>\n",
       "      <th>0</th>\n",
       "      <td>1</td>\n",
       "      <td>5</td>\n",
       "    </tr>\n",
       "    <tr>\n",
       "      <th>1</th>\n",
       "      <td>2</td>\n",
       "      <td>6</td>\n",
       "    </tr>\n",
       "    <tr>\n",
       "      <th>2</th>\n",
       "      <td>3</td>\n",
       "      <td>16</td>\n",
       "    </tr>\n",
       "    <tr>\n",
       "      <th>3</th>\n",
       "      <td>4</td>\n",
       "      <td>78</td>\n",
       "    </tr>\n",
       "  </tbody>\n",
       "</table>\n",
       "</div>"
      ],
      "text/plain": [
       "   Chest_Pain_Type  True_Diagnosis_Count\n",
       "0                1                     5\n",
       "1                2                     6\n",
       "2                3                    16\n",
       "3                4                    78"
      ]
     },
     "execution_count": 8,
     "metadata": {},
     "output_type": "execute_result"
    }
   ],
   "source": [
    "# Taking only the rows where diagnosis is 1\n",
    "diagnosis_true = heart_train[heart_train[\"Diagnosis\"]==True] \n",
    "diagnosis_true\n",
    "\n",
    "# Grouping by chest pain type and counting the variables for each class\n",
    "chest_pain = diagnosis_true.groupby(\"Chest_Pain_Type\").agg(\"count\").reset_index()\n",
    "chest_pain\n",
    "\n",
    "# Showing only the columns Chest_Pain_Type and Diagnosis\n",
    "chest_pain_true = chest_pain.loc[:, [\"Chest_Pain_Type\", \"Diagnosis\"]]\n",
    "chest_pain_true.columns = (\"Chest_Pain_Type\", \"True_Diagnosis_Count\")\n",
    "chest_pain_true"
   ]
  },
  {
   "cell_type": "markdown",
   "id": "7b6e4bcd-a93b-4e57-826d-3ea72d82d2b3",
   "metadata": {},
   "source": [
    "#### Count of False Diagnosis for each Chest Pain Type"
   ]
  },
  {
   "cell_type": "code",
   "execution_count": 9,
   "id": "7454c06a-bf0f-4ab0-847a-cdc4bf9aeabb",
   "metadata": {},
   "outputs": [
    {
     "data": {
      "text/html": [
       "<div>\n",
       "<style scoped>\n",
       "    .dataframe tbody tr th:only-of-type {\n",
       "        vertical-align: middle;\n",
       "    }\n",
       "\n",
       "    .dataframe tbody tr th {\n",
       "        vertical-align: top;\n",
       "    }\n",
       "\n",
       "    .dataframe thead th {\n",
       "        text-align: right;\n",
       "    }\n",
       "</style>\n",
       "<table border=\"1\" class=\"dataframe\">\n",
       "  <thead>\n",
       "    <tr style=\"text-align: right;\">\n",
       "      <th></th>\n",
       "      <th>Chest_Pain_Type</th>\n",
       "      <th>False_Diagnosis_Count</th>\n",
       "    </tr>\n",
       "  </thead>\n",
       "  <tbody>\n",
       "    <tr>\n",
       "      <th>0</th>\n",
       "      <td>1</td>\n",
       "      <td>11</td>\n",
       "    </tr>\n",
       "    <tr>\n",
       "      <th>1</th>\n",
       "      <td>2</td>\n",
       "      <td>29</td>\n",
       "    </tr>\n",
       "    <tr>\n",
       "      <th>2</th>\n",
       "      <td>3</td>\n",
       "      <td>56</td>\n",
       "    </tr>\n",
       "    <tr>\n",
       "      <th>3</th>\n",
       "      <td>4</td>\n",
       "      <td>26</td>\n",
       "    </tr>\n",
       "  </tbody>\n",
       "</table>\n",
       "</div>"
      ],
      "text/plain": [
       "   Chest_Pain_Type  False_Diagnosis_Count\n",
       "0                1                     11\n",
       "1                2                     29\n",
       "2                3                     56\n",
       "3                4                     26"
      ]
     },
     "execution_count": 9,
     "metadata": {},
     "output_type": "execute_result"
    }
   ],
   "source": [
    "# Taking only the rows where diagnosis is 1\n",
    "diagnosis_false = heart_train[heart_train[\"Diagnosis\"]==False] \n",
    "diagnosis_false\n",
    "\n",
    "# # Grouping by chest pain type and counting the variables for each class\n",
    "chest_pain = diagnosis_false.groupby(\"Chest_Pain_Type\").agg(\"count\").reset_index()\n",
    "chest_pain\n",
    "\n",
    "# # Showing only the columns Chest_Pain_Type and Diagnosis\n",
    "chest_pain_false = chest_pain.loc[:, [\"Chest_Pain_Type\", \"Diagnosis\"]]\n",
    "chest_pain_false.columns = (\"Chest_Pain_Type\", \"False_Diagnosis_Count\")\n",
    "chest_pain_false"
   ]
  },
  {
   "cell_type": "markdown",
   "id": "59ffec56-f355-4432-b199-c6c33974191e",
   "metadata": {},
   "source": [
    "### Visualizations"
   ]
  },
  {
   "cell_type": "markdown",
   "id": "606f292d-3877-470f-8197-1085959d6b37",
   "metadata": {},
   "source": [
    "We want to visualize a bar graph that displays the distribution of diagnosis for each chest pain type."
   ]
  },
  {
   "cell_type": "code",
   "execution_count": 68,
   "id": "19acfe0f-aaa4-4c27-b79e-2e5949df8d31",
   "metadata": {},
   "outputs": [
    {
     "data": {
      "application/vnd.vegalite.v4+json": {
       "$schema": "https://vega.github.io/schema/vega-lite/v4.17.0.json",
       "config": {
        "axis": {
         "labelFontSize": 18,
         "titleFontSize": 18
        },
        "title": {
         "fontSize": 20
        },
        "view": {
         "continuousHeight": 300,
         "continuousWidth": 400
        }
       },
       "data": {
        "name": "data-06129a7fa14977eaa5c234fa78f53e72"
       },
       "datasets": {
        "data-06129a7fa14977eaa5c234fa78f53e72": [
         {
          "Age": 43,
          "Chest_Pain_Type": 4,
          "Diagnosis": true,
          "Exercise_Induced_Angina": 1,
          "Fasting_Blood_Sugar": 0,
          "Max_Heart_Rate": 120,
          "Sex": true
         },
         {
          "Age": 45,
          "Chest_Pain_Type": 2,
          "Diagnosis": false,
          "Exercise_Induced_Angina": 0,
          "Fasting_Blood_Sugar": 0,
          "Max_Heart_Rate": 170,
          "Sex": true
         },
         {
          "Age": 58,
          "Chest_Pain_Type": 1,
          "Diagnosis": false,
          "Exercise_Induced_Angina": 0,
          "Fasting_Blood_Sugar": 1,
          "Max_Heart_Rate": 162,
          "Sex": false
         },
         {
          "Age": 66,
          "Chest_Pain_Type": 2,
          "Diagnosis": true,
          "Exercise_Induced_Angina": 1,
          "Fasting_Blood_Sugar": 0,
          "Max_Heart_Rate": 120,
          "Sex": true
         },
         {
          "Age": 77,
          "Chest_Pain_Type": 4,
          "Diagnosis": true,
          "Exercise_Induced_Angina": 1,
          "Fasting_Blood_Sugar": 0,
          "Max_Heart_Rate": 162,
          "Sex": true
         },
         {
          "Age": 62,
          "Chest_Pain_Type": 3,
          "Diagnosis": true,
          "Exercise_Induced_Angina": 0,
          "Fasting_Blood_Sugar": 0,
          "Max_Heart_Rate": 97,
          "Sex": false
         },
         {
          "Age": 56,
          "Chest_Pain_Type": 2,
          "Diagnosis": false,
          "Exercise_Induced_Angina": 0,
          "Fasting_Blood_Sugar": 0,
          "Max_Heart_Rate": 178,
          "Sex": true
         },
         {
          "Age": 71,
          "Chest_Pain_Type": 4,
          "Diagnosis": false,
          "Exercise_Induced_Angina": 0,
          "Fasting_Blood_Sugar": 0,
          "Max_Heart_Rate": 125,
          "Sex": false
         },
         {
          "Age": 39,
          "Chest_Pain_Type": 3,
          "Diagnosis": false,
          "Exercise_Induced_Angina": 0,
          "Fasting_Blood_Sugar": 0,
          "Max_Heart_Rate": 182,
          "Sex": true
         },
         {
          "Age": 57,
          "Chest_Pain_Type": 4,
          "Diagnosis": true,
          "Exercise_Induced_Angina": 1,
          "Fasting_Blood_Sugar": 0,
          "Max_Heart_Rate": 143,
          "Sex": true
         },
         {
          "Age": 60,
          "Chest_Pain_Type": 1,
          "Diagnosis": false,
          "Exercise_Induced_Angina": 0,
          "Fasting_Blood_Sugar": 0,
          "Max_Heart_Rate": 171,
          "Sex": false
         },
         {
          "Age": 57,
          "Chest_Pain_Type": 4,
          "Diagnosis": false,
          "Exercise_Induced_Angina": 1,
          "Fasting_Blood_Sugar": 0,
          "Max_Heart_Rate": 163,
          "Sex": false
         },
         {
          "Age": 54,
          "Chest_Pain_Type": 3,
          "Diagnosis": false,
          "Exercise_Induced_Angina": 0,
          "Fasting_Blood_Sugar": 0,
          "Max_Heart_Rate": 158,
          "Sex": false
         },
         {
          "Age": 44,
          "Chest_Pain_Type": 3,
          "Diagnosis": false,
          "Exercise_Induced_Angina": 0,
          "Fasting_Blood_Sugar": 0,
          "Max_Heart_Rate": 169,
          "Sex": true
         },
         {
          "Age": 55,
          "Chest_Pain_Type": 4,
          "Diagnosis": true,
          "Exercise_Induced_Angina": 1,
          "Fasting_Blood_Sugar": 0,
          "Max_Heart_Rate": 117,
          "Sex": false
         },
         {
          "Age": 70,
          "Chest_Pain_Type": 3,
          "Diagnosis": true,
          "Exercise_Induced_Angina": 1,
          "Fasting_Blood_Sugar": 0,
          "Max_Heart_Rate": 112,
          "Sex": true
         },
         {
          "Age": 29,
          "Chest_Pain_Type": 2,
          "Diagnosis": false,
          "Exercise_Induced_Angina": 0,
          "Fasting_Blood_Sugar": 0,
          "Max_Heart_Rate": 202,
          "Sex": true
         },
         {
          "Age": 70,
          "Chest_Pain_Type": 4,
          "Diagnosis": true,
          "Exercise_Induced_Angina": 1,
          "Fasting_Blood_Sugar": 0,
          "Max_Heart_Rate": 125,
          "Sex": true
         },
         {
          "Age": 58,
          "Chest_Pain_Type": 4,
          "Diagnosis": true,
          "Exercise_Induced_Angina": 1,
          "Fasting_Blood_Sugar": 1,
          "Max_Heart_Rate": 146,
          "Sex": false
         },
         {
          "Age": 52,
          "Chest_Pain_Type": 3,
          "Diagnosis": false,
          "Exercise_Induced_Angina": 0,
          "Fasting_Blood_Sugar": 0,
          "Max_Heart_Rate": 169,
          "Sex": true
         },
         {
          "Age": 42,
          "Chest_Pain_Type": 4,
          "Diagnosis": false,
          "Exercise_Induced_Angina": 0,
          "Fasting_Blood_Sugar": 0,
          "Max_Heart_Rate": 122,
          "Sex": false
         },
         {
          "Age": 50,
          "Chest_Pain_Type": 3,
          "Diagnosis": false,
          "Exercise_Induced_Angina": 0,
          "Fasting_Blood_Sugar": 0,
          "Max_Heart_Rate": 163,
          "Sex": true
         },
         {
          "Age": 54,
          "Chest_Pain_Type": 2,
          "Diagnosis": true,
          "Exercise_Induced_Angina": 0,
          "Fasting_Blood_Sugar": 0,
          "Max_Heart_Rate": 195,
          "Sex": true
         },
         {
          "Age": 55,
          "Chest_Pain_Type": 2,
          "Diagnosis": false,
          "Exercise_Induced_Angina": 0,
          "Fasting_Blood_Sugar": 0,
          "Max_Heart_Rate": 166,
          "Sex": false
         },
         {
          "Age": 52,
          "Chest_Pain_Type": 4,
          "Diagnosis": true,
          "Exercise_Induced_Angina": 0,
          "Fasting_Blood_Sugar": 0,
          "Max_Heart_Rate": 168,
          "Sex": true
         },
         {
          "Age": 57,
          "Chest_Pain_Type": 4,
          "Diagnosis": true,
          "Exercise_Induced_Angina": 1,
          "Fasting_Blood_Sugar": 0,
          "Max_Heart_Rate": 112,
          "Sex": true
         },
         {
          "Age": 44,
          "Chest_Pain_Type": 3,
          "Diagnosis": false,
          "Exercise_Induced_Angina": 1,
          "Fasting_Blood_Sugar": 0,
          "Max_Heart_Rate": 179,
          "Sex": true
         },
         {
          "Age": 54,
          "Chest_Pain_Type": 4,
          "Diagnosis": true,
          "Exercise_Induced_Angina": 1,
          "Fasting_Blood_Sugar": 0,
          "Max_Heart_Rate": 109,
          "Sex": true
         },
         {
          "Age": 62,
          "Chest_Pain_Type": 4,
          "Diagnosis": true,
          "Exercise_Induced_Angina": 0,
          "Fasting_Blood_Sugar": 0,
          "Max_Heart_Rate": 145,
          "Sex": false
         },
         {
          "Age": 58,
          "Chest_Pain_Type": 3,
          "Diagnosis": true,
          "Exercise_Induced_Angina": 0,
          "Fasting_Blood_Sugar": 0,
          "Max_Heart_Rate": 173,
          "Sex": true
         },
         {
          "Age": 62,
          "Chest_Pain_Type": 4,
          "Diagnosis": false,
          "Exercise_Induced_Angina": 0,
          "Fasting_Blood_Sugar": 0,
          "Max_Heart_Rate": 157,
          "Sex": false
         },
         {
          "Age": 42,
          "Chest_Pain_Type": 2,
          "Diagnosis": false,
          "Exercise_Induced_Angina": 0,
          "Fasting_Blood_Sugar": 0,
          "Max_Heart_Rate": 162,
          "Sex": true
         },
         {
          "Age": 62,
          "Chest_Pain_Type": 2,
          "Diagnosis": true,
          "Exercise_Induced_Angina": 0,
          "Fasting_Blood_Sugar": 0,
          "Max_Heart_Rate": 103,
          "Sex": true
         },
         {
          "Age": 45,
          "Chest_Pain_Type": 2,
          "Diagnosis": false,
          "Exercise_Induced_Angina": 0,
          "Fasting_Blood_Sugar": 0,
          "Max_Heart_Rate": 175,
          "Sex": false
         },
         {
          "Age": 57,
          "Chest_Pain_Type": 4,
          "Diagnosis": false,
          "Exercise_Induced_Angina": 0,
          "Fasting_Blood_Sugar": 0,
          "Max_Heart_Rate": 148,
          "Sex": true
         },
         {
          "Age": 46,
          "Chest_Pain_Type": 4,
          "Diagnosis": true,
          "Exercise_Induced_Angina": 1,
          "Fasting_Blood_Sugar": 0,
          "Max_Heart_Rate": 120,
          "Sex": true
         },
         {
          "Age": 43,
          "Chest_Pain_Type": 4,
          "Diagnosis": false,
          "Exercise_Induced_Angina": 0,
          "Fasting_Blood_Sugar": 0,
          "Max_Heart_Rate": 171,
          "Sex": true
         },
         {
          "Age": 58,
          "Chest_Pain_Type": 4,
          "Diagnosis": true,
          "Exercise_Induced_Angina": 1,
          "Fasting_Blood_Sugar": 0,
          "Max_Heart_Rate": 111,
          "Sex": true
         },
         {
          "Age": 46,
          "Chest_Pain_Type": 2,
          "Diagnosis": false,
          "Exercise_Induced_Angina": 0,
          "Fasting_Blood_Sugar": 1,
          "Max_Heart_Rate": 156,
          "Sex": true
         },
         {
          "Age": 46,
          "Chest_Pain_Type": 4,
          "Diagnosis": true,
          "Exercise_Induced_Angina": 0,
          "Fasting_Blood_Sugar": 0,
          "Max_Heart_Rate": 144,
          "Sex": true
         },
         {
          "Age": 59,
          "Chest_Pain_Type": 4,
          "Diagnosis": false,
          "Exercise_Induced_Angina": 0,
          "Fasting_Blood_Sugar": 0,
          "Max_Heart_Rate": 161,
          "Sex": true
         },
         {
          "Age": 41,
          "Chest_Pain_Type": 3,
          "Diagnosis": false,
          "Exercise_Induced_Angina": 0,
          "Fasting_Blood_Sugar": 0,
          "Max_Heart_Rate": 179,
          "Sex": true
         },
         {
          "Age": 60,
          "Chest_Pain_Type": 3,
          "Diagnosis": true,
          "Exercise_Induced_Angina": 0,
          "Fasting_Blood_Sugar": 0,
          "Max_Heart_Rate": 155,
          "Sex": true
         },
         {
          "Age": 58,
          "Chest_Pain_Type": 2,
          "Diagnosis": false,
          "Exercise_Induced_Angina": 0,
          "Fasting_Blood_Sugar": 0,
          "Max_Heart_Rate": 144,
          "Sex": true
         },
         {
          "Age": 42,
          "Chest_Pain_Type": 4,
          "Diagnosis": true,
          "Exercise_Induced_Angina": 1,
          "Fasting_Blood_Sugar": 0,
          "Max_Heart_Rate": 125,
          "Sex": true
         },
         {
          "Age": 44,
          "Chest_Pain_Type": 2,
          "Diagnosis": false,
          "Exercise_Induced_Angina": 0,
          "Fasting_Blood_Sugar": 0,
          "Max_Heart_Rate": 170,
          "Sex": true
         },
         {
          "Age": 52,
          "Chest_Pain_Type": 1,
          "Diagnosis": false,
          "Exercise_Induced_Angina": 0,
          "Fasting_Blood_Sugar": 0,
          "Max_Heart_Rate": 190,
          "Sex": true
         },
         {
          "Age": 46,
          "Chest_Pain_Type": 3,
          "Diagnosis": true,
          "Exercise_Induced_Angina": 0,
          "Fasting_Blood_Sugar": 0,
          "Max_Heart_Rate": 147,
          "Sex": true
         },
         {
          "Age": 41,
          "Chest_Pain_Type": 2,
          "Diagnosis": false,
          "Exercise_Induced_Angina": 0,
          "Fasting_Blood_Sugar": 0,
          "Max_Heart_Rate": 172,
          "Sex": false
         },
         {
          "Age": 45,
          "Chest_Pain_Type": 4,
          "Diagnosis": false,
          "Exercise_Induced_Angina": 0,
          "Fasting_Blood_Sugar": 0,
          "Max_Heart_Rate": 185,
          "Sex": true
         },
         {
          "Age": 54,
          "Chest_Pain_Type": 4,
          "Diagnosis": true,
          "Exercise_Induced_Angina": 1,
          "Fasting_Blood_Sugar": 0,
          "Max_Heart_Rate": 126,
          "Sex": true
         },
         {
          "Age": 54,
          "Chest_Pain_Type": 3,
          "Diagnosis": false,
          "Exercise_Induced_Angina": 0,
          "Fasting_Blood_Sugar": 0,
          "Max_Heart_Rate": 167,
          "Sex": false
         },
         {
          "Age": 49,
          "Chest_Pain_Type": 2,
          "Diagnosis": false,
          "Exercise_Induced_Angina": 0,
          "Fasting_Blood_Sugar": 0,
          "Max_Heart_Rate": 162,
          "Sex": false
         },
         {
          "Age": 44,
          "Chest_Pain_Type": 3,
          "Diagnosis": false,
          "Exercise_Induced_Angina": 0,
          "Fasting_Blood_Sugar": 0,
          "Max_Heart_Rate": 180,
          "Sex": true
         },
         {
          "Age": 58,
          "Chest_Pain_Type": 4,
          "Diagnosis": true,
          "Exercise_Induced_Angina": 1,
          "Fasting_Blood_Sugar": 0,
          "Max_Heart_Rate": 130,
          "Sex": true
         },
         {
          "Age": 67,
          "Chest_Pain_Type": 3,
          "Diagnosis": false,
          "Exercise_Induced_Angina": 0,
          "Fasting_Blood_Sugar": 0,
          "Max_Heart_Rate": 160,
          "Sex": false
         },
         {
          "Age": 37,
          "Chest_Pain_Type": 3,
          "Diagnosis": false,
          "Exercise_Induced_Angina": 0,
          "Fasting_Blood_Sugar": 0,
          "Max_Heart_Rate": 170,
          "Sex": false
         },
         {
          "Age": 41,
          "Chest_Pain_Type": 2,
          "Diagnosis": false,
          "Exercise_Induced_Angina": 0,
          "Fasting_Blood_Sugar": 0,
          "Max_Heart_Rate": 182,
          "Sex": true
         },
         {
          "Age": 64,
          "Chest_Pain_Type": 4,
          "Diagnosis": false,
          "Exercise_Induced_Angina": 1,
          "Fasting_Blood_Sugar": 0,
          "Max_Heart_Rate": 105,
          "Sex": true
         },
         {
          "Age": 51,
          "Chest_Pain_Type": 3,
          "Diagnosis": false,
          "Exercise_Induced_Angina": 1,
          "Fasting_Blood_Sugar": 0,
          "Max_Heart_Rate": 143,
          "Sex": true
         },
         {
          "Age": 58,
          "Chest_Pain_Type": 3,
          "Diagnosis": false,
          "Exercise_Induced_Angina": 1,
          "Fasting_Blood_Sugar": 0,
          "Max_Heart_Rate": 154,
          "Sex": true
         },
         {
          "Age": 51,
          "Chest_Pain_Type": 3,
          "Diagnosis": false,
          "Exercise_Induced_Angina": 1,
          "Fasting_Blood_Sugar": 0,
          "Max_Heart_Rate": 154,
          "Sex": true
         },
         {
          "Age": 35,
          "Chest_Pain_Type": 4,
          "Diagnosis": true,
          "Exercise_Induced_Angina": 1,
          "Fasting_Blood_Sugar": 0,
          "Max_Heart_Rate": 130,
          "Sex": true
         },
         {
          "Age": 62,
          "Chest_Pain_Type": 3,
          "Diagnosis": false,
          "Exercise_Induced_Angina": 0,
          "Fasting_Blood_Sugar": 0,
          "Max_Heart_Rate": 146,
          "Sex": true
         },
         {
          "Age": 47,
          "Chest_Pain_Type": 4,
          "Diagnosis": false,
          "Exercise_Induced_Angina": 0,
          "Fasting_Blood_Sugar": 0,
          "Max_Heart_Rate": 143,
          "Sex": true
         },
         {
          "Age": 58,
          "Chest_Pain_Type": 4,
          "Diagnosis": true,
          "Exercise_Induced_Angina": 1,
          "Fasting_Blood_Sugar": 0,
          "Max_Heart_Rate": 131,
          "Sex": true
         },
         {
          "Age": 56,
          "Chest_Pain_Type": 2,
          "Diagnosis": false,
          "Exercise_Induced_Angina": 0,
          "Fasting_Blood_Sugar": 0,
          "Max_Heart_Rate": 169,
          "Sex": true
         },
         {
          "Age": 58,
          "Chest_Pain_Type": 4,
          "Diagnosis": true,
          "Exercise_Induced_Angina": 0,
          "Fasting_Blood_Sugar": 0,
          "Max_Heart_Rate": 156,
          "Sex": true
         },
         {
          "Age": 59,
          "Chest_Pain_Type": 3,
          "Diagnosis": true,
          "Exercise_Induced_Angina": 0,
          "Fasting_Blood_Sugar": 1,
          "Max_Heart_Rate": 134,
          "Sex": true
         },
         {
          "Age": 57,
          "Chest_Pain_Type": 2,
          "Diagnosis": true,
          "Exercise_Induced_Angina": 0,
          "Fasting_Blood_Sugar": 0,
          "Max_Heart_Rate": 174,
          "Sex": false
         },
         {
          "Age": 54,
          "Chest_Pain_Type": 3,
          "Diagnosis": false,
          "Exercise_Induced_Angina": 0,
          "Fasting_Blood_Sugar": 0,
          "Max_Heart_Rate": 147,
          "Sex": true
         },
         {
          "Age": 43,
          "Chest_Pain_Type": 4,
          "Diagnosis": false,
          "Exercise_Induced_Angina": 0,
          "Fasting_Blood_Sugar": 0,
          "Max_Heart_Rate": 181,
          "Sex": true
         },
         {
          "Age": 41,
          "Chest_Pain_Type": 2,
          "Diagnosis": false,
          "Exercise_Induced_Angina": 0,
          "Fasting_Blood_Sugar": 0,
          "Max_Heart_Rate": 168,
          "Sex": false
         },
         {
          "Age": 60,
          "Chest_Pain_Type": 4,
          "Diagnosis": true,
          "Exercise_Induced_Angina": 0,
          "Fasting_Blood_Sugar": 0,
          "Max_Heart_Rate": 157,
          "Sex": false
         },
         {
          "Age": 39,
          "Chest_Pain_Type": 3,
          "Diagnosis": false,
          "Exercise_Induced_Angina": 0,
          "Fasting_Blood_Sugar": 0,
          "Max_Heart_Rate": 152,
          "Sex": false
         },
         {
          "Age": 57,
          "Chest_Pain_Type": 4,
          "Diagnosis": true,
          "Exercise_Induced_Angina": 1,
          "Fasting_Blood_Sugar": 0,
          "Max_Heart_Rate": 115,
          "Sex": true
         },
         {
          "Age": 63,
          "Chest_Pain_Type": 4,
          "Diagnosis": true,
          "Exercise_Induced_Angina": 1,
          "Fasting_Blood_Sugar": 0,
          "Max_Heart_Rate": 136,
          "Sex": false
         },
         {
          "Age": 49,
          "Chest_Pain_Type": 4,
          "Diagnosis": false,
          "Exercise_Induced_Angina": 0,
          "Fasting_Blood_Sugar": 0,
          "Max_Heart_Rate": 163,
          "Sex": false
         },
         {
          "Age": 70,
          "Chest_Pain_Type": 2,
          "Diagnosis": false,
          "Exercise_Induced_Angina": 0,
          "Fasting_Blood_Sugar": 0,
          "Max_Heart_Rate": 143,
          "Sex": true
         },
         {
          "Age": 44,
          "Chest_Pain_Type": 2,
          "Diagnosis": false,
          "Exercise_Induced_Angina": 0,
          "Fasting_Blood_Sugar": 0,
          "Max_Heart_Rate": 173,
          "Sex": true
         },
         {
          "Age": 43,
          "Chest_Pain_Type": 4,
          "Diagnosis": true,
          "Exercise_Induced_Angina": 1,
          "Fasting_Blood_Sugar": 1,
          "Max_Heart_Rate": 143,
          "Sex": true
         },
         {
          "Age": 57,
          "Chest_Pain_Type": 4,
          "Diagnosis": true,
          "Exercise_Induced_Angina": 1,
          "Fasting_Blood_Sugar": 0,
          "Max_Heart_Rate": 123,
          "Sex": false
         },
         {
          "Age": 68,
          "Chest_Pain_Type": 3,
          "Diagnosis": false,
          "Exercise_Induced_Angina": 0,
          "Fasting_Blood_Sugar": 0,
          "Max_Heart_Rate": 115,
          "Sex": false
         },
         {
          "Age": 66,
          "Chest_Pain_Type": 4,
          "Diagnosis": false,
          "Exercise_Induced_Angina": 0,
          "Fasting_Blood_Sugar": 0,
          "Max_Heart_Rate": 138,
          "Sex": true
         },
         {
          "Age": 45,
          "Chest_Pain_Type": 2,
          "Diagnosis": false,
          "Exercise_Induced_Angina": 0,
          "Fasting_Blood_Sugar": 0,
          "Max_Heart_Rate": 138,
          "Sex": false
         },
         {
          "Age": 67,
          "Chest_Pain_Type": 4,
          "Diagnosis": true,
          "Exercise_Induced_Angina": 1,
          "Fasting_Blood_Sugar": 0,
          "Max_Heart_Rate": 125,
          "Sex": true
         },
         {
          "Age": 56,
          "Chest_Pain_Type": 1,
          "Diagnosis": false,
          "Exercise_Induced_Angina": 0,
          "Fasting_Blood_Sugar": 0,
          "Max_Heart_Rate": 162,
          "Sex": true
         },
         {
          "Age": 43,
          "Chest_Pain_Type": 3,
          "Diagnosis": false,
          "Exercise_Induced_Angina": 0,
          "Fasting_Blood_Sugar": 0,
          "Max_Heart_Rate": 165,
          "Sex": false
         },
         {
          "Age": 63,
          "Chest_Pain_Type": 4,
          "Diagnosis": true,
          "Exercise_Induced_Angina": 0,
          "Fasting_Blood_Sugar": 0,
          "Max_Heart_Rate": 147,
          "Sex": true
         },
         {
          "Age": 51,
          "Chest_Pain_Type": 3,
          "Diagnosis": false,
          "Exercise_Induced_Angina": 0,
          "Fasting_Blood_Sugar": 0,
          "Max_Heart_Rate": 142,
          "Sex": false
         },
         {
          "Age": 54,
          "Chest_Pain_Type": 3,
          "Diagnosis": false,
          "Exercise_Induced_Angina": 0,
          "Fasting_Blood_Sugar": 0,
          "Max_Heart_Rate": 152,
          "Sex": true
         },
         {
          "Age": 56,
          "Chest_Pain_Type": 4,
          "Diagnosis": true,
          "Exercise_Induced_Angina": 1,
          "Fasting_Blood_Sugar": 0,
          "Max_Heart_Rate": 150,
          "Sex": false
         },
         {
          "Age": 64,
          "Chest_Pain_Type": 4,
          "Diagnosis": false,
          "Exercise_Induced_Angina": 0,
          "Fasting_Blood_Sugar": 0,
          "Max_Heart_Rate": 122,
          "Sex": false
         },
         {
          "Age": 65,
          "Chest_Pain_Type": 4,
          "Diagnosis": true,
          "Exercise_Induced_Angina": 0,
          "Fasting_Blood_Sugar": 0,
          "Max_Heart_Rate": 127,
          "Sex": true
         },
         {
          "Age": 48,
          "Chest_Pain_Type": 3,
          "Diagnosis": false,
          "Exercise_Induced_Angina": 0,
          "Fasting_Blood_Sugar": 1,
          "Max_Heart_Rate": 175,
          "Sex": true
         },
         {
          "Age": 58,
          "Chest_Pain_Type": 4,
          "Diagnosis": false,
          "Exercise_Induced_Angina": 0,
          "Fasting_Blood_Sugar": 0,
          "Max_Heart_Rate": 131,
          "Sex": false
         },
         {
          "Age": 54,
          "Chest_Pain_Type": 3,
          "Diagnosis": false,
          "Exercise_Induced_Angina": 0,
          "Fasting_Blood_Sugar": 1,
          "Max_Heart_Rate": 170,
          "Sex": false
         },
         {
          "Age": 61,
          "Chest_Pain_Type": 4,
          "Diagnosis": true,
          "Exercise_Induced_Angina": 1,
          "Fasting_Blood_Sugar": 0,
          "Max_Heart_Rate": 140,
          "Sex": true
         },
         {
          "Age": 51,
          "Chest_Pain_Type": 4,
          "Diagnosis": true,
          "Exercise_Induced_Angina": 1,
          "Fasting_Blood_Sugar": 0,
          "Max_Heart_Rate": 173,
          "Sex": true
         },
         {
          "Age": 59,
          "Chest_Pain_Type": 1,
          "Diagnosis": true,
          "Exercise_Induced_Angina": 0,
          "Fasting_Blood_Sugar": 0,
          "Max_Heart_Rate": 159,
          "Sex": true
         },
         {
          "Age": 53,
          "Chest_Pain_Type": 4,
          "Diagnosis": false,
          "Exercise_Induced_Angina": 0,
          "Fasting_Blood_Sugar": 0,
          "Max_Heart_Rate": 160,
          "Sex": false
         },
         {
          "Age": 63,
          "Chest_Pain_Type": 2,
          "Diagnosis": false,
          "Exercise_Induced_Angina": 0,
          "Fasting_Blood_Sugar": 0,
          "Max_Heart_Rate": 179,
          "Sex": false
         },
         {
          "Age": 61,
          "Chest_Pain_Type": 1,
          "Diagnosis": true,
          "Exercise_Induced_Angina": 0,
          "Fasting_Blood_Sugar": 0,
          "Max_Heart_Rate": 145,
          "Sex": true
         },
         {
          "Age": 61,
          "Chest_Pain_Type": 4,
          "Diagnosis": true,
          "Exercise_Induced_Angina": 0,
          "Fasting_Blood_Sugar": 0,
          "Max_Heart_Rate": 169,
          "Sex": false
         },
         {
          "Age": 41,
          "Chest_Pain_Type": 2,
          "Diagnosis": false,
          "Exercise_Induced_Angina": 0,
          "Fasting_Blood_Sugar": 0,
          "Max_Heart_Rate": 153,
          "Sex": true
         },
         {
          "Age": 50,
          "Chest_Pain_Type": 4,
          "Diagnosis": true,
          "Exercise_Induced_Angina": 1,
          "Fasting_Blood_Sugar": 0,
          "Max_Heart_Rate": 126,
          "Sex": true
         },
         {
          "Age": 60,
          "Chest_Pain_Type": 4,
          "Diagnosis": true,
          "Exercise_Induced_Angina": 1,
          "Fasting_Blood_Sugar": 0,
          "Max_Heart_Rate": 142,
          "Sex": true
         },
         {
          "Age": 51,
          "Chest_Pain_Type": 4,
          "Diagnosis": true,
          "Exercise_Induced_Angina": 1,
          "Fasting_Blood_Sugar": 0,
          "Max_Heart_Rate": 142,
          "Sex": false
         },
         {
          "Age": 44,
          "Chest_Pain_Type": 3,
          "Diagnosis": false,
          "Exercise_Induced_Angina": 0,
          "Fasting_Blood_Sugar": 0,
          "Max_Heart_Rate": 175,
          "Sex": false
         },
         {
          "Age": 66,
          "Chest_Pain_Type": 3,
          "Diagnosis": false,
          "Exercise_Induced_Angina": 0,
          "Fasting_Blood_Sugar": 0,
          "Max_Heart_Rate": 152,
          "Sex": false
         },
         {
          "Age": 61,
          "Chest_Pain_Type": 4,
          "Diagnosis": true,
          "Exercise_Induced_Angina": 1,
          "Fasting_Blood_Sugar": 0,
          "Max_Heart_Rate": 125,
          "Sex": true
         },
         {
          "Age": 55,
          "Chest_Pain_Type": 4,
          "Diagnosis": true,
          "Exercise_Induced_Angina": 1,
          "Fasting_Blood_Sugar": 0,
          "Max_Heart_Rate": 130,
          "Sex": false
         },
         {
          "Age": 76,
          "Chest_Pain_Type": 3,
          "Diagnosis": false,
          "Exercise_Induced_Angina": 0,
          "Fasting_Blood_Sugar": 0,
          "Max_Heart_Rate": 116,
          "Sex": false
         },
         {
          "Age": 58,
          "Chest_Pain_Type": 4,
          "Diagnosis": true,
          "Exercise_Induced_Angina": 0,
          "Fasting_Blood_Sugar": 0,
          "Max_Heart_Rate": 171,
          "Sex": true
         },
         {
          "Age": 58,
          "Chest_Pain_Type": 4,
          "Diagnosis": false,
          "Exercise_Induced_Angina": 0,
          "Fasting_Blood_Sugar": 0,
          "Max_Heart_Rate": 122,
          "Sex": false
         },
         {
          "Age": 63,
          "Chest_Pain_Type": 1,
          "Diagnosis": false,
          "Exercise_Induced_Angina": 0,
          "Fasting_Blood_Sugar": 1,
          "Max_Heart_Rate": 150,
          "Sex": true
         },
         {
          "Age": 56,
          "Chest_Pain_Type": 4,
          "Diagnosis": true,
          "Exercise_Induced_Angina": 1,
          "Fasting_Blood_Sugar": 1,
          "Max_Heart_Rate": 103,
          "Sex": true
         },
         {
          "Age": 58,
          "Chest_Pain_Type": 3,
          "Diagnosis": true,
          "Exercise_Induced_Angina": 0,
          "Fasting_Blood_Sugar": 0,
          "Max_Heart_Rate": 165,
          "Sex": true
         },
         {
          "Age": 55,
          "Chest_Pain_Type": 4,
          "Diagnosis": true,
          "Exercise_Induced_Angina": 1,
          "Fasting_Blood_Sugar": 0,
          "Max_Heart_Rate": 145,
          "Sex": true
         },
         {
          "Age": 65,
          "Chest_Pain_Type": 4,
          "Diagnosis": true,
          "Exercise_Induced_Angina": 0,
          "Fasting_Blood_Sugar": 0,
          "Max_Heart_Rate": 114,
          "Sex": false
         },
         {
          "Age": 51,
          "Chest_Pain_Type": 1,
          "Diagnosis": false,
          "Exercise_Induced_Angina": 1,
          "Fasting_Blood_Sugar": 0,
          "Max_Heart_Rate": 125,
          "Sex": true
         },
         {
          "Age": 57,
          "Chest_Pain_Type": 3,
          "Diagnosis": false,
          "Exercise_Induced_Angina": 0,
          "Fasting_Blood_Sugar": 0,
          "Max_Heart_Rate": 174,
          "Sex": true
         },
         {
          "Age": 51,
          "Chest_Pain_Type": 3,
          "Diagnosis": false,
          "Exercise_Induced_Angina": 0,
          "Fasting_Blood_Sugar": 0,
          "Max_Heart_Rate": 123,
          "Sex": true
         },
         {
          "Age": 54,
          "Chest_Pain_Type": 4,
          "Diagnosis": true,
          "Exercise_Induced_Angina": 1,
          "Fasting_Blood_Sugar": 0,
          "Max_Heart_Rate": 116,
          "Sex": true
         },
         {
          "Age": 39,
          "Chest_Pain_Type": 4,
          "Diagnosis": true,
          "Exercise_Induced_Angina": 0,
          "Fasting_Blood_Sugar": 0,
          "Max_Heart_Rate": 140,
          "Sex": true
         },
         {
          "Age": 49,
          "Chest_Pain_Type": 3,
          "Diagnosis": true,
          "Exercise_Induced_Angina": 0,
          "Fasting_Blood_Sugar": 0,
          "Max_Heart_Rate": 139,
          "Sex": true
         },
         {
          "Age": 51,
          "Chest_Pain_Type": 4,
          "Diagnosis": false,
          "Exercise_Induced_Angina": 1,
          "Fasting_Blood_Sugar": 0,
          "Max_Heart_Rate": 186,
          "Sex": true
         },
         {
          "Age": 48,
          "Chest_Pain_Type": 2,
          "Diagnosis": true,
          "Exercise_Induced_Angina": 0,
          "Fasting_Blood_Sugar": 0,
          "Max_Heart_Rate": 168,
          "Sex": true
         },
         {
          "Age": 57,
          "Chest_Pain_Type": 2,
          "Diagnosis": true,
          "Exercise_Induced_Angina": 0,
          "Fasting_Blood_Sugar": 0,
          "Max_Heart_Rate": 164,
          "Sex": true
         },
         {
          "Age": 62,
          "Chest_Pain_Type": 4,
          "Diagnosis": true,
          "Exercise_Induced_Angina": 0,
          "Fasting_Blood_Sugar": 1,
          "Max_Heart_Rate": 106,
          "Sex": false
         },
         {
          "Age": 44,
          "Chest_Pain_Type": 3,
          "Diagnosis": false,
          "Exercise_Induced_Angina": 0,
          "Fasting_Blood_Sugar": 0,
          "Max_Heart_Rate": 149,
          "Sex": false
         },
         {
          "Age": 58,
          "Chest_Pain_Type": 3,
          "Diagnosis": false,
          "Exercise_Induced_Angina": 0,
          "Fasting_Blood_Sugar": 1,
          "Max_Heart_Rate": 165,
          "Sex": true
         },
         {
          "Age": 64,
          "Chest_Pain_Type": 1,
          "Diagnosis": false,
          "Exercise_Induced_Angina": 0,
          "Fasting_Blood_Sugar": 0,
          "Max_Heart_Rate": 155,
          "Sex": true
         },
         {
          "Age": 44,
          "Chest_Pain_Type": 4,
          "Diagnosis": true,
          "Exercise_Induced_Angina": 0,
          "Fasting_Blood_Sugar": 0,
          "Max_Heart_Rate": 177,
          "Sex": true
         },
         {
          "Age": 61,
          "Chest_Pain_Type": 4,
          "Diagnosis": true,
          "Exercise_Induced_Angina": 1,
          "Fasting_Blood_Sugar": 0,
          "Max_Heart_Rate": 146,
          "Sex": false
         },
         {
          "Age": 69,
          "Chest_Pain_Type": 3,
          "Diagnosis": true,
          "Exercise_Induced_Angina": 0,
          "Fasting_Blood_Sugar": 0,
          "Max_Heart_Rate": 146,
          "Sex": true
         },
         {
          "Age": 47,
          "Chest_Pain_Type": 3,
          "Diagnosis": true,
          "Exercise_Induced_Angina": 0,
          "Fasting_Blood_Sugar": 0,
          "Max_Heart_Rate": 152,
          "Sex": true
         },
         {
          "Age": 55,
          "Chest_Pain_Type": 4,
          "Diagnosis": true,
          "Exercise_Induced_Angina": 1,
          "Fasting_Blood_Sugar": 0,
          "Max_Heart_Rate": 132,
          "Sex": true
         },
         {
          "Age": 66,
          "Chest_Pain_Type": 1,
          "Diagnosis": false,
          "Exercise_Induced_Angina": 0,
          "Fasting_Blood_Sugar": 0,
          "Max_Heart_Rate": 114,
          "Sex": false
         },
         {
          "Age": 42,
          "Chest_Pain_Type": 1,
          "Diagnosis": false,
          "Exercise_Induced_Angina": 0,
          "Fasting_Blood_Sugar": 0,
          "Max_Heart_Rate": 178,
          "Sex": true
         },
         {
          "Age": 59,
          "Chest_Pain_Type": 2,
          "Diagnosis": false,
          "Exercise_Induced_Angina": 1,
          "Fasting_Blood_Sugar": 0,
          "Max_Heart_Rate": 164,
          "Sex": true
         },
         {
          "Age": 50,
          "Chest_Pain_Type": 2,
          "Diagnosis": false,
          "Exercise_Induced_Angina": 0,
          "Fasting_Blood_Sugar": 0,
          "Max_Heart_Rate": 162,
          "Sex": false
         },
         {
          "Age": 63,
          "Chest_Pain_Type": 4,
          "Diagnosis": true,
          "Exercise_Induced_Angina": 0,
          "Fasting_Blood_Sugar": 0,
          "Max_Heart_Rate": 154,
          "Sex": false
         },
         {
          "Age": 38,
          "Chest_Pain_Type": 1,
          "Diagnosis": true,
          "Exercise_Induced_Angina": 1,
          "Fasting_Blood_Sugar": 0,
          "Max_Heart_Rate": 182,
          "Sex": true
         },
         {
          "Age": 52,
          "Chest_Pain_Type": 3,
          "Diagnosis": false,
          "Exercise_Induced_Angina": 0,
          "Fasting_Blood_Sugar": 1,
          "Max_Heart_Rate": 162,
          "Sex": true
         },
         {
          "Age": 53,
          "Chest_Pain_Type": 3,
          "Diagnosis": false,
          "Exercise_Induced_Angina": 0,
          "Fasting_Blood_Sugar": 0,
          "Max_Heart_Rate": 115,
          "Sex": false
         },
         {
          "Age": 53,
          "Chest_Pain_Type": 4,
          "Diagnosis": true,
          "Exercise_Induced_Angina": 1,
          "Fasting_Blood_Sugar": 1,
          "Max_Heart_Rate": 155,
          "Sex": true
         },
         {
          "Age": 62,
          "Chest_Pain_Type": 4,
          "Diagnosis": true,
          "Exercise_Induced_Angina": 0,
          "Fasting_Blood_Sugar": 0,
          "Max_Heart_Rate": 160,
          "Sex": false
         },
         {
          "Age": 39,
          "Chest_Pain_Type": 3,
          "Diagnosis": false,
          "Exercise_Induced_Angina": 0,
          "Fasting_Blood_Sugar": 0,
          "Max_Heart_Rate": 179,
          "Sex": false
         },
         {
          "Age": 67,
          "Chest_Pain_Type": 3,
          "Diagnosis": false,
          "Exercise_Induced_Angina": 0,
          "Fasting_Blood_Sugar": 0,
          "Max_Heart_Rate": 172,
          "Sex": false
         },
         {
          "Age": 49,
          "Chest_Pain_Type": 3,
          "Diagnosis": true,
          "Exercise_Induced_Angina": 0,
          "Fasting_Blood_Sugar": 0,
          "Max_Heart_Rate": 126,
          "Sex": true
         },
         {
          "Age": 54,
          "Chest_Pain_Type": 3,
          "Diagnosis": false,
          "Exercise_Induced_Angina": 0,
          "Fasting_Blood_Sugar": 0,
          "Max_Heart_Rate": 163,
          "Sex": false
         },
         {
          "Age": 38,
          "Chest_Pain_Type": 3,
          "Diagnosis": false,
          "Exercise_Induced_Angina": 0,
          "Fasting_Blood_Sugar": 0,
          "Max_Heart_Rate": 173,
          "Sex": true
         },
         {
          "Age": 71,
          "Chest_Pain_Type": 3,
          "Diagnosis": false,
          "Exercise_Induced_Angina": 0,
          "Fasting_Blood_Sugar": 1,
          "Max_Heart_Rate": 130,
          "Sex": false
         },
         {
          "Age": 46,
          "Chest_Pain_Type": 4,
          "Diagnosis": false,
          "Exercise_Induced_Angina": 1,
          "Fasting_Blood_Sugar": 0,
          "Max_Heart_Rate": 152,
          "Sex": false
         },
         {
          "Age": 60,
          "Chest_Pain_Type": 3,
          "Diagnosis": false,
          "Exercise_Induced_Angina": 0,
          "Fasting_Blood_Sugar": 0,
          "Max_Heart_Rate": 160,
          "Sex": false
         },
         {
          "Age": 51,
          "Chest_Pain_Type": 3,
          "Diagnosis": false,
          "Exercise_Induced_Angina": 0,
          "Fasting_Blood_Sugar": 1,
          "Max_Heart_Rate": 166,
          "Sex": true
         },
         {
          "Age": 54,
          "Chest_Pain_Type": 3,
          "Diagnosis": false,
          "Exercise_Induced_Angina": 0,
          "Fasting_Blood_Sugar": 0,
          "Max_Heart_Rate": 165,
          "Sex": true
         },
         {
          "Age": 37,
          "Chest_Pain_Type": 3,
          "Diagnosis": false,
          "Exercise_Induced_Angina": 0,
          "Fasting_Blood_Sugar": 0,
          "Max_Heart_Rate": 187,
          "Sex": true
         },
         {
          "Age": 47,
          "Chest_Pain_Type": 3,
          "Diagnosis": false,
          "Exercise_Induced_Angina": 0,
          "Fasting_Blood_Sugar": 0,
          "Max_Heart_Rate": 156,
          "Sex": true
         },
         {
          "Age": 56,
          "Chest_Pain_Type": 4,
          "Diagnosis": true,
          "Exercise_Induced_Angina": 1,
          "Fasting_Blood_Sugar": 0,
          "Max_Heart_Rate": 105,
          "Sex": true
         },
         {
          "Age": 59,
          "Chest_Pain_Type": 4,
          "Diagnosis": false,
          "Exercise_Induced_Angina": 0,
          "Fasting_Blood_Sugar": 0,
          "Max_Heart_Rate": 182,
          "Sex": true
         },
         {
          "Age": 62,
          "Chest_Pain_Type": 2,
          "Diagnosis": false,
          "Exercise_Induced_Angina": 0,
          "Fasting_Blood_Sugar": 1,
          "Max_Heart_Rate": 140,
          "Sex": true
         },
         {
          "Age": 65,
          "Chest_Pain_Type": 3,
          "Diagnosis": false,
          "Exercise_Induced_Angina": 0,
          "Fasting_Blood_Sugar": 1,
          "Max_Heart_Rate": 157,
          "Sex": false
         },
         {
          "Age": 74,
          "Chest_Pain_Type": 2,
          "Diagnosis": false,
          "Exercise_Induced_Angina": 1,
          "Fasting_Blood_Sugar": 0,
          "Max_Heart_Rate": 121,
          "Sex": false
         },
         {
          "Age": 35,
          "Chest_Pain_Type": 4,
          "Diagnosis": false,
          "Exercise_Induced_Angina": 0,
          "Fasting_Blood_Sugar": 0,
          "Max_Heart_Rate": 182,
          "Sex": false
         },
         {
          "Age": 59,
          "Chest_Pain_Type": 4,
          "Diagnosis": true,
          "Exercise_Induced_Angina": 1,
          "Fasting_Blood_Sugar": 0,
          "Max_Heart_Rate": 143,
          "Sex": false
         },
         {
          "Age": 65,
          "Chest_Pain_Type": 4,
          "Diagnosis": false,
          "Exercise_Induced_Angina": 0,
          "Fasting_Blood_Sugar": 0,
          "Max_Heart_Rate": 140,
          "Sex": true
         },
         {
          "Age": 67,
          "Chest_Pain_Type": 4,
          "Diagnosis": true,
          "Exercise_Induced_Angina": 1,
          "Fasting_Blood_Sugar": 0,
          "Max_Heart_Rate": 108,
          "Sex": true
         },
         {
          "Age": 62,
          "Chest_Pain_Type": 4,
          "Diagnosis": true,
          "Exercise_Induced_Angina": 1,
          "Fasting_Blood_Sugar": 0,
          "Max_Heart_Rate": 154,
          "Sex": false
         },
         {
          "Age": 48,
          "Chest_Pain_Type": 3,
          "Diagnosis": false,
          "Exercise_Induced_Angina": 0,
          "Fasting_Blood_Sugar": 0,
          "Max_Heart_Rate": 139,
          "Sex": false
         },
         {
          "Age": 56,
          "Chest_Pain_Type": 3,
          "Diagnosis": true,
          "Exercise_Induced_Angina": 1,
          "Fasting_Blood_Sugar": 1,
          "Max_Heart_Rate": 142,
          "Sex": true
         },
         {
          "Age": 53,
          "Chest_Pain_Type": 3,
          "Diagnosis": false,
          "Exercise_Induced_Angina": 0,
          "Fasting_Blood_Sugar": 1,
          "Max_Heart_Rate": 152,
          "Sex": true
         },
         {
          "Age": 50,
          "Chest_Pain_Type": 3,
          "Diagnosis": true,
          "Exercise_Induced_Angina": 0,
          "Fasting_Blood_Sugar": 0,
          "Max_Heart_Rate": 163,
          "Sex": true
         },
         {
          "Age": 41,
          "Chest_Pain_Type": 3,
          "Diagnosis": false,
          "Exercise_Induced_Angina": 0,
          "Fasting_Blood_Sugar": 0,
          "Max_Heart_Rate": 168,
          "Sex": true
         },
         {
          "Age": 43,
          "Chest_Pain_Type": 3,
          "Diagnosis": false,
          "Exercise_Induced_Angina": 0,
          "Fasting_Blood_Sugar": 0,
          "Max_Heart_Rate": 162,
          "Sex": true
         },
         {
          "Age": 50,
          "Chest_Pain_Type": 3,
          "Diagnosis": false,
          "Exercise_Induced_Angina": 0,
          "Fasting_Blood_Sugar": 0,
          "Max_Heart_Rate": 158,
          "Sex": false
         },
         {
          "Age": 59,
          "Chest_Pain_Type": 1,
          "Diagnosis": false,
          "Exercise_Induced_Angina": 0,
          "Fasting_Blood_Sugar": 0,
          "Max_Heart_Rate": 145,
          "Sex": true
         },
         {
          "Age": 34,
          "Chest_Pain_Type": 1,
          "Diagnosis": false,
          "Exercise_Induced_Angina": 0,
          "Fasting_Blood_Sugar": 0,
          "Max_Heart_Rate": 174,
          "Sex": true
         },
         {
          "Age": 42,
          "Chest_Pain_Type": 3,
          "Diagnosis": false,
          "Exercise_Induced_Angina": 0,
          "Fasting_Blood_Sugar": 1,
          "Max_Heart_Rate": 194,
          "Sex": true
         },
         {
          "Age": 59,
          "Chest_Pain_Type": 3,
          "Diagnosis": false,
          "Exercise_Induced_Angina": 0,
          "Fasting_Blood_Sugar": 1,
          "Max_Heart_Rate": 157,
          "Sex": true
         },
         {
          "Age": 62,
          "Chest_Pain_Type": 4,
          "Diagnosis": false,
          "Exercise_Induced_Angina": 0,
          "Fasting_Blood_Sugar": 0,
          "Max_Heart_Rate": 163,
          "Sex": false
         },
         {
          "Age": 60,
          "Chest_Pain_Type": 3,
          "Diagnosis": false,
          "Exercise_Induced_Angina": 0,
          "Fasting_Blood_Sugar": 1,
          "Max_Heart_Rate": 96,
          "Sex": false
         },
         {
          "Age": 42,
          "Chest_Pain_Type": 3,
          "Diagnosis": false,
          "Exercise_Induced_Angina": 0,
          "Fasting_Blood_Sugar": 0,
          "Max_Heart_Rate": 173,
          "Sex": false
         },
         {
          "Age": 35,
          "Chest_Pain_Type": 2,
          "Diagnosis": false,
          "Exercise_Induced_Angina": 0,
          "Fasting_Blood_Sugar": 0,
          "Max_Heart_Rate": 174,
          "Sex": true
         },
         {
          "Age": 64,
          "Chest_Pain_Type": 4,
          "Diagnosis": true,
          "Exercise_Induced_Angina": 1,
          "Fasting_Blood_Sugar": 0,
          "Max_Heart_Rate": 96,
          "Sex": true
         },
         {
          "Age": 65,
          "Chest_Pain_Type": 3,
          "Diagnosis": false,
          "Exercise_Induced_Angina": 0,
          "Fasting_Blood_Sugar": 0,
          "Max_Heart_Rate": 148,
          "Sex": false
         },
         {
          "Age": 59,
          "Chest_Pain_Type": 1,
          "Diagnosis": true,
          "Exercise_Induced_Angina": 0,
          "Fasting_Blood_Sugar": 0,
          "Max_Heart_Rate": 162,
          "Sex": true
         },
         {
          "Age": 60,
          "Chest_Pain_Type": 4,
          "Diagnosis": true,
          "Exercise_Induced_Angina": 0,
          "Fasting_Blood_Sugar": 0,
          "Max_Heart_Rate": 170,
          "Sex": true
         },
         {
          "Age": 58,
          "Chest_Pain_Type": 4,
          "Diagnosis": true,
          "Exercise_Induced_Angina": 0,
          "Fasting_Blood_Sugar": 0,
          "Max_Heart_Rate": 140,
          "Sex": true
         },
         {
          "Age": 57,
          "Chest_Pain_Type": 4,
          "Diagnosis": true,
          "Exercise_Induced_Angina": 0,
          "Fasting_Blood_Sugar": 1,
          "Max_Heart_Rate": 124,
          "Sex": true
         },
         {
          "Age": 45,
          "Chest_Pain_Type": 4,
          "Diagnosis": true,
          "Exercise_Induced_Angina": 1,
          "Fasting_Blood_Sugar": 0,
          "Max_Heart_Rate": 147,
          "Sex": true
         },
         {
          "Age": 54,
          "Chest_Pain_Type": 4,
          "Diagnosis": true,
          "Exercise_Induced_Angina": 0,
          "Fasting_Blood_Sugar": 0,
          "Max_Heart_Rate": 113,
          "Sex": true
         },
         {
          "Age": 45,
          "Chest_Pain_Type": 1,
          "Diagnosis": true,
          "Exercise_Induced_Angina": 0,
          "Fasting_Blood_Sugar": 0,
          "Max_Heart_Rate": 132,
          "Sex": true
         },
         {
          "Age": 35,
          "Chest_Pain_Type": 4,
          "Diagnosis": true,
          "Exercise_Induced_Angina": 1,
          "Fasting_Blood_Sugar": 0,
          "Max_Heart_Rate": 156,
          "Sex": true
         },
         {
          "Age": 60,
          "Chest_Pain_Type": 4,
          "Diagnosis": true,
          "Exercise_Induced_Angina": 1,
          "Fasting_Blood_Sugar": 0,
          "Max_Heart_Rate": 141,
          "Sex": true
         },
         {
          "Age": 63,
          "Chest_Pain_Type": 4,
          "Diagnosis": true,
          "Exercise_Induced_Angina": 1,
          "Fasting_Blood_Sugar": 1,
          "Max_Heart_Rate": 132,
          "Sex": true
         },
         {
          "Age": 66,
          "Chest_Pain_Type": 4,
          "Diagnosis": true,
          "Exercise_Induced_Angina": 1,
          "Fasting_Blood_Sugar": 1,
          "Max_Heart_Rate": 165,
          "Sex": false
         },
         {
          "Age": 48,
          "Chest_Pain_Type": 4,
          "Diagnosis": true,
          "Exercise_Induced_Angina": 0,
          "Fasting_Blood_Sugar": 0,
          "Max_Heart_Rate": 166,
          "Sex": true
         },
         {
          "Age": 48,
          "Chest_Pain_Type": 4,
          "Diagnosis": false,
          "Exercise_Induced_Angina": 0,
          "Fasting_Blood_Sugar": 0,
          "Max_Heart_Rate": 186,
          "Sex": true
         },
         {
          "Age": 55,
          "Chest_Pain_Type": 2,
          "Diagnosis": false,
          "Exercise_Induced_Angina": 0,
          "Fasting_Blood_Sugar": 0,
          "Max_Heart_Rate": 161,
          "Sex": false
         },
         {
          "Age": 52,
          "Chest_Pain_Type": 4,
          "Diagnosis": false,
          "Exercise_Induced_Angina": 0,
          "Fasting_Blood_Sugar": 1,
          "Max_Heart_Rate": 147,
          "Sex": true
         },
         {
          "Age": 67,
          "Chest_Pain_Type": 3,
          "Diagnosis": true,
          "Exercise_Induced_Angina": 0,
          "Fasting_Blood_Sugar": 0,
          "Max_Heart_Rate": 150,
          "Sex": true
         },
         {
          "Age": 52,
          "Chest_Pain_Type": 2,
          "Diagnosis": false,
          "Exercise_Induced_Angina": 0,
          "Fasting_Blood_Sugar": 0,
          "Max_Heart_Rate": 172,
          "Sex": true
         },
         {
          "Age": 61,
          "Chest_Pain_Type": 3,
          "Diagnosis": false,
          "Exercise_Induced_Angina": 1,
          "Fasting_Blood_Sugar": 1,
          "Max_Heart_Rate": 137,
          "Sex": true
         },
         {
          "Age": 67,
          "Chest_Pain_Type": 4,
          "Diagnosis": true,
          "Exercise_Induced_Angina": 1,
          "Fasting_Blood_Sugar": 0,
          "Max_Heart_Rate": 129,
          "Sex": true
         },
         {
          "Age": 59,
          "Chest_Pain_Type": 4,
          "Diagnosis": true,
          "Exercise_Induced_Angina": 1,
          "Fasting_Blood_Sugar": 0,
          "Max_Heart_Rate": 140,
          "Sex": true
         },
         {
          "Age": 55,
          "Chest_Pain_Type": 2,
          "Diagnosis": false,
          "Exercise_Induced_Angina": 0,
          "Fasting_Blood_Sugar": 0,
          "Max_Heart_Rate": 155,
          "Sex": true
         },
         {
          "Age": 63,
          "Chest_Pain_Type": 4,
          "Diagnosis": true,
          "Exercise_Induced_Angina": 1,
          "Fasting_Blood_Sugar": 0,
          "Max_Heart_Rate": 144,
          "Sex": true
         },
         {
          "Age": 51,
          "Chest_Pain_Type": 3,
          "Diagnosis": false,
          "Exercise_Induced_Angina": 0,
          "Fasting_Blood_Sugar": 0,
          "Max_Heart_Rate": 157,
          "Sex": false
         },
         {
          "Age": 56,
          "Chest_Pain_Type": 4,
          "Diagnosis": true,
          "Exercise_Induced_Angina": 1,
          "Fasting_Blood_Sugar": 1,
          "Max_Heart_Rate": 144,
          "Sex": true
         },
         {
          "Age": 63,
          "Chest_Pain_Type": 4,
          "Diagnosis": true,
          "Exercise_Induced_Angina": 1,
          "Fasting_Blood_Sugar": 0,
          "Max_Heart_Rate": 169,
          "Sex": false
         },
         {
          "Age": 64,
          "Chest_Pain_Type": 3,
          "Diagnosis": true,
          "Exercise_Induced_Angina": 0,
          "Fasting_Blood_Sugar": 0,
          "Max_Heart_Rate": 158,
          "Sex": true
         },
         {
          "Age": 65,
          "Chest_Pain_Type": 4,
          "Diagnosis": true,
          "Exercise_Induced_Angina": 0,
          "Fasting_Blood_Sugar": 0,
          "Max_Heart_Rate": 158,
          "Sex": true
         },
         {
          "Age": 50,
          "Chest_Pain_Type": 4,
          "Diagnosis": true,
          "Exercise_Induced_Angina": 0,
          "Fasting_Blood_Sugar": 0,
          "Max_Heart_Rate": 128,
          "Sex": true
         },
         {
          "Age": 56,
          "Chest_Pain_Type": 4,
          "Diagnosis": true,
          "Exercise_Induced_Angina": 1,
          "Fasting_Blood_Sugar": 1,
          "Max_Heart_Rate": 133,
          "Sex": false
         },
         {
          "Age": 43,
          "Chest_Pain_Type": 4,
          "Diagnosis": true,
          "Exercise_Induced_Angina": 1,
          "Fasting_Blood_Sugar": 1,
          "Max_Heart_Rate": 136,
          "Sex": false
         },
         {
          "Age": 59,
          "Chest_Pain_Type": 4,
          "Diagnosis": true,
          "Exercise_Induced_Angina": 1,
          "Fasting_Blood_Sugar": 0,
          "Max_Heart_Rate": 142,
          "Sex": true
         },
         {
          "Age": 34,
          "Chest_Pain_Type": 2,
          "Diagnosis": false,
          "Exercise_Induced_Angina": 0,
          "Fasting_Blood_Sugar": 0,
          "Max_Heart_Rate": 192,
          "Sex": false
         },
         {
          "Age": 52,
          "Chest_Pain_Type": 4,
          "Diagnosis": true,
          "Exercise_Induced_Angina": 0,
          "Fasting_Blood_Sugar": 0,
          "Max_Heart_Rate": 160,
          "Sex": true
         },
         {
          "Age": 41,
          "Chest_Pain_Type": 4,
          "Diagnosis": true,
          "Exercise_Induced_Angina": 0,
          "Fasting_Blood_Sugar": 0,
          "Max_Heart_Rate": 158,
          "Sex": true
         },
         {
          "Age": 55,
          "Chest_Pain_Type": 4,
          "Diagnosis": true,
          "Exercise_Induced_Angina": 1,
          "Fasting_Blood_Sugar": 0,
          "Max_Heart_Rate": 111,
          "Sex": true
         },
         {
          "Age": 59,
          "Chest_Pain_Type": 4,
          "Diagnosis": true,
          "Exercise_Induced_Angina": 1,
          "Fasting_Blood_Sugar": 0,
          "Max_Heart_Rate": 162,
          "Sex": true
         },
         {
          "Age": 68,
          "Chest_Pain_Type": 3,
          "Diagnosis": true,
          "Exercise_Induced_Angina": 1,
          "Fasting_Blood_Sugar": 1,
          "Max_Heart_Rate": 150,
          "Sex": true
         },
         {
          "Age": 54,
          "Chest_Pain_Type": 4,
          "Diagnosis": false,
          "Exercise_Induced_Angina": 0,
          "Fasting_Blood_Sugar": 0,
          "Max_Heart_Rate": 160,
          "Sex": true
         },
         {
          "Age": 52,
          "Chest_Pain_Type": 3,
          "Diagnosis": false,
          "Exercise_Induced_Angina": 0,
          "Fasting_Blood_Sugar": 0,
          "Max_Heart_Rate": 169,
          "Sex": false
         },
         {
          "Age": 52,
          "Chest_Pain_Type": 2,
          "Diagnosis": false,
          "Exercise_Induced_Angina": 0,
          "Fasting_Blood_Sugar": 0,
          "Max_Heart_Rate": 158,
          "Sex": true
         }
        ]
       },
       "encoding": {
        "fill": {
         "field": "Diagnosis",
         "scale": {
          "scheme": "set1"
         },
         "type": "nominal"
        },
        "x": {
         "field": "Chest_Pain_Type",
         "title": "Chest Pain Type",
         "type": "nominal"
        },
        "y": {
         "aggregate": "count",
         "axis": {
          "format": "%"
         },
         "field": "Chest_Pain_Type",
         "stack": "normalize",
         "title": "Proportion of Total Count",
         "type": "quantitative"
        }
       },
       "height": 300,
       "mark": "bar",
       "title": "Proportions of Diagnosis for Chest Pain Type",
       "width": 380
      },
      "image/png": "[encoded data removed]",
      "text/plain": [
       "<VegaLite 4 object>\n",
       "\n",
       "If you see this message, it means the renderer has not been properly enabled\n",
       "for the frontend that you are using. For more information, see\n",
       "https://altair-viz.github.io/user_guide/troubleshooting.html\n"
      ]
     },
     "execution_count": 68,
     "metadata": {},
     "output_type": "execute_result"
    }
   ],
   "source": [
    "diagnosis_dist_plot = (\n",
    "    alt.Chart(heart_train, title=\"Proportions of Diagnosis for Chest Pain Type\" )\n",
    "    .mark_bar()\n",
    "    .encode(\n",
    "        y=alt.Y(\n",
    "            \"count(Chest_Pain_Type):Q\",\n",
    "            stack=\"normalize\",\n",
    "            axis=alt.Axis(format=\"%\"),\n",
    "            title=\"Proportion of Total Count\",\n",
    "        ),\n",
    "        x=alt.X(\"Chest_Pain_Type:N\", title= \"Chest Pain Type\"),\n",
    "        fill=alt.Fill(\n",
    "            \"Diagnosis\", scale=alt.Scale(scheme=\"set1\")\n",
    "        ),  # N is to specify this is a categorical variable\n",
    "    )\n",
    "    .properties(width=380, height=300)\n",
    "    .configure_axis(labelFontSize=18, titleFontSize=18)\n",
    "    .configure_title(fontSize=20)\n",
    ")\n",
    "diagnosis_dist_plot"
   ]
  },
  {
   "cell_type": "markdown",
   "id": "43ad6078-e1e5-4e6a-96e7-f79bbbf0f229",
   "metadata": {},
   "source": [
    "We want to visualize how chest pain type varies with age and maximum heart rate within individuals."
   ]
  },
  {
   "cell_type": "code",
   "execution_count": 66,
   "id": "d02c57ad-0a7e-48df-b658-c9ec6cb7db9f",
   "metadata": {},
   "outputs": [
    {
     "data": {
      "application/vnd.vegalite.v4+json": {
       "$schema": "https://vega.github.io/schema/vega-lite/v4.17.0.json",
       "config": {
        "axis": {
         "labelFontSize": 18,
         "titleFontSize": 18
        },
        "title": {
         "fontSize": 20
        },
        "view": {
         "continuousHeight": 300,
         "continuousWidth": 400
        }
       },
       "data": {
        "name": "data-06129a7fa14977eaa5c234fa78f53e72"
       },
       "datasets": {
        "data-06129a7fa14977eaa5c234fa78f53e72": [
         {
          "Age": 43,
          "Chest_Pain_Type": 4,
          "Diagnosis": true,
          "Exercise_Induced_Angina": 1,
          "Fasting_Blood_Sugar": 0,
          "Max_Heart_Rate": 120,
          "Sex": true
         },
         {
          "Age": 45,
          "Chest_Pain_Type": 2,
          "Diagnosis": false,
          "Exercise_Induced_Angina": 0,
          "Fasting_Blood_Sugar": 0,
          "Max_Heart_Rate": 170,
          "Sex": true
         },
         {
          "Age": 58,
          "Chest_Pain_Type": 1,
          "Diagnosis": false,
          "Exercise_Induced_Angina": 0,
          "Fasting_Blood_Sugar": 1,
          "Max_Heart_Rate": 162,
          "Sex": false
         },
         {
          "Age": 66,
          "Chest_Pain_Type": 2,
          "Diagnosis": true,
          "Exercise_Induced_Angina": 1,
          "Fasting_Blood_Sugar": 0,
          "Max_Heart_Rate": 120,
          "Sex": true
         },
         {
          "Age": 77,
          "Chest_Pain_Type": 4,
          "Diagnosis": true,
          "Exercise_Induced_Angina": 1,
          "Fasting_Blood_Sugar": 0,
          "Max_Heart_Rate": 162,
          "Sex": true
         },
         {
          "Age": 62,
          "Chest_Pain_Type": 3,
          "Diagnosis": true,
          "Exercise_Induced_Angina": 0,
          "Fasting_Blood_Sugar": 0,
          "Max_Heart_Rate": 97,
          "Sex": false
         },
         {
          "Age": 56,
          "Chest_Pain_Type": 2,
          "Diagnosis": false,
          "Exercise_Induced_Angina": 0,
          "Fasting_Blood_Sugar": 0,
          "Max_Heart_Rate": 178,
          "Sex": true
         },
         {
          "Age": 71,
          "Chest_Pain_Type": 4,
          "Diagnosis": false,
          "Exercise_Induced_Angina": 0,
          "Fasting_Blood_Sugar": 0,
          "Max_Heart_Rate": 125,
          "Sex": false
         },
         {
          "Age": 39,
          "Chest_Pain_Type": 3,
          "Diagnosis": false,
          "Exercise_Induced_Angina": 0,
          "Fasting_Blood_Sugar": 0,
          "Max_Heart_Rate": 182,
          "Sex": true
         },
         {
          "Age": 57,
          "Chest_Pain_Type": 4,
          "Diagnosis": true,
          "Exercise_Induced_Angina": 1,
          "Fasting_Blood_Sugar": 0,
          "Max_Heart_Rate": 143,
          "Sex": true
         },
         {
          "Age": 60,
          "Chest_Pain_Type": 1,
          "Diagnosis": false,
          "Exercise_Induced_Angina": 0,
          "Fasting_Blood_Sugar": 0,
          "Max_Heart_Rate": 171,
          "Sex": false
         },
         {
          "Age": 57,
          "Chest_Pain_Type": 4,
          "Diagnosis": false,
          "Exercise_Induced_Angina": 1,
          "Fasting_Blood_Sugar": 0,
          "Max_Heart_Rate": 163,
          "Sex": false
         },
         {
          "Age": 54,
          "Chest_Pain_Type": 3,
          "Diagnosis": false,
          "Exercise_Induced_Angina": 0,
          "Fasting_Blood_Sugar": 0,
          "Max_Heart_Rate": 158,
          "Sex": false
         },
         {
          "Age": 44,
          "Chest_Pain_Type": 3,
          "Diagnosis": false,
          "Exercise_Induced_Angina": 0,
          "Fasting_Blood_Sugar": 0,
          "Max_Heart_Rate": 169,
          "Sex": true
         },
         {
          "Age": 55,
          "Chest_Pain_Type": 4,
          "Diagnosis": true,
          "Exercise_Induced_Angina": 1,
          "Fasting_Blood_Sugar": 0,
          "Max_Heart_Rate": 117,
          "Sex": false
         },
         {
          "Age": 70,
          "Chest_Pain_Type": 3,
          "Diagnosis": true,
          "Exercise_Induced_Angina": 1,
          "Fasting_Blood_Sugar": 0,
          "Max_Heart_Rate": 112,
          "Sex": true
         },
         {
          "Age": 29,
          "Chest_Pain_Type": 2,
          "Diagnosis": false,
          "Exercise_Induced_Angina": 0,
          "Fasting_Blood_Sugar": 0,
          "Max_Heart_Rate": 202,
          "Sex": true
         },
         {
          "Age": 70,
          "Chest_Pain_Type": 4,
          "Diagnosis": true,
          "Exercise_Induced_Angina": 1,
          "Fasting_Blood_Sugar": 0,
          "Max_Heart_Rate": 125,
          "Sex": true
         },
         {
          "Age": 58,
          "Chest_Pain_Type": 4,
          "Diagnosis": true,
          "Exercise_Induced_Angina": 1,
          "Fasting_Blood_Sugar": 1,
          "Max_Heart_Rate": 146,
          "Sex": false
         },
         {
          "Age": 52,
          "Chest_Pain_Type": 3,
          "Diagnosis": false,
          "Exercise_Induced_Angina": 0,
          "Fasting_Blood_Sugar": 0,
          "Max_Heart_Rate": 169,
          "Sex": true
         },
         {
          "Age": 42,
          "Chest_Pain_Type": 4,
          "Diagnosis": false,
          "Exercise_Induced_Angina": 0,
          "Fasting_Blood_Sugar": 0,
          "Max_Heart_Rate": 122,
          "Sex": false
         },
         {
          "Age": 50,
          "Chest_Pain_Type": 3,
          "Diagnosis": false,
          "Exercise_Induced_Angina": 0,
          "Fasting_Blood_Sugar": 0,
          "Max_Heart_Rate": 163,
          "Sex": true
         },
         {
          "Age": 54,
          "Chest_Pain_Type": 2,
          "Diagnosis": true,
          "Exercise_Induced_Angina": 0,
          "Fasting_Blood_Sugar": 0,
          "Max_Heart_Rate": 195,
          "Sex": true
         },
         {
          "Age": 55,
          "Chest_Pain_Type": 2,
          "Diagnosis": false,
          "Exercise_Induced_Angina": 0,
          "Fasting_Blood_Sugar": 0,
          "Max_Heart_Rate": 166,
          "Sex": false
         },
         {
          "Age": 52,
          "Chest_Pain_Type": 4,
          "Diagnosis": true,
          "Exercise_Induced_Angina": 0,
          "Fasting_Blood_Sugar": 0,
          "Max_Heart_Rate": 168,
          "Sex": true
         },
         {
          "Age": 57,
          "Chest_Pain_Type": 4,
          "Diagnosis": true,
          "Exercise_Induced_Angina": 1,
          "Fasting_Blood_Sugar": 0,
          "Max_Heart_Rate": 112,
          "Sex": true
         },
         {
          "Age": 44,
          "Chest_Pain_Type": 3,
          "Diagnosis": false,
          "Exercise_Induced_Angina": 1,
          "Fasting_Blood_Sugar": 0,
          "Max_Heart_Rate": 179,
          "Sex": true
         },
         {
          "Age": 54,
          "Chest_Pain_Type": 4,
          "Diagnosis": true,
          "Exercise_Induced_Angina": 1,
          "Fasting_Blood_Sugar": 0,
          "Max_Heart_Rate": 109,
          "Sex": true
         },
         {
          "Age": 62,
          "Chest_Pain_Type": 4,
          "Diagnosis": true,
          "Exercise_Induced_Angina": 0,
          "Fasting_Blood_Sugar": 0,
          "Max_Heart_Rate": 145,
          "Sex": false
         },
         {
          "Age": 58,
          "Chest_Pain_Type": 3,
          "Diagnosis": true,
          "Exercise_Induced_Angina": 0,
          "Fasting_Blood_Sugar": 0,
          "Max_Heart_Rate": 173,
          "Sex": true
         },
         {
          "Age": 62,
          "Chest_Pain_Type": 4,
          "Diagnosis": false,
          "Exercise_Induced_Angina": 0,
          "Fasting_Blood_Sugar": 0,
          "Max_Heart_Rate": 157,
          "Sex": false
         },
         {
          "Age": 42,
          "Chest_Pain_Type": 2,
          "Diagnosis": false,
          "Exercise_Induced_Angina": 0,
          "Fasting_Blood_Sugar": 0,
          "Max_Heart_Rate": 162,
          "Sex": true
         },
         {
          "Age": 62,
          "Chest_Pain_Type": 2,
          "Diagnosis": true,
          "Exercise_Induced_Angina": 0,
          "Fasting_Blood_Sugar": 0,
          "Max_Heart_Rate": 103,
          "Sex": true
         },
         {
          "Age": 45,
          "Chest_Pain_Type": 2,
          "Diagnosis": false,
          "Exercise_Induced_Angina": 0,
          "Fasting_Blood_Sugar": 0,
          "Max_Heart_Rate": 175,
          "Sex": false
         },
         {
          "Age": 57,
          "Chest_Pain_Type": 4,
          "Diagnosis": false,
          "Exercise_Induced_Angina": 0,
          "Fasting_Blood_Sugar": 0,
          "Max_Heart_Rate": 148,
          "Sex": true
         },
         {
          "Age": 46,
          "Chest_Pain_Type": 4,
          "Diagnosis": true,
          "Exercise_Induced_Angina": 1,
          "Fasting_Blood_Sugar": 0,
          "Max_Heart_Rate": 120,
          "Sex": true
         },
         {
          "Age": 43,
          "Chest_Pain_Type": 4,
          "Diagnosis": false,
          "Exercise_Induced_Angina": 0,
          "Fasting_Blood_Sugar": 0,
          "Max_Heart_Rate": 171,
          "Sex": true
         },
         {
          "Age": 58,
          "Chest_Pain_Type": 4,
          "Diagnosis": true,
          "Exercise_Induced_Angina": 1,
          "Fasting_Blood_Sugar": 0,
          "Max_Heart_Rate": 111,
          "Sex": true
         },
         {
          "Age": 46,
          "Chest_Pain_Type": 2,
          "Diagnosis": false,
          "Exercise_Induced_Angina": 0,
          "Fasting_Blood_Sugar": 1,
          "Max_Heart_Rate": 156,
          "Sex": true
         },
         {
          "Age": 46,
          "Chest_Pain_Type": 4,
          "Diagnosis": true,
          "Exercise_Induced_Angina": 0,
          "Fasting_Blood_Sugar": 0,
          "Max_Heart_Rate": 144,
          "Sex": true
         },
         {
          "Age": 59,
          "Chest_Pain_Type": 4,
          "Diagnosis": false,
          "Exercise_Induced_Angina": 0,
          "Fasting_Blood_Sugar": 0,
          "Max_Heart_Rate": 161,
          "Sex": true
         },
         {
          "Age": 41,
          "Chest_Pain_Type": 3,
          "Diagnosis": false,
          "Exercise_Induced_Angina": 0,
          "Fasting_Blood_Sugar": 0,
          "Max_Heart_Rate": 179,
          "Sex": true
         },
         {
          "Age": 60,
          "Chest_Pain_Type": 3,
          "Diagnosis": true,
          "Exercise_Induced_Angina": 0,
          "Fasting_Blood_Sugar": 0,
          "Max_Heart_Rate": 155,
          "Sex": true
         },
         {
          "Age": 58,
          "Chest_Pain_Type": 2,
          "Diagnosis": false,
          "Exercise_Induced_Angina": 0,
          "Fasting_Blood_Sugar": 0,
          "Max_Heart_Rate": 144,
          "Sex": true
         },
         {
          "Age": 42,
          "Chest_Pain_Type": 4,
          "Diagnosis": true,
          "Exercise_Induced_Angina": 1,
          "Fasting_Blood_Sugar": 0,
          "Max_Heart_Rate": 125,
          "Sex": true
         },
         {
          "Age": 44,
          "Chest_Pain_Type": 2,
          "Diagnosis": false,
          "Exercise_Induced_Angina": 0,
          "Fasting_Blood_Sugar": 0,
          "Max_Heart_Rate": 170,
          "Sex": true
         },
         {
          "Age": 52,
          "Chest_Pain_Type": 1,
          "Diagnosis": false,
          "Exercise_Induced_Angina": 0,
          "Fasting_Blood_Sugar": 0,
          "Max_Heart_Rate": 190,
          "Sex": true
         },
         {
          "Age": 46,
          "Chest_Pain_Type": 3,
          "Diagnosis": true,
          "Exercise_Induced_Angina": 0,
          "Fasting_Blood_Sugar": 0,
          "Max_Heart_Rate": 147,
          "Sex": true
         },
         {
          "Age": 41,
          "Chest_Pain_Type": 2,
          "Diagnosis": false,
          "Exercise_Induced_Angina": 0,
          "Fasting_Blood_Sugar": 0,
          "Max_Heart_Rate": 172,
          "Sex": false
         },
         {
          "Age": 45,
          "Chest_Pain_Type": 4,
          "Diagnosis": false,
          "Exercise_Induced_Angina": 0,
          "Fasting_Blood_Sugar": 0,
          "Max_Heart_Rate": 185,
          "Sex": true
         },
         {
          "Age": 54,
          "Chest_Pain_Type": 4,
          "Diagnosis": true,
          "Exercise_Induced_Angina": 1,
          "Fasting_Blood_Sugar": 0,
          "Max_Heart_Rate": 126,
          "Sex": true
         },
         {
          "Age": 54,
          "Chest_Pain_Type": 3,
          "Diagnosis": false,
          "Exercise_Induced_Angina": 0,
          "Fasting_Blood_Sugar": 0,
          "Max_Heart_Rate": 167,
          "Sex": false
         },
         {
          "Age": 49,
          "Chest_Pain_Type": 2,
          "Diagnosis": false,
          "Exercise_Induced_Angina": 0,
          "Fasting_Blood_Sugar": 0,
          "Max_Heart_Rate": 162,
          "Sex": false
         },
         {
          "Age": 44,
          "Chest_Pain_Type": 3,
          "Diagnosis": false,
          "Exercise_Induced_Angina": 0,
          "Fasting_Blood_Sugar": 0,
          "Max_Heart_Rate": 180,
          "Sex": true
         },
         {
          "Age": 58,
          "Chest_Pain_Type": 4,
          "Diagnosis": true,
          "Exercise_Induced_Angina": 1,
          "Fasting_Blood_Sugar": 0,
          "Max_Heart_Rate": 130,
          "Sex": true
         },
         {
          "Age": 67,
          "Chest_Pain_Type": 3,
          "Diagnosis": false,
          "Exercise_Induced_Angina": 0,
          "Fasting_Blood_Sugar": 0,
          "Max_Heart_Rate": 160,
          "Sex": false
         },
         {
          "Age": 37,
          "Chest_Pain_Type": 3,
          "Diagnosis": false,
          "Exercise_Induced_Angina": 0,
          "Fasting_Blood_Sugar": 0,
          "Max_Heart_Rate": 170,
          "Sex": false
         },
         {
          "Age": 41,
          "Chest_Pain_Type": 2,
          "Diagnosis": false,
          "Exercise_Induced_Angina": 0,
          "Fasting_Blood_Sugar": 0,
          "Max_Heart_Rate": 182,
          "Sex": true
         },
         {
          "Age": 64,
          "Chest_Pain_Type": 4,
          "Diagnosis": false,
          "Exercise_Induced_Angina": 1,
          "Fasting_Blood_Sugar": 0,
          "Max_Heart_Rate": 105,
          "Sex": true
         },
         {
          "Age": 51,
          "Chest_Pain_Type": 3,
          "Diagnosis": false,
          "Exercise_Induced_Angina": 1,
          "Fasting_Blood_Sugar": 0,
          "Max_Heart_Rate": 143,
          "Sex": true
         },
         {
          "Age": 58,
          "Chest_Pain_Type": 3,
          "Diagnosis": false,
          "Exercise_Induced_Angina": 1,
          "Fasting_Blood_Sugar": 0,
          "Max_Heart_Rate": 154,
          "Sex": true
         },
         {
          "Age": 51,
          "Chest_Pain_Type": 3,
          "Diagnosis": false,
          "Exercise_Induced_Angina": 1,
          "Fasting_Blood_Sugar": 0,
          "Max_Heart_Rate": 154,
          "Sex": true
         },
         {
          "Age": 35,
          "Chest_Pain_Type": 4,
          "Diagnosis": true,
          "Exercise_Induced_Angina": 1,
          "Fasting_Blood_Sugar": 0,
          "Max_Heart_Rate": 130,
          "Sex": true
         },
         {
          "Age": 62,
          "Chest_Pain_Type": 3,
          "Diagnosis": false,
          "Exercise_Induced_Angina": 0,
          "Fasting_Blood_Sugar": 0,
          "Max_Heart_Rate": 146,
          "Sex": true
         },
         {
          "Age": 47,
          "Chest_Pain_Type": 4,
          "Diagnosis": false,
          "Exercise_Induced_Angina": 0,
          "Fasting_Blood_Sugar": 0,
          "Max_Heart_Rate": 143,
          "Sex": true
         },
         {
          "Age": 58,
          "Chest_Pain_Type": 4,
          "Diagnosis": true,
          "Exercise_Induced_Angina": 1,
          "Fasting_Blood_Sugar": 0,
          "Max_Heart_Rate": 131,
          "Sex": true
         },
         {
          "Age": 56,
          "Chest_Pain_Type": 2,
          "Diagnosis": false,
          "Exercise_Induced_Angina": 0,
          "Fasting_Blood_Sugar": 0,
          "Max_Heart_Rate": 169,
          "Sex": true
         },
         {
          "Age": 58,
          "Chest_Pain_Type": 4,
          "Diagnosis": true,
          "Exercise_Induced_Angina": 0,
          "Fasting_Blood_Sugar": 0,
          "Max_Heart_Rate": 156,
          "Sex": true
         },
         {
          "Age": 59,
          "Chest_Pain_Type": 3,
          "Diagnosis": true,
          "Exercise_Induced_Angina": 0,
          "Fasting_Blood_Sugar": 1,
          "Max_Heart_Rate": 134,
          "Sex": true
         },
         {
          "Age": 57,
          "Chest_Pain_Type": 2,
          "Diagnosis": true,
          "Exercise_Induced_Angina": 0,
          "Fasting_Blood_Sugar": 0,
          "Max_Heart_Rate": 174,
          "Sex": false
         },
         {
          "Age": 54,
          "Chest_Pain_Type": 3,
          "Diagnosis": false,
          "Exercise_Induced_Angina": 0,
          "Fasting_Blood_Sugar": 0,
          "Max_Heart_Rate": 147,
          "Sex": true
         },
         {
          "Age": 43,
          "Chest_Pain_Type": 4,
          "Diagnosis": false,
          "Exercise_Induced_Angina": 0,
          "Fasting_Blood_Sugar": 0,
          "Max_Heart_Rate": 181,
          "Sex": true
         },
         {
          "Age": 41,
          "Chest_Pain_Type": 2,
          "Diagnosis": false,
          "Exercise_Induced_Angina": 0,
          "Fasting_Blood_Sugar": 0,
          "Max_Heart_Rate": 168,
          "Sex": false
         },
         {
          "Age": 60,
          "Chest_Pain_Type": 4,
          "Diagnosis": true,
          "Exercise_Induced_Angina": 0,
          "Fasting_Blood_Sugar": 0,
          "Max_Heart_Rate": 157,
          "Sex": false
         },
         {
          "Age": 39,
          "Chest_Pain_Type": 3,
          "Diagnosis": false,
          "Exercise_Induced_Angina": 0,
          "Fasting_Blood_Sugar": 0,
          "Max_Heart_Rate": 152,
          "Sex": false
         },
         {
          "Age": 57,
          "Chest_Pain_Type": 4,
          "Diagnosis": true,
          "Exercise_Induced_Angina": 1,
          "Fasting_Blood_Sugar": 0,
          "Max_Heart_Rate": 115,
          "Sex": true
         },
         {
          "Age": 63,
          "Chest_Pain_Type": 4,
          "Diagnosis": true,
          "Exercise_Induced_Angina": 1,
          "Fasting_Blood_Sugar": 0,
          "Max_Heart_Rate": 136,
          "Sex": false
         },
         {
          "Age": 49,
          "Chest_Pain_Type": 4,
          "Diagnosis": false,
          "Exercise_Induced_Angina": 0,
          "Fasting_Blood_Sugar": 0,
          "Max_Heart_Rate": 163,
          "Sex": false
         },
         {
          "Age": 70,
          "Chest_Pain_Type": 2,
          "Diagnosis": false,
          "Exercise_Induced_Angina": 0,
          "Fasting_Blood_Sugar": 0,
          "Max_Heart_Rate": 143,
          "Sex": true
         },
         {
          "Age": 44,
          "Chest_Pain_Type": 2,
          "Diagnosis": false,
          "Exercise_Induced_Angina": 0,
          "Fasting_Blood_Sugar": 0,
          "Max_Heart_Rate": 173,
          "Sex": true
         },
         {
          "Age": 43,
          "Chest_Pain_Type": 4,
          "Diagnosis": true,
          "Exercise_Induced_Angina": 1,
          "Fasting_Blood_Sugar": 1,
          "Max_Heart_Rate": 143,
          "Sex": true
         },
         {
          "Age": 57,
          "Chest_Pain_Type": 4,
          "Diagnosis": true,
          "Exercise_Induced_Angina": 1,
          "Fasting_Blood_Sugar": 0,
          "Max_Heart_Rate": 123,
          "Sex": false
         },
         {
          "Age": 68,
          "Chest_Pain_Type": 3,
          "Diagnosis": false,
          "Exercise_Induced_Angina": 0,
          "Fasting_Blood_Sugar": 0,
          "Max_Heart_Rate": 115,
          "Sex": false
         },
         {
          "Age": 66,
          "Chest_Pain_Type": 4,
          "Diagnosis": false,
          "Exercise_Induced_Angina": 0,
          "Fasting_Blood_Sugar": 0,
          "Max_Heart_Rate": 138,
          "Sex": true
         },
         {
          "Age": 45,
          "Chest_Pain_Type": 2,
          "Diagnosis": false,
          "Exercise_Induced_Angina": 0,
          "Fasting_Blood_Sugar": 0,
          "Max_Heart_Rate": 138,
          "Sex": false
         },
         {
          "Age": 67,
          "Chest_Pain_Type": 4,
          "Diagnosis": true,
          "Exercise_Induced_Angina": 1,
          "Fasting_Blood_Sugar": 0,
          "Max_Heart_Rate": 125,
          "Sex": true
         },
         {
          "Age": 56,
          "Chest_Pain_Type": 1,
          "Diagnosis": false,
          "Exercise_Induced_Angina": 0,
          "Fasting_Blood_Sugar": 0,
          "Max_Heart_Rate": 162,
          "Sex": true
         },
         {
          "Age": 43,
          "Chest_Pain_Type": 3,
          "Diagnosis": false,
          "Exercise_Induced_Angina": 0,
          "Fasting_Blood_Sugar": 0,
          "Max_Heart_Rate": 165,
          "Sex": false
         },
         {
          "Age": 63,
          "Chest_Pain_Type": 4,
          "Diagnosis": true,
          "Exercise_Induced_Angina": 0,
          "Fasting_Blood_Sugar": 0,
          "Max_Heart_Rate": 147,
          "Sex": true
         },
         {
          "Age": 51,
          "Chest_Pain_Type": 3,
          "Diagnosis": false,
          "Exercise_Induced_Angina": 0,
          "Fasting_Blood_Sugar": 0,
          "Max_Heart_Rate": 142,
          "Sex": false
         },
         {
          "Age": 54,
          "Chest_Pain_Type": 3,
          "Diagnosis": false,
          "Exercise_Induced_Angina": 0,
          "Fasting_Blood_Sugar": 0,
          "Max_Heart_Rate": 152,
          "Sex": true
         },
         {
          "Age": 56,
          "Chest_Pain_Type": 4,
          "Diagnosis": true,
          "Exercise_Induced_Angina": 1,
          "Fasting_Blood_Sugar": 0,
          "Max_Heart_Rate": 150,
          "Sex": false
         },
         {
          "Age": 64,
          "Chest_Pain_Type": 4,
          "Diagnosis": false,
          "Exercise_Induced_Angina": 0,
          "Fasting_Blood_Sugar": 0,
          "Max_Heart_Rate": 122,
          "Sex": false
         },
         {
          "Age": 65,
          "Chest_Pain_Type": 4,
          "Diagnosis": true,
          "Exercise_Induced_Angina": 0,
          "Fasting_Blood_Sugar": 0,
          "Max_Heart_Rate": 127,
          "Sex": true
         },
         {
          "Age": 48,
          "Chest_Pain_Type": 3,
          "Diagnosis": false,
          "Exercise_Induced_Angina": 0,
          "Fasting_Blood_Sugar": 1,
          "Max_Heart_Rate": 175,
          "Sex": true
         },
         {
          "Age": 58,
          "Chest_Pain_Type": 4,
          "Diagnosis": false,
          "Exercise_Induced_Angina": 0,
          "Fasting_Blood_Sugar": 0,
          "Max_Heart_Rate": 131,
          "Sex": false
         },
         {
          "Age": 54,
          "Chest_Pain_Type": 3,
          "Diagnosis": false,
          "Exercise_Induced_Angina": 0,
          "Fasting_Blood_Sugar": 1,
          "Max_Heart_Rate": 170,
          "Sex": false
         },
         {
          "Age": 61,
          "Chest_Pain_Type": 4,
          "Diagnosis": true,
          "Exercise_Induced_Angina": 1,
          "Fasting_Blood_Sugar": 0,
          "Max_Heart_Rate": 140,
          "Sex": true
         },
         {
          "Age": 51,
          "Chest_Pain_Type": 4,
          "Diagnosis": true,
          "Exercise_Induced_Angina": 1,
          "Fasting_Blood_Sugar": 0,
          "Max_Heart_Rate": 173,
          "Sex": true
         },
         {
          "Age": 59,
          "Chest_Pain_Type": 1,
          "Diagnosis": true,
          "Exercise_Induced_Angina": 0,
          "Fasting_Blood_Sugar": 0,
          "Max_Heart_Rate": 159,
          "Sex": true
         },
         {
          "Age": 53,
          "Chest_Pain_Type": 4,
          "Diagnosis": false,
          "Exercise_Induced_Angina": 0,
          "Fasting_Blood_Sugar": 0,
          "Max_Heart_Rate": 160,
          "Sex": false
         },
         {
          "Age": 63,
          "Chest_Pain_Type": 2,
          "Diagnosis": false,
          "Exercise_Induced_Angina": 0,
          "Fasting_Blood_Sugar": 0,
          "Max_Heart_Rate": 179,
          "Sex": false
         },
         {
          "Age": 61,
          "Chest_Pain_Type": 1,
          "Diagnosis": true,
          "Exercise_Induced_Angina": 0,
          "Fasting_Blood_Sugar": 0,
          "Max_Heart_Rate": 145,
          "Sex": true
         },
         {
          "Age": 61,
          "Chest_Pain_Type": 4,
          "Diagnosis": true,
          "Exercise_Induced_Angina": 0,
          "Fasting_Blood_Sugar": 0,
          "Max_Heart_Rate": 169,
          "Sex": false
         },
         {
          "Age": 41,
          "Chest_Pain_Type": 2,
          "Diagnosis": false,
          "Exercise_Induced_Angina": 0,
          "Fasting_Blood_Sugar": 0,
          "Max_Heart_Rate": 153,
          "Sex": true
         },
         {
          "Age": 50,
          "Chest_Pain_Type": 4,
          "Diagnosis": true,
          "Exercise_Induced_Angina": 1,
          "Fasting_Blood_Sugar": 0,
          "Max_Heart_Rate": 126,
          "Sex": true
         },
         {
          "Age": 60,
          "Chest_Pain_Type": 4,
          "Diagnosis": true,
          "Exercise_Induced_Angina": 1,
          "Fasting_Blood_Sugar": 0,
          "Max_Heart_Rate": 142,
          "Sex": true
         },
         {
          "Age": 51,
          "Chest_Pain_Type": 4,
          "Diagnosis": true,
          "Exercise_Induced_Angina": 1,
          "Fasting_Blood_Sugar": 0,
          "Max_Heart_Rate": 142,
          "Sex": false
         },
         {
          "Age": 44,
          "Chest_Pain_Type": 3,
          "Diagnosis": false,
          "Exercise_Induced_Angina": 0,
          "Fasting_Blood_Sugar": 0,
          "Max_Heart_Rate": 175,
          "Sex": false
         },
         {
          "Age": 66,
          "Chest_Pain_Type": 3,
          "Diagnosis": false,
          "Exercise_Induced_Angina": 0,
          "Fasting_Blood_Sugar": 0,
          "Max_Heart_Rate": 152,
          "Sex": false
         },
         {
          "Age": 61,
          "Chest_Pain_Type": 4,
          "Diagnosis": true,
          "Exercise_Induced_Angina": 1,
          "Fasting_Blood_Sugar": 0,
          "Max_Heart_Rate": 125,
          "Sex": true
         },
         {
          "Age": 55,
          "Chest_Pain_Type": 4,
          "Diagnosis": true,
          "Exercise_Induced_Angina": 1,
          "Fasting_Blood_Sugar": 0,
          "Max_Heart_Rate": 130,
          "Sex": false
         },
         {
          "Age": 76,
          "Chest_Pain_Type": 3,
          "Diagnosis": false,
          "Exercise_Induced_Angina": 0,
          "Fasting_Blood_Sugar": 0,
          "Max_Heart_Rate": 116,
          "Sex": false
         },
         {
          "Age": 58,
          "Chest_Pain_Type": 4,
          "Diagnosis": true,
          "Exercise_Induced_Angina": 0,
          "Fasting_Blood_Sugar": 0,
          "Max_Heart_Rate": 171,
          "Sex": true
         },
         {
          "Age": 58,
          "Chest_Pain_Type": 4,
          "Diagnosis": false,
          "Exercise_Induced_Angina": 0,
          "Fasting_Blood_Sugar": 0,
          "Max_Heart_Rate": 122,
          "Sex": false
         },
         {
          "Age": 63,
          "Chest_Pain_Type": 1,
          "Diagnosis": false,
          "Exercise_Induced_Angina": 0,
          "Fasting_Blood_Sugar": 1,
          "Max_Heart_Rate": 150,
          "Sex": true
         },
         {
          "Age": 56,
          "Chest_Pain_Type": 4,
          "Diagnosis": true,
          "Exercise_Induced_Angina": 1,
          "Fasting_Blood_Sugar": 1,
          "Max_Heart_Rate": 103,
          "Sex": true
         },
         {
          "Age": 58,
          "Chest_Pain_Type": 3,
          "Diagnosis": true,
          "Exercise_Induced_Angina": 0,
          "Fasting_Blood_Sugar": 0,
          "Max_Heart_Rate": 165,
          "Sex": true
         },
         {
          "Age": 55,
          "Chest_Pain_Type": 4,
          "Diagnosis": true,
          "Exercise_Induced_Angina": 1,
          "Fasting_Blood_Sugar": 0,
          "Max_Heart_Rate": 145,
          "Sex": true
         },
         {
          "Age": 65,
          "Chest_Pain_Type": 4,
          "Diagnosis": true,
          "Exercise_Induced_Angina": 0,
          "Fasting_Blood_Sugar": 0,
          "Max_Heart_Rate": 114,
          "Sex": false
         },
         {
          "Age": 51,
          "Chest_Pain_Type": 1,
          "Diagnosis": false,
          "Exercise_Induced_Angina": 1,
          "Fasting_Blood_Sugar": 0,
          "Max_Heart_Rate": 125,
          "Sex": true
         },
         {
          "Age": 57,
          "Chest_Pain_Type": 3,
          "Diagnosis": false,
          "Exercise_Induced_Angina": 0,
          "Fasting_Blood_Sugar": 0,
          "Max_Heart_Rate": 174,
          "Sex": true
         },
         {
          "Age": 51,
          "Chest_Pain_Type": 3,
          "Diagnosis": false,
          "Exercise_Induced_Angina": 0,
          "Fasting_Blood_Sugar": 0,
          "Max_Heart_Rate": 123,
          "Sex": true
         },
         {
          "Age": 54,
          "Chest_Pain_Type": 4,
          "Diagnosis": true,
          "Exercise_Induced_Angina": 1,
          "Fasting_Blood_Sugar": 0,
          "Max_Heart_Rate": 116,
          "Sex": true
         },
         {
          "Age": 39,
          "Chest_Pain_Type": 4,
          "Diagnosis": true,
          "Exercise_Induced_Angina": 0,
          "Fasting_Blood_Sugar": 0,
          "Max_Heart_Rate": 140,
          "Sex": true
         },
         {
          "Age": 49,
          "Chest_Pain_Type": 3,
          "Diagnosis": true,
          "Exercise_Induced_Angina": 0,
          "Fasting_Blood_Sugar": 0,
          "Max_Heart_Rate": 139,
          "Sex": true
         },
         {
          "Age": 51,
          "Chest_Pain_Type": 4,
          "Diagnosis": false,
          "Exercise_Induced_Angina": 1,
          "Fasting_Blood_Sugar": 0,
          "Max_Heart_Rate": 186,
          "Sex": true
         },
         {
          "Age": 48,
          "Chest_Pain_Type": 2,
          "Diagnosis": true,
          "Exercise_Induced_Angina": 0,
          "Fasting_Blood_Sugar": 0,
          "Max_Heart_Rate": 168,
          "Sex": true
         },
         {
          "Age": 57,
          "Chest_Pain_Type": 2,
          "Diagnosis": true,
          "Exercise_Induced_Angina": 0,
          "Fasting_Blood_Sugar": 0,
          "Max_Heart_Rate": 164,
          "Sex": true
         },
         {
          "Age": 62,
          "Chest_Pain_Type": 4,
          "Diagnosis": true,
          "Exercise_Induced_Angina": 0,
          "Fasting_Blood_Sugar": 1,
          "Max_Heart_Rate": 106,
          "Sex": false
         },
         {
          "Age": 44,
          "Chest_Pain_Type": 3,
          "Diagnosis": false,
          "Exercise_Induced_Angina": 0,
          "Fasting_Blood_Sugar": 0,
          "Max_Heart_Rate": 149,
          "Sex": false
         },
         {
          "Age": 58,
          "Chest_Pain_Type": 3,
          "Diagnosis": false,
          "Exercise_Induced_Angina": 0,
          "Fasting_Blood_Sugar": 1,
          "Max_Heart_Rate": 165,
          "Sex": true
         },
         {
          "Age": 64,
          "Chest_Pain_Type": 1,
          "Diagnosis": false,
          "Exercise_Induced_Angina": 0,
          "Fasting_Blood_Sugar": 0,
          "Max_Heart_Rate": 155,
          "Sex": true
         },
         {
          "Age": 44,
          "Chest_Pain_Type": 4,
          "Diagnosis": true,
          "Exercise_Induced_Angina": 0,
          "Fasting_Blood_Sugar": 0,
          "Max_Heart_Rate": 177,
          "Sex": true
         },
         {
          "Age": 61,
          "Chest_Pain_Type": 4,
          "Diagnosis": true,
          "Exercise_Induced_Angina": 1,
          "Fasting_Blood_Sugar": 0,
          "Max_Heart_Rate": 146,
          "Sex": false
         },
         {
          "Age": 69,
          "Chest_Pain_Type": 3,
          "Diagnosis": true,
          "Exercise_Induced_Angina": 0,
          "Fasting_Blood_Sugar": 0,
          "Max_Heart_Rate": 146,
          "Sex": true
         },
         {
          "Age": 47,
          "Chest_Pain_Type": 3,
          "Diagnosis": true,
          "Exercise_Induced_Angina": 0,
          "Fasting_Blood_Sugar": 0,
          "Max_Heart_Rate": 152,
          "Sex": true
         },
         {
          "Age": 55,
          "Chest_Pain_Type": 4,
          "Diagnosis": true,
          "Exercise_Induced_Angina": 1,
          "Fasting_Blood_Sugar": 0,
          "Max_Heart_Rate": 132,
          "Sex": true
         },
         {
          "Age": 66,
          "Chest_Pain_Type": 1,
          "Diagnosis": false,
          "Exercise_Induced_Angina": 0,
          "Fasting_Blood_Sugar": 0,
          "Max_Heart_Rate": 114,
          "Sex": false
         },
         {
          "Age": 42,
          "Chest_Pain_Type": 1,
          "Diagnosis": false,
          "Exercise_Induced_Angina": 0,
          "Fasting_Blood_Sugar": 0,
          "Max_Heart_Rate": 178,
          "Sex": true
         },
         {
          "Age": 59,
          "Chest_Pain_Type": 2,
          "Diagnosis": false,
          "Exercise_Induced_Angina": 1,
          "Fasting_Blood_Sugar": 0,
          "Max_Heart_Rate": 164,
          "Sex": true
         },
         {
          "Age": 50,
          "Chest_Pain_Type": 2,
          "Diagnosis": false,
          "Exercise_Induced_Angina": 0,
          "Fasting_Blood_Sugar": 0,
          "Max_Heart_Rate": 162,
          "Sex": false
         },
         {
          "Age": 63,
          "Chest_Pain_Type": 4,
          "Diagnosis": true,
          "Exercise_Induced_Angina": 0,
          "Fasting_Blood_Sugar": 0,
          "Max_Heart_Rate": 154,
          "Sex": false
         },
         {
          "Age": 38,
          "Chest_Pain_Type": 1,
          "Diagnosis": true,
          "Exercise_Induced_Angina": 1,
          "Fasting_Blood_Sugar": 0,
          "Max_Heart_Rate": 182,
          "Sex": true
         },
         {
          "Age": 52,
          "Chest_Pain_Type": 3,
          "Diagnosis": false,
          "Exercise_Induced_Angina": 0,
          "Fasting_Blood_Sugar": 1,
          "Max_Heart_Rate": 162,
          "Sex": true
         },
         {
          "Age": 53,
          "Chest_Pain_Type": 3,
          "Diagnosis": false,
          "Exercise_Induced_Angina": 0,
          "Fasting_Blood_Sugar": 0,
          "Max_Heart_Rate": 115,
          "Sex": false
         },
         {
          "Age": 53,
          "Chest_Pain_Type": 4,
          "Diagnosis": true,
          "Exercise_Induced_Angina": 1,
          "Fasting_Blood_Sugar": 1,
          "Max_Heart_Rate": 155,
          "Sex": true
         },
         {
          "Age": 62,
          "Chest_Pain_Type": 4,
          "Diagnosis": true,
          "Exercise_Induced_Angina": 0,
          "Fasting_Blood_Sugar": 0,
          "Max_Heart_Rate": 160,
          "Sex": false
         },
         {
          "Age": 39,
          "Chest_Pain_Type": 3,
          "Diagnosis": false,
          "Exercise_Induced_Angina": 0,
          "Fasting_Blood_Sugar": 0,
          "Max_Heart_Rate": 179,
          "Sex": false
         },
         {
          "Age": 67,
          "Chest_Pain_Type": 3,
          "Diagnosis": false,
          "Exercise_Induced_Angina": 0,
          "Fasting_Blood_Sugar": 0,
          "Max_Heart_Rate": 172,
          "Sex": false
         },
         {
          "Age": 49,
          "Chest_Pain_Type": 3,
          "Diagnosis": true,
          "Exercise_Induced_Angina": 0,
          "Fasting_Blood_Sugar": 0,
          "Max_Heart_Rate": 126,
          "Sex": true
         },
         {
          "Age": 54,
          "Chest_Pain_Type": 3,
          "Diagnosis": false,
          "Exercise_Induced_Angina": 0,
          "Fasting_Blood_Sugar": 0,
          "Max_Heart_Rate": 163,
          "Sex": false
         },
         {
          "Age": 38,
          "Chest_Pain_Type": 3,
          "Diagnosis": false,
          "Exercise_Induced_Angina": 0,
          "Fasting_Blood_Sugar": 0,
          "Max_Heart_Rate": 173,
          "Sex": true
         },
         {
          "Age": 71,
          "Chest_Pain_Type": 3,
          "Diagnosis": false,
          "Exercise_Induced_Angina": 0,
          "Fasting_Blood_Sugar": 1,
          "Max_Heart_Rate": 130,
          "Sex": false
         },
         {
          "Age": 46,
          "Chest_Pain_Type": 4,
          "Diagnosis": false,
          "Exercise_Induced_Angina": 1,
          "Fasting_Blood_Sugar": 0,
          "Max_Heart_Rate": 152,
          "Sex": false
         },
         {
          "Age": 60,
          "Chest_Pain_Type": 3,
          "Diagnosis": false,
          "Exercise_Induced_Angina": 0,
          "Fasting_Blood_Sugar": 0,
          "Max_Heart_Rate": 160,
          "Sex": false
         },
         {
          "Age": 51,
          "Chest_Pain_Type": 3,
          "Diagnosis": false,
          "Exercise_Induced_Angina": 0,
          "Fasting_Blood_Sugar": 1,
          "Max_Heart_Rate": 166,
          "Sex": true
         },
         {
          "Age": 54,
          "Chest_Pain_Type": 3,
          "Diagnosis": false,
          "Exercise_Induced_Angina": 0,
          "Fasting_Blood_Sugar": 0,
          "Max_Heart_Rate": 165,
          "Sex": true
         },
         {
          "Age": 37,
          "Chest_Pain_Type": 3,
          "Diagnosis": false,
          "Exercise_Induced_Angina": 0,
          "Fasting_Blood_Sugar": 0,
          "Max_Heart_Rate": 187,
          "Sex": true
         },
         {
          "Age": 47,
          "Chest_Pain_Type": 3,
          "Diagnosis": false,
          "Exercise_Induced_Angina": 0,
          "Fasting_Blood_Sugar": 0,
          "Max_Heart_Rate": 156,
          "Sex": true
         },
         {
          "Age": 56,
          "Chest_Pain_Type": 4,
          "Diagnosis": true,
          "Exercise_Induced_Angina": 1,
          "Fasting_Blood_Sugar": 0,
          "Max_Heart_Rate": 105,
          "Sex": true
         },
         {
          "Age": 59,
          "Chest_Pain_Type": 4,
          "Diagnosis": false,
          "Exercise_Induced_Angina": 0,
          "Fasting_Blood_Sugar": 0,
          "Max_Heart_Rate": 182,
          "Sex": true
         },
         {
          "Age": 62,
          "Chest_Pain_Type": 2,
          "Diagnosis": false,
          "Exercise_Induced_Angina": 0,
          "Fasting_Blood_Sugar": 1,
          "Max_Heart_Rate": 140,
          "Sex": true
         },
         {
          "Age": 65,
          "Chest_Pain_Type": 3,
          "Diagnosis": false,
          "Exercise_Induced_Angina": 0,
          "Fasting_Blood_Sugar": 1,
          "Max_Heart_Rate": 157,
          "Sex": false
         },
         {
          "Age": 74,
          "Chest_Pain_Type": 2,
          "Diagnosis": false,
          "Exercise_Induced_Angina": 1,
          "Fasting_Blood_Sugar": 0,
          "Max_Heart_Rate": 121,
          "Sex": false
         },
         {
          "Age": 35,
          "Chest_Pain_Type": 4,
          "Diagnosis": false,
          "Exercise_Induced_Angina": 0,
          "Fasting_Blood_Sugar": 0,
          "Max_Heart_Rate": 182,
          "Sex": false
         },
         {
          "Age": 59,
          "Chest_Pain_Type": 4,
          "Diagnosis": true,
          "Exercise_Induced_Angina": 1,
          "Fasting_Blood_Sugar": 0,
          "Max_Heart_Rate": 143,
          "Sex": false
         },
         {
          "Age": 65,
          "Chest_Pain_Type": 4,
          "Diagnosis": false,
          "Exercise_Induced_Angina": 0,
          "Fasting_Blood_Sugar": 0,
          "Max_Heart_Rate": 140,
          "Sex": true
         },
         {
          "Age": 67,
          "Chest_Pain_Type": 4,
          "Diagnosis": true,
          "Exercise_Induced_Angina": 1,
          "Fasting_Blood_Sugar": 0,
          "Max_Heart_Rate": 108,
          "Sex": true
         },
         {
          "Age": 62,
          "Chest_Pain_Type": 4,
          "Diagnosis": true,
          "Exercise_Induced_Angina": 1,
          "Fasting_Blood_Sugar": 0,
          "Max_Heart_Rate": 154,
          "Sex": false
         },
         {
          "Age": 48,
          "Chest_Pain_Type": 3,
          "Diagnosis": false,
          "Exercise_Induced_Angina": 0,
          "Fasting_Blood_Sugar": 0,
          "Max_Heart_Rate": 139,
          "Sex": false
         },
         {
          "Age": 56,
          "Chest_Pain_Type": 3,
          "Diagnosis": true,
          "Exercise_Induced_Angina": 1,
          "Fasting_Blood_Sugar": 1,
          "Max_Heart_Rate": 142,
          "Sex": true
         },
         {
          "Age": 53,
          "Chest_Pain_Type": 3,
          "Diagnosis": false,
          "Exercise_Induced_Angina": 0,
          "Fasting_Blood_Sugar": 1,
          "Max_Heart_Rate": 152,
          "Sex": true
         },
         {
          "Age": 50,
          "Chest_Pain_Type": 3,
          "Diagnosis": true,
          "Exercise_Induced_Angina": 0,
          "Fasting_Blood_Sugar": 0,
          "Max_Heart_Rate": 163,
          "Sex": true
         },
         {
          "Age": 41,
          "Chest_Pain_Type": 3,
          "Diagnosis": false,
          "Exercise_Induced_Angina": 0,
          "Fasting_Blood_Sugar": 0,
          "Max_Heart_Rate": 168,
          "Sex": true
         },
         {
          "Age": 43,
          "Chest_Pain_Type": 3,
          "Diagnosis": false,
          "Exercise_Induced_Angina": 0,
          "Fasting_Blood_Sugar": 0,
          "Max_Heart_Rate": 162,
          "Sex": true
         },
         {
          "Age": 50,
          "Chest_Pain_Type": 3,
          "Diagnosis": false,
          "Exercise_Induced_Angina": 0,
          "Fasting_Blood_Sugar": 0,
          "Max_Heart_Rate": 158,
          "Sex": false
         },
         {
          "Age": 59,
          "Chest_Pain_Type": 1,
          "Diagnosis": false,
          "Exercise_Induced_Angina": 0,
          "Fasting_Blood_Sugar": 0,
          "Max_Heart_Rate": 145,
          "Sex": true
         },
         {
          "Age": 34,
          "Chest_Pain_Type": 1,
          "Diagnosis": false,
          "Exercise_Induced_Angina": 0,
          "Fasting_Blood_Sugar": 0,
          "Max_Heart_Rate": 174,
          "Sex": true
         },
         {
          "Age": 42,
          "Chest_Pain_Type": 3,
          "Diagnosis": false,
          "Exercise_Induced_Angina": 0,
          "Fasting_Blood_Sugar": 1,
          "Max_Heart_Rate": 194,
          "Sex": true
         },
         {
          "Age": 59,
          "Chest_Pain_Type": 3,
          "Diagnosis": false,
          "Exercise_Induced_Angina": 0,
          "Fasting_Blood_Sugar": 1,
          "Max_Heart_Rate": 157,
          "Sex": true
         },
         {
          "Age": 62,
          "Chest_Pain_Type": 4,
          "Diagnosis": false,
          "Exercise_Induced_Angina": 0,
          "Fasting_Blood_Sugar": 0,
          "Max_Heart_Rate": 163,
          "Sex": false
         },
         {
          "Age": 60,
          "Chest_Pain_Type": 3,
          "Diagnosis": false,
          "Exercise_Induced_Angina": 0,
          "Fasting_Blood_Sugar": 1,
          "Max_Heart_Rate": 96,
          "Sex": false
         },
         {
          "Age": 42,
          "Chest_Pain_Type": 3,
          "Diagnosis": false,
          "Exercise_Induced_Angina": 0,
          "Fasting_Blood_Sugar": 0,
          "Max_Heart_Rate": 173,
          "Sex": false
         },
         {
          "Age": 35,
          "Chest_Pain_Type": 2,
          "Diagnosis": false,
          "Exercise_Induced_Angina": 0,
          "Fasting_Blood_Sugar": 0,
          "Max_Heart_Rate": 174,
          "Sex": true
         },
         {
          "Age": 64,
          "Chest_Pain_Type": 4,
          "Diagnosis": true,
          "Exercise_Induced_Angina": 1,
          "Fasting_Blood_Sugar": 0,
          "Max_Heart_Rate": 96,
          "Sex": true
         },
         {
          "Age": 65,
          "Chest_Pain_Type": 3,
          "Diagnosis": false,
          "Exercise_Induced_Angina": 0,
          "Fasting_Blood_Sugar": 0,
          "Max_Heart_Rate": 148,
          "Sex": false
         },
         {
          "Age": 59,
          "Chest_Pain_Type": 1,
          "Diagnosis": true,
          "Exercise_Induced_Angina": 0,
          "Fasting_Blood_Sugar": 0,
          "Max_Heart_Rate": 162,
          "Sex": true
         },
         {
          "Age": 60,
          "Chest_Pain_Type": 4,
          "Diagnosis": true,
          "Exercise_Induced_Angina": 0,
          "Fasting_Blood_Sugar": 0,
          "Max_Heart_Rate": 170,
          "Sex": true
         },
         {
          "Age": 58,
          "Chest_Pain_Type": 4,
          "Diagnosis": true,
          "Exercise_Induced_Angina": 0,
          "Fasting_Blood_Sugar": 0,
          "Max_Heart_Rate": 140,
          "Sex": true
         },
         {
          "Age": 57,
          "Chest_Pain_Type": 4,
          "Diagnosis": true,
          "Exercise_Induced_Angina": 0,
          "Fasting_Blood_Sugar": 1,
          "Max_Heart_Rate": 124,
          "Sex": true
         },
         {
          "Age": 45,
          "Chest_Pain_Type": 4,
          "Diagnosis": true,
          "Exercise_Induced_Angina": 1,
          "Fasting_Blood_Sugar": 0,
          "Max_Heart_Rate": 147,
          "Sex": true
         },
         {
          "Age": 54,
          "Chest_Pain_Type": 4,
          "Diagnosis": true,
          "Exercise_Induced_Angina": 0,
          "Fasting_Blood_Sugar": 0,
          "Max_Heart_Rate": 113,
          "Sex": true
         },
         {
          "Age": 45,
          "Chest_Pain_Type": 1,
          "Diagnosis": true,
          "Exercise_Induced_Angina": 0,
          "Fasting_Blood_Sugar": 0,
          "Max_Heart_Rate": 132,
          "Sex": true
         },
         {
          "Age": 35,
          "Chest_Pain_Type": 4,
          "Diagnosis": true,
          "Exercise_Induced_Angina": 1,
          "Fasting_Blood_Sugar": 0,
          "Max_Heart_Rate": 156,
          "Sex": true
         },
         {
          "Age": 60,
          "Chest_Pain_Type": 4,
          "Diagnosis": true,
          "Exercise_Induced_Angina": 1,
          "Fasting_Blood_Sugar": 0,
          "Max_Heart_Rate": 141,
          "Sex": true
         },
         {
          "Age": 63,
          "Chest_Pain_Type": 4,
          "Diagnosis": true,
          "Exercise_Induced_Angina": 1,
          "Fasting_Blood_Sugar": 1,
          "Max_Heart_Rate": 132,
          "Sex": true
         },
         {
          "Age": 66,
          "Chest_Pain_Type": 4,
          "Diagnosis": true,
          "Exercise_Induced_Angina": 1,
          "Fasting_Blood_Sugar": 1,
          "Max_Heart_Rate": 165,
          "Sex": false
         },
         {
          "Age": 48,
          "Chest_Pain_Type": 4,
          "Diagnosis": true,
          "Exercise_Induced_Angina": 0,
          "Fasting_Blood_Sugar": 0,
          "Max_Heart_Rate": 166,
          "Sex": true
         },
         {
          "Age": 48,
          "Chest_Pain_Type": 4,
          "Diagnosis": false,
          "Exercise_Induced_Angina": 0,
          "Fasting_Blood_Sugar": 0,
          "Max_Heart_Rate": 186,
          "Sex": true
         },
         {
          "Age": 55,
          "Chest_Pain_Type": 2,
          "Diagnosis": false,
          "Exercise_Induced_Angina": 0,
          "Fasting_Blood_Sugar": 0,
          "Max_Heart_Rate": 161,
          "Sex": false
         },
         {
          "Age": 52,
          "Chest_Pain_Type": 4,
          "Diagnosis": false,
          "Exercise_Induced_Angina": 0,
          "Fasting_Blood_Sugar": 1,
          "Max_Heart_Rate": 147,
          "Sex": true
         },
         {
          "Age": 67,
          "Chest_Pain_Type": 3,
          "Diagnosis": true,
          "Exercise_Induced_Angina": 0,
          "Fasting_Blood_Sugar": 0,
          "Max_Heart_Rate": 150,
          "Sex": true
         },
         {
          "Age": 52,
          "Chest_Pain_Type": 2,
          "Diagnosis": false,
          "Exercise_Induced_Angina": 0,
          "Fasting_Blood_Sugar": 0,
          "Max_Heart_Rate": 172,
          "Sex": true
         },
         {
          "Age": 61,
          "Chest_Pain_Type": 3,
          "Diagnosis": false,
          "Exercise_Induced_Angina": 1,
          "Fasting_Blood_Sugar": 1,
          "Max_Heart_Rate": 137,
          "Sex": true
         },
         {
          "Age": 67,
          "Chest_Pain_Type": 4,
          "Diagnosis": true,
          "Exercise_Induced_Angina": 1,
          "Fasting_Blood_Sugar": 0,
          "Max_Heart_Rate": 129,
          "Sex": true
         },
         {
          "Age": 59,
          "Chest_Pain_Type": 4,
          "Diagnosis": true,
          "Exercise_Induced_Angina": 1,
          "Fasting_Blood_Sugar": 0,
          "Max_Heart_Rate": 140,
          "Sex": true
         },
         {
          "Age": 55,
          "Chest_Pain_Type": 2,
          "Diagnosis": false,
          "Exercise_Induced_Angina": 0,
          "Fasting_Blood_Sugar": 0,
          "Max_Heart_Rate": 155,
          "Sex": true
         },
         {
          "Age": 63,
          "Chest_Pain_Type": 4,
          "Diagnosis": true,
          "Exercise_Induced_Angina": 1,
          "Fasting_Blood_Sugar": 0,
          "Max_Heart_Rate": 144,
          "Sex": true
         },
         {
          "Age": 51,
          "Chest_Pain_Type": 3,
          "Diagnosis": false,
          "Exercise_Induced_Angina": 0,
          "Fasting_Blood_Sugar": 0,
          "Max_Heart_Rate": 157,
          "Sex": false
         },
         {
          "Age": 56,
          "Chest_Pain_Type": 4,
          "Diagnosis": true,
          "Exercise_Induced_Angina": 1,
          "Fasting_Blood_Sugar": 1,
          "Max_Heart_Rate": 144,
          "Sex": true
         },
         {
          "Age": 63,
          "Chest_Pain_Type": 4,
          "Diagnosis": true,
          "Exercise_Induced_Angina": 1,
          "Fasting_Blood_Sugar": 0,
          "Max_Heart_Rate": 169,
          "Sex": false
         },
         {
          "Age": 64,
          "Chest_Pain_Type": 3,
          "Diagnosis": true,
          "Exercise_Induced_Angina": 0,
          "Fasting_Blood_Sugar": 0,
          "Max_Heart_Rate": 158,
          "Sex": true
         },
         {
          "Age": 65,
          "Chest_Pain_Type": 4,
          "Diagnosis": true,
          "Exercise_Induced_Angina": 0,
          "Fasting_Blood_Sugar": 0,
          "Max_Heart_Rate": 158,
          "Sex": true
         },
         {
          "Age": 50,
          "Chest_Pain_Type": 4,
          "Diagnosis": true,
          "Exercise_Induced_Angina": 0,
          "Fasting_Blood_Sugar": 0,
          "Max_Heart_Rate": 128,
          "Sex": true
         },
         {
          "Age": 56,
          "Chest_Pain_Type": 4,
          "Diagnosis": true,
          "Exercise_Induced_Angina": 1,
          "Fasting_Blood_Sugar": 1,
          "Max_Heart_Rate": 133,
          "Sex": false
         },
         {
          "Age": 43,
          "Chest_Pain_Type": 4,
          "Diagnosis": true,
          "Exercise_Induced_Angina": 1,
          "Fasting_Blood_Sugar": 1,
          "Max_Heart_Rate": 136,
          "Sex": false
         },
         {
          "Age": 59,
          "Chest_Pain_Type": 4,
          "Diagnosis": true,
          "Exercise_Induced_Angina": 1,
          "Fasting_Blood_Sugar": 0,
          "Max_Heart_Rate": 142,
          "Sex": true
         },
         {
          "Age": 34,
          "Chest_Pain_Type": 2,
          "Diagnosis": false,
          "Exercise_Induced_Angina": 0,
          "Fasting_Blood_Sugar": 0,
          "Max_Heart_Rate": 192,
          "Sex": false
         },
         {
          "Age": 52,
          "Chest_Pain_Type": 4,
          "Diagnosis": true,
          "Exercise_Induced_Angina": 0,
          "Fasting_Blood_Sugar": 0,
          "Max_Heart_Rate": 160,
          "Sex": true
         },
         {
          "Age": 41,
          "Chest_Pain_Type": 4,
          "Diagnosis": true,
          "Exercise_Induced_Angina": 0,
          "Fasting_Blood_Sugar": 0,
          "Max_Heart_Rate": 158,
          "Sex": true
         },
         {
          "Age": 55,
          "Chest_Pain_Type": 4,
          "Diagnosis": true,
          "Exercise_Induced_Angina": 1,
          "Fasting_Blood_Sugar": 0,
          "Max_Heart_Rate": 111,
          "Sex": true
         },
         {
          "Age": 59,
          "Chest_Pain_Type": 4,
          "Diagnosis": true,
          "Exercise_Induced_Angina": 1,
          "Fasting_Blood_Sugar": 0,
          "Max_Heart_Rate": 162,
          "Sex": true
         },
         {
          "Age": 68,
          "Chest_Pain_Type": 3,
          "Diagnosis": true,
          "Exercise_Induced_Angina": 1,
          "Fasting_Blood_Sugar": 1,
          "Max_Heart_Rate": 150,
          "Sex": true
         },
         {
          "Age": 54,
          "Chest_Pain_Type": 4,
          "Diagnosis": false,
          "Exercise_Induced_Angina": 0,
          "Fasting_Blood_Sugar": 0,
          "Max_Heart_Rate": 160,
          "Sex": true
         },
         {
          "Age": 52,
          "Chest_Pain_Type": 3,
          "Diagnosis": false,
          "Exercise_Induced_Angina": 0,
          "Fasting_Blood_Sugar": 0,
          "Max_Heart_Rate": 169,
          "Sex": false
         },
         {
          "Age": 52,
          "Chest_Pain_Type": 2,
          "Diagnosis": false,
          "Exercise_Induced_Angina": 0,
          "Fasting_Blood_Sugar": 0,
          "Max_Heart_Rate": 158,
          "Sex": true
         }
        ]
       },
       "encoding": {
        "color": {
         "field": "Chest_Pain_Type",
         "title": "Chest Pain Type",
         "type": "nominal"
        },
        "x": {
         "field": "Age",
         "scale": {
          "zero": false
         },
         "title": "Age (Years)",
         "type": "quantitative"
        },
        "y": {
         "field": "Max_Heart_Rate",
         "scale": {
          "zero": false
         },
         "title": "Maximum Heart Rate (Beats per Minute)",
         "type": "quantitative"
        }
       },
       "height": 450,
       "mark": "point",
       "title": "Maximum Heart Rate against Age",
       "width": 470
      },
      "image/png": "[encoded data removed]",
      "text/plain": [
       "<VegaLite 4 object>\n",
       "\n",
       "If you see this message, it means the renderer has not been properly enabled\n",
       "for the frontend that you are using. For more information, see\n",
       "https://altair-viz.github.io/user_guide/troubleshooting.html\n"
      ]
     },
     "execution_count": 66,
     "metadata": {},
     "output_type": "execute_result"
    }
   ],
   "source": [
    "heart_scatter_plot = (\n",
    "    alt.Chart(heart_train, title= \"Maximum Heart Rate against Age\")\n",
    "    .mark_point()\n",
    "    .encode(\n",
    "        x=alt.X(\"Age\",title= \"Age (Years)\",scale=alt.Scale(zero=False)),\n",
    "                y=alt.Y(\"Max_Heart_Rate\", title= \"Maximum Heart Rate (Beats per Minute)\", scale=alt.Scale(zero=False)),\n",
    "               color=alt.Color(\"Chest_Pain_Type:N\", title=\"Chest Pain Type\"))\n",
    "        .properties(width=470, height=450)\n",
    "        .configure_axis(labelFontSize=18, titleFontSize=18)\n",
    "        .configure_title(fontSize=20))\n",
    "heart_scatter_plot"
   ]
  },
  {
   "cell_type": "markdown",
   "id": "3d6d1fc3-6fca-4e8b-84b0-2b40903d973f",
   "metadata": {},
   "source": [
    "### Methods"
   ]
  },
  {
   "cell_type": "markdown",
   "id": "e5c305d2-f9eb-4a93-9943-8caa990c04fa",
   "metadata": {},
   "source": [
    "We chose the variables 'Age' and 'Sex' for our analysis to know the demographics of the people included in our research, how heart disease varies with age and sex, as well as to show what demographics this analysis would be useful for in the future.\n",
    "\n",
    "We chose 'Fasting_Blood_Sugar', 'Max_Heart_Rate' and 'Exercise_Induced_Angina' because these factors can show the health of the patient and also whether they have other diseases/conditions such as    diabetes etc.\n",
    "\n",
    "We will use the K-classification method to run our analysis, by pulling statistical data from the dataset, in order to create a training data and a testing data that will be able to predict the type of chest pain that is associated with heart disease.\n",
    "\n",
    "We will visualize the results of the analysis by using a stacked bar chart or a histogram, which shows the distribution of diagnosis for each chest pain type."
   ]
  },
  {
   "cell_type": "markdown",
   "id": "3cceb672-c77d-4f19-9f71-de2418afb938",
   "metadata": {},
   "source": [
    "### Expected outcomes and significance"
   ]
  },
  {
   "cell_type": "markdown",
   "id": "f6de8a20-f986-4fe1-9c11-9e1744809d1b",
   "metadata": {},
   "source": [
    "We expect asymptomatic angina (chest pain type 4) to be the type that most likely indicates heart disease. This is because 75% of all people experiencing asymptomatic angina from our dataset have a true diagnoses. This can also be observed in the bar chart that shows the proportions of diagnosis for each chest pain type. The graph shows that the ratio of true diagnosis to total count is the maximum for chest pain type 4. This suggests that it is more likely to be indicative of heart disease.\n",
    "\n",
    "These findings will be able to help indicate and predict the possibility of a heart disease in regards to the type of chest pain that is experienced by each individual. This can make it easier to detect the presence of disease in the future, and take early action to prevent the disease from being fatal.\n",
    "\n",
    "This analysis could pose questions in the future such as:\n",
    "- \"What factors lead to the chest pain type that is most likely to indicate heart disease?\"\n",
    "- \"What other possible diseases might be indicated by these chest pain types?\""
   ]
  }
 ],
 "metadata": {
  "kernelspec": {
   "display_name": "Python 3 (ipykernel)",
   "language": "python",
   "name": "python3"
  },
  "language_info": {
   "codemirror_mode": {
    "name": "ipython",
    "version": 3
   },
   "file_extension": ".py",
   "mimetype": "text/x-python",
   "name": "python",
   "nbconvert_exporter": "python",
   "pygments_lexer": "ipython3",
   "version": "3.10.8"
  }
 },
 "nbformat": 4,
 "nbformat_minor": 5
}
